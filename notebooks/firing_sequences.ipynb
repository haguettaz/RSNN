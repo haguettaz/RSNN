{
 "cells": [
  {
   "cell_type": "code",
   "execution_count": 6,
   "id": "68649ce5",
   "metadata": {},
   "outputs": [],
   "source": [
    "from rsnn.firing_sequences.classic import *\n",
    "from rsnn.firing_sequences.reasonable import *"
   ]
  },
  {
   "cell_type": "code",
   "execution_count": 21,
   "id": "502e05a5",
   "metadata": {},
   "outputs": [],
   "source": [
    "length, Tr = 7, 2"
   ]
  },
  {
   "cell_type": "code",
   "execution_count": 22,
   "id": "a77b99d7",
   "metadata": {},
   "outputs": [
    {
     "data": {
      "text/plain": [
       "{(0, 0, 0, 0, 0, 0, 0),\n",
       " (0, 0, 0, 0, 0, 0, 1),\n",
       " (0, 0, 0, 0, 0, 1, 0),\n",
       " (0, 0, 0, 0, 1, 0, 0),\n",
       " (0, 0, 0, 1, 0, 0, 0),\n",
       " (0, 0, 0, 1, 0, 0, 1),\n",
       " (0, 0, 1, 0, 0, 0, 0),\n",
       " (0, 0, 1, 0, 0, 0, 1),\n",
       " (0, 0, 1, 0, 0, 1, 0),\n",
       " (0, 1, 0, 0, 0, 0, 0),\n",
       " (0, 1, 0, 0, 0, 1, 0),\n",
       " (0, 1, 0, 0, 1, 0, 0),\n",
       " (1, 0, 0, 0, 0, 0, 0),\n",
       " (1, 0, 0, 0, 1, 0, 0),\n",
       " (1, 0, 0, 1, 0, 0, 0)}"
      ]
     },
     "execution_count": 22,
     "metadata": {},
     "output_type": "execute_result"
    }
   ],
   "source": [
    "f_set(length, Tr)"
   ]
  },
  {
   "cell_type": "code",
   "execution_count": 24,
   "id": "fda46b9b",
   "metadata": {},
   "outputs": [
    {
     "data": {
      "text/plain": [
       "{(0, 0, 0, 0, 0, 0, 0),\n",
       " (0, 0, 0, 0, 0, 0, 1),\n",
       " (0, 0, 0, 0, 0, 1, 0),\n",
       " (0, 0, 0, 0, 1, 0, 0),\n",
       " (0, 0, 0, 1, 0, 0, 0),\n",
       " (0, 0, 0, 1, 0, 0, 1),\n",
       " (0, 0, 1, 0, 0, 0, 0),\n",
       " (0, 0, 1, 0, 0, 0, 1),\n",
       " (0, 0, 1, 0, 0, 1, 0),\n",
       " (0, 1, 0, 0, 0, 0, 0),\n",
       " (0, 1, 0, 0, 0, 1, 0),\n",
       " (0, 1, 0, 0, 1, 0, 0),\n",
       " (1, 0, 0, 0, 0, 0, 0),\n",
       " (1, 0, 0, 0, 1, 0, 0),\n",
       " (1, 0, 0, 1, 0, 0, 0)}"
      ]
     },
     "execution_count": 24,
     "metadata": {},
     "output_type": "execute_result"
    }
   ],
   "source": [
    "r_set(length, Tr, 6)"
   ]
  },
  {
   "cell_type": "code",
   "execution_count": null,
   "id": "77c0082e",
   "metadata": {},
   "outputs": [],
   "source": []
  }
 ],
 "metadata": {
  "kernelspec": {
   "display_name": "Python 3 (ipykernel)",
   "language": "python",
   "name": "python3"
  },
  "language_info": {
   "codemirror_mode": {
    "name": "ipython",
    "version": 3
   },
   "file_extension": ".py",
   "mimetype": "text/x-python",
   "name": "python",
   "nbconvert_exporter": "python",
   "pygments_lexer": "ipython3",
   "version": "3.8.12"
  }
 },
 "nbformat": 4,
 "nbformat_minor": 5
}
