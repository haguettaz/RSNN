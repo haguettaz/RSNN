{
 "cells": [
  {
   "cell_type": "code",
   "execution_count": 1,
   "id": "e296e960",
   "metadata": {},
   "outputs": [],
   "source": [
    "import torch\n",
    "from matplotlib import pyplot as plt"
   ]
  },
  {
   "cell_type": "code",
   "execution_count": 2,
   "id": "e4292033",
   "metadata": {},
   "outputs": [],
   "source": [
    "from rsnn.firing_sequences.sampling import backward_filtering_forward_sampling\n",
    "from rsnn.firing_sequences.utils import get_cardinality, count_predictable, is_predictable"
   ]
  },
  {
   "cell_type": "code",
   "execution_count": 3,
   "id": "650ae1ea",
   "metadata": {},
   "outputs": [],
   "source": [
    "B, L, N, Tr = 10000, 10, 6, 3\n",
    "firing_sequences = backward_filtering_forward_sampling(B, L, N, Tr)"
   ]
  },
  {
   "cell_type": "code",
   "execution_count": 4,
   "id": "9b4b67e1",
   "metadata": {},
   "outputs": [
    {
     "data": {
      "image/png": "[encoded data removed]",
      "text/plain": [
       "<Figure size 432x288 with 1 Axes>"
      ]
     },
     "metadata": {
      "needs_background": "light"
     },
     "output_type": "display_data"
    }
   ],
   "source": [
    "# check uniformity\n",
    "unique, counts = (firing_sequences.view(B*L, N) * torch.pow(2, torch.arange(N))).sum(dim=1).unique(return_counts=True)\n",
    "plt.bar(torch.arange(unique.size(0)), counts)\n",
    "plt.show()"
   ]
  },
  {
   "cell_type": "code",
   "execution_count": 5,
   "id": "10a20fd0",
   "metadata": {},
   "outputs": [
    {
     "name": "stdout",
     "output_type": "stream",
     "text": [
      "7 different sequences out of 7 has been sampled\n"
     ]
    }
   ],
   "source": [
    "# check cardinality\n",
    "print(f\"{unique.size(0)} different sequences out of {get_cardinality(N, Tr, cyclic=True):0.0f} has been sampled\")"
   ]
  },
  {
   "cell_type": "code",
   "execution_count": 10,
   "id": "b43bf66b",
   "metadata": {},
   "outputs": [
    {
     "name": "stdout",
     "output_type": "stream",
     "text": [
      "10000 sequences out of 10000 are predictable\n"
     ]
    }
   ],
   "source": [
    "# predictability\n",
    "B, L, N, Tr = 10000, 30, 100, 10\n",
    "firing_sequences = backward_filtering_forward_sampling(B, L, N, Tr)\n",
    "print(f\"{count_predictable(firing_sequences, Tr)} sequences out of {B} are predictable\")"
   ]
  },
  {
   "cell_type": "code",
   "execution_count": 7,
   "id": "86c234ec",
   "metadata": {},
   "outputs": [
    {
     "name": "stdout",
     "output_type": "stream",
     "text": [
      "the sequence is predictable\n"
     ]
    }
   ],
   "source": [
    "B, L, N, Tr = 1, 30, 100, 10\n",
    "firing_sequences = backward_filtering_forward_sampling(B, L, N, Tr)\n",
    "print(\"the sequence is\", \"predictable\" if is_predictable(firing_sequences, Tr) else \"not predictable\")"
   ]
  },
  {
   "cell_type": "code",
   "execution_count": null,
   "id": "4d6b50a2",
   "metadata": {},
   "outputs": [],
   "source": []
  }
 ],
 "metadata": {
  "kernelspec": {
   "display_name": "Python 3 (ipykernel)",
   "language": "python",
   "name": "python3"
  },
  "language_info": {
   "codemirror_mode": {
    "name": "ipython",
    "version": 3
   },
   "file_extension": ".py",
   "mimetype": "text/x-python",
   "name": "python",
   "nbconvert_exporter": "python",
   "pygments_lexer": "ipython3",
   "version": "3.8.12"
  }
 },
 "nbformat": 4,
 "nbformat_minor": 5
}
