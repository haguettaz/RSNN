{
 "cells": [
  {
   "cell_type": "code",
   "execution_count": 1,
   "id": "adeb92c3",
   "metadata": {},
   "outputs": [],
   "source": [
    "%matplotlib inline"
   ]
  },
  {
   "cell_type": "code",
   "execution_count": 9,
   "id": "620dde06",
   "metadata": {},
   "outputs": [],
   "source": [
    "import matplotlib.pyplot as plt\n",
    "import numpy as np\n",
    "import random\n",
    "from tqdm import trange, tqdm"
   ]
  },
  {
   "cell_type": "code",
   "execution_count": 3,
   "id": "3e37a55a",
   "metadata": {},
   "outputs": [
    {
     "name": "stderr",
     "output_type": "stream",
     "text": [
      "/Users/haguettaz/Documents/RSNN/src/rsnn/rsnn/network.py:8: TqdmExperimentalWarning: Using `tqdm.autonotebook.tqdm` in notebook mode. Use `tqdm.tqdm` instead to force console mode (e.g. in jupyter console)\n",
      "  from tqdm.autonotebook import tqdm\n"
     ]
    }
   ],
   "source": [
    "from rsnn.rsnn.generator import NetworkGenerator\n",
    "from rsnn.rsnn.network import Network\n",
    "from rsnn.rsnn.neuron import Neuron, Synapse\n",
    "from rsnn.spike_train.generator import PeriodicSpikeTrainGenerator\n",
    "from rsnn.spike_train.periodic_spike_train import MultiChannelPeriodicSpikeTrain, PeriodicSpikeTrain"
   ]
  },
  {
   "cell_type": "code",
   "execution_count": 4,
   "id": "a125da68",
   "metadata": {},
   "outputs": [],
   "source": [
    "plt.style.use('paper')"
   ]
  },
  {
   "cell_type": "markdown",
   "id": "14174e11",
   "metadata": {},
   "source": [
    "# Create Neural Network"
   ]
  },
  {
   "cell_type": "code",
   "execution_count": 5,
   "id": "88ee3e39",
   "metadata": {},
   "outputs": [],
   "source": [
    "num_neurons = 2000\n",
    "nominal_threshold = 1.0\n",
    "absolute_refractory = 5.0\n",
    "relative_refractory = 5.0\n",
    "\n",
    "num_synapses = 500\n",
    "synapse_beta = 5.0\n",
    "synapse_delay_lim = (1.0, 60.0)\n",
    "\n",
    "period = 100.0\n",
    "firing_rate = 0.1"
   ]
  },
  {
   "cell_type": "code",
   "execution_count": 6,
   "id": "ddfc8ba1",
   "metadata": {},
   "outputs": [],
   "source": [
    "eps, gap, slope = 1.0, 1.0, 0.5\n",
    "weights_lim = (-0.1, 0.1)"
   ]
  },
  {
   "cell_type": "code",
   "execution_count": 7,
   "id": "2e106778",
   "metadata": {},
   "outputs": [],
   "source": [
    "network = Network(num_neurons, nominal_threshold, absolute_refractory, relative_refractory)"
   ]
  },
  {
   "cell_type": "code",
   "execution_count": null,
   "id": "76a419e2",
   "metadata": {},
   "outputs": [],
   "source": [
    "spike_train_generator = PeriodicSpikeTrainGenerator(firing_rate, absolute_refractory, relative_refractory)"
   ]
  },
  {
   "cell_type": "code",
   "execution_count": null,
   "id": "5932be8d",
   "metadata": {},
   "outputs": [],
   "source": [
    "for period in tqdm([100, 200, 400]):\n",
    "    spike_trains = spike_train_generator.rand(period, num_neurons)  \n",
    "    for n_ in network.neurons:\n",
    "        n_.spike_train = spike_trains.spike_trains[n_.idx]\n",
    "        \n",
    "    for i in trange(20):\n",
    "        for num_unique_neurons in [1, num_synapses]:\n",
    "            neuron = random.choice(network.neurons)\n",
    "            neuron_pool = random.sample(network.neurons, num_unique_neurons)\n",
    "            neuron.synapses =[Synapse(\n",
    "                idx,\n",
    "                neuron_pool[idx % num_unique_neurons],\n",
    "                synapse_beta,\n",
    "                random.uniform(*synapse_delay_lim))\n",
    "                for idx in range(num_synapses)]\n",
    "            neuron.init_template_single(eps, gap, slope)\n",
    "            neuron.memorize(weights_lim, \"l1\")\n",
    "            network.save_to_file(f\"networks/network_sparse_{period}_{num_unique_neurons}_{i}.pkl\")\n",
    "            neuron.synapses = []"
   ]
  }
 ],
 "metadata": {
  "kernelspec": {
   "display_name": "Python 3 (ipykernel)",
   "language": "python",
   "name": "python3"
  },
  "language_info": {
   "codemirror_mode": {
    "name": "ipython",
    "version": 3
   },
   "file_extension": ".py",
   "mimetype": "text/x-python",
   "name": "python",
   "nbconvert_exporter": "python",
   "pygments_lexer": "ipython3",
   "version": "3.10.9"
  }
 },
 "nbformat": 4,
 "nbformat_minor": 5
}
