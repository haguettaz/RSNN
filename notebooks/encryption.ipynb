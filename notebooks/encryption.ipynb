{
 "cells": [
  {
   "cell_type": "code",
   "execution_count": 1,
   "id": "4c7c2517",
   "metadata": {},
   "outputs": [],
   "source": [
    "import numpy as np"
   ]
  },
  {
   "cell_type": "code",
   "execution_count": 2,
   "id": "b04f9fde",
   "metadata": {},
   "outputs": [],
   "source": [
    "from firing_signals.rsnn.rsnn import RSNN\n",
    "from firing_signals.sampling.bffs import backward_filtering_forward_sampling"
   ]
  },
  {
   "cell_type": "code",
   "execution_count": 3,
   "id": "e8a8c1e9",
   "metadata": {},
   "outputs": [],
   "source": [
    "num_neurons = 5\n",
    "num_synapses = 50 #per neuron\n",
    "Tr = 3"
   ]
  },
  {
   "cell_type": "code",
   "execution_count": 4,
   "id": "6d2dbda0",
   "metadata": {},
   "outputs": [],
   "source": [
    "net = RSNN(num_neurons, num_synapses, Tr=Tr)"
   ]
  },
  {
   "cell_type": "code",
   "execution_count": 5,
   "id": "d18734ac",
   "metadata": {},
   "outputs": [],
   "source": [
    "length = 10"
   ]
  },
  {
   "cell_type": "code",
   "execution_count": 6,
   "id": "3196bb4d",
   "metadata": {},
   "outputs": [
    {
     "data": {
      "text/plain": [
       "array([[0, 0, 0, 0, 1, 0, 0, 0, 0, 1],\n",
       "       [1, 0, 0, 0, 0, 1, 0, 0, 0, 0],\n",
       "       [0, 1, 0, 0, 0, 0, 0, 0, 0, 0],\n",
       "       [1, 0, 0, 0, 0, 0, 0, 0, 0, 0],\n",
       "       [1, 0, 0, 0, 0, 0, 1, 0, 0, 0]])"
      ]
     },
     "execution_count": 6,
     "metadata": {},
     "output_type": "execute_result"
    }
   ],
   "source": [
    "data = np.array([backward_filtering_forward_sampling(length, Tr, loop=True) for _ in range(num_neurons)])\n",
    "data"
   ]
  },
  {
   "cell_type": "code",
   "execution_count": 7,
   "id": "598846fe",
   "metadata": {},
   "outputs": [
    {
     "name": "stdout",
     "output_type": "stream",
     "text": [
      "Weights optimization on neuron 0 is done!\n",
      "Weights optimization on neuron 1 is done!\n",
      "Weights optimization on neuron 2 is done!\n",
      "Error in memorization...\n"
     ]
    }
   ],
   "source": [
    "net.memorize(data)"
   ]
  },
  {
   "cell_type": "code",
   "execution_count": 8,
   "id": "1bf7f2f7",
   "metadata": {},
   "outputs": [],
   "source": [
    "def is_memorized(net, data):\n",
    "    for l in range(length):\n",
    "        rolled_data = np.roll(data, -l, axis=-1)\n",
    "        pred = net.forward(rolled_data[..., -net.Th :])\n",
    "        true = rolled_data[..., 0]\n",
    "        \n",
    "        if np.any(np.not_equal(pred, true)):\n",
    "            return False\n",
    "    \n",
    "    return True"
   ]
  },
  {
   "cell_type": "code",
   "execution_count": 9,
   "id": "b46cf1db",
   "metadata": {},
   "outputs": [
    {
     "data": {
      "text/plain": [
       "False"
      ]
     },
     "execution_count": 9,
     "metadata": {},
     "output_type": "execute_result"
    }
   ],
   "source": [
    "is_memorized(net, data)"
   ]
  },
  {
   "cell_type": "code",
   "execution_count": 10,
   "id": "babdf909",
   "metadata": {},
   "outputs": [
    {
     "data": {
      "text/plain": [
       "array([1, 1, 1, 1, 1])"
      ]
     },
     "execution_count": 10,
     "metadata": {},
     "output_type": "execute_result"
    }
   ],
   "source": [
    "net.forward(data[:,:8])"
   ]
  },
  {
   "cell_type": "code",
   "execution_count": 11,
   "id": "dc94c020",
   "metadata": {},
   "outputs": [
    {
     "data": {
      "text/plain": [
       "array([[-0.04136189,  0.2420164 ,  0.40796389,  0.53701074, -0.21899322,\n",
       "        -0.93402279, -0.23038861, -0.17812687,  0.33476429,  0.19044888,\n",
       "        -0.62538864,  0.14430062,  0.43129982,  0.69497455, -0.71980903,\n",
       "         0.91481548,  0.60262317,  0.53735364,  0.44171415,  0.75737207,\n",
       "        -0.79913901,  0.30674895, -0.82188648,  0.57900801, -0.50247303,\n",
       "         0.68444198,  0.57960428, -0.24307483, -0.07106989,  0.0070088 ,\n",
       "        -0.63861811,  0.00595551, -0.66248192, -0.52505985, -0.64215252,\n",
       "        -0.4190989 ,  0.31127061,  0.82808585,  0.20932654, -0.05557656,\n",
       "        -0.35229109, -0.4227182 , -0.33766009,  0.55102363, -0.58612055,\n",
       "        -0.27208051, -0.06172205,  0.31650099, -0.74231833,  0.44372821],\n",
       "       [-0.72548656,  0.25442135, -0.69368281,  0.80644004, -0.62495725,\n",
       "        -0.30807127,  0.1006569 , -0.53729624, -0.16361758,  0.69954578,\n",
       "        -0.5068771 ,  0.392097  , -0.5493194 ,  0.06845682, -0.76612878,\n",
       "         0.1216113 ,  0.21269775,  0.71510093,  0.52837529, -0.21747255,\n",
       "         0.72925504,  0.07832453,  0.29005197,  0.07898208, -0.81800061,\n",
       "        -0.28136797, -0.63005237,  0.18300779, -0.95128138,  0.59476026,\n",
       "         0.74526868,  0.98084066,  0.74508301,  0.27471354, -0.6519751 ,\n",
       "        -0.40668596, -0.36272827,  0.67408586,  0.81156527,  0.57315823,\n",
       "        -0.49297201, -0.65552286,  0.85726765, -0.43623998, -0.0677382 ,\n",
       "        -0.97483159, -0.96401571,  0.95152743,  0.13914565, -0.0989817 ],\n",
       "       [-0.37916731,  0.30144943,  0.37802708,  0.22744941,  0.20646469,\n",
       "        -0.85786051,  0.48942848,  0.9438945 ,  0.64054045,  0.25668052,\n",
       "         0.01023043, -0.57042425, -0.5258313 , -0.47417024,  0.58248168,\n",
       "         0.60646101,  0.46688289,  0.58995064, -0.88629196,  0.63630113,\n",
       "         0.91797504, -0.07643734,  0.27001074, -0.15423256, -0.50491092,\n",
       "        -0.66349842, -0.34125876, -0.07345231, -0.75649549,  0.38084267,\n",
       "        -0.17046759,  0.90665395,  0.09174742,  0.74374486,  0.14491046,\n",
       "        -0.62867453,  0.2248766 ,  0.12932038,  0.71714833,  0.26834247,\n",
       "        -0.32528989, -0.74399676, -0.50709323, -0.61356338, -0.8757263 ,\n",
       "         0.35190352, -0.4555071 , -0.79834681,  0.17446074, -0.3297906 ],\n",
       "       [-0.02020998, -0.74586821, -0.57859444,  0.6552334 ,  0.84750185,\n",
       "        -0.53101975, -0.02796386, -0.33034972,  0.53730084,  0.96210374,\n",
       "         0.36641973, -0.07247206,  0.42213614, -0.71558652,  0.47934171,\n",
       "        -0.71908359, -0.02323945,  0.55116879, -0.25054246, -0.28425424,\n",
       "        -0.65403121,  0.09823392,  0.86529402, -0.69069727, -0.05234284,\n",
       "         0.49820492,  0.65211806,  0.35438188, -0.39338499,  0.78384856,\n",
       "        -0.05505811, -0.32020712,  0.37055123, -0.19401669,  0.50266615,\n",
       "         0.1439894 ,  0.85731645,  0.18654965,  0.17751848, -0.78382647,\n",
       "        -0.65616901, -0.7779667 ,  0.83057948, -0.39995209, -0.5279038 ,\n",
       "        -0.63669225, -0.74609174,  0.04716949, -0.49210627,  0.57978296],\n",
       "       [ 0.73495246,  0.24887372, -0.14447667,  0.89546285, -0.52483247,\n",
       "         0.90827164, -0.46634717,  0.19069505, -0.33371526,  0.04300626,\n",
       "         0.33042984, -0.60097915,  0.69275102,  0.46516783, -0.20053418,\n",
       "         0.23645296, -0.33456557,  0.11030682,  0.13103563, -0.84828561,\n",
       "         0.82396242,  0.58980127,  0.24149576, -0.88874133, -0.27487589,\n",
       "         0.33225043,  0.76606702, -0.47527078,  0.23421575, -0.20018797,\n",
       "         0.69160573, -0.69487864,  0.57586009,  0.00488901, -0.39046457,\n",
       "        -0.01314459,  0.80717611, -0.5093404 , -0.63407725, -0.60929798,\n",
       "        -0.33853403, -0.46809632,  0.7789775 , -0.12184824, -0.91634143,\n",
       "        -0.06901095, -0.23911607,  0.5368141 , -0.52702679, -0.55818284]])"
      ]
     },
     "execution_count": 11,
     "metadata": {},
     "output_type": "execute_result"
    }
   ],
   "source": [
    "net.weights"
   ]
  },
  {
   "cell_type": "code",
   "execution_count": 8,
   "id": "d980984c",
   "metadata": {},
   "outputs": [],
   "source": [
    "# MEMORIZATION PARAMETERS TO INVESTIGATE\n",
    "# number of synapses and neurons\n",
    "# length of the stimuli Th (find a lower bound)\n",
    "# refractory period, delays and weights boundaries\n",
    "# length of the message (find an upper bound)"
   ]
  },
  {
   "cell_type": "code",
   "execution_count": 9,
   "id": "f7f954f5",
   "metadata": {},
   "outputs": [],
   "source": [
    "# Markov chain of the given sequence is deterministic (knowing the current state, we know the next state)!!\n",
    "# BUT MUST BE VERY CHAOTIC (hard to determine the Markov chain given partial data)"
   ]
  },
  {
   "cell_type": "code",
   "execution_count": 3,
   "id": "ec14d8a9",
   "metadata": {},
   "outputs": [],
   "source": [
    "from math import *\n",
    "\n",
    "def divisors(n):\n",
    " \n",
    "    i = 1\n",
    "    lst = []\n",
    "    while (i * i < n):\n",
    "        if (n % i == 0):\n",
    "            lst.append(i)\n",
    " \n",
    "        i += 1\n",
    " \n",
    "    for i in range(int(sqrt(n)), 0, -1):\n",
    "        if (n % i == 0):\n",
    "            lst.append(n//i)\n",
    " \n",
    "    return lst"
   ]
  },
  {
   "cell_type": "code",
   "execution_count": 12,
   "id": "407d7952",
   "metadata": {},
   "outputs": [
    {
     "data": {
      "text/plain": [
       "[1, 2, 3, 4, 6]"
      ]
     },
     "execution_count": 12,
     "metadata": {},
     "output_type": "execute_result"
    }
   ],
   "source": [
    "divisors(12)[:-1]"
   ]
  },
  {
   "cell_type": "code",
   "execution_count": 9,
   "id": "71b70f81",
   "metadata": {},
   "outputs": [],
   "source": [
    "def divisors_1(n):\n",
    "    return [d for d in range(1, n+1) if not n % d]"
   ]
  },
  {
   "cell_type": "code",
   "execution_count": 10,
   "id": "0b1f1bf8",
   "metadata": {},
   "outputs": [
    {
     "name": "stdout",
     "output_type": "stream",
     "text": [
      "375 µs ± 2.85 µs per loop (mean ± std. dev. of 7 runs, 1000 loops each)\n"
     ]
    }
   ],
   "source": [
    "%timeit divisors_1(8273)"
   ]
  },
  {
   "cell_type": "code",
   "execution_count": 39,
   "id": "ece52fab",
   "metadata": {},
   "outputs": [],
   "source": [
    "import numpy as np\n",
    "seq = np.array([0, 1, 0, 0, 1, 0])\n",
    "\n",
    "def is_reducible(seq, length):\n",
    "    for d in divisors(length)[1:]:\n",
    "        T = length // d\n",
    "        \n",
    "        if np.all([np.array_equal(seq[:T], seq[(k + 1) * T : (k + 2) * T]) for k in range(d - 1)]):\n",
    "            return True\n",
    "\n",
    "    return False"
   ]
  },
  {
   "cell_type": "code",
   "execution_count": 40,
   "id": "35efd3b4",
   "metadata": {},
   "outputs": [
    {
     "data": {
      "text/plain": [
       "True"
      ]
     },
     "execution_count": 40,
     "metadata": {},
     "output_type": "execute_result"
    }
   ],
   "source": [
    "is_reducible(seq, 6)"
   ]
  },
  {
   "cell_type": "code",
   "execution_count": null,
   "id": "e0275f77",
   "metadata": {},
   "outputs": [],
   "source": []
  }
 ],
 "metadata": {
  "kernelspec": {
   "display_name": "Python 3 (ipykernel)",
   "language": "python",
   "name": "python3"
  },
  "language_info": {
   "codemirror_mode": {
    "name": "ipython",
    "version": 3
   },
   "file_extension": ".py",
   "mimetype": "text/x-python",
   "name": "python",
   "nbconvert_exporter": "python",
   "pygments_lexer": "ipython3",
   "version": "3.9.7"
  }
 },
 "nbformat": 4,
 "nbformat_minor": 5
}
