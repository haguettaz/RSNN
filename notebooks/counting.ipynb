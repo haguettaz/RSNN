{
 "cells": [
  {
   "cell_type": "markdown",
   "id": "027fb261",
   "metadata": {},
   "source": [
    "# Without cycle"
   ]
  },
  {
   "cell_type": "code",
   "execution_count": 1,
   "id": "2d1d18f2",
   "metadata": {},
   "outputs": [],
   "source": [
    "from firing_signals.counting.counting import tilde_l, tilde_ls"
   ]
  },
  {
   "cell_type": "code",
   "execution_count": 2,
   "id": "f94c55a3",
   "metadata": {},
   "outputs": [],
   "source": [
    "n = 42\n",
    "Tr = 3"
   ]
  },
  {
   "cell_type": "code",
   "execution_count": 3,
   "id": "ab36b33c",
   "metadata": {},
   "outputs": [
    {
     "data": {
      "text/plain": [
       "(1088589, 1088589)"
      ]
     },
     "execution_count": 3,
     "metadata": {},
     "output_type": "execute_result"
    }
   ],
   "source": [
    "tilde_l(n, Tr), tilde_l(n, Tr, recursion=True)"
   ]
  },
  {
   "cell_type": "code",
   "execution_count": 4,
   "id": "d2694ff3",
   "metadata": {},
   "outputs": [],
   "source": [
    "n0, n1 = 35, 7"
   ]
  },
  {
   "cell_type": "code",
   "execution_count": 5,
   "id": "10be6626",
   "metadata": {},
   "outputs": [
    {
     "data": {
      "text/plain": [
       "346104"
      ]
     },
     "execution_count": 5,
     "metadata": {},
     "output_type": "execute_result"
    }
   ],
   "source": [
    "tilde_ls(n0, n1, Tr)"
   ]
  },
  {
   "cell_type": "code",
   "execution_count": 6,
   "id": "b877bad3",
   "metadata": {},
   "outputs": [
    {
     "data": {
      "text/plain": [
       "(1088589, 1088589)"
      ]
     },
     "execution_count": 6,
     "metadata": {},
     "output_type": "execute_result"
    }
   ],
   "source": [
    "sum([tilde_ls(n-n1, n1, Tr) for n1 in range(n+1)]), tilde_l(n, Tr)"
   ]
  },
  {
   "cell_type": "markdown",
   "id": "8b2cfed4",
   "metadata": {},
   "source": [
    "# With cycle"
   ]
  },
  {
   "cell_type": "code",
   "execution_count": 7,
   "id": "3afbb63e",
   "metadata": {},
   "outputs": [],
   "source": [
    "from firing_signals.counting.counting import l, ls"
   ]
  },
  {
   "cell_type": "code",
   "execution_count": 29,
   "id": "b4435c0f",
   "metadata": {},
   "outputs": [],
   "source": [
    "n = 42\n",
    "Tr = 3"
   ]
  },
  {
   "cell_type": "code",
   "execution_count": 30,
   "id": "500c3701",
   "metadata": {},
   "outputs": [
    {
     "data": {
      "text/plain": [
       "(756119, 756119)"
      ]
     },
     "execution_count": 30,
     "metadata": {},
     "output_type": "execute_result"
    }
   ],
   "source": [
    "l(n, Tr), l(n, Tr, recursion=True)"
   ]
  },
  {
   "cell_type": "code",
   "execution_count": 31,
   "id": "4a989357",
   "metadata": {},
   "outputs": [],
   "source": [
    "n0, n1 = 35, 7"
   ]
  },
  {
   "cell_type": "code",
   "execution_count": 32,
   "id": "e15d6afe",
   "metadata": {},
   "outputs": [
    {
     "data": {
      "text/plain": [
       "232560"
      ]
     },
     "execution_count": 32,
     "metadata": {},
     "output_type": "execute_result"
    }
   ],
   "source": [
    "ls(n0, n1, Tr)"
   ]
  },
  {
   "cell_type": "code",
   "execution_count": 33,
   "id": "22e176aa",
   "metadata": {},
   "outputs": [
    {
     "data": {
      "text/plain": [
       "(756119, 756119)"
      ]
     },
     "execution_count": 33,
     "metadata": {},
     "output_type": "execute_result"
    }
   ],
   "source": [
    "sum([ls(n-n1, n1, Tr) for n1 in range(n+1)]), l(n, Tr)"
   ]
  }
 ],
 "metadata": {
  "kernelspec": {
   "display_name": "Python 3 (ipykernel)",
   "language": "python",
   "name": "python3"
  },
  "language_info": {
   "codemirror_mode": {
    "name": "ipython",
    "version": 3
   },
   "file_extension": ".py",
   "mimetype": "text/x-python",
   "name": "python",
   "nbconvert_exporter": "python",
   "pygments_lexer": "ipython3",
   "version": "3.9.7"
  }
 },
 "nbformat": 4,
 "nbformat_minor": 5
}
