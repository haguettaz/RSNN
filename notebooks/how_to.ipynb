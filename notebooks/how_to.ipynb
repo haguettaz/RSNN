{
 "cells": [
  {
   "cell_type": "markdown",
   "metadata": {},
   "source": [
    "# How to Use"
   ]
  },
  {
   "cell_type": "markdown",
   "metadata": {},
   "source": [
    "This notebook aims to be a tutorial to start using the package.\n",
    "It will show how to use the package to instantiate a `Neuron` and a `Network`, and how to train them to memorize multi-channels spike trains, and how to simulate them."
   ]
  },
  {
   "cell_type": "code",
   "execution_count": 1,
   "metadata": {},
   "outputs": [
    {
     "name": "stderr",
     "output_type": "stream",
     "text": [
      "/var/folders/p1/wl8__y5x6jgfhz_d47k5gq9m0000gn/T/ipykernel_47196/3282051363.py:6: TqdmExperimentalWarning: Using `tqdm.autonotebook.tqdm` in notebook mode. Use `tqdm.tqdm` instead to force console mode (e.g. in jupyter console)\n",
      "  from tqdm.autonotebook import tqdm\n"
     ]
    }
   ],
   "source": [
    "import os\n",
    "\n",
    "import matplotlib.pyplot as plt\n",
    "import numpy as np\n",
    "\n",
    "from tqdm.autonotebook import tqdm"
   ]
  },
  {
   "cell_type": "code",
   "execution_count": 2,
   "metadata": {},
   "outputs": [],
   "source": [
    "%matplotlib inline"
   ]
  },
  {
   "cell_type": "markdown",
   "metadata": {},
   "source": [
    "Any object can be saved to or loaded from a file using `save_object_to_file` and `load_object_from_file`."
   ]
  },
  {
   "cell_type": "code",
   "execution_count": 3,
   "metadata": {},
   "outputs": [],
   "source": [
    "from rsnn.utils.utils import save_object_to_file, load_object_from_file"
   ]
  },
  {
   "cell_type": "markdown",
   "metadata": {},
   "source": [
    "We initialize the random number generator to ensure reproducibility of the results."
   ]
  },
  {
   "cell_type": "code",
   "execution_count": 4,
   "metadata": {},
   "outputs": [],
   "source": [
    "rng = np.random.RandomState(42)"
   ]
  },
  {
   "cell_type": "markdown",
   "metadata": {},
   "source": [
    "## Neuron and Network\n",
    "\n",
    "The basic unit of a spiking neural network is the spiking neuron.\n",
    "To be easily identified, every neuron has an identification number."
   ]
  },
  {
   "cell_type": "code",
   "execution_count": 5,
   "metadata": {},
   "outputs": [],
   "source": [
    "from rsnn.rsnn.network import Network\n",
    "from rsnn.rsnn.neuron import Neuron"
   ]
  },
  {
   "cell_type": "markdown",
   "metadata": {},
   "source": [
    "Let's start by creating a `Neuron` with identification number 42. By default, a neuron has no connection and a nominal firing threshold at 1.0."
   ]
  },
  {
   "cell_type": "code",
   "execution_count": 6,
   "metadata": {},
   "outputs": [
    {
     "data": {
      "text/plain": [
       "(0, 1.0)"
      ]
     },
     "execution_count": 6,
     "metadata": {},
     "output_type": "execute_result"
    }
   ],
   "source": [
    "neuron = Neuron(42)\n",
    "neuron.num_inputs, neuron.nominal_threshold"
   ]
  },
  {
   "cell_type": "markdown",
   "metadata": {},
   "source": [
    "To specify the neuron connectivity, one has to specify the three following arrays.\n",
    "- `sources`: an array identifying the source neurons, on for each input.\n",
    "- `delays`: an array of transmission delays, one for each input.\n",
    "- `weights`: an array of synaptic weights, one for each input."
   ]
  },
  {
   "cell_type": "code",
   "execution_count": 7,
   "metadata": {},
   "outputs": [],
   "source": [
    "neuron.num_inputs = 5\n",
    "neuron.sources = np.array([0, 42, 999, 123, 0]) # note that self-connections and parallel-connections are allowed\n",
    "neuron.delays = np.array([1, 0.5, 10, 0.3, 6]) # the default unit of time is tau_min (the refractory period of the neuron)\n",
    "neuron.weights = np.array([0.1, 0.1, -0.2, 0.2, -0.04])\n",
    "\n",
    "assert neuron.num_inputs == neuron.sources.size == neuron.delays.size == neuron.weights.size"
   ]
  },
  {
   "cell_type": "markdown",
   "metadata": {},
   "source": [
    "A `Network` is a list of `Neuron` interconnected with each other."
   ]
  },
  {
   "cell_type": "code",
   "execution_count": 8,
   "metadata": {},
   "outputs": [],
   "source": [
    "num_neurons = 200\n",
    "num_inputs = 500 # number of input per neuron\n",
    "neurons = [\n",
    "            Neuron(\n",
    "                id,\n",
    "                num_inputs,\n",
    "                sources=rng.choice(num_neurons, num_inputs),\n",
    "                delays=rng.uniform(0.1, high=10, size=num_inputs),\n",
    "                weights=rng.uniform(-0.2, high=0.2, size=num_inputs),\n",
    "                )\n",
    "                for id in range(num_neurons)\n",
    "            ]\n",
    "network = Network(neurons)"
   ]
  },
  {
   "cell_type": "markdown",
   "metadata": {},
   "source": [
    "## Spike Trains\n",
    "\n",
    "A spike train is a (sorted) `np.array` indicating the firing times all separated by at least tau_min.\n",
    "From now on, we will only consider periodic spike trains, with some predefined period.\n",
    "Note that such a spike train is completely identified by the list of all its firing times in window of covering an entire period."
   ]
  },
  {
   "cell_type": "code",
   "execution_count": 9,
   "metadata": {},
   "outputs": [],
   "source": [
    "from rsnn.spike_train.sampler import sample_spike_trains"
   ]
  },
  {
   "cell_type": "code",
   "execution_count": 10,
   "metadata": {},
   "outputs": [],
   "source": [
    "def plot_spike_trains(spike_trains, period):\n",
    "    if isinstance(spike_trains, list):\n",
    "        num_channels = len(spike_trains)\n",
    "    \n",
    "        fig, axes = plt.subplots(num_channels, 1, figsize=(6, num_channels*0.6), sharex=True)\n",
    "        \n",
    "        for c in range(num_channels):\n",
    "            axes[c].stem(spike_trains[c], np.ones_like(spike_trains[c]), basefmt=' ')\n",
    "            axes[c].set_ylabel(f'Ch. {c}')\n",
    "            axes[c].set_ylim(0, 1.8)\n",
    "            axes[c].set_yticks([])\n",
    "        \n",
    "        axes[-1].set_xlim(0, period)\n",
    "        axes[-1].set_xlabel('Time')\n",
    "        return\n",
    "\n",
    "    fig, ax = plt.subplots(1, 1, figsize=(6, 0.6))\n",
    "    \n",
    "    ax.stem(spike_trains, np.ones_like(spike_trains), basefmt=' ')\n",
    "    ax.set_ylim(0, 1.8)\n",
    "    ax.set_yticks([])\n",
    "    ax.set_xlim(0, period)\n",
    "    ax.set_xlabel('Time')\n"
   ]
  },
  {
   "cell_type": "markdown",
   "metadata": {},
   "source": [
    "We start generating a (periodic) multi-channel spike train at random."
   ]
  },
  {
   "cell_type": "code",
   "execution_count": 11,
   "metadata": {},
   "outputs": [],
   "source": [
    "period = 50 # the period of the spike train\n",
    "firing_rate = 0.2 # the firing rate of the spike train\n",
    "spike_trains = sample_spike_trains(period, firing_rate, num_channels=num_neurons, rng=rng)"
   ]
  },
  {
   "cell_type": "code",
   "execution_count": 12,
   "metadata": {},
   "outputs": [
    {
     "data": {
      "image/png": "[encoded data removed]",
      "text/plain": [
       "<Figure size 600x300 with 5 Axes>"
      ]
     },
     "metadata": {},
     "output_type": "display_data"
    }
   ],
   "source": [
    "plot_spike_trains(spike_trains[:5], period)"
   ]
  },
  {
   "cell_type": "markdown",
   "metadata": {},
   "source": [
    "## Robust Memorization\n",
    "\n",
    "Now equipped with a network of spiking neurons and a list of (periodic) spike train (one per neuron), we can find a weights assignment to robustly store the spike train in the network."
   ]
  },
  {
   "cell_type": "code",
   "execution_count": 13,
   "metadata": {},
   "outputs": [],
   "source": [
    "# uncomment the following lines to store the spike train in the network\n",
    "# for neuron in tqdm(network.neurons):\n",
    "#     spike_train = spike_trains[neuron.idx]\n",
    "#     input_spike_trains = [(spike_trains[s] + d).reshape(-1) for s, d in zip(neuron.sources, neuron.delays)]\n",
    "#     neuron.optimize_weights(\n",
    "#         spike_train, \n",
    "#         input_spike_trains, \n",
    "#         period, \n",
    "#         weight_bound=0.2,\n",
    "#         weight_regularization=\"l2\"\n",
    "#         )\n",
    "\n",
    "# save_object_to_file(network, os.path.join(\"data\", \"network.pkl\"))\n",
    "# save_object_to_file(spike_trains, os.path.join(\"data\", \"spike_trains.pkl\"))\n",
    "\n",
    "# uncomment the following lines to load the pretrained network and spike_trains\n",
    "network = load_object_from_file(os.path.join(\"data\", \"network.pkl\"))\n",
    "spike_trains = load_object_from_file(os.path.join(\"data\", \"spike_trains.pkl\"))"
   ]
  },
  {
   "cell_type": "markdown",
   "metadata": {},
   "source": [
    "To neuron status indicates if a solution has been found. For the spike trains to be stored in the network, all neuron should be optimal."
   ]
  },
  {
   "cell_type": "code",
   "execution_count": 14,
   "metadata": {},
   "outputs": [
    {
     "name": "stdout",
     "output_type": "stream",
     "text": [
      "The spike trains have been successfully stored in the network.\n"
     ]
    }
   ],
   "source": [
    "if all(neuron.status == \"optimal\" for neuron in network.neurons):\n",
    "    print(\"The spike trains have been successfully stored in the network.\")\n",
    "else:\n",
    "    print(\"The spike trains have not been successfully stored in the network.\")"
   ]
  },
  {
   "cell_type": "markdown",
   "metadata": {},
   "source": [
    "To check if the weights assignement is a robust representation of the spike train, one can compute the eigenvalues of the (linearized) jitter transition model"
   ]
  },
  {
   "cell_type": "code",
   "execution_count": 15,
   "metadata": {},
   "outputs": [],
   "source": [
    "from rsnn.utils.analysis import get_phis"
   ]
  },
  {
   "cell_type": "code",
   "execution_count": 16,
   "metadata": {},
   "outputs": [],
   "source": [
    "def plot_mod_phis(phis):\n",
    "    fig, ax = plt.subplots(1, 1, figsize=(6, 3))\n",
    "    \n",
    "    ax.scatter(np.arange(phis.size), -np.sort(-np.abs(phis)), s=5)\n",
    "    ax.axhline(1, color='black', linewidth=0.5, linestyle='--')\n",
    "    ax.set_xlabel('Index')\n",
    "    ax.set_yscale('log')\n",
    "    ax.set_ylabel('Mod')\n",
    "    ax.set_ylim(None, 1e2)"
   ]
  },
  {
   "cell_type": "code",
   "execution_count": 17,
   "metadata": {},
   "outputs": [
    {
     "data": {
      "application/vnd.jupyter.widget-view+json": {
       "model_id": "4ad433c96aad42dda56f97f6c753b7b2",
       "version_major": 2,
       "version_minor": 0
      },
      "text/plain": [
       "  0%|          | 0/1463 [00:00<?, ?it/s]"
      ]
     },
     "metadata": {},
     "output_type": "display_data"
    }
   ],
   "source": [
    "phis = get_phis(network.neurons, spike_trains, period)"
   ]
  },
  {
   "cell_type": "code",
   "execution_count": 18,
   "metadata": {},
   "outputs": [
    {
     "data": {
      "image/png": "[encoded data removed]",
      "text/plain": [
       "<Figure size 600x300 with 1 Axes>"
      ]
     },
     "metadata": {},
     "output_type": "display_data"
    }
   ],
   "source": [
    "plot_mod_phis(phis) # if all but the largest eigenvalue are (strictly) inside the unit circle, the memorization is temporally stable"
   ]
  },
  {
   "cell_type": "markdown",
   "metadata": {},
   "source": [
    "or simulate the network and check temporal stability after a while"
   ]
  },
  {
   "cell_type": "code",
   "execution_count": 19,
   "metadata": {},
   "outputs": [],
   "source": [
    "from rsnn.spike_train.measure import multi_channel_correlation"
   ]
  },
  {
   "cell_type": "code",
   "execution_count": 20,
   "metadata": {},
   "outputs": [
    {
     "data": {
      "application/vnd.jupyter.widget-view+json": {
       "model_id": "0b37d7288fd841f287d30ab6eac7f6cb",
       "version_major": 2,
       "version_minor": 0
      },
      "text/plain": [
       "Network simulation:   0%|          | 0/25000 [00:00<?, ?it/s]"
      ]
     },
     "metadata": {},
     "output_type": "display_data"
    },
    {
     "name": "stdout",
     "output_type": "stream",
     "text": [
      "init\t| precision=1.000 recall=1.000\n",
      "cycle 1 | precision=0.956 recall=0.956\n",
      "cycle 2 | precision=0.954 recall=0.954\n",
      "cycle 3 | precision=0.954 recall=0.954\n",
      "cycle 4 | precision=0.954 recall=0.954\n",
      "cycle 5 | precision=0.955 recall=0.955\n"
     ]
    }
   ],
   "source": [
    "for neuron in network.neurons:\n",
    "    # perfect initialization\n",
    "    neuron.firing_times = spike_trains[neuron.idx] - period\n",
    "    neuron.firing_threshold = None\n",
    "\n",
    "network.sim(0, 5*period, std_threshold=0.1, rng=rng) # the source of noise is the threshold noise\n",
    "\n",
    "precision, recall = multi_channel_correlation([spike_trains[neuron.idx] for neuron in network.neurons], [neuron.firing_times for neuron in network.neurons], -period, period)\n",
    "print(f\"init\\t| precision={precision:.3f} recall={recall:.3f}\")\n",
    "for i in range(5):\n",
    "    precision, recall = multi_channel_correlation([spike_trains[neuron.idx] for neuron in network.neurons], [neuron.firing_times for neuron in network.neurons], i*period, period)\n",
    "    print(f\"cycle {i+1} | precision={precision:.3f} recall={recall:.3f}\")"
   ]
  },
  {
   "cell_type": "markdown",
   "metadata": {},
   "source": [
    "## Associative Recall\n",
    "\n",
    "Memory recall in the network is associative.\n",
    "When a group of neurons is prompted with a noisy version of the memorized spike trains, it is able to trigger recall at the level of the entire network, even in the presence of internal (threshold) noise."
   ]
  },
  {
   "cell_type": "code",
   "execution_count": 21,
   "metadata": {},
   "outputs": [],
   "source": [
    "from rsnn.spike_train.sampler import sample_jittered_spike_train"
   ]
  },
  {
   "cell_type": "code",
   "execution_count": 23,
   "metadata": {},
   "outputs": [
    {
     "data": {
      "application/vnd.jupyter.widget-view+json": {
       "model_id": "130ea708fef04e9e9d3fe320df0dc073",
       "version_major": 2,
       "version_minor": 0
      },
      "text/plain": [
       "Network simulation:   0%|          | 0/10000 [00:00<?, ?it/s]"
      ]
     },
     "metadata": {},
     "output_type": "display_data"
    },
    {
     "data": {
      "application/vnd.jupyter.widget-view+json": {
       "model_id": "c545e883d3d64b76a7d8b54e7d7296bc",
       "version_major": 2,
       "version_minor": 0
      },
      "text/plain": [
       "Network simulation:   0%|          | 0/10000 [00:00<?, ?it/s]"
      ]
     },
     "metadata": {},
     "output_type": "display_data"
    },
    {
     "name": "stdout",
     "output_type": "stream",
     "text": [
      "\t\t | prompted\t\t        | autonomous\t\t       | all\n",
      "cycle 1 (prompt) | precision=0.851 recall=0.849 | precision=0.671 recall=0.385 | precision=0.751 recall=0.614 \n",
      "cycle 2 (prompt) | precision=0.840 recall=0.840 | precision=0.833 recall=0.761 | precision=0.829 recall=0.794 \n",
      "cycle 3 (prompt) | precision=0.951 recall=0.951 | precision=0.951 recall=0.951 | precision=0.951 recall=0.951 \n",
      "cycle 4 (prompt) | precision=0.954 recall=0.954 | precision=0.955 recall=0.955 | precision=0.954 recall=0.954 \n"
     ]
    }
   ],
   "source": [
    "# reset the network for simulation\n",
    "for neuron in network.neurons:\n",
    "    neuron.firing_threshold = None\n",
    "    neuron.firing_times = np.array([])\n",
    "\n",
    "# prompt half of the neurons with a noisy version of the memorized spike trains for one simulation cycles\n",
    "for neuron in network.neurons[:num_neurons//2]:\n",
    "    neuron.firing_times = sample_jittered_spike_train((spike_trains[neuron.idx][None, :] + (np.arange(2) * period)[:, None]).flatten(), std_jitter=0.1, rng=rng)\n",
    "network.sim(0, 2*period, std_threshold=0.1, sim_indices=range(num_neurons//2, num_neurons), rng=rng)\n",
    "# then all neurons are autonomous for two more simulation cycles\n",
    "network.sim(2*period, 2*period, std_threshold=0.1, rng=rng)\n",
    "\n",
    "print(f\"\\t\\t | prompted\\t\\t        | autonomous\\t\\t       | all\")\n",
    "for i in range(2):\n",
    "    pr_p, re_p = multi_channel_correlation([spike_trains[neuron.idx] for neuron in network.neurons[:num_neurons//2]], [neuron.firing_times for neuron in network.neurons[:num_neurons//2]], i*period, period)\n",
    "    pr_a, re_a = multi_channel_correlation([spike_trains[neuron.idx] for neuron in network.neurons[-num_neurons//2:]], [neuron.firing_times for neuron in network.neurons[-num_neurons//2:]], i*period, period)\n",
    "    pr, re = multi_channel_correlation([spike_trains[neuron.idx] for neuron in network.neurons], [neuron.firing_times for neuron in network.neurons], i*period, period)\n",
    "    print(f\"cycle {i+1} (prompt) | precision={pr_p:.3f} recall={re_p:.3f} | precision={pr_a:.3f} recall={re_a:.3f} | precision={pr:.3f} recall={re:.3f} \")\n",
    "for i in range(2, 4):\n",
    "    pr_p, re_p = multi_channel_correlation([spike_trains[neuron.idx] for neuron in network.neurons[:num_neurons//2]], [neuron.firing_times for neuron in network.neurons[:num_neurons//2]], i*period, period)\n",
    "    pr_a, re_a = multi_channel_correlation([spike_trains[neuron.idx] for neuron in network.neurons[-num_neurons//2:]], [neuron.firing_times for neuron in network.neurons[-num_neurons//2:]], i*period, period)\n",
    "    pr, re = multi_channel_correlation([spike_trains[neuron.idx] for neuron in network.neurons], [neuron.firing_times for neuron in network.neurons], i*period, period)\n",
    "    print(f\"cycle {i+1} (prompt) | precision={pr_p:.3f} recall={re_p:.3f} | precision={pr_a:.3f} recall={re_a:.3f} | precision={pr:.3f} recall={re:.3f} \")"
   ]
  },
  {
   "cell_type": "code",
   "execution_count": null,
   "metadata": {},
   "outputs": [],
   "source": []
  }
 ],
 "metadata": {
  "kernelspec": {
   "display_name": "rsnn",
   "language": "python",
   "name": "python3"
  },
  "language_info": {
   "codemirror_mode": {
    "name": "ipython",
    "version": 3
   },
   "file_extension": ".py",
   "mimetype": "text/x-python",
   "name": "python",
   "nbconvert_exporter": "python",
   "pygments_lexer": "ipython3",
   "version": "3.10.13"
  }
 },
 "nbformat": 4,
 "nbformat_minor": 2
}
