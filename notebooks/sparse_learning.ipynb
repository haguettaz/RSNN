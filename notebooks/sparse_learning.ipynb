{
 "cells": [
  {
   "cell_type": "code",
   "execution_count": 25,
   "id": "adeb92c3",
   "metadata": {},
   "outputs": [],
   "source": [
    "%matplotlib inline"
   ]
  },
  {
   "cell_type": "code",
   "execution_count": 26,
   "id": "d3b9e3ba",
   "metadata": {},
   "outputs": [],
   "source": [
    "#import matplotlib\n",
    "#matplotlib.use(\"pgf\")"
   ]
  },
  {
   "cell_type": "code",
   "execution_count": 27,
   "id": "3e37a55a",
   "metadata": {},
   "outputs": [],
   "source": [
    "import math \n",
    "import numpy as np\n",
    "from matplotlib import pyplot as plt\n",
    "import pandas as pd\n",
    "from matplotlib.gridspec import GridSpec\n",
    "from scipy.optimize import brentq\n",
    "\n",
    "import cvxpy as cp\n",
    "\n",
    "from tqdm.notebook import trange"
   ]
  },
  {
   "cell_type": "code",
   "execution_count": 41,
   "id": "b2c48c42",
   "metadata": {},
   "outputs": [],
   "source": [
    "from rsnn.spike_train.generator import PeriodicSpikeTrainGenerator\n",
    "from rsnn.spike_train.spike_train import SpikeTrain\n",
    "from rsnn.spike_train.periodic_spike_train import PeriodicSpikeTrain, MultiChannelPeriodicSpikeTrain\n",
    "from rsnn.rsnn.neuron import Neuron\n",
    "from rsnn.spike_train.measure import single_channel_correlation"
   ]
  },
  {
   "cell_type": "code",
   "execution_count": 29,
   "id": "a125da68",
   "metadata": {},
   "outputs": [],
   "source": [
    "plt.style.use('paper')"
   ]
  },
  {
   "cell_type": "code",
   "execution_count": 30,
   "id": "ae357386",
   "metadata": {},
   "outputs": [],
   "source": [
    "rng = np.random.default_rng(7)"
   ]
  },
  {
   "cell_type": "markdown",
   "id": "14174e11",
   "metadata": {},
   "source": [
    "# Supervised Learning for Spiking Neurons"
   ]
  },
  {
   "cell_type": "code",
   "execution_count": 31,
   "id": "88ee3e39",
   "metadata": {},
   "outputs": [],
   "source": [
    "num_inputs = 1000 # number of synapses\n",
    "delays = rng.uniform(1.0, 20.0, num_inputs)\n",
    "synapse_beta, soma_decay = 4, 5\n",
    "firing_threshold = 1.0\n",
    "wmin, wmax = -0.1, 0.1\n",
    "\n",
    "period = 100.0\n",
    "firing_rate, rel_refractory_period, abs_refractory_period = 0.1, 5.0, 5.0\n",
    "refractory_weight = 1"
   ]
  },
  {
   "cell_type": "code",
   "execution_count": 32,
   "id": "3bacfede",
   "metadata": {},
   "outputs": [],
   "source": [
    "times = np.linspace(0, period, 10000)"
   ]
  },
  {
   "cell_type": "code",
   "execution_count": 33,
   "id": "2fd987fb",
   "metadata": {},
   "outputs": [],
   "source": [
    "def input_spike_resp(t):\n",
    "    tmax = (math.log(synapse_beta) - math.log(soma_decay)) / (1 / soma_decay - 1 / synapse_beta)\n",
    "    gamma = 1 / (math.exp(-tmax / soma_decay) - math.exp(-tmax / synapse_beta))\n",
    "\n",
    "    if isinstance(t, np.ndarray):\n",
    "        z = gamma * (np.exp(-t / soma_decay) - np.exp(-t / synapse_beta))\n",
    "        z[t < 0] = 0.0\n",
    "        return z\n",
    "    \n",
    "    if t < 0:\n",
    "        return 0.0\n",
    "    \n",
    "    return gamma * (np.exp(-t / soma_decay) - np.exp(-t / synapse_beta))\n",
    "\n",
    "def input_spike_resp_deriv(t):\n",
    "    tmax = (math.log(synapse_beta) - math.log(soma_decay)) / (1 / soma_decay - 1 / synapse_beta)\n",
    "    gamma = 1 / (math.exp(-tmax / soma_decay) - math.exp(-tmax / synapse_beta))\n",
    "\n",
    "    if isinstance(t, np.ndarray):\n",
    "        z = gamma * (np.exp(-t / synapse_beta) / synapse_beta - np.exp(-t / soma_decay) / soma_decay)\n",
    "        z[t < 0] = 0.0\n",
    "        return z\n",
    "    \n",
    "    if t < 0:\n",
    "        return 0.0\n",
    "    \n",
    "    return gamma * (np.exp(-t / synapse_beta) / synapse_beta - np.exp(-t / soma_decay) / soma_decay)\n",
    "\n",
    "def refractory_spike_resp(t):\n",
    "    if isinstance(t, np.ndarray):\n",
    "        z = -refractory_weight * np.exp(- (t - abs_refractory_period) / soma_decay)\n",
    "        z[t <= abs_refractory_period] = -np.inf\n",
    "        z[t <= 0] = 0.0\n",
    "        return z\n",
    "    \n",
    "    if t <= 0:\n",
    "        return 0.0\n",
    "    \n",
    "    if t <= abs_refractory_period:\n",
    "        return -np.inf\n",
    "    \n",
    "    return -refractory_weight * np.exp(- (t - abs_refractory_period) / soma_decay)\n",
    "\n",
    "def refractory_spike_resp_deriv(t):\n",
    "    if isinstance(t, np.ndarray):\n",
    "        z = refractory_weight / soma_decay * np.exp(- (t - abs_refractory_period) / soma_decay)\n",
    "        z[t <= abs_refractory_period] = 0.0\n",
    "        return z\n",
    "\n",
    "    if t <= abs_refractory_period:\n",
    "        return 0.0\n",
    "    \n",
    "    return refractory_weight / soma_decay * np.exp(- (t - abs_refractory_period) / soma_decay)"
   ]
  },
  {
   "cell_type": "code",
   "execution_count": 34,
   "id": "7d0d6cbe",
   "metadata": {},
   "outputs": [],
   "source": [
    "def potential(t, delays, weights, input_spike_trains, modulo=True):\n",
    "    if isinstance(t, np.ndarray):\n",
    "        if modulo:\n",
    "            y = np.array([\n",
    "                np.sum(input_spike_resp((t[None,:] - delays[k] - input_spike_trains.spike_trains[k].firing_times[:,None])%period), axis=0) for k in range(num_inputs)\n",
    "            ])\n",
    "            return weights@y\n",
    "        \n",
    "        y = np.array([\n",
    "            np.sum(input_spike_resp((t[None,:] - delays[k] - input_spike_trains.spike_trains[k].firing_times[:,None])), axis=0) for k in range(num_inputs)\n",
    "        ])\n",
    "        return weights@y  \n",
    "        \n",
    "    if modulo:\n",
    "        y = np.array([\n",
    "            np.sum(input_spike_resp((t - delays[k] - input_spike_trains.spike_trains[k].firing_times)%period), axis=0) for k in range(num_inputs)\n",
    "        ])\n",
    "        return weights@y\n",
    "    \n",
    "    y = np.array([\n",
    "        np.sum(input_spike_resp((t - delays[k] - input_spike_trains.spike_trains[k].firing_times)), axis=0) for k in range(num_inputs)\n",
    "    ])\n",
    "    return weights@y  \n",
    "\n",
    "def potential_deriv(t, delays, weights, input_spike_trains, modulo=True):\n",
    "    if isinstance(t, np.ndarray):\n",
    "        if modulo:\n",
    "            y = np.array([\n",
    "                np.sum(input_spike_resp_deriv((t[None,:] - delays[k] - input_spike_trains.spike_trains[k].firing_times[:,None])%period), axis=0) for k in range(num_inputs)\n",
    "                ])\n",
    "            return weights@y\n",
    "        \n",
    "        y = np.array([\n",
    "                np.sum(input_spike_resp_deriv((t[None,:] - delays[k] - input_spike_trains.spike_trains[k].firing_times[:,None])), axis=0) for k in range(num_inputs)\n",
    "            ])\n",
    "        return weights@y\n",
    "    \n",
    "    if modulo:\n",
    "        y = np.array([\n",
    "            np.sum(input_spike_resp((t - delays[k] - input_spike_trains.spike_trains[k].firing_times)%period), axis=0) for k in range(num_inputs)\n",
    "            ])\n",
    "        return weights@y  \n",
    "    \n",
    "    y = np.array([\n",
    "            np.sum(input_spike_resp((t - delays[k] - input_spike_trains.spike_trains[k].firing_times)), axis=0) for k in range(num_inputs)\n",
    "        ])\n",
    "    return weights@y\n",
    "\n",
    "def threshold(t, target_spike_train, modulo=True):\n",
    "    if isinstance(t, np.ndarray):\n",
    "        if modulo: \n",
    "            return firing_threshold - np.sum(refractory_spike_resp((t[None,:] - target_spike_train.firing_times[:,None])%period), axis=0)\n",
    "\n",
    "        return firing_threshold - np.sum(refractory_spike_resp((t[None,:] - target_spike_train.firing_times[:,None])), axis=0)\n",
    "    \n",
    "    if modulo: \n",
    "        return firing_threshold - np.sum(refractory_spike_resp((t - target_spike_train.firing_times)%period), axis=0)        \n",
    "    return firing_threshold - np.sum(refractory_spike_resp((t - target_spike_train.firing_times)), axis=0)"
   ]
  },
  {
   "cell_type": "code",
   "execution_count": 35,
   "id": "4d96af22",
   "metadata": {},
   "outputs": [
    {
     "data": {
      "image/png": "[encoded data removed]",
      "text/plain": [
       "<Figure size 350x400 with 2 Axes>"
      ]
     },
     "metadata": {},
     "output_type": "display_data"
    }
   ],
   "source": [
    "fig, axes = plt.subplots(nrows=2, ncols=1, sharex=True, figsize=(3.5, 4))\n",
    "\n",
    "axes[0].plot(times, input_spike_resp(times), c=\"C2\", label=r\"$g_0 * g_k$\")\n",
    "axes[1].plot(times, -refractory_spike_resp(times), c=\"C2\", label=r\"$-g_0$\")\n",
    "axes[0].set_ylabel(r\"$h(t)$\")\n",
    "axes[1].set_ylabel(r\"$\\eta(t)$\")\n",
    "axes[1].set_xlabel(r\"$t$\")\n",
    "axes[1].set_xlim(0, period)\n",
    "\n",
    "fig.tight_layout()\n",
    "fig.savefig('spike_responses.pgf')\n",
    "#plt.show()"
   ]
  },
  {
   "cell_type": "code",
   "execution_count": 19,
   "id": "f7683ffd",
   "metadata": {},
   "outputs": [],
   "source": [
    "spike_train_generator = PeriodicSpikeTrainGenerator(firing_rate, abs_refractory_period, rel_refractory_period)"
   ]
  },
  {
   "cell_type": "code",
   "execution_count": 20,
   "id": "d253cb3f",
   "metadata": {},
   "outputs": [
    {
     "data": {
      "application/vnd.jupyter.widget-view+json": {
       "model_id": "c846138e74dd4db88956ba208c3f190c",
       "version_major": 2,
       "version_minor": 0
      },
      "text/plain": [
       "Multi-channel periodic spike train sampling:   0%|          | 0/10000 [00:00<?, ?it/s]"
      ]
     },
     "metadata": {},
     "output_type": "display_data"
    }
   ],
   "source": [
    "for period in [100, 200, 300, 400, 500, 600, 700, 800, 900, 1000]:\n",
    "spike_trains = spike_train_generator.rand(period, 10000)\n",
    "#input_spike_train = spike_train_generator.rand(period)\n",
    "#input_spike_trains = MultiChannelPeriodicSpikeTrain(\n",
    "#    period, \n",
    "#    num_inputs,\n",
    "#    [input_spike_train.firing_times]*num_inputs\n",
    "#)\n"
   ]
  },
  {
   "cell_type": "code",
   "execution_count": 24,
   "id": "7ac76b4f",
   "metadata": {},
   "outputs": [],
   "source": [
    "num_spikes = np.array([spike_train.num_spikes for spike_train in spike_trains.spike_trains])"
   ]
  },
  {
   "cell_type": "code",
   "execution_count": 36,
   "id": "186bac5c",
   "metadata": {},
   "outputs": [
    {
     "data": {
      "image/png": "[encoded data removed]",
      "text/plain": [
       "<Figure size 500x200 with 1 Axes>"
      ]
     },
     "metadata": {},
     "output_type": "display_data"
    }
   ],
   "source": [
    "unique, counts = np.unique(num_spikes, return_counts=True)\n",
    "\n",
    "fig, ax = plt.subplots(1, 1, figsize=(5, 2))\n",
    "ax.bar(unique, counts, color=\"C2\")\n",
    "ax.set_xticks(np.arange(np.min(num_spikes), np.max(num_spikes)+1))\n",
    "plt.show()"
   ]
  },
  {
   "cell_type": "code",
   "execution_count": 37,
   "id": "f029e784",
   "metadata": {},
   "outputs": [],
   "source": []
  },
  {
   "cell_type": "markdown",
   "id": "8579d9c0",
   "metadata": {},
   "source": [
    "# Computing Weights"
   ]
  },
  {
   "cell_type": "code",
   "execution_count": 55,
   "id": "aeaf5287",
   "metadata": {},
   "outputs": [],
   "source": [
    "def compute_spike_train(weights):\n",
    "    spike_train = target_spike_train.copy()\n",
    "    \n",
    "    fun = lambda t_: potential(t_, delays, weights, input_spike_trains) - threshold(t_, spike_train, modulo=False)\n",
    "\n",
    "    ta = spike_train.firing_times[-1] + abs_refractory_period\n",
    "    while(ta < 2*period):\n",
    "        tb = ta + 1\n",
    "        if fun(ta) * fun(tb) <= 0:\n",
    "            t = brentq(fun, ta, tb)\n",
    "            spike_train.append(t)\n",
    "            ta += abs_refractory_period\n",
    "        else:\n",
    "            ta += 1\n",
    "\n",
    "    return spike_train"
   ]
  },
  {
   "cell_type": "code",
   "execution_count": 48,
   "id": "79b4210a",
   "metadata": {},
   "outputs": [],
   "source": [
    "def get_y_z(target_spike_train, input_spike_trains):    \n",
    "    extended_firing_times = np.concatenate([\n",
    "        target_spike_train.firing_times - period,\n",
    "        target_spike_train.firing_times,\n",
    "        target_spike_train.firing_times + period\n",
    "    ])\n",
    "\n",
    "    times = np.arange(0, period, 1e-2)\n",
    "    time_diff = times[:,None] - extended_firing_times[None,:]\n",
    "    mask_slope = np.any(np.abs(time_diff) < 1.0, axis=1)\n",
    "    t_slope = times[mask_slope]\n",
    "    y_slope = np.stack(\n",
    "        [np.sum(\n",
    "            input_spike_resp_deriv(\n",
    "                (t_slope[:,None] - delays[k] - input_spike_trains.spike_trains[k].firing_times[None,:]) % period\n",
    "            ),\n",
    "            axis=1) for k in range(num_inputs)], \n",
    "        axis=1)\n",
    "    z_slope = np.full_like(t_slope, 0.5)\n",
    "\n",
    "    times = np.arange(0, period, 1e-2)\n",
    "    time_diff = times[:,None] - extended_firing_times[None,:]\n",
    "    mask_level_f = np.any((time_diff > -1.0) & (time_diff < 0.0), axis=1)\n",
    "    t_level_f = times[mask_level_f]\n",
    "    y_level_f = np.stack(\n",
    "        [np.sum(\n",
    "            input_spike_resp(\n",
    "                (t_level_f[:,None] - delays[k] - input_spike_trains.spike_trains[k].firing_times[None,:]) % period\n",
    "            ),\n",
    "            axis=1) for k in range(num_inputs)], \n",
    "        axis=1)\n",
    "    z_level_f = firing_threshold - np.sum(\n",
    "        refractory_spike_resp(\n",
    "            (t_level_f[:,None] - target_spike_train.firing_times[None,:]) % period\n",
    "        ), axis=1)\n",
    "\n",
    "    times = np.arange(0, period, 1e-1)\n",
    "    time_diff = times[:,None] - extended_firing_times[None,:]\n",
    "    mask_level = np.all((time_diff > abs_refractory_period) | (time_diff < -1.0), axis=1)\n",
    "    t_level = times[mask_level]\n",
    "    y_level = np.stack(\n",
    "        [np.sum(\n",
    "            input_spike_resp(\n",
    "                (t_level[:,None] - delays[k] - input_spike_trains.spike_trains[k].firing_times[None,:]) % period\n",
    "            ),\n",
    "            axis=1) for k in range(num_inputs)], \n",
    "        axis=1)\n",
    "    z_level = 0.0 - np.sum(\n",
    "        refractory_spike_resp(\n",
    "            (t_level[:,None] - target_spike_train.firing_times[None,:]) % period\n",
    "        ), axis=1)\n",
    "\n",
    "    t_firing = np.copy(target_spike_train.firing_times)\n",
    "    y_firing = np.stack(\n",
    "        [np.sum(\n",
    "            input_spike_resp(\n",
    "                (target_spike_train.firing_times[:,None] - delays[k] - input_spike_trains.spike_trains[k].firing_times[None,:]) % period\n",
    "            ),\n",
    "            axis=1) for k in range(num_inputs)], \n",
    "        axis=1)\n",
    "    z_firing = firing_threshold - np.sum(\n",
    "        refractory_spike_resp(\n",
    "            (target_spike_train.firing_times[:,None] - target_spike_train.firing_times[None,:]) % period\n",
    "        ), axis=1)\n",
    "\n",
    "    return y_firing, z_firing, y_level_f, z_level_f, y_level, z_level, y_slope, z_slope"
   ]
  },
  {
   "cell_type": "code",
   "execution_count": 94,
   "id": "1f4b1047",
   "metadata": {},
   "outputs": [],
   "source": [
    "def solve(y_firing, z_firing, y_level_f, z_level_f, y_level, z_level, y_slope, z_slope):\n",
    "    weights = cp.Variable(num_inputs)\n",
    "    objective = cp.Minimize(cp.norm1(weights))\n",
    "    constraints = [\n",
    "        y_firing @ weights == z_firing, \n",
    "        y_level_f @ weights <= z_level_f, \n",
    "        y_level @ weights <= z_level, \n",
    "        y_slope @ weights >= z_slope,\n",
    "        weights >= wmin,\n",
    "        weights <= wmax\n",
    "    ]\n",
    "    prob = cp.Problem(objective, constraints)\n",
    "    prob.solve(solver=\"GUROBI\")\n",
    "    return prob.status, 1 - np.count_nonzero(weights.value)/num_inputs"
   ]
  },
  {
   "cell_type": "code",
   "execution_count": 101,
   "id": "b387f67b",
   "metadata": {},
   "outputs": [
    {
     "data": {
      "application/vnd.jupyter.widget-view+json": {
       "model_id": "9848b440560441059ea7f81d448f15b2",
       "version_major": 2,
       "version_minor": 0
      },
      "text/plain": [
       "  0%|          | 0/5 [00:00<?, ?it/s]"
      ]
     },
     "metadata": {},
     "output_type": "display_data"
    },
    {
     "name": "stderr",
     "output_type": "stream",
     "text": [
      "/Users/haguettaz/opt/anaconda3/envs/rsnn/lib/python3.10/site-packages/cvxpy/problems/problem.py:1393: UserWarning: \n",
      "    The problem is either infeasible or unbounded, but the solver\n",
      "    cannot tell which. Disable any solver-specific presolve methods\n",
      "    and re-solve to determine the precise problem status.\n",
      "\n",
      "    For GUROBI and CPLEX you can automatically perform this re-solve\n",
      "    with the keyword argument prob.solve(reoptimize=True, ...).\n",
      "    \n",
      "  warnings.warn(INF_OR_UNB_MESSAGE)\n"
     ]
    }
   ],
   "source": [
    "results = []\n",
    "for i in trange(50):\n",
    "    delays = rng.uniform(1.0, 60.0, num_inputs)\n",
    "    for num_neurons in [1, 10, 100]:\n",
    "        target_spike_train = PeriodicSpikeTrain(spike_trains.period, spike_trains.spike_trains[i].firing_times)\n",
    "        input_spike_trains = MultiChannelPeriodicSpikeTrain(\n",
    "            spike_trains.period, \n",
    "            num_inputs,\n",
    "            [spike_trains.spike_trains[(i*100 + k%num_neurons)%10000].firing_times for k in range(num_inputs)]\n",
    "        )\n",
    "        y_firing, z_firing, y_level_f, z_level_f, y_level, z_level, y_slope, z_slope = get_t_y_z(target_spike_train, input_spike_trains)\n",
    "        status, sparsity = solve(y_firing, z_firing, y_level_f, z_level_f, y_level, z_level, y_slope, z_slope)\n",
    "        results.append({\"i\":i, \"num_neurons\":num_neurons, \"status\":status, \"sparsity\":sparsity})"
   ]
  },
  {
   "cell_type": "code",
   "execution_count": 102,
   "id": "1bbbfe73",
   "metadata": {},
   "outputs": [
    {
     "data": {
      "text/plain": [
       "[{'i': 0,\n",
       "  'num_neurons': 1,\n",
       "  'status': 'infeasible_or_unbounded',\n",
       "  'sparsity': 1.0},\n",
       " {'i': 0, 'num_neurons': 10, 'status': 'optimal', 'sparsity': 0.918},\n",
       " {'i': 0, 'num_neurons': 100, 'status': 'optimal', 'sparsity': 0.931},\n",
       " {'i': 1,\n",
       "  'num_neurons': 1,\n",
       "  'status': 'infeasible_or_unbounded',\n",
       "  'sparsity': 1.0},\n",
       " {'i': 1, 'num_neurons': 10, 'status': 'optimal', 'sparsity': 0.866},\n",
       " {'i': 1, 'num_neurons': 100, 'status': 'optimal', 'sparsity': 0.881},\n",
       " {'i': 2,\n",
       "  'num_neurons': 1,\n",
       "  'status': 'optimal',\n",
       "  'sparsity': 0.7010000000000001},\n",
       " {'i': 2, 'num_neurons': 10, 'status': 'optimal', 'sparsity': 0.912},\n",
       " {'i': 2, 'num_neurons': 100, 'status': 'optimal', 'sparsity': 0.91},\n",
       " {'i': 3,\n",
       "  'num_neurons': 1,\n",
       "  'status': 'optimal',\n",
       "  'sparsity': 0.8280000000000001},\n",
       " {'i': 3, 'num_neurons': 10, 'status': 'optimal', 'sparsity': 0.895},\n",
       " {'i': 3, 'num_neurons': 100, 'status': 'optimal', 'sparsity': 0.894},\n",
       " {'i': 4, 'num_neurons': 1, 'status': 'optimal', 'sparsity': 0.76},\n",
       " {'i': 4, 'num_neurons': 10, 'status': 'optimal', 'sparsity': 0.886},\n",
       " {'i': 4, 'num_neurons': 100, 'status': 'optimal', 'sparsity': 0.882}]"
      ]
     },
     "execution_count": 102,
     "metadata": {},
     "output_type": "execute_result"
    }
   ],
   "source": [
    "results"
   ]
  },
  {
   "cell_type": "code",
   "execution_count": 95,
   "id": "0783b8c1",
   "metadata": {},
   "outputs": [],
   "source": [
    "target_spike_train = PeriodicSpikeTrain(spike_trains.period, spike_trains.spike_trains[5].firing_times)\n",
    "input_spike_trains = MultiChannelPeriodicSpikeTrain(\n",
    "    spike_trains.period, \n",
    "    num_inputs,\n",
    "    [spike_trains.spike_trains[452 + k%1].firing_times for k in range(num_inputs)]\n",
    ")"
   ]
  },
  {
   "cell_type": "code",
   "execution_count": 96,
   "id": "66bde13a",
   "metadata": {},
   "outputs": [],
   "source": [
    "y_firing, z_firing, y_level_f, z_level_f, y_level, z_level, y_slope, z_slope = get_t_y_z(target_spike_train, input_spike_trains)"
   ]
  },
  {
   "cell_type": "code",
   "execution_count": 93,
   "id": "0d4f82e5",
   "metadata": {},
   "outputs": [
    {
     "data": {
      "text/plain": [
       "('optimal', 0.104)"
      ]
     },
     "execution_count": 93,
     "metadata": {},
     "output_type": "execute_result"
    }
   ],
   "source": [
    "status, sparsity = solve(y_firing, z_firing, y_level_f, z_level_f, y_level, z_level, y_slope, z_slope)"
   ]
  },
  {
   "cell_type": "markdown",
   "id": "1a7d395c",
   "metadata": {},
   "source": [
    "# 10 Neurons"
   ]
  },
  {
   "cell_type": "code",
   "execution_count": 78,
   "id": "534f827e",
   "metadata": {},
   "outputs": [],
   "source": [
    "target_spike_train = PeriodicSpikeTrain(spike_trains.period, spike_trains.spike_trains[5].firing_times)\n",
    "input_spike_trains = MultiChannelPeriodicSpikeTrain(\n",
    "    spike_trains.period, \n",
    "    num_inputs,\n",
    "    [spike_trains.spike_trains[452 + k%10].firing_times for k in range(num_inputs)]\n",
    ")"
   ]
  },
  {
   "cell_type": "code",
   "execution_count": 79,
   "id": "4b052880",
   "metadata": {},
   "outputs": [],
   "source": [
    "y_firing, z_firing, y_level_f, z_level_f, y_level, z_level, y_slope, z_slope = get_t_y_z(target_spike_train, input_spike_trains)"
   ]
  },
  {
   "cell_type": "code",
   "execution_count": 80,
   "id": "81d553c3",
   "metadata": {},
   "outputs": [],
   "source": [
    "weights = cp.Variable(num_inputs)\n",
    "objective = cp.Minimize(cp.norm1(weights))\n",
    "constraints = [\n",
    "    y_firing @ weights == z_firing, \n",
    "    y_level_f @ weights <= z_level_f, \n",
    "    y_level @ weights <= z_level, \n",
    "    y_slope @ weights >= z_slope,\n",
    "    weights >= wmin,\n",
    "    weights <= wmax\n",
    "]\n",
    "prob = cp.Problem(objective, constraints)"
   ]
  },
  {
   "cell_type": "code",
   "execution_count": 81,
   "id": "1f07aa7a",
   "metadata": {},
   "outputs": [
    {
     "name": "stdout",
     "output_type": "stream",
     "text": [
      "problem is optimal\n"
     ]
    }
   ],
   "source": [
    "_ = prob.solve(solver=\"GUROBI\")\n",
    "print(\"problem is\", prob.status)"
   ]
  },
  {
   "cell_type": "code",
   "execution_count": 82,
   "id": "cc3a66a4",
   "metadata": {},
   "outputs": [
    {
     "name": "stdout",
     "output_type": "stream",
     "text": [
      "sparsity: 0.906000\n",
      "energy: 0.000767\n"
     ]
    }
   ],
   "source": [
    "#spike_train = compute_spike_train(weights.value)\n",
    "#spike_train_ = SpikeTrain(spike_train.firing_times[spike_train.firing_times > period])\n",
    "#corr, lag = single_channel_correlation(target_spike_train, spike_train_, eps=1e-3)\n",
    "#print(f\"spike train similarity: {corr:.3f} (with a lag of {lag:.3f})\" )\n",
    "print(f\"sparsity: {1 - np.count_nonzero(weights.value)/num_inputs:.6f}\")\n",
    "print(f\"energy: {np.sum(np.square(weights.value))/num_inputs:.6f}\")"
   ]
  },
  {
   "cell_type": "markdown",
   "id": "00a978ab",
   "metadata": {},
   "source": [
    "# 100 Neurons"
   ]
  },
  {
   "cell_type": "code",
   "execution_count": 86,
   "id": "8d4c6055",
   "metadata": {},
   "outputs": [],
   "source": [
    "target_spike_train = PeriodicSpikeTrain(spike_trains.period, spike_trains.spike_trains[5].firing_times)\n",
    "input_spike_trains = MultiChannelPeriodicSpikeTrain(\n",
    "    spike_trains.period, \n",
    "    num_inputs,\n",
    "    [spike_trains.spike_trains[452 + k%100].firing_times for k in range(num_inputs)]\n",
    ")"
   ]
  },
  {
   "cell_type": "code",
   "execution_count": 87,
   "id": "9b0e7fa2",
   "metadata": {},
   "outputs": [],
   "source": [
    "y_firing, z_firing, y_level_f, z_level_f, y_level, z_level, y_slope, z_slope = get_t_y_z(target_spike_train, input_spike_trains)"
   ]
  },
  {
   "cell_type": "code",
   "execution_count": 88,
   "id": "3a909d78",
   "metadata": {},
   "outputs": [],
   "source": [
    "weights = cp.Variable(num_inputs)\n",
    "objective = cp.Minimize(cp.norm1(weights))\n",
    "constraints = [\n",
    "    y_firing @ weights == z_firing, \n",
    "    y_level_f @ weights <= z_level_f, \n",
    "    y_level @ weights <= z_level, \n",
    "    y_slope @ weights >= z_slope,\n",
    "    weights >= wmin,\n",
    "    weights <= wmax\n",
    "]\n",
    "prob = cp.Problem(objective, constraints)"
   ]
  },
  {
   "cell_type": "code",
   "execution_count": 89,
   "id": "a28c64f3",
   "metadata": {},
   "outputs": [
    {
     "name": "stdout",
     "output_type": "stream",
     "text": [
      "problem is optimal\n"
     ]
    }
   ],
   "source": [
    "_ = prob.solve(solver=\"GUROBI\")\n",
    "print(\"problem is\", prob.status)"
   ]
  },
  {
   "cell_type": "code",
   "execution_count": 90,
   "id": "26b4f9f5",
   "metadata": {},
   "outputs": [
    {
     "name": "stdout",
     "output_type": "stream",
     "text": [
      "sparsity: 0.896000\n",
      "energy: 0.000861\n"
     ]
    }
   ],
   "source": [
    "#spike_train = compute_spike_train(weights.value)\n",
    "#spike_train_ = SpikeTrain(spike_train.firing_times[spike_train.firing_times > period])\n",
    "#corr, lag = single_channel_correlation(target_spike_train, spike_train_, eps=1e-3)\n",
    "#print(f\"spike train similarity: {corr:.3f} (with a lag of {lag:.3f})\" )\n",
    "print(f\"sparsity: {1 - np.count_nonzero(weights.value)/num_inputs:.6f}\")\n",
    "print(f\"energy: {np.sum(np.square(weights.value))/num_inputs:.6f}\")"
   ]
  },
  {
   "cell_type": "markdown",
   "id": "3479bdff",
   "metadata": {},
   "source": [
    "# Comparison"
   ]
  },
  {
   "cell_type": "code",
   "execution_count": 37,
   "id": "b565a72c",
   "metadata": {},
   "outputs": [],
   "source": [
    "times = np.linspace(0, period, 1000)\n",
    "\n",
    "fig = plt.figure(layout=\"constrained\", figsize=(3.4, 5))\n",
    "subplots = fig.subfigures()\n",
    "\n",
    "axes_template = subplots.subplots(nrows=3, ncols=1, sharex=True)\n",
    "\n",
    "axes_template[0].scatter(np.arange(num_inputs), weights.value, s=2, c=\"C1\", label=\"w/o reg\")\n",
    "axes_template[1].scatter(np.arange(num_inputs), weights_r2.value, s=2, c=\"C2\", label=r\"$\\ell_2$ reg\")\n",
    "axes_template[2].scatter(np.arange(num_inputs), weights_r1.value, s=2, c=\"C3\", label=r\"$\\ell_1$ reg\")\n",
    "\n",
    "axes_template[2].set_xlim(0, num_inputs)\n",
    "axes_template[2].set_xlabel(r\"$k$\")\n",
    "\n",
    "axes_template[0].set_ylim(wmin, wmax)\n",
    "axes_template[0].set_ylabel(r\"$w_k$\")\n",
    "axes_template[1].set_ylim(wmin, wmax)\n",
    "axes_template[1].set_ylabel(r\"$w_k$\")\n",
    "axes_template[2].set_ylim(wmin, wmax)\n",
    "axes_template[2].set_ylabel(r\"$w_k$\")\n",
    "\n",
    "#plt.figlegend(loc='center left', bbox_to_anchor=(1, 0.5))\n",
    "\n",
    "#fig.savefig('weights_reg.pgf')"
   ]
  },
  {
   "cell_type": "code",
   "execution_count": null,
   "id": "8a7cd3a2",
   "metadata": {},
   "outputs": [],
   "source": []
  },
  {
   "cell_type": "code",
   "execution_count": null,
   "id": "2f592d83",
   "metadata": {},
   "outputs": [],
   "source": []
  },
  {
   "cell_type": "code",
   "execution_count": null,
   "id": "17ffef07",
   "metadata": {},
   "outputs": [],
   "source": []
  }
 ],
 "metadata": {
  "kernelspec": {
   "display_name": "Python 3 (ipykernel)",
   "language": "python",
   "name": "python3"
  },
  "language_info": {
   "codemirror_mode": {
    "name": "ipython",
    "version": 3
   },
   "file_extension": ".py",
   "mimetype": "text/x-python",
   "name": "python",
   "nbconvert_exporter": "python",
   "pygments_lexer": "ipython3",
   "version": "3.10.9"
  }
 },
 "nbformat": 4,
 "nbformat_minor": 5
}
