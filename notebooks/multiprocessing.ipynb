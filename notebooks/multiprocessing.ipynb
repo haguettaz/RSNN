{
 "cells": [
  {
   "cell_type": "code",
   "execution_count": 1,
   "id": "c8b06242",
   "metadata": {},
   "outputs": [],
   "source": [
    "import torch\n",
    "import torch.multiprocessing as mp"
   ]
  },
  {
   "cell_type": "code",
   "execution_count": 2,
   "id": "7c3e92e8",
   "metadata": {},
   "outputs": [],
   "source": [
    "from rsnn.spike_sequences.sampling import sample_spike_sequences\n",
    "from rsnn.spike_sequences.template import segment_spike_sequence\n",
    "from rsnn.optimization.utils import compute_observation_matrices\n",
    "from rsnn.optimization.optimization import compute_weights"
   ]
  },
  {
   "cell_type": "code",
   "execution_count": 3,
   "id": "e166b578",
   "metadata": {},
   "outputs": [],
   "source": [
    "L = 100\n",
    "T = 100\n",
    "Tr = 20\n",
    "\n",
    "K = 500\n",
    "\n",
    "wb = 0.1\n",
    "taub = 60\n",
    "a = 1\n",
    "b = 0\n",
    "theta = 1.0\n",
    "\n",
    "Tr = 20\n",
    "beta = 2  # spreading hyperparameter\n",
    "\n",
    "impulse_resp = lambda t_: (t_ >= 0) * t_ / beta * torch.exp(1 - t_ / beta)\n",
    "impulse_resp_deriv = lambda t_: (t_ >= 0) * 1 / beta * (1 - t_ / beta) * torch.exp(1 - t_ / beta)\n",
    "\n",
    "delays = torch.FloatTensor(L, K).uniform_(0, taub)\n",
    "sources = torch.randint(0, L, (L, K))\n",
    "\n",
    "spike_sequences = sample_spike_sequences(L, T, Tr)"
   ]
  },
  {
   "cell_type": "code",
   "execution_count": 4,
   "id": "47ccda22",
   "metadata": {},
   "outputs": [],
   "source": [
    "observation_matrices = []\n",
    "for l in range(L):\n",
    "    segmentation = segment_spike_sequence(spike_sequences[l], Tr, 1)\n",
    "    observation_matrices.append(\n",
    "        compute_observation_matrices(spike_sequences, segmentation, delays[l], sources[l], Tr, impulse_resp, impulse_resp_deriv)\n",
    "    )"
   ]
  },
  {
   "cell_type": "code",
   "execution_count": 14,
   "id": "6394308e",
   "metadata": {},
   "outputs": [
    {
     "name": "stdout",
     "output_type": "stream",
     "text": [
      "18.1 s ± 327 ms per loop (mean ± std. dev. of 7 runs, 1 loop each)\n"
     ]
    }
   ],
   "source": [
    "# %%timeit\n",
    "# weights = torch.empty(L, K)\n",
    "# for l in range(L):\n",
    "#     weights[l] = compute_weights(*observation_matrices[l], wb, theta, a, b)\n",
    "#     \n",
    "# serial took 18.1s for 10 neurons -> 180s for 100 neurons"
   ]
  },
  {
   "cell_type": "code",
   "execution_count": 5,
   "id": "205e338a",
   "metadata": {},
   "outputs": [
    {
     "name": "stdout",
     "output_type": "stream",
     "text": [
      "3min 5s ± 584 ms per loop (mean ± std. dev. of 7 runs, 1 loop each)\n"
     ]
    }
   ],
   "source": [
    "%%timeit\n",
    "manager = mp.Manager()\n",
    "return_dict = manager.dict()\n",
    "jobs = []\n",
    "for l in range(L):\n",
    "    p = mp.Process(target=compute_weights, args=(l, return_dict, *observation_matrices[l], wb, theta, a, b))\n",
    "    jobs.append(p)\n",
    "    p.start()\n",
    "\n",
    "for p in jobs:\n",
    "    p.join()\n",
    "    \n",
    "weights = torch.stack([return_dict[l] for l in range(L)])"
   ]
  },
  {
   "cell_type": "code",
   "execution_count": 11,
   "id": "ab6969c1",
   "metadata": {},
   "outputs": [],
   "source": [
    "# https://pytorch.org/tutorials/intermediate/dist_tuto.html"
   ]
  },
  {
   "cell_type": "code",
   "execution_count": 12,
   "id": "786d9e9f",
   "metadata": {},
   "outputs": [
    {
     "name": "stdout",
     "output_type": "stream",
     "text": [
      "120 µs ± 330 ns per loop (mean ± std. dev. of 7 runs, 10,000 loops each)\n"
     ]
    }
   ],
   "source": [
    "%%timeit \n",
    "a = torch.rand(100, 100)\n",
    "b = torch.rand(100, 100)\n",
    "c = a@b"
   ]
  },
  {
   "cell_type": "code",
   "execution_count": 8,
   "id": "62eacb77",
   "metadata": {},
   "outputs": [],
   "source": [
    "torch.set_num_threads(8)"
   ]
  },
  {
   "cell_type": "code",
   "execution_count": 10,
   "id": "ccabf4b5",
   "metadata": {},
   "outputs": [
    {
     "name": "stdout",
     "output_type": "stream",
     "text": [
      "140 µs ± 2.67 µs per loop (mean ± std. dev. of 7 runs, 10,000 loops each)\n"
     ]
    }
   ],
   "source": [
    "%%timeit \n",
    "a = torch.rand(100, 100)\n",
    "b = torch.rand(100, 100)\n",
    "c = a@b"
   ]
  },
  {
   "cell_type": "code",
   "execution_count": null,
   "id": "066b7c8a",
   "metadata": {},
   "outputs": [],
   "source": []
  }
 ],
 "metadata": {
  "kernelspec": {
   "display_name": "Python 3 (ipykernel)",
   "language": "python",
   "name": "python3"
  },
  "language_info": {
   "codemirror_mode": {
    "name": "ipython",
    "version": 3
   },
   "file_extension": ".py",
   "mimetype": "text/x-python",
   "name": "python",
   "nbconvert_exporter": "python",
   "pygments_lexer": "ipython3",
   "version": "3.8.13"
  }
 },
 "nbformat": 4,
 "nbformat_minor": 5
}
