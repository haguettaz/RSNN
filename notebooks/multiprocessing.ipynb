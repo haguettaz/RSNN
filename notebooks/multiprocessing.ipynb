{
 "cells": [
  {
   "cell_type": "code",
   "execution_count": 1,
   "id": "c8b06242",
   "metadata": {},
   "outputs": [],
   "source": [
    "import torch\n",
    "import torch.multiprocessing as mp"
   ]
  },
  {
   "cell_type": "code",
   "execution_count": 2,
   "id": "0f7018ec",
   "metadata": {},
   "outputs": [],
   "source": [
    "from rsnn.memorization.posterior import update_posterior"
   ]
  },
  {
   "cell_type": "code",
   "execution_count": 3,
   "id": "f4cb7f5f",
   "metadata": {},
   "outputs": [
    {
     "data": {
      "text/plain": [
       "8"
      ]
     },
     "execution_count": 3,
     "metadata": {},
     "output_type": "execute_result"
    }
   ],
   "source": [
    "torch.get_num_threads()"
   ]
  },
  {
   "cell_type": "code",
   "execution_count": 21,
   "id": "1e855202",
   "metadata": {},
   "outputs": [],
   "source": [
    "L = 16\n",
    "\n",
    "Vw = torch.rand(16, 500, 500)\n",
    "mw = torch.rand(16, 500, 1)\n",
    "Vy = torch.rand(16, 50, 500, 500)\n",
    "my = torch.rand(16, 50, 500, 1)\n",
    "\n",
    "Vw1 = Vw.clone()\n",
    "mw1 = mw.clone()"
   ]
  },
  {
   "cell_type": "code",
   "execution_count": 20,
   "id": "5ac74acb",
   "metadata": {},
   "outputs": [
    {
     "data": {
      "text/plain": [
       "(tensor([[[0.0093, 0.0856, 0.8959,  ..., 0.3229, 0.0050, 0.2991],\n",
       "          [0.3757, 0.2950, 0.2390,  ..., 0.7166, 0.9087, 0.2110],\n",
       "          [0.4173, 0.7587, 0.9778,  ..., 0.3732, 0.4460, 0.2493],\n",
       "          ...,\n",
       "          [0.7837, 0.3873, 0.8348,  ..., 0.0890, 0.7380, 0.4008],\n",
       "          [0.1422, 0.1747, 0.8332,  ..., 0.7591, 0.0860, 0.3551],\n",
       "          [0.3824, 0.6763, 0.9244,  ..., 0.4979, 0.2161, 0.5785]],\n",
       " \n",
       "         [[0.5194, 0.2057, 0.8510,  ..., 0.7689, 0.9467, 0.1805],\n",
       "          [0.1786, 0.3745, 0.3979,  ..., 0.7989, 0.9967, 0.1905],\n",
       "          [0.2600, 0.7713, 0.4797,  ..., 0.7473, 0.4611, 0.5668],\n",
       "          ...,\n",
       "          [0.2963, 0.6086, 0.0309,  ..., 0.3520, 0.4640, 0.6138],\n",
       "          [0.2502, 0.2286, 0.8082,  ..., 0.7695, 0.1375, 0.1478],\n",
       "          [0.5059, 0.2397, 0.2012,  ..., 0.9128, 0.6786, 0.8245]],\n",
       " \n",
       "         [[0.8229, 0.5161, 0.1907,  ..., 0.6970, 0.5639, 0.7346],\n",
       "          [0.2317, 0.2327, 0.8215,  ..., 0.0810, 0.7781, 0.2180],\n",
       "          [0.3732, 0.4080, 0.3191,  ..., 0.2696, 0.6907, 0.1237],\n",
       "          ...,\n",
       "          [0.3646, 0.1506, 0.9096,  ..., 0.7011, 0.8451, 0.3686],\n",
       "          [0.3878, 0.7469, 0.9201,  ..., 0.9206, 0.6624, 0.7248],\n",
       "          [0.3166, 0.2348, 0.8857,  ..., 0.4520, 0.1519, 0.5246]],\n",
       " \n",
       "         ...,\n",
       " \n",
       "         [[0.5072, 0.4751, 0.7498,  ..., 0.8448, 0.1281, 0.1676],\n",
       "          [0.2626, 0.3444, 0.5810,  ..., 0.3189, 0.9046, 0.5562],\n",
       "          [0.1758, 0.0616, 0.9603,  ..., 0.9549, 0.0243, 0.5608],\n",
       "          ...,\n",
       "          [0.8339, 0.6234, 0.7219,  ..., 0.8238, 0.3795, 0.1022],\n",
       "          [0.0765, 0.0930, 0.7807,  ..., 0.2915, 0.5177, 0.7934],\n",
       "          [0.6786, 0.6867, 0.9216,  ..., 0.9922, 0.6099, 0.6760]],\n",
       " \n",
       "         [[0.0022, 0.2137, 0.5286,  ..., 0.7604, 0.0273, 0.9746],\n",
       "          [0.8927, 0.8705, 0.1708,  ..., 0.1871, 0.8973, 0.5382],\n",
       "          [0.4014, 0.7061, 0.1869,  ..., 0.0067, 0.0163, 0.0749],\n",
       "          ...,\n",
       "          [0.5246, 0.7351, 0.5793,  ..., 0.0063, 0.0601, 0.2104],\n",
       "          [0.6075, 0.1324, 0.6415,  ..., 0.5309, 0.4116, 0.7443],\n",
       "          [0.1870, 0.8961, 0.1157,  ..., 0.9446, 0.5646, 0.2605]],\n",
       " \n",
       "         [[0.0522, 0.9453, 0.6584,  ..., 0.5299, 0.2150, 0.7709],\n",
       "          [0.9591, 0.5398, 0.7937,  ..., 0.8579, 0.0684, 0.9703],\n",
       "          [0.5373, 0.8506, 0.3664,  ..., 0.6612, 0.4935, 0.7117],\n",
       "          ...,\n",
       "          [0.7507, 0.9431, 0.3881,  ..., 0.2401, 0.2501, 0.7724],\n",
       "          [0.3071, 0.5944, 0.3046,  ..., 0.9363, 0.7744, 0.1663],\n",
       "          [0.5911, 0.7859, 0.3688,  ..., 0.5639, 0.1607, 0.1516]]]),\n",
       " tensor([[[0.3658],\n",
       "          [0.8582],\n",
       "          [0.0156],\n",
       "          ...,\n",
       "          [0.3626],\n",
       "          [0.5000],\n",
       "          [0.0574]],\n",
       " \n",
       "         [[0.5494],\n",
       "          [0.1535],\n",
       "          [0.3143],\n",
       "          ...,\n",
       "          [0.2357],\n",
       "          [0.7855],\n",
       "          [0.6129]],\n",
       " \n",
       "         [[0.7279],\n",
       "          [0.7293],\n",
       "          [0.3300],\n",
       "          ...,\n",
       "          [0.8192],\n",
       "          [0.8921],\n",
       "          [0.4794]],\n",
       " \n",
       "         ...,\n",
       " \n",
       "         [[0.5904],\n",
       "          [0.6166],\n",
       "          [0.4296],\n",
       "          ...,\n",
       "          [0.5256],\n",
       "          [0.0798],\n",
       "          [0.1483]],\n",
       " \n",
       "         [[0.0615],\n",
       "          [0.2473],\n",
       "          [0.7037],\n",
       "          ...,\n",
       "          [0.8855],\n",
       "          [0.1168],\n",
       "          [0.3876]],\n",
       " \n",
       "         [[0.9361],\n",
       "          [0.0273],\n",
       "          [0.7864],\n",
       "          ...,\n",
       "          [0.0970],\n",
       "          [0.2561],\n",
       "          [0.3981]]]))"
      ]
     },
     "execution_count": 20,
     "metadata": {},
     "output_type": "execute_result"
    }
   ],
   "source": [
    "processes = []\n",
    "for l in range(L):\n",
    "    p = mp.Process(target=update, args=(Vw1[l], mw1[l], Vy[l], my[l]))\n",
    "    p.start()\n",
    "    processes.append(p)\n",
    "    \n",
    "for p in processes:\n",
    "    p.join()\n",
    "\n",
    "Vw1, mw1"
   ]
  },
  {
   "cell_type": "code",
   "execution_count": null,
   "id": "7df03a72",
   "metadata": {},
   "outputs": [],
   "source": [
    "Vw"
   ]
  },
  {
   "cell_type": "code",
   "execution_count": 11,
   "id": "205e9416",
   "metadata": {},
   "outputs": [
    {
     "data": {
      "text/plain": [
       "tensor([[[inf, inf, inf,  ..., inf, inf, inf],\n",
       "         [inf, inf, inf,  ..., inf, inf, inf],\n",
       "         [inf, inf, inf,  ..., inf, inf, inf],\n",
       "         ...,\n",
       "         [inf, inf, inf,  ..., inf, inf, inf],\n",
       "         [inf, inf, inf,  ..., inf, inf, inf],\n",
       "         [inf, inf, inf,  ..., inf, inf, inf]],\n",
       "\n",
       "        [[nan, nan, nan,  ..., nan, nan, nan],\n",
       "         [nan, nan, nan,  ..., nan, nan, nan],\n",
       "         [nan, nan, nan,  ..., nan, nan, nan],\n",
       "         ...,\n",
       "         [nan, nan, nan,  ..., nan, nan, nan],\n",
       "         [nan, nan, nan,  ..., nan, nan, nan],\n",
       "         [nan, nan, nan,  ..., nan, nan, nan]],\n",
       "\n",
       "        [[nan, nan, nan,  ..., nan, nan, nan],\n",
       "         [nan, nan, nan,  ..., nan, nan, nan],\n",
       "         [nan, nan, nan,  ..., nan, nan, nan],\n",
       "         ...,\n",
       "         [nan, nan, nan,  ..., nan, nan, nan],\n",
       "         [nan, nan, nan,  ..., nan, nan, nan],\n",
       "         [nan, nan, nan,  ..., nan, nan, nan]],\n",
       "\n",
       "        ...,\n",
       "\n",
       "        [[nan, nan, nan,  ..., nan, nan, nan],\n",
       "         [nan, nan, nan,  ..., nan, nan, nan],\n",
       "         [nan, nan, nan,  ..., nan, nan, nan],\n",
       "         ...,\n",
       "         [nan, nan, nan,  ..., nan, nan, nan],\n",
       "         [nan, nan, nan,  ..., nan, nan, nan],\n",
       "         [nan, nan, nan,  ..., nan, nan, nan]],\n",
       "\n",
       "        [[inf, inf, inf,  ..., inf, inf, inf],\n",
       "         [inf, inf, inf,  ..., inf, inf, inf],\n",
       "         [inf, inf, inf,  ..., inf, inf, inf],\n",
       "         ...,\n",
       "         [inf, inf, inf,  ..., inf, inf, inf],\n",
       "         [inf, inf, inf,  ..., inf, inf, inf],\n",
       "         [inf, inf, inf,  ..., inf, inf, inf]],\n",
       "\n",
       "        [[inf, inf, inf,  ..., inf, inf, inf],\n",
       "         [inf, inf, inf,  ..., inf, inf, inf],\n",
       "         [inf, inf, inf,  ..., inf, inf, inf],\n",
       "         ...,\n",
       "         [inf, inf, inf,  ..., inf, inf, inf],\n",
       "         [inf, inf, inf,  ..., inf, inf, inf],\n",
       "         [inf, inf, inf,  ..., inf, inf, inf]]])"
      ]
     },
     "execution_count": 11,
     "metadata": {},
     "output_type": "execute_result"
    }
   ],
   "source": [
    "N = Vy.size(1)\n",
    "for n in range(N):\n",
    "    Vw = Vw + Vy[:, n] @ Vw @ Vy[:, n].mT\n",
    "    mw = mw + Vy[:, n] @ Vw @ my[:, n]\n",
    "    \n",
    "Vw"
   ]
  },
  {
   "cell_type": "code",
   "execution_count": null,
   "id": "ef0b3325",
   "metadata": {},
   "outputs": [],
   "source": []
  },
  {
   "cell_type": "code",
   "execution_count": 22,
   "id": "feac365b",
   "metadata": {},
   "outputs": [
    {
     "name": "stdout",
     "output_type": "stream",
     "text": [
      "20.7 s ± 275 ms per loop (mean ± std. dev. of 7 runs, 1 loop each)\n"
     ]
    }
   ],
   "source": [
    "%%timeit \n",
    "torch.set_num_threads(2)\n",
    "a = torch.rand(8, 2500, 5000)\n",
    "b = torch.rand(8, 5000, 7500)\n",
    "c = torch.bmm(a, b)"
   ]
  },
  {
   "cell_type": "code",
   "execution_count": 23,
   "id": "902179a1",
   "metadata": {},
   "outputs": [
    {
     "name": "stdout",
     "output_type": "stream",
     "text": [
      "12.5 s ± 233 ms per loop (mean ± std. dev. of 7 runs, 1 loop each)\n"
     ]
    }
   ],
   "source": [
    "%%timeit \n",
    "torch.set_num_threads(4)\n",
    "a = torch.rand(8, 2500, 5000)\n",
    "b = torch.rand(8, 5000, 7500)\n",
    "c = torch.bmm(a, b)"
   ]
  },
  {
   "cell_type": "code",
   "execution_count": 24,
   "id": "5af483dc",
   "metadata": {},
   "outputs": [
    {
     "name": "stdout",
     "output_type": "stream",
     "text": [
      "10.1 s ± 41.7 ms per loop (mean ± std. dev. of 7 runs, 1 loop each)\n"
     ]
    }
   ],
   "source": [
    "%%timeit\n",
    "torch.set_num_threads(8)\n",
    "a = torch.rand(8, 2500, 5000)\n",
    "b = torch.rand(8, 5000, 7500)\n",
    "c = torch.bmm(a, b)"
   ]
  },
  {
   "cell_type": "code",
   "execution_count": null,
   "id": "736182a3",
   "metadata": {},
   "outputs": [],
   "source": []
  }
 ],
 "metadata": {
  "kernelspec": {
   "display_name": "Python 3 (ipykernel)",
   "language": "python",
   "name": "python3"
  },
  "language_info": {
   "codemirror_mode": {
    "name": "ipython",
    "version": 3
   },
   "file_extension": ".py",
   "mimetype": "text/x-python",
   "name": "python",
   "nbconvert_exporter": "python",
   "pygments_lexer": "ipython3",
   "version": "3.8.13"
  }
 },
 "nbformat": 4,
 "nbformat_minor": 5
}
