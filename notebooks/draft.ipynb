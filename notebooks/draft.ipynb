{
 "cells": [
  {
   "cell_type": "code",
   "execution_count": 15,
   "id": "29243bd3",
   "metadata": {},
   "outputs": [],
   "source": [
    "import numpy as np\n",
    "from scipy import sparse\n",
    "import os\n",
    "from tqdm import trange\n",
    "import matplotlib.pyplot as plt"
   ]
  },
  {
   "cell_type": "code",
   "execution_count": 6,
   "id": "ffa5f92b",
   "metadata": {},
   "outputs": [],
   "source": [
    "from rsnn.utils.analysis import get_phis\n",
    "from rsnn.utils.utils import load_object_from_file"
   ]
  },
  {
   "cell_type": "code",
   "execution_count": 3,
   "id": "f1035aca",
   "metadata": {},
   "outputs": [],
   "source": [
    "A = np.identity"
   ]
  },
  {
   "cell_type": "code",
   "execution_count": 81,
   "id": "e49136f8",
   "metadata": {},
   "outputs": [],
   "source": [
    "N = 1000\n",
    "A = sparse.diags_array(np.ones(N-1), offsets=-1).tocsc()"
   ]
  },
  {
   "cell_type": "code",
   "execution_count": 82,
   "id": "1f14edd8",
   "metadata": {},
   "outputs": [
    {
     "name": "stdout",
     "output_type": "stream",
     "text": [
      "88.1 µs ± 515 ns per loop (mean ± std. dev. of 7 runs, 10,000 loops each)\n"
     ]
    }
   ],
   "source": [
    "%timeit A[0] = np.random.normal(size=N)"
   ]
  },
  {
   "cell_type": "code",
   "execution_count": 83,
   "id": "533c7e53",
   "metadata": {},
   "outputs": [
    {
     "name": "stdout",
     "output_type": "stream",
     "text": [
      "69.4 µs ± 408 ns per loop (mean ± std. dev. of 7 runs, 10,000 loops each)\n"
     ]
    }
   ],
   "source": [
    "%timeit A@A"
   ]
  },
  {
   "cell_type": "code",
   "execution_count": 84,
   "id": "d9ca541f",
   "metadata": {},
   "outputs": [],
   "source": [
    "N = 1000\n",
    "A = sparse.diags_array(np.ones(N-1), offsets=-1).tolil()"
   ]
  },
  {
   "cell_type": "code",
   "execution_count": 85,
   "id": "19eb1b0f",
   "metadata": {},
   "outputs": [
    {
     "name": "stdout",
     "output_type": "stream",
     "text": [
      "161 µs ± 339 ns per loop (mean ± std. dev. of 7 runs, 10,000 loops each)\n"
     ]
    }
   ],
   "source": [
    "%timeit A[0] = np.random.normal(size=N)"
   ]
  },
  {
   "cell_type": "code",
   "execution_count": 86,
   "id": "e2b431e1",
   "metadata": {},
   "outputs": [
    {
     "name": "stdout",
     "output_type": "stream",
     "text": [
      "172 µs ± 321 ns per loop (mean ± std. dev. of 7 runs, 10,000 loops each)\n"
     ]
    }
   ],
   "source": [
    "%timeit A@A"
   ]
  },
  {
   "cell_type": "code",
   "execution_count": 87,
   "id": "b1969c07",
   "metadata": {},
   "outputs": [],
   "source": [
    "N = 1000\n",
    "A = sparse.diags_array(np.ones(N-1), offsets=-1).toarray()"
   ]
  },
  {
   "cell_type": "code",
   "execution_count": 88,
   "id": "005ad9c5",
   "metadata": {},
   "outputs": [
    {
     "name": "stdout",
     "output_type": "stream",
     "text": [
      "27.1 µs ± 64.4 ns per loop (mean ± std. dev. of 7 runs, 10,000 loops each)\n"
     ]
    }
   ],
   "source": [
    "%timeit A[0] = np.random.normal(size=N)"
   ]
  },
  {
   "cell_type": "code",
   "execution_count": 89,
   "id": "811effd5",
   "metadata": {},
   "outputs": [
    {
     "name": "stdout",
     "output_type": "stream",
     "text": [
      "34.1 ms ± 1.04 ms per loop (mean ± std. dev. of 7 runs, 10 loops each)\n"
     ]
    }
   ],
   "source": [
    "%timeit A@A"
   ]
  },
  {
   "cell_type": "code",
   "execution_count": null,
   "id": "1b9adcfd",
   "metadata": {},
   "outputs": [],
   "source": []
  },
  {
   "cell_type": "code",
   "execution_count": 113,
   "id": "a728824b",
   "metadata": {},
   "outputs": [],
   "source": [
    "Phi = np.random.normal(size=(N,N))\n",
    "Phi = Phi / np.sum(Phi, axis=1, keepdims=True)\n",
    "eigvals = np.linalg.eigvals(Phi)\n",
    "np.topnp.abs(eigvals)"
   ]
  },
  {
   "cell_type": "code",
   "execution_count": 103,
   "id": "c0b31323",
   "metadata": {},
   "outputs": [
    {
     "name": "stdout",
     "output_type": "stream",
     "text": [
      "88 ms ± 671 µs per loop (mean ± std. dev. of 7 runs, 10 loops each)\n"
     ]
    }
   ],
   "source": [
    "%%timeit\n",
    "N = 200\n",
    "A = np.diag(np.ones(N-1),-1)\n",
    "Phi = np.identity(N)\n",
    "\n",
    "for m in range(N):\n",
    "    A[0] = np.random.normal(size=N)\n",
    "    A[0] /= np.sum(A[0])\n",
    "    Phi = A@Phi"
   ]
  },
  {
   "cell_type": "code",
   "execution_count": 104,
   "id": "e03a3abb",
   "metadata": {},
   "outputs": [
    {
     "name": "stdout",
     "output_type": "stream",
     "text": [
      "20.8 ms ± 80.6 µs per loop (mean ± std. dev. of 7 runs, 10 loops each)\n"
     ]
    }
   ],
   "source": [
    "%%timeit\n",
    "N = 200\n",
    "A = sparse.diags_array(np.ones(N-1), offsets=-1).tocsc()\n",
    "Phi = np.identity(N)\n",
    "\n",
    "for m in range(N):\n",
    "    r = np.random.normal(size=N)\n",
    "    r /= r.sum()\n",
    "    A[0] = r\n",
    "    Phi = A@Phi"
   ]
  },
  {
   "cell_type": "code",
   "execution_count": null,
   "id": "1efb51ca",
   "metadata": {},
   "outputs": [],
   "source": []
  },
  {
   "cell_type": "code",
   "execution_count": null,
   "id": "5fbe624a",
   "metadata": {},
   "outputs": [],
   "source": []
  },
  {
   "cell_type": "code",
   "execution_count": 70,
   "id": "53ded9f5",
   "metadata": {},
   "outputs": [],
   "source": [
    "exp_dir = os.path.join(\"..\",\"scripts\",\"temporal_stability\",\"data\",\"100_400_10_10_20\", \"exp_0\")\n",
    "\n",
    "spike_trains = load_object_from_file(os.path.join(exp_dir, \"spike_trains.pkl\"))\n",
    "network = load_object_from_file(os.path.join(exp_dir, \"network_0.pkl\"))"
   ]
  },
  {
   "cell_type": "code",
   "execution_count": 77,
   "id": "37f7cf8c",
   "metadata": {},
   "outputs": [
    {
     "data": {
      "text/plain": [
       "array([[0.        ],\n",
       "       [0.99426591],\n",
       "       [0.65461073],\n",
       "       [0.32323989],\n",
       "       [0.14187774],\n",
       "       [0.05838145],\n",
       "       [0.02306252],\n",
       "       [0.00885735],\n",
       "       [0.00333232],\n",
       "       [0.0012341 ]])"
      ]
     },
     "execution_count": 77,
     "metadata": {},
     "output_type": "execute_result"
    }
   ],
   "source": [
    "t = np.linspace(0,10,10).reshape(-1,1)\n",
    "it = np.arange(2).reshape(1,-1)\n",
    "network.neurons[0].input_kernel(t)"
   ]
  },
  {
   "cell_type": "code",
   "execution_count": 72,
   "id": "ad7a0cb2",
   "metadata": {},
   "outputs": [
    {
     "data": {
      "text/plain": [
       "([0.27657094746702204,\n",
       "  0.11831001637011647,\n",
       "  0.12215007908852503,\n",
       "  0.11047481720949602,\n",
       "  0.09893901038837587,\n",
       "  0.09835836032074957,\n",
       "  0.11176721962102952,\n",
       "  0.10132903609157683],\n",
       " [0.3987795368718522,\n",
       "  0.14073764096439728,\n",
       "  0.14499502272834683,\n",
       "  0.13462949210309483,\n",
       "  0.14193861592283633,\n",
       "  0.13570128543841573,\n",
       "  0.13156181960639254,\n",
       "  0.13552746449581085])"
      ]
     },
     "execution_count": 72,
     "metadata": {},
     "output_type": "execute_result"
    }
   ],
   "source": [
    "network.recall, network.precision"
   ]
  },
  {
   "cell_type": "code",
   "execution_count": 34,
   "id": "317c5bd7",
   "metadata": {},
   "outputs": [],
   "source": [
    "def get_phis(neurons, firing_times, period):\n",
    "    flat_neurons = [neuron for neuron in neurons for _ in firing_times[neuron.idx]] \n",
    "    flat_firing_times = np.concatenate(firing_times)\n",
    "    \n",
    "    indices = np.argsort(flat_firing_times)\n",
    "\n",
    "    M = len(flat_firing_times)\n",
    "    # N = len(flat_firing_times)  # TODO: adapt the number of last spikes to consider\n",
    "\n",
    "    Phi = np.identity(M)\n",
    "    A = np.zeros((M, M))\n",
    "    A[1:, :-1] = np.identity(M - 1)\n",
    "\n",
    "    for m in trange(M): # at firing time s_m\n",
    "        neuron = flat_neurons[indices[m]]\n",
    "\n",
    "        # current spike is spikes[N + m]\n",
    "        for n in range(M):\n",
    "            select = neuron.sources == flat_neurons[indices[(m - n - 1)%M]].idx\n",
    "            A[0, n] = np.sum(neuron.weights[select] * neuron.input_kernel_prime((flat_firing_times[indices[m]] - flat_firing_times[indices[(m - n - 1)%M]] - neuron.delays[select])%period))\n",
    "            # if neuron.idx == flat_neurons[indices[(m - n - 1)%M]].idx:\n",
    "            #     A[0, n] -= neuron.refractory_kernel_prime((flat_firing_times[indices[m]] - flat_firing_times[indices[(m - n - 1)%M]])%period)\n",
    "\n",
    "        A[0] /= np.sum(A[0])\n",
    "        Phi = A @ Phi\n",
    "\n",
    "    # return -np.sort(-np.abs(np.linalg.eigvals(Phi)))\n",
    "    return np.linalg.eigvals(Phi)"
   ]
  },
  {
   "cell_type": "code",
   "execution_count": 35,
   "id": "0d89ff45",
   "metadata": {},
   "outputs": [
    {
     "name": "stderr",
     "output_type": "stream",
     "text": [
      "100%|███████████████████████████████████████████████████████████████████████████████████████████████████████████████████████████████████████████████████████████████████████████████████████████████████████████████████████████████████████| 863/863 [00:34<00:00, 24.67it/s]\n"
     ]
    }
   ],
   "source": [
    "network.phis = get_phis(network.neurons, spike_trains, 50)"
   ]
  },
  {
   "cell_type": "code",
   "execution_count": 36,
   "id": "e26e2298",
   "metadata": {},
   "outputs": [
    {
     "data": {
      "text/plain": [
       "array([ 193.5910525 +0.j, -185.20601372+0.j,   41.83229441+0.j])"
      ]
     },
     "execution_count": 36,
     "metadata": {},
     "output_type": "execute_result"
    }
   ],
   "source": [
    "network.phis[:3]"
   ]
  },
  {
   "cell_type": "code",
   "execution_count": 17,
   "id": "9d6f1f23",
   "metadata": {},
   "outputs": [],
   "source": [
    "period = 50\n",
    "flat_neurons = [neuron for neuron in network.neurons for _ in spike_trains[neuron.idx]] \n",
    "flat_firing_times = np.concatenate(spike_trains)\n",
    "\n",
    "indices = np.argsort(flat_firing_times)\n",
    "\n",
    "M = len(flat_firing_times)\n",
    "# N = len(flat_firing_times)  # TODO: adapt the number of last spikes to consider\n",
    "\n",
    "Phi = np.identity(M)\n",
    "A = np.zeros((M, M))\n",
    "A[1:, :-1] = np.identity(M - 1)\n",
    "\n",
    "neuron = flat_neurons[indices[0]]\n",
    "\n",
    "# current spike is spikes[N + m]\n",
    "for n in range(M):\n",
    "    select = neuron.sources == flat_neurons[indices[(0 - n - 1)%M]].idx\n",
    "    A[0, n] = np.sum(neuron.weights[select] * neuron.input_kernel_prime((flat_firing_times[indices[0]] - flat_firing_times[indices[(0 - n - 1)%M]] - neuron.delays[select])%period))\n",
    "    # if neuron.idx == flat_neurons[indices[(m - n - 1)%M]].idx:\n",
    "    #     A[0, n] -= neuron.refractory_kernel_prime((flat_firing_times[indices[m]] - flat_firing_times[indices[(m - n - 1)%M]])%period)\n",
    "\n",
    "A[0] /= np.sum(A[0])"
   ]
  },
  {
   "cell_type": "code",
   "execution_count": 23,
   "id": "4ce92c83",
   "metadata": {},
   "outputs": [
    {
     "data": {
      "text/plain": [
       "0.0022799015533675544"
      ]
     },
     "execution_count": 23,
     "metadata": {},
     "output_type": "execute_result"
    }
   ],
   "source": [
    "np.count_nonzero(A) /(M**2)"
   ]
  },
  {
   "cell_type": "code",
   "execution_count": 29,
   "id": "f91cbc3e",
   "metadata": {},
   "outputs": [
    {
     "data": {
      "text/plain": [
       "0.0017790751226219137"
      ]
     },
     "execution_count": 29,
     "metadata": {},
     "output_type": "execute_result"
    }
   ],
   "source": [
    "A_approx = np.round(A, 9)\n",
    "np.count_nonzero(A_approx) /(M**2)"
   ]
  },
  {
   "cell_type": "code",
   "execution_count": 32,
   "id": "71c4db0c",
   "metadata": {},
   "outputs": [
    {
     "data": {
      "text/plain": [
       "210"
      ]
     },
     "execution_count": 32,
     "metadata": {},
     "output_type": "execute_result"
    }
   ],
   "source": [
    "(A_approx < 0).sum()"
   ]
  },
  {
   "cell_type": "code",
   "execution_count": null,
   "id": "e9186555",
   "metadata": {},
   "outputs": [],
   "source": [
    "def get_phis(neurons, firing_times, period):\n",
    "    flat_neurons = [neuron for neuron in neurons for _ in firing_times[neuron.idx]] \n",
    "    flat_firing_times = np.concatenate(firing_times)\n",
    "    \n",
    "    indices = np.argsort(flat_firing_times)\n",
    "\n",
    "    M = len(flat_firing_times)\n",
    "    # N = len(flat_firing_times)  # TODO: adapt the number of last spikes to consider\n",
    "\n",
    "    Phi = np.identity(M)\n",
    "    A = np.zeros((M, M))\n",
    "    A[1:, :-1] = np.identity(M - 1)\n",
    "\n",
    "    for m in trange(M): # at firing time s_m\n",
    "        neuron = flat_neurons[indices[m]]\n",
    "\n",
    "        # current spike is spikes[N + m]\n",
    "        for n in range(M):\n",
    "            select = neuron.sources == flat_neurons[indices[(m - n - 1)%M]].idx\n",
    "            A[0, n] = np.sum(neuron.weights[select] * neuron.input_kernel_prime((flat_firing_times[indices[m]] - flat_firing_times[indices[(m - n - 1)%M]] - neuron.delays[select])%period))\n",
    "            # if neuron.idx == flat_neurons[indices[(m - n - 1)%M]].idx:\n",
    "            #     A[0, n] -= neuron.refractory_kernel_prime((flat_firing_times[indices[m]] - flat_firing_times[indices[(m - n - 1)%M]])%period)\n",
    "\n",
    "        A[0] /= np.sum(A[0])\n",
    "        Phi = A @ Phi\n",
    "\n",
    "    # return -np.sort(-np.abs(np.linalg.eigvals(Phi)))\n",
    "    return np.linalg.eigvals(Phi)"
   ]
  }
 ],
 "metadata": {
  "kernelspec": {
   "display_name": "Python 3 (ipykernel)",
   "language": "python",
   "name": "python3"
  },
  "language_info": {
   "codemirror_mode": {
    "name": "ipython",
    "version": 3
   },
   "file_extension": ".py",
   "mimetype": "text/x-python",
   "name": "python",
   "nbconvert_exporter": "python",
   "pygments_lexer": "ipython3",
   "version": "3.10.13"
  }
 },
 "nbformat": 4,
 "nbformat_minor": 5
}
