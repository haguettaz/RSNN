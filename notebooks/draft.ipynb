{
 "cells": [
  {
   "cell_type": "code",
   "execution_count": 13,
   "id": "51ae6f34",
   "metadata": {},
   "outputs": [],
   "source": [
    "import math \n",
    "import numpy as np\n",
    "from matplotlib import pyplot as plt\n",
    "import seaborn as sns\n",
    "import pandas as pd\n",
    "from matplotlib.gridspec import GridSpec\n",
    "from scipy.optimize import brentq, newton\n",
    "\n",
    "import gurobipy as gp\n",
    "from gurobipy import GRB\n",
    "\n",
    "from tqdm.notebook import trange"
   ]
  },
  {
   "cell_type": "code",
   "execution_count": 27,
   "id": "d790246c",
   "metadata": {},
   "outputs": [
    {
     "name": "stdout",
     "output_type": "stream",
     "text": [
      "Set parameter NonConvex to value 2\n",
      "Gurobi Optimizer version 10.0.2 build v10.0.2rc0 (mac64[rosetta2])\n",
      "\n",
      "CPU model: Apple M1\n",
      "Thread count: 8 physical cores, 8 logical processors, using up to 8 threads\n",
      "\n",
      "Optimize a model with 4 rows, 3 columns and 12 nonzeros\n",
      "Model fingerprint: 0xfd22075f\n",
      "Model has 1 quadratic objective term\n",
      "Coefficient statistics:\n",
      "  Matrix range     [1e+00, 1e+00]\n",
      "  Objective range  [2e-01, 1e+00]\n",
      "  QObjective range [2e+00, 2e+00]\n",
      "  Bounds range     [1e+00, 1e+00]\n",
      "  RHS range        [2e+00, 2e+00]\n",
      "\n",
      "Continuous model is non-convex -- solving as a MIP\n",
      "\n",
      "Found heuristic solution: objective -0.5000000\n",
      "Presolve removed 3 rows and 0 columns\n",
      "Presolve time: 0.00s\n",
      "Presolved: 2 rows, 4 columns, 5 nonzeros\n",
      "Presolved model has 1 bilinear constraint(s)\n",
      "Variable types: 4 continuous, 0 integer (0 binary)\n",
      "\n",
      "Root relaxation: cutoff, 0 iterations, 0.00 seconds (0.00 work units)\n",
      "\n",
      "Explored 1 nodes (0 simplex iterations) in 0.01 seconds (0.00 work units)\n",
      "Thread count was 8 (of 8 available processors)\n",
      "\n",
      "Solution count 1: -0.5 \n",
      "\n",
      "Optimal solution found (tolerance 1.00e-04)\n",
      "Best objective -5.000000000000e-01, best bound -5.000000000000e-01, gap 0.0000%\n"
     ]
    },
    {
     "data": {
      "text/plain": [
       "(True, array([0., 0., 0.]))"
      ]
     },
     "execution_count": 27,
     "metadata": {},
     "output_type": "execute_result"
    }
   ],
   "source": [
    "y = np.array([0.3, 0.4])\n",
    "\n",
    "A = np.array([[1,1,1],[-1,-1,1],[-1,1,-1],[1,-1,-1]])\n",
    "b = np.array([2,0,0,0])\n",
    "xrep = np.full(3, 0.5)\n",
    "\n",
    "model = gp.Model()\n",
    "model.Params.NonConvex = 2\n",
    "\n",
    "# Create variables\n",
    "xgp = model.addMVar(shape=3, lb=0, ub=1)\n",
    "\n",
    "# Set objective\n",
    "objective = (xgp[:2] - y)@(xgp[:2] - y) - (xgp - xrep)@(xgp - xrep)\n",
    "model.setObjective(objective, GRB.MINIMIZE)\n",
    "\n",
    "# Add constraints\n",
    "model.addConstr(A @ xgp <= b)\n",
    "\n",
    "# Optimize model\n",
    "model.optimize();\n",
    "\n",
    "model.status == 2, xgp.x"
   ]
  },
  {
   "cell_type": "code",
   "execution_count": 26,
   "id": "c460a70e",
   "metadata": {},
   "outputs": [
    {
     "name": "stdout",
     "output_type": "stream",
     "text": [
      "Gurobi Optimizer version 10.0.2 build v10.0.2rc0 (mac64[rosetta2])\n",
      "\n",
      "CPU model: Apple M1\n",
      "Thread count: 8 physical cores, 8 logical processors, using up to 8 threads\n",
      "\n",
      "Optimize a model with 4 rows, 3 columns and 12 nonzeros\n",
      "Model fingerprint: 0x16e8ed49\n",
      "Model has 2 quadratic objective terms\n",
      "Variable types: 0 continuous, 3 integer (3 binary)\n",
      "Coefficient statistics:\n",
      "  Matrix range     [1e+00, 1e+00]\n",
      "  Objective range  [6e-01, 8e-01]\n",
      "  QObjective range [2e+00, 2e+00]\n",
      "  Bounds range     [1e+00, 1e+00]\n",
      "  RHS range        [2e+00, 2e+00]\n",
      "Found heuristic solution: objective 0.2500000\n",
      "Presolve removed 3 rows and 0 columns\n",
      "Presolve time: 0.00s\n",
      "Presolved: 1 rows, 3 columns, 3 nonzeros\n",
      "Variable types: 0 continuous, 3 integer (3 binary)\n",
      "\n",
      "Explored 0 nodes (0 simplex iterations) in 0.02 seconds (0.00 work units)\n",
      "Thread count was 8 (of 8 available processors)\n",
      "\n",
      "Solution count 1: 0.25 \n",
      "\n",
      "Optimal solution found (tolerance 1.00e-04)\n",
      "Best objective 2.500000000000e-01, best bound 2.500000000000e-01, gap 0.0000%\n"
     ]
    },
    {
     "data": {
      "text/plain": [
       "(True, array([-0., -0., -0.]))"
      ]
     },
     "execution_count": 26,
     "metadata": {},
     "output_type": "execute_result"
    }
   ],
   "source": [
    "y = np.array([0.3, 0.4])\n",
    "\n",
    "A = np.array([[1,1,1],[-1,-1,1],[-1,1,-1],[1,-1,-1]])\n",
    "b = np.array([2,0,0,0])\n",
    "\n",
    "model = gp.Model()\n",
    "\n",
    "# Create variables\n",
    "xgp = model.addMVar(shape=3, lb=0, ub=1, vtype=GRB.BINARY)\n",
    "\n",
    "# Set objective\n",
    "objective = (xgp[:2] - y)@(xgp[:2] - y)\n",
    "model.setObjective(objective, GRB.MINIMIZE)\n",
    "\n",
    "# Add constraints\n",
    "model.addConstr(A @ xgp <= b)\n",
    "\n",
    "# Optimize model\n",
    "model.optimize();\n",
    "\n",
    "model.status == 2, xgp.x"
   ]
  },
  {
   "cell_type": "code",
   "execution_count": null,
   "id": "5060b9cc",
   "metadata": {},
   "outputs": [],
   "source": []
  }
 ],
 "metadata": {
  "kernelspec": {
   "display_name": "Python 3 (ipykernel)",
   "language": "python",
   "name": "python3"
  },
  "language_info": {
   "codemirror_mode": {
    "name": "ipython",
    "version": 3
   },
   "file_extension": ".py",
   "mimetype": "text/x-python",
   "name": "python",
   "nbconvert_exporter": "python",
   "pygments_lexer": "ipython3",
   "version": "3.10.9"
  }
 },
 "nbformat": 4,
 "nbformat_minor": 5
}
