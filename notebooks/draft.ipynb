{
 "cells": [
  {
   "cell_type": "code",
   "execution_count": 1,
   "id": "7815418c",
   "metadata": {},
   "outputs": [],
   "source": [
    "import numpy as np\n",
    "import matplotlib.pyplot as plt\n",
    "import random"
   ]
  },
  {
   "cell_type": "code",
   "execution_count": 2,
   "id": "5ed0a7bc",
   "metadata": {},
   "outputs": [
    {
     "name": "stderr",
     "output_type": "stream",
     "text": [
      "/Users/haguettaz/Documents/RSNN/src/rsnn/signals/spike_train.py:6: TqdmExperimentalWarning: Using `tqdm.autonotebook.tqdm` in notebook mode. Use `tqdm.tqdm` instead to force console mode (e.g. in jupyter console)\n",
      "  from tqdm.autonotebook import trange\n"
     ]
    }
   ],
   "source": [
    "from rsnn.signals.spike_train import SpikeTrain, PeriodicSpikeTrain"
   ]
  },
  {
   "cell_type": "code",
   "execution_count": 18,
   "id": "27485fa3",
   "metadata": {},
   "outputs": [
    {
     "ename": "TypeError",
     "evalue": "unsupported operand type(s) for /: 'list' and 'int'",
     "output_type": "error",
     "traceback": [
      "\u001b[0;31m---------------------------------------------------------------------------\u001b[0m",
      "\u001b[0;31mTypeError\u001b[0m                                 Traceback (most recent call last)",
      "Cell \u001b[0;32mIn[18], line 1\u001b[0m\n\u001b[0;32m----> 1\u001b[0m \u001b[43m[\u001b[49m\u001b[38;5;241;43m3\u001b[39;49m\u001b[43m,\u001b[49m\u001b[43m \u001b[49m\u001b[38;5;241;43m4\u001b[39;49m\u001b[43m]\u001b[49m\u001b[38;5;241;43m/\u001b[39;49m\u001b[38;5;241;43m3\u001b[39;49m\n",
      "\u001b[0;31mTypeError\u001b[0m: unsupported operand type(s) for /: 'list' and 'int'"
     ]
    }
   ],
   "source": [
    "[3, 4]/3"
   ]
  },
  {
   "cell_type": "code",
   "execution_count": 3,
   "id": "c0b5a559",
   "metadata": {},
   "outputs": [],
   "source": [
    "spike_train = PeriodicSpikeTrain(10)"
   ]
  },
  {
   "cell_type": "code",
   "execution_count": 16,
   "id": "d91e8341",
   "metadata": {},
   "outputs": [],
   "source": [
    "period = 100\n",
    "nominal_rate = 0.1\n",
    "abs_refractory_time = 5\n",
    "rel_refractory_time = 10\n",
    "res = 1e-3"
   ]
  },
  {
   "cell_type": "code",
   "execution_count": 17,
   "id": "ab6be75a",
   "metadata": {},
   "outputs": [
    {
     "name": "stdout",
     "output_type": "stream",
     "text": [
      "[ 4.51282630e-04  1.24340023e-02  9.80887421e-02  2.87663399e-01\n",
      "  3.52508171e-01  1.93296291e-01  4.92877388e-02  5.92809211e-03\n",
      "  3.33673959e-04  8.51820240e-06  8.87312750e-08  0.00000000e+00\n",
      "  0.00000000e+00  0.00000000e+00 -0.00000000e+00 -0.00000000e+00\n",
      "  0.00000000e+00  0.00000000e+00  0.00000000e+00  0.00000000e+00\n",
      "  0.00000000e+00]\n"
     ]
    },
    {
     "data": {
      "application/vnd.jupyter.widget-view+json": {
       "model_id": "77240f9cfef846bf8d52fa701522be05",
       "version_major": 2,
       "version_minor": 0
      },
      "text/plain": [
       "sampling:   0%|          | 0/10 [00:00<?, ?it/s]"
      ]
     },
     "metadata": {},
     "output_type": "display_data"
    },
    {
     "name": "stdout",
     "output_type": "stream",
     "text": [
      "[ 9.58025389 38.20925389 59.97925389 71.98825389 89.69825389]\n",
      "[28.61472377 40.70772377 59.12672377 89.37172377]\n",
      "[16.91637066 29.87737066 54.59037066 70.80637066 86.32937066 97.09137066]\n",
      "[26.52777848 33.57677848 45.06177848 55.52677848 80.98477848 91.28677848]\n",
      "[25.64391692 50.94291692 57.36291692 78.39691692 88.10091692]\n",
      "[59.94764833 67.86164833]\n",
      "[ 7.92236795 16.48836795 34.94836795 89.73436795]\n",
      "[10.47876375 40.73076375 54.41476375 69.10676375 98.41876375]\n",
      "[17.97996811 38.20496811 47.38796811 60.49396811 94.01196811]\n",
      "[37.76117656 60.71517656 89.96817656]\n"
     ]
    }
   ],
   "source": [
    "spike_train.random(period, nominal_rate, abs_refractory_time, rel_refractory_time, res)"
   ]
  },
  {
   "cell_type": "code",
   "execution_count": null,
   "id": "89ddfe8f",
   "metadata": {},
   "outputs": [],
   "source": [
    "spike_train.num_spikes() / 100"
   ]
  },
  {
   "cell_type": "code",
   "execution_count": 2,
   "id": "d1775b6f",
   "metadata": {},
   "outputs": [],
   "source": [
    "random.seed(42)"
   ]
  },
  {
   "cell_type": "code",
   "execution_count": 9,
   "id": "939aab7e",
   "metadata": {},
   "outputs": [],
   "source": [
    "T = 10\n",
    "t1 = 2\n",
    "t2 = 9"
   ]
  },
  {
   "cell_type": "code",
   "execution_count": 10,
   "id": "46571d49",
   "metadata": {},
   "outputs": [
    {
     "data": {
      "text/plain": [
       "3"
      ]
     },
     "execution_count": 10,
     "metadata": {},
     "output_type": "execute_result"
    }
   ],
   "source": [
    "np.minimum(np.abs(t1 - t2), np.abs(T - np.abs(t1 - t2))) < eps"
   ]
  },
  {
   "cell_type": "code",
   "execution_count": null,
   "id": "7fd6f94f",
   "metadata": {},
   "outputs": [],
   "source": [
    "# T -> 2 * np.pi\n",
    "# t / T"
   ]
  },
  {
   "cell_type": "code",
   "execution_count": null,
   "id": "dcaf1e80",
   "metadata": {},
   "outputs": [],
   "source": []
  },
  {
   "cell_type": "code",
   "execution_count": 4,
   "id": "0a5f00f2",
   "metadata": {},
   "outputs": [],
   "source": [
    "rng = np.random.default_rng()"
   ]
  },
  {
   "cell_type": "code",
   "execution_count": 5,
   "id": "58543cff",
   "metadata": {},
   "outputs": [],
   "source": [
    "g = lambda t_: np.exp(- t_)"
   ]
  },
  {
   "cell_type": "code",
   "execution_count": 29,
   "id": "38c9c717",
   "metadata": {},
   "outputs": [],
   "source": [
    "def argsort(seq):\n",
    "    return sorted(range(len(seq)), key=seq.__getitem__)"
   ]
  },
  {
   "cell_type": "code",
   "execution_count": 30,
   "id": "0a693758",
   "metadata": {},
   "outputs": [
    {
     "ename": "NameError",
     "evalue": "name 'spike_train' is not defined",
     "output_type": "error",
     "traceback": [
      "\u001b[0;31m---------------------------------------------------------------------------\u001b[0m",
      "\u001b[0;31mNameError\u001b[0m                                 Traceback (most recent call last)",
      "Cell \u001b[0;32mIn[30], line 1\u001b[0m\n\u001b[0;32m----> 1\u001b[0m firing_times \u001b[38;5;241m=\u001b[39m np\u001b[38;5;241m.\u001b[39mconcatenate(\u001b[43mspike_train\u001b[49m\u001b[38;5;241m.\u001b[39mfiring_times)\u001b[38;5;241m.\u001b[39mtolist()\n\u001b[1;32m      2\u001b[0m sources \u001b[38;5;241m=\u001b[39m [neuron \u001b[38;5;28;01mfor\u001b[39;00m _ \u001b[38;5;129;01min\u001b[39;00m \u001b[38;5;28mrange\u001b[39m(spike_train_num_spikes(neuron\u001b[38;5;241m.\u001b[39midx)) \u001b[38;5;28;01mfor\u001b[39;00m neuron \u001b[38;5;129;01min\u001b[39;00m network\u001b[38;5;241m.\u001b[39mneurons]\n\u001b[1;32m      3\u001b[0m indices \u001b[38;5;241m=\u001b[39m argsort(firing_times)\n",
      "\u001b[0;31mNameError\u001b[0m: name 'spike_train' is not defined"
     ]
    }
   ],
   "source": [
    "firing_times = np.concatenate(spike_train.firing_times).tolist()\n",
    "sources = [neuron for _ in range(spike_train.num_spikes(neuron.idx)) for neuron in network.neurons]\n",
    "indices = argsort(firing_times)\n",
    "\n",
    "Phi = np.identity(N)\n",
    "A = np.zeros((N, N))\n",
    "A[1:,:-1] = np.identity(N-1)\n",
    "for m in range(M):\n",
    "    # current spike is spikes[N + m]\n",
    "    for n in range(N):\n",
    "        A[0, n] = sum(\n",
    "            [\n",
    "                input.weight * input.resp_deriv((firing_times[m] - input.delay - firing_times[indices[(m - n - 1) % M]]) % spike_train.duration) for input in sources[indices[m]].inputs if input.source is sources[indices[(m - n - 1) % M]] \n",
    "            ]\n",
    "        )\n",
    "    A[0] /= np.sum(A[0])\n",
    "    Phi = A@Phi"
   ]
  },
  {
   "cell_type": "code",
   "execution_count": 7,
   "id": "5e552f41",
   "metadata": {},
   "outputs": [],
   "source": [
    "class SpikeTrain:\n",
    "    def __init__(self, times, sources):\n",
    "        if isinstance(sources, list):\n",
    "            self.spikes = [Spike(t, src) for t, src in zip(times, sources)]\n",
    "        else:\n",
    "            self.spikes = [Spike(t, sources) for t in times]\n",
    "                \n",
    "    def __call__(self, ):\n",
    "        return "
   ]
  },
  {
   "cell_type": "code",
   "execution_count": null,
   "id": "54cd608d",
   "metadata": {},
   "outputs": [],
   "source": [
    "# class RefractoryConnection:\n",
    "#     def __init__(self, source, weight, filter, filter_deriv):\n",
    "#         self.source = source\n",
    "#         self.weight = weight\n",
    "#         self.somatic_decay = somatic_decay\n",
    "#     \n",
    "#     def response(self, t):\n",
    "#         tau = t - sources.firing_times\n",
    "#         pos_tau = tau[tau > 0]\n",
    "#         return - self.weight * np.sum((np.exp(- pos_tau / self.somatic_decay)) # fun could be anything\n",
    "#     \n",
    "#     # def response_derivative(self, t):\n",
    "#     #     if t <= self.delay:\n",
    "#     #         return 0\n",
    "#     #     \n",
    "#     #     return self.weight * ... # could be anything\n",
    "\n",
    "class Connection:\n",
    "    def __init__(self, source, delay, weight, resp, resp_deriv):\n",
    "        self.source = source\n",
    "        self.weight = weight\n",
    "        self.delay = delay\n",
    "        self.resp = resp\n",
    "        self.resp_deriv = resp_deriv\n",
    "            \n",
    "    def signal(self, t):\n",
    "        tau = t - self.delay - sources.firing_times\n",
    "        pos_tau = tau[tau > 0]\n",
    "        return self.weight * np.sum((self.resp(pos_tau)) \n",
    "                                    \n",
    "    def signal_deriv(self, t):\n",
    "        tau = t - self.delay - sources.firing_times\n",
    "        pos_tau = tau[tau > 0]\n",
    "        return self.weight * np.sum((self.resp_deriv(pos_tau)) \n",
    "                                    \n",
    "                                    \n",
    "    # def response_derivative(self, t):\n",
    "    #     if t <= self.delay:\n",
    "    #         return 0\n",
    "    #     \n",
    "    #     return self.weight * ... # could be anything"
   ]
  },
  {
   "cell_type": "code",
   "execution_count": 24,
   "id": "a5e234fe",
   "metadata": {},
   "outputs": [],
   "source": [
    "class Neuron:\n",
    "    def __init__(self, firing_threshold):\n",
    "        self.firing_threshold = firing_threshold\n",
    "        self.inputs = []\n",
    "        self.firing_times = np.array([])\n",
    "    \n",
    "    def potential(self, t):\n",
    "        return sum([input.signal(t) for input in self.inputs])\n",
    "    \n",
    "    def potential_deriv(self, t):\n",
    "        return sum([input.signal_deriv(t) for input in self.inputs])\n",
    "    \n",
    "    def step(self, t)"
   ]
  },
  {
   "cell_type": "code",
   "execution_count": null,
   "id": "a345b8c8",
   "metadata": {},
   "outputs": [],
   "source": []
  },
  {
   "cell_type": "code",
   "execution_count": null,
   "id": "2274bcf7",
   "metadata": {},
   "outputs": [],
   "source": [
    "import pickle "
   ]
  },
  {
   "cell_type": "code",
   "execution_count": 23,
   "id": "2b8e4ab0",
   "metadata": {},
   "outputs": [],
   "source": [
    "class Network:\n",
    "    # a set of neurons and inputs between them\n",
    "    def __init__(self, num_neurons, firing_threshold):\n",
    "        self.num_neurons = num_neurons\n",
    "        self.neurons = [Neuron(firing_threshold) for l in range(self.num_neurons)]    \n",
    "        self.firing_times = np.array([])\n",
    "        self.firing_threshold = firing_threshold\n",
    "        \n",
    "    def rand(self, num_synapses, soma_decay, syn_decay, syn_delays_lim, syn_weights_lim, syn_weight_res, ref_weights_lim, ref_weight_res, seed=0):\n",
    "        self.num_synapses = num_synapses \n",
    "        self.soma_decay = soma_decay\n",
    "        self.syn_decay = syn_decay\n",
    "        self.syn_delays_lim = syn_delays_lim\n",
    "        self.syn_weights_lim = syn_weights_lim \n",
    "        self.syn_weight_res = syn_weight_res\n",
    "        self.ref_weights_lim = ref_weights_lim\n",
    "        self.ref_weight_res = ref_weight_res\n",
    "        \n",
    "        if soma_decay == syn_decay:\n",
    "            syn_resp = lambda t_: t_ / soma_decay * np.exp(1 - t_ / self.soma_decay)\n",
    "            syn_resp_deriv = lambda t_: np.exp(1 - t_ / soma_decay) * (1 - t_ / soma_decay) / soma_decay\n",
    "        else:\n",
    "            tmax = (math.log(syn_decay) - math.log(soma_decay)) / (1 / soma_decay - 1 / syn_decay)\n",
    "            gamma = 1 / (math.exp(-tmax / soma_decay) - math.exp(-tmax / syn_decay))\n",
    "            syn_resp = lambda t_: gamma * (np.exp(- t_ / soma_decay) - np.exp(- t_ / syn_decay))\n",
    "            syn_resp_deriv = lambda t_: gamma * (np.exp(- t_ / syn_decay) / syn_decay - np.exp(- t_ / soma_decay) / soma_decay)\n",
    "            \n",
    "        ref_resp = lambda t_: np.exp(- t / soma_decay)\n",
    "        ref_resp_deriv = lambda t_: - np.exp(- t / soma_decay) / soma_decay    \n",
    "            \n",
    "        random.seed(seed)\n",
    "        for neuron in self.neurons:\n",
    "            neuron.inputs = [\n",
    "                Connection( \n",
    "                    self.neurons[random.randint(self.num_neurons)], \n",
    "                    random.uniform(*syn_delays_lim), \n",
    "                    random.uniform(*syn_weights_lim) if syn_weight_res is None else random.randrange(syn_weights_lim[0], syn_weights_lim[1] + syn_weight_res, syn_weight_res),\n",
    "                    syn_resp,\n",
    "                    syn_resp_deriv\n",
    "                )\n",
    "                for _ in range(num_synapses)\n",
    "            ]\n",
    "            neuron.inputs.append(\n",
    "                Connection(\n",
    "                    neuron, \n",
    "                    0,\n",
    "                    random.uniform(*ref_weights_lim) if ref_weight_res is None else random.randrange(ref_weights_lim[0], ref_weights_lim[1] + ref_weight_res, ref_weight_res),\n",
    "                    ref_resp,\n",
    "                    ref_resp_deriv\n",
    "                )\n",
    "            )\n",
    "            \n",
    "    def run(self, t0, duration, dt, std_theta, free_ids):\n",
    "        free_neurons = self.network[free_ids]\n",
    "        \n",
    "        for neuron in free_neurons:\n",
    "            neuron.noisy_firing_threshold = neuron.firing_threshold + random.gauss(0, std_theta)\n",
    "            \n",
    "        for t in tqdm(np.arange(t0, t0 + duration, dt), desc=\"network simulation\"):\n",
    "            for neuron in free_neurons:\n",
    "                neuron.step(t, dt, std_theta)        \n",
    "        \n",
    "    \n",
    "    def memorize(self, spike_trains, max_level, min_slope, eps, res):\n",
    "        summmaries = []\n",
    "        for neuron in tqdm(self.neurons, desc=\"network optimization\"):\n",
    "            summmaries.append(neuron.memorize(spike_trains, max_level, min_slope, eps, res))\n",
    "        return summmaries\n",
    "    \n",
    "        \n",
    "    def load(self, dirname):\n",
    "        with open(os.path.join(dirname, \"network.pkl\", \"rb\")) as f:\n",
    "            config = pickle.load(f)\n",
    "                  \n",
    "        if self.num_neurons != config[\"num_neurons\"]:\n",
    "            raise ValueError(f\"number of neuron does not match\")\n",
    "            \n",
    "        self.firing_threshold = config[\"firing_threshold\"]\n",
    "        self.num_synapses = config[\"num_synapses\"]\n",
    "        self.soma_decay = config[\"soma_decay\"]\n",
    "        self.synapse_decay = config[\"synapse_decay\"]\n",
    "        self.synapse_delay_lim = config[\"synapse_delay_lim\"]\n",
    "        self.synapse_weight_lim = config[\"synapse_weight_lim\"]\n",
    "        self.synapse_weight_res = config[\"synapse_weight_res\"]\n",
    "        self.refractory_weights_lim = config[\"refractory_weight_lim\"]\n",
    "        self.refractory_weight_res = config[\"refractory_weight_res\"]\n",
    "        \n",
    "        source_ids = config[\"source_ids\"]\n",
    "        delays = config[\"delays\"]\n",
    "        weights = config[\"weights\"]\n",
    "        \n",
    "        if soma_decay == synapse_decay:\n",
    "            synapse_resp = lambda t_: t_ / soma_decay * np.exp(1 - t_ / self.soma_decay)\n",
    "            synapse_resp_deriv = lambda t_: np.exp(1 - t_ / soma_decay) * (1 - t_ / soma_decay) / soma_decay\n",
    "        else:\n",
    "            tmax = (math.log(synapse_decay) - math.log(soma_decay)) / (1 / soma_decay - 1 / synapse_decay)\n",
    "            gamma = 1 / (math.exp(-tmax / soma_decay) - math.exp(-tmax / synapse_decay))\n",
    "            synapse_resp = lambda t_: gamma * (np.exp(- t_ / soma_decay) - np.exp(- t_ / synapse_decay))\n",
    "            synapse_resp_deriv = lambda t_: gamma * (np.exp(- t_ / synapse_decay) / synapse_decay - np.exp(- t_ / soma_decay) / soma_decay)\n",
    "            \n",
    "        refractory_resp = lambda t_: np.exp(- t / soma_decay)\n",
    "        refractory_resp_deriv = lambda t_: - np.exp(- t / soma_decay) / soma_decay\n",
    "        \n",
    "        for neuron in self.neurons:\n",
    "            neuron.inputs = [\n",
    "                Connection( \n",
    "                    self.neurons[source_id], \n",
    "                    delay, \n",
    "                    weight,\n",
    "                    synapse_resp,\n",
    "                    synapse_resp_deriv\n",
    "                )\n",
    "                for source_id, delay, weight in zip(config[\"source_ids\"][neuron.idx], config[\"delays\"][neuron.idx], config[\"weights\"][neuron.idx])\n",
    "            ]\n",
    "            neuron.inputs[-1].resp = refractory_resp\n",
    "            neuron.inputs[-1].resp_deriv = refractory_resp_deriv\n",
    "            neuron.firing_times = np.array(config[\"firing_times\"][neuron.idx])\n",
    "        \n",
    "    def save(self, dirname):\n",
    "        os.makedirs(dirname, exist_ok=True)\n",
    "        \n",
    "        # save network config as dict\n",
    "        config = {\n",
    "            \"num_neurons\": self.num_neurons, \n",
    "            \"firing_threshold\": self.firing_threshold,\n",
    "            \"num_synapses\": self.num_synapses, \n",
    "            \"soma_decay\": self.soma_decay,\n",
    "            \"synapse_decay\": self.synapse_decay,\n",
    "            \"synapse_delay_lim\": self.synapse_delays_lim,\n",
    "            \"synapse_weight_lim\": self.synapse_weights_lim,\n",
    "            \"synapse_weight_res\": self.synapse_weight_res,\n",
    "            \"refractory_weight_lim\": self.refractory_weights_lim,\n",
    "            \"refractory_weight_res\": self.refractory_weight_res,\n",
    "            \"sources_ids\": [[input.source.idx for input in neuron.inputs] for neuron in network.neurons],\n",
    "            \"delays\": [[input.delay for input in neuron.inputs] for neuron in network.neurons],\n",
    "            \"weights\": [[input.weight for input in neuron.inputs] for neuron in network.neurons],\n",
    "            \"firing_times\": [neuron.firing_times.tolist() for neuron in network.neurons]\n",
    "        }\n",
    "        with open(os.path.join(dirname, \"network.pkl\", \"wb\") as f:\n",
    "            pickle.dump(config, f)"
   ]
  },
  {
   "cell_type": "code",
   "execution_count": 13,
   "id": "c0390298",
   "metadata": {},
   "outputs": [],
   "source": [
    "w = rng.normal(0, 1, (1000,))"
   ]
  },
  {
   "cell_type": "code",
   "execution_count": 16,
   "id": "e7fbad22",
   "metadata": {},
   "outputs": [
    {
     "name": "stdout",
     "output_type": "stream",
     "text": [
      "5.15 ms ± 23 µs per loop (mean ± std. dev. of 7 runs, 100 loops each)\n"
     ]
    }
   ],
   "source": [
    "%%timeit\n",
    "w = rng.normal(0, 1, (2000,))\n",
    "y = np.array([g(rng.normal(0,1)) for k in range(2000)])\n",
    "z = np.inner(w, y)"
   ]
  },
  {
   "cell_type": "code",
   "execution_count": 17,
   "id": "775789ac",
   "metadata": {},
   "outputs": [
    {
     "name": "stdout",
     "output_type": "stream",
     "text": [
      "5.9 ms ± 10.5 µs per loop (mean ± std. dev. of 7 runs, 100 loops each)\n"
     ]
    }
   ],
   "source": [
    "%%timeit\n",
    "w = rng.normal(0, 1, (2000,))\n",
    "z = 0\n",
    "for k in range(2000):\n",
    "    z += w[k]* g(rng.normal(0,1))"
   ]
  },
  {
   "cell_type": "code",
   "execution_count": null,
   "id": "a5701a18",
   "metadata": {},
   "outputs": [],
   "source": [
    "%%timeit\n",
    "w = rng.normal(0, 1, (2000,))\n",
    "z += np.w[k]* g(rng.normal(0,1))"
   ]
  }
 ],
 "metadata": {
  "kernelspec": {
   "display_name": "Python 3 (ipykernel)",
   "language": "python",
   "name": "python3"
  },
  "language_info": {
   "codemirror_mode": {
    "name": "ipython",
    "version": 3
   },
   "file_extension": ".py",
   "mimetype": "text/x-python",
   "name": "python",
   "nbconvert_exporter": "python",
   "pygments_lexer": "ipython3",
   "version": "3.10.9"
  }
 },
 "nbformat": 4,
 "nbformat_minor": 5
}
