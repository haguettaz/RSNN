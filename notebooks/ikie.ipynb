{
 "cells": [
  {
   "cell_type": "code",
   "execution_count": 1,
   "id": "81666b18",
   "metadata": {},
   "outputs": [],
   "source": [
    "import math\n",
    "\n",
    "import torch\n",
    "from scipy.special import lambertw\n",
    "from tqdm import tqdm"
   ]
  },
  {
   "cell_type": "code",
   "execution_count": 2,
   "id": "9cac15ec",
   "metadata": {},
   "outputs": [],
   "source": [
    "import warnings\n",
    "warnings.filterwarnings('ignore')"
   ]
  },
  {
   "cell_type": "code",
   "execution_count": 3,
   "id": "22c185a9",
   "metadata": {},
   "outputs": [],
   "source": [
    "import matplotlib.pyplot as plt\n",
    "plt.style.use('scientific')"
   ]
  },
  {
   "cell_type": "code",
   "execution_count": 4,
   "id": "5c976003",
   "metadata": {},
   "outputs": [
    {
     "ename": "ImportError",
     "evalue": "cannot import name 'compute_jitter_transition_tensor' from 'rsnn.learning.utils' (/Users/haguettaz/Documents/RSNN/rsnn/learning/utils.py)",
     "output_type": "error",
     "traceback": [
      "\u001b[0;31m---------------------------------------------------------------------------\u001b[0m",
      "\u001b[0;31mImportError\u001b[0m                               Traceback (most recent call last)",
      "\u001b[0;32m/var/folders/p1/wl8__y5x6jgfhz_d47k5gq9m0000gn/T/ipykernel_15295/2291117883.py\u001b[0m in \u001b[0;36m<module>\u001b[0;34m\u001b[0m\n\u001b[1;32m      2\u001b[0m \u001b[0;32mfrom\u001b[0m \u001b[0mrsnn\u001b[0m\u001b[0;34m.\u001b[0m\u001b[0mfiring_sequences\u001b[0m\u001b[0;34m.\u001b[0m\u001b[0mutils\u001b[0m \u001b[0;32mimport\u001b[0m \u001b[0msegment_firing_sequences\u001b[0m\u001b[0;34m\u001b[0m\u001b[0;34m\u001b[0m\u001b[0m\n\u001b[1;32m      3\u001b[0m \u001b[0;32mfrom\u001b[0m \u001b[0mrsnn\u001b[0m\u001b[0;34m.\u001b[0m\u001b[0mlearning\u001b[0m\u001b[0;34m.\u001b[0m\u001b[0mikie\u001b[0m \u001b[0;32mimport\u001b[0m \u001b[0mcompute_box_prior\u001b[0m\u001b[0;34m,\u001b[0m \u001b[0mcompute_posterior\u001b[0m\u001b[0;34m,\u001b[0m \u001b[0mcompute_m_ary_prior\u001b[0m\u001b[0;34m\u001b[0m\u001b[0;34m\u001b[0m\u001b[0m\n\u001b[0;32m----> 4\u001b[0;31m \u001b[0;32mfrom\u001b[0m \u001b[0mrsnn\u001b[0m\u001b[0;34m.\u001b[0m\u001b[0mlearning\u001b[0m\u001b[0;34m.\u001b[0m\u001b[0mutils\u001b[0m \u001b[0;32mimport\u001b[0m \u001b[0mcompute_observation_tensor\u001b[0m\u001b[0;34m,\u001b[0m \u001b[0mcompute_jitter_transition_tensor\u001b[0m\u001b[0;34m\u001b[0m\u001b[0;34m\u001b[0m\u001b[0m\n\u001b[0m\u001b[1;32m      5\u001b[0m \u001b[0;32mfrom\u001b[0m \u001b[0mrsnn\u001b[0m\u001b[0;34m.\u001b[0m\u001b[0mlearning\u001b[0m\u001b[0;34m.\u001b[0m\u001b[0mutils\u001b[0m \u001b[0;32mimport\u001b[0m \u001b[0mget_indices_refractory_period\u001b[0m\u001b[0;34m,\u001b[0m \u001b[0mget_indices_around_firing\u001b[0m\u001b[0;34m\u001b[0m\u001b[0;34m\u001b[0m\u001b[0m\n\u001b[1;32m      6\u001b[0m \u001b[0;32mfrom\u001b[0m \u001b[0mrsnn\u001b[0m\u001b[0;34m.\u001b[0m\u001b[0mutils\u001b[0m\u001b[0;34m.\u001b[0m\u001b[0mutils\u001b[0m \u001b[0;32mimport\u001b[0m \u001b[0mindices_to_start_end\u001b[0m\u001b[0;34m\u001b[0m\u001b[0;34m\u001b[0m\u001b[0m\n",
      "\u001b[0;31mImportError\u001b[0m: cannot import name 'compute_jitter_transition_tensor' from 'rsnn.learning.utils' (/Users/haguettaz/Documents/RSNN/rsnn/learning/utils.py)"
     ]
    }
   ],
   "source": [
    "from rsnn.spike_sequences.sampling import backward_filtering_forward_sampling\n",
    "from rsnn.spike_sequences.utils import segment_firing_sequences\n",
    "from rsnn.learning.ikie import compute_box_prior, compute_posterior, compute_m_ary_prior\n",
    "from rsnn.learning.utils import compute_observation_tensor, compute_jitter_transition_tensor\n",
    "from rsnn.learning.utils import get_indices_refractory_period, get_indices_around_firing\n",
    "from rsnn.utils.utils import indices_to_start_end"
   ]
  },
  {
   "cell_type": "code",
   "execution_count": 14,
   "id": "d7378961",
   "metadata": {},
   "outputs": [],
   "source": [
    "L, K, N, Nr, M = 200, 300, 200, 20, 3\n",
    "spike_sequences = backward_filtering_forward_sampling(L, N, Nr)\n",
    "spike_sequences[:, 2] = 0"
   ]
  },
  {
   "cell_type": "code",
   "execution_count": 21,
   "id": "9d50e038",
   "metadata": {},
   "outputs": [],
   "source": [
    "org_input = -(1e9) * torch.ones(L, M + 1)  # init with too old spikes\n",
    "for l in range(L):\n",
    "    neuron_spikes = torch.argwhere(spike_sequences[:, l]).squeeze()\n",
    "    num_spikes = neuron_spikes.numel()\n",
    "    if num_spikes == 0:\n",
    "        continue\n",
    "    if num_spikes < M + 1:\n",
    "        org_input[l, -num_spikes:] = neuron_spikes\n",
    "    else:\n",
    "        org_input[l] = neuron_spikes[-(M + 1) :]"
   ]
  },
  {
   "cell_type": "code",
   "execution_count": 22,
   "id": "d49bf044",
   "metadata": {},
   "outputs": [],
   "source": [
    "import pandas as pd\n",
    "\n",
    "\n",
    "tmp_input = org_input.clone() - N  # without noise\n",
    "df = pd.DataFrame.from_dict({\"l\": torch.arange(L).repeat_interleave(M + 1), \"s\": tmp_input.flatten()})"
   ]
  },
  {
   "cell_type": "code",
   "execution_count": 23,
   "id": "71fdaab1",
   "metadata": {},
   "outputs": [
    {
     "data": {
      "text/html": [
       "<div>\n",
       "<style scoped>\n",
       "    .dataframe tbody tr th:only-of-type {\n",
       "        vertical-align: middle;\n",
       "    }\n",
       "\n",
       "    .dataframe tbody tr th {\n",
       "        vertical-align: top;\n",
       "    }\n",
       "\n",
       "    .dataframe thead th {\n",
       "        text-align: right;\n",
       "    }\n",
       "</style>\n",
       "<table border=\"1\" class=\"dataframe\">\n",
       "  <thead>\n",
       "    <tr style=\"text-align: right;\">\n",
       "      <th></th>\n",
       "      <th>l</th>\n",
       "      <th>s</th>\n",
       "    </tr>\n",
       "  </thead>\n",
       "  <tbody>\n",
       "    <tr>\n",
       "      <th>8</th>\n",
       "      <td>2</td>\n",
       "      <td>-1.000000e+09</td>\n",
       "    </tr>\n",
       "    <tr>\n",
       "      <th>9</th>\n",
       "      <td>2</td>\n",
       "      <td>-1.000000e+09</td>\n",
       "    </tr>\n",
       "    <tr>\n",
       "      <th>10</th>\n",
       "      <td>2</td>\n",
       "      <td>-1.000000e+09</td>\n",
       "    </tr>\n",
       "    <tr>\n",
       "      <th>11</th>\n",
       "      <td>2</td>\n",
       "      <td>-1.000000e+09</td>\n",
       "    </tr>\n",
       "  </tbody>\n",
       "</table>\n",
       "</div>"
      ],
      "text/plain": [
       "    l             s\n",
       "8   2 -1.000000e+09\n",
       "9   2 -1.000000e+09\n",
       "10  2 -1.000000e+09\n",
       "11  2 -1.000000e+09"
      ]
     },
     "execution_count": 23,
     "metadata": {},
     "output_type": "execute_result"
    }
   ],
   "source": [
    "df[df.l == 2]"
   ]
  },
  {
   "cell_type": "code",
   "execution_count": 24,
   "id": "d7ede64b",
   "metadata": {},
   "outputs": [
    {
     "data": {
      "text/plain": [
       "tensor([[-1.1000e+02, -8.1000e+01, -4.3000e+01, -1.3000e+01],\n",
       "        [-1.1300e+02, -9.0000e+01, -5.4000e+01, -2.4000e+01],\n",
       "        [-1.0000e+09, -1.0000e+09, -1.0000e+09, -1.0000e+09],\n",
       "        [-1.4000e+02, -7.8000e+01, -4.3000e+01, -1.7000e+01],\n",
       "        [-8.9000e+01, -6.7000e+01, -3.8000e+01, -9.0000e+00],\n",
       "        [-9.0000e+01, -5.5000e+01, -2.8000e+01, -7.0000e+00],\n",
       "        [-1.1700e+02, -7.8000e+01, -5.5000e+01, -3.4000e+01],\n",
       "        [-1.1700e+02, -8.4000e+01, -5.1000e+01, -2.3000e+01],\n",
       "        [-9.9000e+01, -6.5000e+01, -4.2000e+01, -1.0000e+00],\n",
       "        [-1.1800e+02, -7.7000e+01, -5.3000e+01, -1.3000e+01],\n",
       "        [-1.0000e+02, -5.8000e+01, -3.7000e+01, -1.4000e+01],\n",
       "        [-8.7000e+01, -6.6000e+01, -3.7000e+01, -1.6000e+01],\n",
       "        [-1.1400e+02, -8.5000e+01, -5.9000e+01, -2.6000e+01],\n",
       "        [-1.6000e+02, -1.2800e+02, -4.8000e+01, -1.9000e+01],\n",
       "        [-1.0700e+02, -7.2000e+01, -4.6000e+01, -1.8000e+01],\n",
       "        [-1.1200e+02, -7.7000e+01, -4.9000e+01, -1.4000e+01],\n",
       "        [-1.1200e+02, -6.8000e+01, -4.6000e+01, -1.2000e+01],\n",
       "        [-9.6000e+01, -7.5000e+01, -5.2000e+01, -2.8000e+01],\n",
       "        [-1.0900e+02, -7.6000e+01, -5.4000e+01, -2.1000e+01],\n",
       "        [-1.0500e+02, -8.3000e+01, -4.4000e+01, -2.1000e+01],\n",
       "        [-8.8000e+01, -6.4000e+01, -3.8000e+01, -1.4000e+01],\n",
       "        [-8.7000e+01, -5.8000e+01, -3.2000e+01, -7.0000e+00],\n",
       "        [-1.0400e+02, -8.1000e+01, -5.7000e+01, -3.3000e+01],\n",
       "        [-1.0600e+02, -7.9000e+01, -5.6000e+01, -1.7000e+01],\n",
       "        [-9.5000e+01, -6.6000e+01, -4.0000e+01, -8.0000e+00],\n",
       "        [-8.6000e+01, -6.2000e+01, -2.9000e+01, -4.0000e+00],\n",
       "        [-9.5000e+01, -6.0000e+01, -3.0000e+01, -1.0000e+00],\n",
       "        [-9.7000e+01, -6.3000e+01, -4.0000e+01, -1.6000e+01],\n",
       "        [-1.3100e+02, -1.0500e+02, -5.0000e+01, -2.0000e+01],\n",
       "        [-1.1500e+02, -8.0000e+01, -4.0000e+01, -1.9000e+01],\n",
       "        [-1.0100e+02, -6.7000e+01, -4.3000e+01, -1.1000e+01],\n",
       "        [-1.3200e+02, -7.9000e+01, -4.8000e+01, -1.6000e+01],\n",
       "        [-8.3000e+01, -5.8000e+01, -3.2000e+01, -1.0000e+01],\n",
       "        [-9.5000e+01, -6.8000e+01, -3.2000e+01, -1.1000e+01],\n",
       "        [-1.0300e+02, -8.2000e+01, -4.9000e+01, -2.4000e+01],\n",
       "        [-1.2800e+02, -9.1000e+01, -6.6000e+01, -1.0000e+01],\n",
       "        [-9.9000e+01, -6.5000e+01, -2.8000e+01, -7.0000e+00],\n",
       "        [-1.1600e+02, -9.2000e+01, -6.5000e+01, -4.1000e+01],\n",
       "        [-9.2000e+01, -6.9000e+01, -4.6000e+01, -1.4000e+01],\n",
       "        [-1.2600e+02, -9.9000e+01, -7.6000e+01, -4.5000e+01],\n",
       "        [-1.0800e+02, -7.6000e+01, -3.7000e+01, -1.6000e+01],\n",
       "        [-1.0900e+02, -7.0000e+01, -4.9000e+01, -2.5000e+01],\n",
       "        [-1.4200e+02, -1.1300e+02, -8.7000e+01, -1.5000e+01],\n",
       "        [-8.7000e+01, -6.5000e+01, -2.7000e+01, -3.0000e+00],\n",
       "        [-1.1300e+02, -8.3000e+01, -4.0000e+01, -7.0000e+00],\n",
       "        [-1.4400e+02, -1.0100e+02, -6.2000e+01, -2.9000e+01],\n",
       "        [-9.3000e+01, -5.8000e+01, -3.2000e+01, -7.0000e+00],\n",
       "        [-8.2000e+01, -5.7000e+01, -3.4000e+01, -7.0000e+00],\n",
       "        [-9.6000e+01, -6.5000e+01, -4.3000e+01, -2.2000e+01],\n",
       "        [-9.3000e+01, -5.3000e+01, -2.5000e+01, -1.0000e+00],\n",
       "        [-1.1800e+02, -8.3000e+01, -4.8000e+01, -1.0000e+01],\n",
       "        [-8.3000e+01, -5.8000e+01, -2.9000e+01, -6.0000e+00],\n",
       "        [-1.4900e+02, -1.0800e+02, -8.2000e+01, -3.1000e+01],\n",
       "        [-8.9000e+01, -6.3000e+01, -4.2000e+01, -1.8000e+01],\n",
       "        [-1.1600e+02, -9.1000e+01, -6.5000e+01, -3.0000e+01],\n",
       "        [-7.9000e+01, -5.1000e+01, -2.4000e+01, -2.0000e+00],\n",
       "        [-9.3000e+01, -6.9000e+01, -3.6000e+01, -1.1000e+01],\n",
       "        [-1.1100e+02, -8.3000e+01, -6.2000e+01, -3.3000e+01],\n",
       "        [-1.2700e+02, -8.5000e+01, -5.2000e+01, -2.0000e+01],\n",
       "        [-1.0900e+02, -6.4000e+01, -3.9000e+01, -3.0000e+00],\n",
       "        [-8.2000e+01, -6.0000e+01, -3.5000e+01, -7.0000e+00],\n",
       "        [-1.0400e+02, -8.2000e+01, -5.6000e+01, -3.0000e+01],\n",
       "        [-1.2700e+02, -1.0600e+02, -5.4000e+01, -2.7000e+01],\n",
       "        [-1.2400e+02, -8.6000e+01, -6.2000e+01, -3.1000e+01],\n",
       "        [-1.0700e+02, -8.4000e+01, -4.6000e+01, -2.2000e+01],\n",
       "        [-1.1000e+02, -8.8000e+01, -5.9000e+01, -1.0000e+01],\n",
       "        [-1.0600e+02, -8.4000e+01, -5.9000e+01, -2.0000e+01],\n",
       "        [-8.8000e+01, -5.8000e+01, -3.3000e+01, -1.1000e+01],\n",
       "        [-8.3000e+01, -6.1000e+01, -3.8000e+01, -1.2000e+01],\n",
       "        [-8.2000e+01, -4.6000e+01, -2.5000e+01, -2.0000e+00],\n",
       "        [-1.6600e+02, -1.2000e+02, -7.8000e+01, -5.5000e+01],\n",
       "        [-7.7000e+01, -5.3000e+01, -2.9000e+01, -2.0000e+00],\n",
       "        [-1.0300e+02, -7.5000e+01, -5.1000e+01, -2.5000e+01],\n",
       "        [-7.7000e+01, -5.6000e+01, -3.2000e+01, -6.0000e+00],\n",
       "        [-1.3100e+02, -9.2000e+01, -5.2000e+01, -2.2000e+01],\n",
       "        [-1.2800e+02, -8.6000e+01, -5.7000e+01, -1.6000e+01],\n",
       "        [-8.7000e+01, -6.4000e+01, -4.3000e+01, -2.2000e+01],\n",
       "        [-1.0300e+02, -8.1000e+01, -4.7000e+01, -2.2000e+01],\n",
       "        [-9.7000e+01, -6.4000e+01, -4.3000e+01, -1.4000e+01],\n",
       "        [-1.0200e+02, -7.1000e+01, -3.8000e+01, -1.2000e+01],\n",
       "        [-1.1900e+02, -8.9000e+01, -6.5000e+01, -2.8000e+01],\n",
       "        [-1.4900e+02, -1.2800e+02, -8.0000e+01, -3.8000e+01],\n",
       "        [-1.1400e+02, -8.3000e+01, -5.9000e+01, -2.8000e+01],\n",
       "        [-9.5000e+01, -6.1000e+01, -3.2000e+01, -5.0000e+00],\n",
       "        [-1.0700e+02, -8.1000e+01, -5.0000e+01, -1.6000e+01],\n",
       "        [-1.1500e+02, -8.7000e+01, -5.4000e+01, -9.0000e+00],\n",
       "        [-8.7000e+01, -5.9000e+01, -3.7000e+01, -3.0000e+00],\n",
       "        [-8.8000e+01, -6.4000e+01, -4.1000e+01, -1.4000e+01],\n",
       "        [-8.7000e+01, -6.2000e+01, -3.4000e+01, -5.0000e+00],\n",
       "        [-1.1100e+02, -8.6000e+01, -3.7000e+01, -1.3000e+01],\n",
       "        [-1.0400e+02, -7.9000e+01, -5.1000e+01, -1.4000e+01],\n",
       "        [-8.2000e+01, -6.0000e+01, -3.7000e+01, -1.3000e+01],\n",
       "        [-1.2800e+02, -8.7000e+01, -5.5000e+01, -1.4000e+01],\n",
       "        [-8.7000e+01, -6.2000e+01, -2.8000e+01, -7.0000e+00],\n",
       "        [-7.7000e+01, -4.8000e+01, -2.6000e+01, -3.0000e+00],\n",
       "        [-9.2000e+01, -4.9000e+01, -2.6000e+01, -2.0000e+00],\n",
       "        [-9.7000e+01, -7.2000e+01, -4.8000e+01, -1.1000e+01],\n",
       "        [-8.3000e+01, -6.2000e+01, -3.6000e+01, -1.3000e+01],\n",
       "        [-1.1000e+02, -7.1000e+01, -3.5000e+01, -1.0000e+01],\n",
       "        [-1.5200e+02, -1.3100e+02, -9.4000e+01, -2.0000e+01],\n",
       "        [-9.3000e+01, -6.7000e+01, -4.0000e+01, -1.3000e+01],\n",
       "        [-1.0100e+02, -7.5000e+01, -4.6000e+01, -1.4000e+01],\n",
       "        [-9.2000e+01, -5.6000e+01, -3.3000e+01, -9.0000e+00],\n",
       "        [-1.1300e+02, -8.2000e+01, -5.6000e+01, -2.5000e+01],\n",
       "        [-9.8000e+01, -7.1000e+01, -4.0000e+01, -1.2000e+01],\n",
       "        [-1.5100e+02, -1.2800e+02, -6.7000e+01, -3.1000e+01],\n",
       "        [-8.7000e+01, -6.0000e+01, -3.9000e+01, -1.7000e+01],\n",
       "        [-1.2400e+02, -9.5000e+01, -5.9000e+01, -3.3000e+01],\n",
       "        [-9.4000e+01, -6.3000e+01, -3.8000e+01, -1.7000e+01],\n",
       "        [-1.1000e+02, -8.5000e+01, -4.7000e+01, -2.4000e+01],\n",
       "        [-1.3900e+02, -8.9000e+01, -4.9000e+01, -2.8000e+01],\n",
       "        [-1.0700e+02, -7.3000e+01, -4.1000e+01, -1.3000e+01],\n",
       "        [-9.0000e+01, -6.2000e+01, -4.0000e+01, -5.0000e+00],\n",
       "        [-1.2700e+02, -9.1000e+01, -6.6000e+01, -3.9000e+01],\n",
       "        [-1.0700e+02, -8.2000e+01, -5.8000e+01, -2.6000e+01],\n",
       "        [-1.0100e+02, -6.9000e+01, -4.1000e+01, -1.7000e+01],\n",
       "        [-9.1000e+01, -5.9000e+01, -3.8000e+01, -3.0000e+00],\n",
       "        [-1.2500e+02, -9.4000e+01, -7.3000e+01, -2.6000e+01],\n",
       "        [-1.0800e+02, -8.7000e+01, -4.3000e+01, -1.3000e+01],\n",
       "        [-9.6000e+01, -7.3000e+01, -4.6000e+01, -1.8000e+01],\n",
       "        [-7.8000e+01, -5.2000e+01, -3.1000e+01, -6.0000e+00],\n",
       "        [-9.2000e+01, -5.4000e+01, -3.1000e+01, -5.0000e+00],\n",
       "        [-1.1900e+02, -9.3000e+01, -5.2000e+01, -2.4000e+01],\n",
       "        [-1.2600e+02, -1.0500e+02, -6.7000e+01, -2.3000e+01],\n",
       "        [-1.1100e+02, -7.8000e+01, -5.2000e+01, -2.5000e+01],\n",
       "        [-1.0200e+02, -7.9000e+01, -5.5000e+01, -2.5000e+01],\n",
       "        [-1.3000e+02, -1.0700e+02, -8.5000e+01, -5.1000e+01],\n",
       "        [-1.2500e+02, -9.9000e+01, -4.8000e+01, -2.3000e+01],\n",
       "        [-9.4000e+01, -5.7000e+01, -3.6000e+01, -1.4000e+01],\n",
       "        [-9.7000e+01, -7.2000e+01, -3.8000e+01, -1.6000e+01],\n",
       "        [-8.6000e+01, -5.1000e+01, -3.0000e+01, -9.0000e+00],\n",
       "        [-1.1200e+02, -7.7000e+01, -3.9000e+01, -1.7000e+01],\n",
       "        [-1.2300e+02, -8.2000e+01, -3.9000e+01, -1.1000e+01],\n",
       "        [-1.1800e+02, -9.5000e+01, -6.9000e+01, -7.0000e+00],\n",
       "        [-9.1000e+01, -6.8000e+01, -4.0000e+01, -1.3000e+01],\n",
       "        [-1.4000e+02, -1.0200e+02, -6.8000e+01, -4.1000e+01],\n",
       "        [-8.6000e+01, -6.2000e+01, -2.4000e+01, -3.0000e+00],\n",
       "        [-1.1100e+02, -7.2000e+01, -3.5000e+01, -1.4000e+01],\n",
       "        [-9.2000e+01, -5.0000e+01, -2.9000e+01, -3.0000e+00],\n",
       "        [-8.2000e+01, -5.1000e+01, -3.0000e+01, -1.0000e+00],\n",
       "        [-1.0000e+02, -6.8000e+01, -4.5000e+01, -1.9000e+01],\n",
       "        [-1.3200e+02, -1.1000e+02, -8.8000e+01, -1.0000e+01],\n",
       "        [-9.6000e+01, -7.1000e+01, -4.4000e+01, -1.4000e+01],\n",
       "        [-1.1400e+02, -6.4000e+01, -3.3000e+01, -1.1000e+01],\n",
       "        [-1.1000e+02, -8.4000e+01, -6.3000e+01, -2.1000e+01],\n",
       "        [-1.1700e+02, -7.7000e+01, -4.6000e+01, -1.8000e+01],\n",
       "        [-1.3000e+02, -1.0500e+02, -4.7000e+01, -2.2000e+01],\n",
       "        [-8.8000e+01, -6.5000e+01, -4.4000e+01, -1.4000e+01],\n",
       "        [-8.4000e+01, -5.5000e+01, -2.4000e+01, -1.0000e+00],\n",
       "        [-1.2200e+02, -8.0000e+01, -5.9000e+01, -2.2000e+01],\n",
       "        [-1.0400e+02, -7.4000e+01, -4.5000e+01, -2.3000e+01],\n",
       "        [-1.3700e+02, -9.0000e+01, -4.5000e+01, -2.4000e+01],\n",
       "        [-1.0400e+02, -7.8000e+01, -5.0000e+01, -2.0000e+01],\n",
       "        [-8.7000e+01, -5.2000e+01, -3.0000e+01, -6.0000e+00],\n",
       "        [-1.0000e+02, -7.2000e+01, -4.6000e+01, -2.0000e+00],\n",
       "        [-8.4000e+01, -6.1000e+01, -3.3000e+01, -8.0000e+00],\n",
       "        [-8.7000e+01, -6.3000e+01, -4.2000e+01, -2.0000e+01],\n",
       "        [-1.0000e+02, -7.3000e+01, -2.6000e+01, -5.0000e+00],\n",
       "        [-9.0000e+01, -6.9000e+01, -4.6000e+01, -4.0000e+00],\n",
       "        [-1.2700e+02, -9.7000e+01, -6.3000e+01, -2.7000e+01],\n",
       "        [-1.1000e+02, -7.8000e+01, -5.3000e+01, -2.2000e+01],\n",
       "        [-1.2400e+02, -9.9000e+01, -7.1000e+01, -2.1000e+01],\n",
       "        [-8.2000e+01, -5.9000e+01, -3.5000e+01, -1.4000e+01],\n",
       "        [-1.1300e+02, -8.9000e+01, -6.2000e+01, -1.5000e+01],\n",
       "        [-7.7000e+01, -5.6000e+01, -3.5000e+01, -6.0000e+00],\n",
       "        [-1.6900e+02, -1.1300e+02, -6.6000e+01, -3.1000e+01],\n",
       "        [-1.5200e+02, -1.1200e+02, -6.9000e+01, -1.7000e+01],\n",
       "        [-1.3100e+02, -8.4000e+01, -4.9000e+01, -2.8000e+01],\n",
       "        [-9.1000e+01, -7.0000e+01, -4.7000e+01, -2.5000e+01],\n",
       "        [-7.9000e+01, -5.7000e+01, -3.4000e+01, -1.0000e+01],\n",
       "        [-8.9000e+01, -5.9000e+01, -3.0000e+01, -8.0000e+00],\n",
       "        [-8.6000e+01, -5.7000e+01, -3.0000e+01, -9.0000e+00],\n",
       "        [-1.1400e+02, -8.2000e+01, -5.7000e+01, -1.5000e+01],\n",
       "        [-9.9000e+01, -6.4000e+01, -4.3000e+01, -1.2000e+01],\n",
       "        [-1.0000e+02, -7.8000e+01, -4.4000e+01, -1.2000e+01],\n",
       "        [-9.4000e+01, -7.2000e+01, -5.0000e+01, -1.0000e+01],\n",
       "        [-1.5400e+02, -1.2600e+02, -7.6000e+01, -2.4000e+01],\n",
       "        [-1.0900e+02, -6.3000e+01, -4.1000e+01, -1.3000e+01],\n",
       "        [-1.1500e+02, -9.3000e+01, -2.8000e+01, -2.0000e+00],\n",
       "        [-1.2000e+02, -9.8000e+01, -6.2000e+01, -1.8000e+01],\n",
       "        [-1.0700e+02, -7.4000e+01, -3.9000e+01, -1.4000e+01],\n",
       "        [-1.2200e+02, -9.2000e+01, -6.7000e+01, -2.7000e+01],\n",
       "        [-1.0200e+02, -7.7000e+01, -5.5000e+01, -2.5000e+01],\n",
       "        [-9.1000e+01, -5.4000e+01, -3.1000e+01, -6.0000e+00],\n",
       "        [-1.1200e+02, -7.6000e+01, -4.9000e+01, -2.2000e+01],\n",
       "        [-1.3400e+02, -1.0300e+02, -7.6000e+01, -5.3000e+01],\n",
       "        [-1.4900e+02, -1.2300e+02, -5.7000e+01, -2.6000e+01],\n",
       "        [-8.0000e+01, -5.7000e+01, -3.0000e+01, -1.0000e+00],\n",
       "        [-1.0300e+02, -7.8000e+01, -3.8000e+01, -1.7000e+01],\n",
       "        [-8.3000e+01, -6.1000e+01, -3.6000e+01, -6.0000e+00],\n",
       "        [-1.2500e+02, -8.8000e+01, -5.2000e+01, -2.7000e+01],\n",
       "        [-1.3600e+02, -1.0100e+02, -7.6000e+01, -3.7000e+01],\n",
       "        [-8.8000e+01, -5.9000e+01, -3.3000e+01, -1.0000e+01],\n",
       "        [-1.1300e+02, -8.6000e+01, -4.2000e+01, -2.0000e+01],\n",
       "        [-1.1600e+02, -8.0000e+01, -5.5000e+01, -3.4000e+01],\n",
       "        [-9.9000e+01, -6.8000e+01, -4.2000e+01, -1.4000e+01],\n",
       "        [-1.3300e+02, -1.0100e+02, -7.9000e+01, -2.0000e+01],\n",
       "        [-1.0600e+02, -8.5000e+01, -6.1000e+01, -3.3000e+01],\n",
       "        [-9.4000e+01, -7.1000e+01, -4.5000e+01, -6.0000e+00],\n",
       "        [-8.8000e+01, -6.4000e+01, -4.2000e+01, -2.1000e+01]])"
      ]
     },
     "execution_count": 24,
     "metadata": {},
     "output_type": "execute_result"
    }
   ],
   "source": [
    "tmp_input"
   ]
  },
  {
   "cell_type": "code",
   "execution_count": 15,
   "id": "39098117",
   "metadata": {},
   "outputs": [],
   "source": [
    "delays = torch.FloatTensor(L,K).uniform_(0, M*Nr)\n",
    "origins = torch.randint(0, L, (L,K))"
   ]
  },
  {
   "cell_type": "code",
   "execution_count": 16,
   "id": "93e9c7dc",
   "metadata": {},
   "outputs": [
    {
     "data": {
      "image/png": "[encoded data removed]",
      "text/plain": [
       "<Figure size 432x288 with 1 Axes>"
      ]
     },
     "metadata": {},
     "output_type": "display_data"
    }
   ],
   "source": [
    "beta = -Nr / lambertw(-1e-3 / math.exp(1), -1).real\n",
    "beta = math.exp(1)\n",
    "impulse_resp = lambda t_: (t_>=0) * t_ / beta * torch.exp(1 - t_ / beta)\n",
    "impulse_resp_deriv = lambda t_: 1/beta * (1 - t_/beta) * torch.exp(1 - t_/beta) * (t_ >= 0)\n",
    "\n",
    "plt.plot(torch.linspace(0, Nr, 100), impulse_resp(torch.linspace(0, Nr, 100)))\n",
    "plt.plot(torch.linspace(0, Nr, 100), impulse_resp_deriv(torch.linspace(0, Nr, 100)))\n",
    "plt.legend([r\"$h(\\cdot)$\", r\"$h'(\\cdot)$\"])\n",
    "plt.show()"
   ]
  },
  {
   "cell_type": "code",
   "execution_count": 9,
   "id": "2b466eff",
   "metadata": {},
   "outputs": [],
   "source": [
    "eps = 1\n",
    "wmax = 0.1\n",
    "firing_thresh, resting_thresh = 1, 0\n",
    "min_slope = (firing_thresh - resting_thresh)/eps"
   ]
  },
  {
   "cell_type": "code",
   "execution_count": 10,
   "id": "30d46e2c",
   "metadata": {},
   "outputs": [],
   "source": [
    "firing_segmentation = segment_firing_sequences(spike_sequences, Nr, eps)\n",
    "at_firing = torch.argwhere(spike_sequences)\n",
    "after_firing = torch.argwhere(firing_segmentation == 0)\n",
    "before_firing = torch.argwhere(firing_segmentation == 1)\n",
    "around_firing = torch.argwhere(firing_segmentation == 2)"
   ]
  },
  {
   "cell_type": "code",
   "execution_count": 11,
   "id": "be980113",
   "metadata": {},
   "outputs": [],
   "source": [
    "# observation matrix\n",
    "C = compute_observation_tensor(spike_sequences, delays, origins, Nr, (impulse_resp, impulse_resp_deriv))"
   ]
  },
  {
   "cell_type": "code",
   "execution_count": 12,
   "id": "6771f8d5",
   "metadata": {},
   "outputs": [],
   "source": [
    "def save_img(filename, itr, levels, slopes, weights, firing_times, orange_region, blue_region):\n",
    "    fig, ax = plt.subplots(3, figsize=(20, 20))\n",
    "    \n",
    "    ax[0].set_title(f\"score (level) at iteration {itr}\")\n",
    "    ax[1].set_title(f\"score (slope) at iteration {itr}\")\n",
    "    ax[2].set_title(f\"weights at iteration {itr}\")\n",
    "\n",
    "    # at firing\n",
    "    for i in range(firing_times.size(0)):\n",
    "        ax[0].axvline(firing_times[i], color='orange')\n",
    "        ax[1].axvline(firing_times[i], color='orange')\n",
    "\n",
    "    # around firing\n",
    "    for i in range(orange_region[0].size(0)):\n",
    "        ax[0].axvspan(orange_region[0][i] - 0.5, orange_region[1][i] + 0.5, facecolor='orange', alpha=0.3)\n",
    "        ax[1].axvspan(orange_region[0][i] - 0.5, orange_region[1][i] + 0.5, facecolor='orange', alpha=0.3)\n",
    "\n",
    "    # before firing\n",
    "    for i in range(blue_region[0].size(0)):\n",
    "        ax[0].axvspan(blue_region[0][i] - 0.5, blue_region[1][i] + 0.5, facecolor='blue', alpha=0.3)\n",
    "        ax[1].axvspan(blue_region[0][i] - 0.5, blue_region[1][i] + 0.5, facecolor='blue', alpha=0.3)\n",
    "\n",
    "    ax[0].axhline(resting_thresh, linestyle=\"dashed\")\n",
    "    ax[0].axhline(firing_thresh, linestyle=\"dashed\")\n",
    "    ax[1].axhline(min_slope, linestyle=\"dashed\")\n",
    "    ax[2].axhline(wmax, linestyle=\"dashed\")\n",
    "    ax[2].axhline(-wmax, linestyle=\"dashed\")\n",
    "        \n",
    "    ax[0].plot(levels, color=\"red\")\n",
    "    ax[1].plot(slopes, color=\"red\")\n",
    "    ax[2].plot(weights, color=\"red\")\n",
    "    \n",
    "    plt.savefig(filename)\n",
    "    plt.close()"
   ]
  },
  {
   "cell_type": "markdown",
   "id": "209d3195",
   "metadata": {},
   "source": [
    "# 1. Box constraint"
   ]
  },
  {
   "cell_type": "code",
   "execution_count": 328,
   "id": "99422727",
   "metadata": {},
   "outputs": [
    {
     "name": "stderr",
     "output_type": "stream",
     "text": [
      "100%|███████████████████████████████████████████| 50/50 [06:59<00:00,  8.39s/it]"
     ]
    },
    {
     "name": "stdout",
     "output_type": "stream",
     "text": [
      "error weight is 0.1894119644165039\n",
      "error at firing time is 0.0\n",
      "error around firing time is 0.04388230323791504\n",
      "error before firing time is 0.0010974971950054168\n"
     ]
    },
    {
     "name": "stderr",
     "output_type": "stream",
     "text": [
      "\n"
     ]
    }
   ],
   "source": [
    "save = False\n",
    "\n",
    "# init with random weights between wmin and wmax\n",
    "mw = torch.FloatTensor(L,K).uniform_(-wmax,wmax)\n",
    "my = (C @ mw.view(1, L, K, 1)).view(N, L, 2)\n",
    "\n",
    "if save:\n",
    "    orange_region = indices_to_start_end(torch.argwhere(firing_segmentation[:,42] == 2).flatten()) \n",
    "    blue_region = indices_to_start_end(torch.argwhere(firing_segmentation[:,42] == 1).flatten())  \n",
    "    firing_times = torch.argwhere(spike_sequences[:,42])\n",
    "    save_img(\"learning/box_learning_0.png\", 0, my[:,42,0], my[:,42,1], mw[42].sort()[0], firing_times, orange_region, blue_region)\n",
    "\n",
    "for itr in tqdm(range(1, 51)):\n",
    "    # priors\n",
    "    ## weights\n",
    "    mw_f, Vw_f = compute_box_prior(mw, -wmax, wmax, 1000)\n",
    "    \n",
    "    ## inputs\n",
    "    my_b = torch.zeros(N, L, 2)\n",
    "    Vy_b = 1e9 * torch.ones(N, L, 2)\n",
    "    my_b[before_firing[:,0],before_firing[:,1],0], Vy_b[before_firing[:,0],before_firing[:,1],0] = compute_box_prior(my[before_firing[:,0],before_firing[:,1],0], None, resting_thresh, 100)\n",
    "    my_b[around_firing[:,0],around_firing[:,1],1], Vy_b[around_firing[:,0],around_firing[:,1],1] = compute_box_prior(my[around_firing[:,0],around_firing[:,1],1], min_slope, None, 1000)\n",
    "    my_b[at_firing[:,0],at_firing[:,1],0], Vy_b[at_firing[:,0],at_firing[:,1],0] = compute_box_prior(my[at_firing[:,0],at_firing[:,1],0], firing_thresh, firing_thresh, 1)\n",
    "        \n",
    "    # posteriors\n",
    "    mw, _, my = compute_posterior(mw_f, Vw_f, my_b, Vy_b, C)\n",
    "    \n",
    "    if save:\n",
    "        save_img(f\"learning/box_learning_{itr}.png\", itr, my[:,42,0], my[:,42,1], mw[42].sort()[0], firing_times, orange_region, blue_region)\n",
    "\n",
    "print(f\"error weight is {(torch.abs(mw-wmax) + torch.abs(mw+wmax) - 2*wmax).sum().item()/L}\")\n",
    "print(f\"error at firing time is {(my_b[at_firing[:,0], at_firing[:,1], 0] - firing_thresh).abs().sum().item()/L}\")\n",
    "print(f\"error around firing time is {torch.maximum(min_slope - my[around_firing[:,0],around_firing[:,1],1], torch.tensor(0)).sum().item()/L}\")\n",
    "print(f\"error before firing time is {torch.maximum(my[before_firing[:,0],before_firing[:,1],0] - resting_thresh, torch.tensor(0)).sum().item()/L}\")"
   ]
  },
  {
   "cell_type": "code",
   "execution_count": 14,
   "id": "16977385",
   "metadata": {},
   "outputs": [
    {
     "data": {
      "text/plain": [
       "(200, 200, 300, 20, 3)"
      ]
     },
     "execution_count": 14,
     "metadata": {},
     "output_type": "execute_result"
    }
   ],
   "source": [
    "N, L, K, Nr, M"
   ]
  },
  {
   "cell_type": "code",
   "execution_count": 15,
   "id": "a23fef3a",
   "metadata": {},
   "outputs": [
    {
     "data": {
      "text/plain": [
       "(1.0, 0.1, 1)"
      ]
     },
     "execution_count": 15,
     "metadata": {},
     "output_type": "execute_result"
    }
   ],
   "source": [
    "min_slope, wmax, eps"
   ]
  },
  {
   "cell_type": "code",
   "execution_count": 17,
   "id": "79d5f58a",
   "metadata": {},
   "outputs": [],
   "source": [
    "# torch.save(mw, \"weights_box.pt\")\n",
    "# torch.save(delays, \"delays.pt\")\n",
    "# torch.save(origins, \"origins.pt\")\n",
    "# torch.save(spike_sequences, \"spike_sequences.pt\")"
   ]
  },
  {
   "cell_type": "code",
   "execution_count": 18,
   "id": "c7a0f3d0",
   "metadata": {},
   "outputs": [],
   "source": [
    "mw = torch.load(\"weights_box.pt\")\n",
    "delays = torch.load(\"delays.pt\")\n",
    "origins = torch.load(\"origins.pt\")\n",
    "spike_sequences = torch.load(\"spike_sequences.pt\")"
   ]
  },
  {
   "cell_type": "code",
   "execution_count": 19,
   "id": "649cc4e9",
   "metadata": {},
   "outputs": [],
   "source": [
    "A = compute_jitter_transition_tensor(spike_sequences, mw, delays, origins, Nr, impulse_resp_deriv)"
   ]
  },
  {
   "cell_type": "code",
   "execution_count": 22,
   "id": "cb6c1b07",
   "metadata": {},
   "outputs": [
    {
     "data": {
      "text/plain": [
       "torch.Size([200, 800, 800])"
      ]
     },
     "execution_count": 22,
     "metadata": {},
     "output_type": "execute_result"
    }
   ],
   "source": [
    "A.size()"
   ]
  },
  {
   "cell_type": "code",
   "execution_count": 23,
   "id": "5d9bac51",
   "metadata": {},
   "outputs": [
    {
     "data": {
      "text/plain": [
       "tensor(0.)"
      ]
     },
     "execution_count": 23,
     "metadata": {},
     "output_type": "execute_result"
    }
   ],
   "source": [
    "torch.linalg.eigvals(A).abs().min()"
   ]
  },
  {
   "cell_type": "code",
   "execution_count": 20,
   "id": "24e165c3",
   "metadata": {},
   "outputs": [
    {
     "data": {
      "text/plain": [
       "tensor([0.0000e+00, 6.4751e-12, 7.0725e-12, 2.3415e-11, 2.9520e-11, 3.2140e-11,\n",
       "        4.3820e-11, 6.1657e-11, 7.9993e-11, 8.8780e-11, 1.2709e-10, 1.5276e-10,\n",
       "        2.9493e-10, 4.0992e-10, 4.3540e-10, 5.0658e-10, 7.5470e-10, 8.9182e-10,\n",
       "        1.0511e-09, 1.9331e-09, 2.0371e-09, 2.0670e-09, 2.1189e-09, 2.4701e-09,\n",
       "        2.5008e-09, 2.7681e-09, 3.1287e-09, 3.2102e-09, 4.0791e-09, 4.6076e-09,\n",
       "        4.7052e-09, 5.3169e-09, 5.3978e-09, 5.7759e-09, 5.9731e-09, 6.4358e-09,\n",
       "        6.6663e-09, 7.5601e-09, 7.9009e-09, 8.7846e-09, 9.8347e-09, 1.0090e-08,\n",
       "        1.2271e-08, 1.3043e-08, 1.3185e-08, 1.4133e-08, 1.4187e-08, 1.4903e-08,\n",
       "        1.5341e-08, 1.5453e-08, 1.7468e-08, 1.8636e-08, 2.3796e-08, 2.4565e-08,\n",
       "        2.4725e-08, 2.5032e-08, 2.5632e-08, 2.7222e-08, 2.8633e-08, 3.0434e-08,\n",
       "        3.3407e-08, 3.3838e-08, 3.4508e-08, 3.6856e-08, 3.8180e-08, 4.0761e-08,\n",
       "        4.1598e-08, 4.4425e-08, 4.9934e-08, 5.0154e-08, 5.1941e-08, 5.5048e-08,\n",
       "        5.7089e-08, 5.8491e-08, 5.9389e-08, 6.1174e-08, 6.1565e-08, 6.4446e-08,\n",
       "        6.7778e-08, 6.7924e-08, 7.2130e-08, 8.4938e-08, 8.5350e-08, 1.0333e-07,\n",
       "        1.0891e-07, 1.1019e-07, 1.2298e-07, 1.3394e-07, 1.3889e-07, 1.4477e-07,\n",
       "        1.5262e-07, 1.5285e-07, 1.5398e-07, 1.5726e-07, 1.6004e-07, 1.6338e-07,\n",
       "        1.7221e-07, 1.8450e-07, 1.9883e-07, 2.0603e-07, 2.5326e-07, 2.5341e-07,\n",
       "        2.5646e-07, 2.5742e-07, 2.8241e-07, 2.9468e-07, 3.0094e-07, 3.4562e-07,\n",
       "        3.9122e-07, 3.9898e-07, 4.0352e-07, 4.2343e-07, 4.2970e-07, 4.6103e-07,\n",
       "        4.9631e-07, 4.9807e-07, 5.1530e-07, 5.5829e-07, 5.6820e-07, 6.0695e-07,\n",
       "        6.2070e-07, 7.4204e-07, 7.6692e-07, 7.8278e-07, 8.4566e-07, 8.6514e-07,\n",
       "        8.6524e-07, 9.0102e-07, 9.1349e-07, 9.8674e-07, 1.0035e-06, 1.0603e-06,\n",
       "        1.0805e-06, 1.0854e-06, 1.3270e-06, 1.3628e-06, 1.4581e-06, 1.4610e-06,\n",
       "        1.4638e-06, 1.5480e-06, 1.7014e-06, 1.7537e-06, 1.7566e-06, 1.7938e-06,\n",
       "        1.8131e-06, 1.8211e-06, 1.8655e-06, 1.8706e-06, 1.9119e-06, 1.9365e-06,\n",
       "        1.9533e-06, 2.2095e-06, 2.2483e-06, 2.5262e-06, 2.6856e-06, 2.9616e-06,\n",
       "        3.1510e-06, 3.5208e-06, 3.6326e-06, 3.6846e-06, 4.3660e-06, 4.4685e-06,\n",
       "        4.6048e-06, 4.7378e-06, 4.8123e-06, 4.8259e-06, 5.1067e-06, 5.1758e-06,\n",
       "        5.5046e-06, 5.5862e-06, 5.9977e-06, 6.1201e-06, 6.6915e-06, 6.7872e-06,\n",
       "        7.5028e-06, 8.0642e-06, 8.7506e-06, 9.0239e-06, 9.7909e-06, 9.8748e-06,\n",
       "        1.0398e-05, 1.0964e-05, 1.1508e-05, 1.2374e-05, 1.2924e-05, 1.4844e-05,\n",
       "        1.6626e-05, 1.7768e-05, 2.3715e-05, 2.4587e-05, 2.7628e-05, 2.8007e-05,\n",
       "        3.6132e-05, 3.6939e-05, 4.9439e-05, 5.3776e-05, 5.5960e-05, 7.1148e-05,\n",
       "        7.1380e-05, 1.0488e-04])"
      ]
     },
     "execution_count": 20,
     "metadata": {},
     "output_type": "execute_result"
    }
   ],
   "source": [
    "eigvals, _  = torch.linalg.eigvals(A).abs().min(dim=1)\n",
    "eigvals.sort()[0]"
   ]
  },
  {
   "cell_type": "code",
   "execution_count": 24,
   "id": "e087e078",
   "metadata": {},
   "outputs": [
    {
     "data": {
      "text/plain": [
       "tensor(1.0000)"
      ]
     },
     "execution_count": 24,
     "metadata": {},
     "output_type": "execute_result"
    }
   ],
   "source": [
    "Phi = torch.eye((M+1)*L)\n",
    "\n",
    "for n in range(N):\n",
    "    Phi = A[n] @ Phi\n",
    "    \n",
    "torch.linalg.eigvals(Phi).abs().max()"
   ]
  },
  {
   "cell_type": "code",
   "execution_count": 25,
   "id": "89b40e72",
   "metadata": {},
   "outputs": [
    {
     "data": {
      "text/plain": [
       "tensor(1.0000)"
      ]
     },
     "execution_count": 25,
     "metadata": {},
     "output_type": "execute_result"
    }
   ],
   "source": [
    "Phi = torch.eye((M+1)*L)\n",
    "\n",
    "for n in range(N):\n",
    "    Phi = A[(10 + n)%N] @ Phi\n",
    "    \n",
    "torch.linalg.eigvals(Phi).abs().max()"
   ]
  },
  {
   "cell_type": "code",
   "execution_count": 26,
   "id": "f7c14e39",
   "metadata": {},
   "outputs": [
    {
     "name": "stdout",
     "output_type": "stream",
     "text": [
      "0 tensor(1.0000)\n",
      "1 tensor(1.0000)\n",
      "2 tensor(1.0000)\n",
      "3 tensor(1.0000)\n",
      "4 tensor(1.0000)\n",
      "5 tensor(1.0000)\n",
      "6 tensor(1.0000)\n",
      "7 tensor(1.0000)\n",
      "8 tensor(1.0000)\n",
      "9 tensor(1.0000)\n",
      "10 tensor(1.0000)\n",
      "11 tensor(1.0000)\n",
      "12 tensor(1.)\n",
      "13 tensor(1.0000)\n",
      "14 tensor(1.0000)\n",
      "15 tensor(1.0000)\n",
      "16 tensor(1.0000)\n",
      "17 tensor(1.0000)\n",
      "18 tensor(1.0000)\n",
      "19 tensor(1.0000)\n",
      "20 tensor(1.0000)\n",
      "21 tensor(1.0000)\n",
      "22 tensor(1.0000)\n",
      "23 tensor(1.0000)\n",
      "24 tensor(1.0000)\n",
      "25 tensor(1.0000)\n",
      "26 tensor(1.0000)\n",
      "27 tensor(1.)\n",
      "28 tensor(1.0000)\n",
      "29 tensor(1.0000)\n",
      "30 tensor(1.0000)\n",
      "31 tensor(1.0000)\n",
      "32 tensor(1.0000)\n",
      "33 tensor(1.0000)\n",
      "34 tensor(1.0000)\n",
      "35 tensor(1.0000)\n",
      "36 tensor(1.0000)\n",
      "37 tensor(1.0000)\n",
      "38 tensor(1.0000)\n",
      "39 tensor(1.0000)\n",
      "40 tensor(1.0000)\n",
      "41 tensor(1.0000)\n",
      "42 tensor(1.0000)\n",
      "43 tensor(1.0000)\n",
      "44 tensor(1.0000)\n",
      "45 tensor(1.0000)\n",
      "46 tensor(1.0000)\n",
      "47 tensor(1.0000)\n",
      "48 tensor(1.0000)\n",
      "49 tensor(1.0000)\n",
      "50 tensor(1.0000)\n",
      "51 tensor(1.0000)\n",
      "52 tensor(1.0000)\n",
      "53 tensor(1.0000)\n",
      "54 tensor(1.0000)\n",
      "55 tensor(1.0000)\n",
      "56 tensor(1.0000)\n",
      "57 tensor(1.0000)\n",
      "58 tensor(1.0000)\n",
      "59 tensor(1.0000)\n",
      "60 tensor(1.0000)\n",
      "61 tensor(1.0000)\n",
      "62 tensor(1.0000)\n",
      "63 tensor(1.0000)\n",
      "64 tensor(1.0000)\n",
      "65 tensor(1.0000)\n",
      "66 tensor(1.0000)\n",
      "67 tensor(1.0000)\n",
      "68 tensor(1.0000)\n",
      "69 tensor(1.0000)\n",
      "70 tensor(1.0000)\n",
      "71 tensor(1.0000)\n",
      "72 tensor(1.)\n",
      "73 tensor(1.0000)\n",
      "74 tensor(1.0000)\n",
      "75 tensor(1.0000)\n",
      "76 tensor(1.0000)\n",
      "77 tensor(1.0000)\n",
      "78 tensor(1.0000)\n",
      "79 tensor(1.0000)\n",
      "80 tensor(1.0000)\n",
      "81 tensor(1.0000)\n",
      "82 tensor(1.0000)\n",
      "83 tensor(1.)\n",
      "84 tensor(1.0000)\n",
      "85 tensor(1.0000)\n",
      "86 tensor(1.)\n",
      "87 tensor(1.0000)\n",
      "88 tensor(1.0000)\n",
      "89 tensor(1.0000)\n",
      "90 tensor(1.0000)\n",
      "91 tensor(1.0000)\n",
      "92 tensor(1.0000)\n",
      "93 tensor(1.0000)\n",
      "94 tensor(1.0000)\n",
      "95 tensor(1.0000)\n",
      "96 tensor(1.0000)\n",
      "97 tensor(1.0000)\n",
      "98 tensor(1.0000)\n",
      "99 tensor(1.0000)\n",
      "100 tensor(1.0000)\n",
      "101 tensor(1.0000)\n",
      "102 tensor(1.0000)\n",
      "103 tensor(1.0000)\n",
      "104 tensor(1.)\n",
      "105 tensor(1.0000)\n",
      "106 tensor(1.0000)\n",
      "107 tensor(1.0000)\n",
      "108 tensor(1.0000)\n",
      "109 tensor(1.0000)\n",
      "110 tensor(1.0000)\n",
      "111 tensor(1.0000)\n",
      "112 tensor(1.0000)\n",
      "113 tensor(1.0000)\n",
      "114 tensor(1.0000)\n",
      "115 tensor(1.0000)\n",
      "116 tensor(1.0000)\n",
      "117 tensor(1.)\n",
      "118 tensor(1.0000)\n",
      "119 tensor(1.0000)\n",
      "120 tensor(1.0000)\n",
      "121 tensor(1.0000)\n",
      "122 tensor(1.0000)\n",
      "123 tensor(1.0000)\n",
      "124 tensor(1.0000)\n",
      "125 tensor(1.0000)\n",
      "126 tensor(1.0000)\n",
      "127 tensor(1.0000)\n",
      "128 tensor(1.0000)\n",
      "129 tensor(1.0000)\n",
      "130 tensor(1.0000)\n",
      "131 tensor(1.)\n",
      "132 tensor(1.0000)\n",
      "133 tensor(1.0000)\n",
      "134 tensor(1.0000)\n",
      "135 tensor(1.0000)\n",
      "136 tensor(1.0000)\n",
      "137 tensor(1.0000)\n",
      "138 tensor(1.0000)\n",
      "139 tensor(1.0000)\n",
      "140 tensor(1.0000)\n",
      "141 tensor(1.0000)\n",
      "142 tensor(1.0000)\n",
      "143 tensor(1.0000)\n",
      "144 tensor(1.0000)\n",
      "145 tensor(1.0000)\n",
      "146 tensor(1.0000)\n",
      "147 tensor(1.0000)\n",
      "148 tensor(1.)\n",
      "149 tensor(1.0000)\n",
      "150 tensor(1.)\n",
      "151 tensor(1.0000)\n",
      "152 tensor(1.0000)\n",
      "153 tensor(1.0000)\n",
      "154 tensor(1.0000)\n",
      "155 tensor(1.0000)\n",
      "156 tensor(1.0000)\n",
      "157 tensor(1.0000)\n",
      "158 tensor(1.0000)\n",
      "159 tensor(1.0000)\n",
      "160 tensor(1.0000)\n",
      "161 tensor(1.0000)\n",
      "162 tensor(1.0000)\n",
      "163 tensor(1.0000)\n",
      "164 tensor(1.0000)\n",
      "165 tensor(1.0000)\n",
      "166 tensor(1.)\n",
      "167 tensor(1.0000)\n",
      "168 tensor(1.0000)\n",
      "169 tensor(1.0000)\n",
      "170 tensor(1.0000)\n",
      "171 tensor(1.0000)\n",
      "172 tensor(1.0000)\n",
      "173 tensor(1.0000)\n",
      "174 tensor(1.)\n",
      "175 tensor(1.0000)\n",
      "176 tensor(1.0000)\n",
      "177 tensor(1.0000)\n",
      "178 tensor(1.0000)\n",
      "179 tensor(1.0000)\n",
      "180 tensor(1.0000)\n",
      "181 tensor(1.0000)\n",
      "182 tensor(1.0000)\n",
      "183 tensor(1.0000)\n",
      "184 tensor(1.)\n",
      "185 tensor(1.0000)\n",
      "186 tensor(1.0000)\n",
      "187 tensor(1.0000)\n",
      "188 tensor(1.)\n",
      "189 tensor(1.0000)\n",
      "190 tensor(1.0000)\n",
      "191 tensor(1.0000)\n",
      "192 tensor(1.0000)\n",
      "193 tensor(1.0000)\n",
      "194 tensor(1.0000)\n",
      "195 tensor(1.0000)\n",
      "196 tensor(1.0000)\n",
      "197 tensor(1.0000)\n",
      "198 tensor(1.0000)\n",
      "199 tensor(1.0000)\n"
     ]
    }
   ],
   "source": [
    "for n0 in range(N):\n",
    "    Phi = torch.eye((M+1)*L)\n",
    "    for n in range(N):\n",
    "        Phi = A[(n0 + n)%N] @ Phi\n",
    "    print(n0, torch.linalg.eigvals(Phi).abs().max())"
   ]
  },
  {
   "cell_type": "code",
   "execution_count": null,
   "id": "a6e4494e",
   "metadata": {},
   "outputs": [],
   "source": []
  },
  {
   "cell_type": "code",
   "execution_count": null,
   "id": "53f5d73c",
   "metadata": {},
   "outputs": [],
   "source": []
  },
  {
   "cell_type": "code",
   "execution_count": 29,
   "id": "3bfc1cb5",
   "metadata": {},
   "outputs": [],
   "source": [
    "eigvals = torch.linalg.eigvals(Phi).abs()"
   ]
  },
  {
   "cell_type": "code",
   "execution_count": 35,
   "id": "ea94e7fc",
   "metadata": {},
   "outputs": [
    {
     "data": {
      "text/plain": [
       "(tensor([[ 2.5813e-03,  5.3277e-05,  9.5901e-09,  ...,  3.2279e-03,\n",
       "          -4.3388e-06, -9.8587e-10],\n",
       "         [ 5.3277e-05,  2.0275e-06,  3.7194e-10,  ...,  1.0360e-04,\n",
       "          -1.4617e-07, -3.3362e-11],\n",
       "         [ 9.5901e-09,  3.7194e-10,  6.8608e-14,  ...,  1.8768e-08,\n",
       "          -2.6502e-11, -6.0477e-15],\n",
       "         ...,\n",
       "         [ 3.2279e-03,  1.0360e-04,  1.8768e-08,  ...,  7.0613e-03,\n",
       "          -8.6383e-06, -1.9659e-09],\n",
       "         [-4.3388e-06, -1.4617e-07, -2.6502e-11,  ..., -8.6383e-06,\n",
       "           1.3944e-08,  3.1863e-12],\n",
       "         [-9.8587e-10, -3.3362e-11, -6.0477e-15,  ..., -1.9659e-09,\n",
       "           3.1863e-12,  7.2851e-16]]),\n",
       " tensor([[0.0037, 0.0037, 0.0038,  ..., 0.0037, 0.0037, 0.0037],\n",
       "         [0.0037, 0.0039, 0.0038,  ..., 0.0037, 0.0037, 0.0038],\n",
       "         [0.0038, 0.0038, 0.0204,  ..., 0.0037, 0.0036, 0.0036],\n",
       "         ...,\n",
       "         [0.0037, 0.0037, 0.0037,  ..., 0.0037, 0.0037, 0.0036],\n",
       "         [0.0037, 0.0037, 0.0036,  ..., 0.0037, 0.0040, 0.0037],\n",
       "         [0.0037, 0.0038, 0.0036,  ..., 0.0036, 0.0037, 0.0050]]))"
      ]
     },
     "execution_count": 35,
     "metadata": {},
     "output_type": "execute_result"
    }
   ],
   "source": [
    "Phi.T@Phi, Phi@Phi.T"
   ]
  },
  {
   "cell_type": "code",
   "execution_count": 32,
   "id": "6e49b7f3",
   "metadata": {},
   "outputs": [
    {
     "data": {
      "text/plain": [
       "tensor([1.0000e+00, 4.4649e-03, 4.4649e-03, 4.4493e-03, 4.4493e-03, 4.3859e-03,\n",
       "        4.3859e-03, 4.2346e-03, 4.2346e-03, 4.0809e-03, 4.0809e-03, 3.9513e-03,\n",
       "        3.9513e-03, 3.8223e-03, 3.8223e-03, 3.7932e-03, 3.7932e-03, 3.6084e-03,\n",
       "        3.6084e-03, 3.5817e-03, 3.5817e-03, 3.4467e-03, 3.4467e-03, 3.3708e-03,\n",
       "        3.3708e-03, 3.2936e-03, 3.2936e-03, 3.2692e-03, 3.0999e-03, 3.0999e-03,\n",
       "        3.0942e-03, 3.0942e-03, 3.0881e-03, 3.0881e-03, 3.0880e-03, 3.0828e-03,\n",
       "        3.0828e-03, 3.0535e-03, 3.0535e-03, 2.9406e-03, 2.9406e-03, 2.7559e-03,\n",
       "        2.7559e-03, 2.7402e-03, 2.7402e-03, 2.6457e-03, 2.6457e-03, 2.5926e-03,\n",
       "        2.5926e-03, 2.5696e-03, 2.5696e-03, 2.5642e-03, 2.5642e-03, 2.5396e-03,\n",
       "        2.5396e-03, 2.5317e-03, 2.5317e-03, 2.4482e-03, 2.4482e-03, 2.4123e-03,\n",
       "        2.4123e-03, 2.4042e-03, 2.1760e-03, 2.1760e-03, 2.1750e-03, 2.1750e-03,\n",
       "        2.1172e-03, 2.1172e-03, 2.0428e-03, 2.0428e-03, 2.0333e-03, 2.0333e-03,\n",
       "        1.9890e-03, 1.9890e-03, 1.9637e-03, 1.9450e-03, 1.9450e-03, 1.9053e-03,\n",
       "        1.8626e-03, 1.8626e-03, 1.8086e-03, 1.8086e-03, 1.7127e-03, 1.7127e-03,\n",
       "        1.7091e-03, 1.7091e-03, 1.7044e-03, 1.7044e-03, 1.6724e-03, 1.6610e-03,\n",
       "        1.6610e-03, 1.6421e-03, 1.6421e-03, 1.5225e-03, 1.5225e-03, 1.5102e-03,\n",
       "        1.5102e-03, 1.4631e-03, 1.4631e-03, 1.4350e-03, 1.4350e-03, 1.4342e-03,\n",
       "        1.4342e-03, 1.3973e-03, 1.3973e-03, 1.3826e-03, 1.3826e-03, 1.3520e-03,\n",
       "        1.3520e-03, 1.3495e-03, 1.3495e-03, 1.2606e-03, 1.2606e-03, 1.2299e-03,\n",
       "        1.2299e-03, 1.2256e-03, 1.2256e-03, 1.2228e-03, 1.2228e-03, 1.1608e-03,\n",
       "        1.1608e-03, 1.1397e-03, 1.1397e-03, 1.1139e-03, 1.1139e-03, 1.0674e-03,\n",
       "        1.0645e-03, 1.0645e-03, 1.0177e-03, 1.0177e-03, 9.9661e-04, 9.9661e-04,\n",
       "        9.8177e-04, 9.8177e-04, 9.7945e-04, 9.7945e-04, 9.5724e-04, 9.5724e-04,\n",
       "        9.2616e-04, 8.8794e-04, 8.8794e-04, 8.8148e-04, 8.8148e-04, 8.7437e-04,\n",
       "        8.7437e-04, 8.4963e-04, 8.4963e-04, 8.1206e-04, 8.1206e-04, 7.9690e-04,\n",
       "        7.9690e-04, 7.8690e-04, 7.7159e-04, 7.7159e-04, 7.5678e-04, 7.5678e-04,\n",
       "        6.9252e-04, 6.9252e-04, 6.8808e-04, 6.8808e-04, 6.4639e-04, 6.4639e-04,\n",
       "        6.4005e-04, 6.4005e-04, 6.3454e-04, 6.3454e-04, 6.2866e-04, 6.2866e-04,\n",
       "        6.1803e-04, 6.1803e-04, 5.8738e-04, 5.8738e-04, 5.8636e-04, 5.8636e-04,\n",
       "        5.6938e-04, 5.6938e-04, 5.5646e-04, 5.5646e-04, 5.4746e-04, 5.4746e-04,\n",
       "        5.1099e-04, 5.1099e-04, 5.0423e-04, 5.0423e-04, 4.9597e-04, 4.9597e-04,\n",
       "        4.7290e-04, 4.7290e-04, 4.5108e-04, 4.5108e-04, 4.4691e-04, 4.4691e-04,\n",
       "        4.1550e-04, 4.1550e-04, 4.0076e-04, 4.0076e-04, 4.0055e-04, 4.0055e-04,\n",
       "        3.9595e-04, 3.9595e-04, 3.9497e-04, 3.9497e-04, 3.8956e-04, 3.8956e-04,\n",
       "        3.7872e-04, 3.6981e-04, 3.6981e-04, 3.3865e-04, 3.1526e-04, 3.1526e-04,\n",
       "        3.0485e-04, 3.0485e-04, 3.0020e-04, 3.0020e-04, 2.9778e-04, 2.9778e-04,\n",
       "        2.9458e-04, 2.9458e-04, 2.8322e-04, 2.8322e-04, 2.8086e-04, 2.8086e-04,\n",
       "        2.7989e-04, 2.7989e-04, 2.7105e-04, 2.6726e-04, 2.6726e-04, 2.5522e-04,\n",
       "        2.5522e-04, 2.4246e-04, 2.4246e-04, 2.3962e-04, 2.3962e-04, 2.3177e-04,\n",
       "        2.0670e-04, 2.0670e-04, 2.0601e-04, 2.0500e-04, 2.0500e-04, 2.0371e-04,\n",
       "        2.0371e-04, 1.8410e-04, 1.8410e-04, 1.7877e-04, 1.7877e-04, 1.7653e-04,\n",
       "        1.7653e-04, 1.6301e-04, 1.6301e-04, 1.5116e-04, 1.5116e-04, 1.4829e-04,\n",
       "        1.3562e-04, 1.3562e-04, 1.3383e-04, 1.3383e-04, 1.3183e-04, 1.3183e-04,\n",
       "        1.2668e-04, 1.2668e-04, 1.1824e-04, 1.1460e-04, 1.1460e-04, 1.1242e-04,\n",
       "        1.1242e-04, 1.1191e-04, 1.1191e-04, 1.0225e-04, 1.0225e-04, 1.0118e-04,\n",
       "        1.0118e-04, 8.8400e-05, 8.2704e-05, 8.2704e-05, 8.1308e-05, 8.1308e-05,\n",
       "        7.8078e-05, 7.8078e-05, 7.7318e-05, 7.7318e-05, 6.6460e-05, 6.6460e-05,\n",
       "        6.0035e-05, 6.0035e-05, 5.9772e-05, 5.9772e-05, 5.5849e-05, 5.3217e-05,\n",
       "        5.3217e-05, 5.0700e-05, 5.0700e-05, 4.4211e-05, 4.4211e-05, 4.4037e-05,\n",
       "        4.4037e-05, 4.2917e-05, 4.2917e-05, 3.8641e-05, 3.7144e-05, 3.7144e-05,\n",
       "        3.6758e-05, 3.6758e-05, 3.4603e-05, 3.4603e-05, 3.3752e-05, 3.3752e-05,\n",
       "        3.2996e-05, 3.2996e-05, 3.0879e-05, 3.0879e-05, 2.7529e-05, 2.7529e-05,\n",
       "        2.0966e-05, 2.0966e-05, 2.0469e-05, 1.9357e-05, 1.9357e-05, 1.8285e-05,\n",
       "        1.8285e-05, 1.7395e-05, 1.6488e-05, 1.6488e-05, 1.5095e-05, 1.5095e-05,\n",
       "        1.3474e-05, 1.2480e-05, 1.2480e-05, 1.1037e-05, 1.1037e-05, 1.0884e-05,\n",
       "        1.0884e-05, 9.4134e-06, 9.4134e-06, 7.0078e-06, 7.0078e-06, 6.6161e-06,\n",
       "        6.6161e-06, 6.0592e-06, 6.0592e-06, 5.9698e-06, 5.9698e-06, 5.9671e-06,\n",
       "        5.9671e-06, 5.4171e-06, 5.4171e-06, 3.8949e-06, 3.8949e-06, 3.8752e-06,\n",
       "        3.6772e-06, 3.6772e-06, 3.6665e-06, 3.6665e-06, 2.7987e-06, 2.7987e-06,\n",
       "        2.6465e-06, 1.7875e-06, 1.7875e-06, 1.7351e-06, 1.3732e-06, 1.3732e-06,\n",
       "        1.3374e-06, 1.1050e-06, 1.0393e-06, 9.7053e-07, 9.7053e-07, 7.6703e-07,\n",
       "        7.6703e-07, 5.3714e-07, 5.3714e-07, 4.9271e-07, 4.5105e-07, 4.5105e-07,\n",
       "        4.3641e-07, 2.8806e-07, 2.5336e-07, 2.5336e-07, 2.1527e-07, 1.3371e-07,\n",
       "        1.3331e-07, 1.0998e-07, 1.0427e-07, 1.0427e-07, 8.5465e-08, 8.5465e-08,\n",
       "        7.2526e-08, 7.2526e-08, 5.8897e-08, 5.8897e-08, 5.0816e-08, 4.7331e-08,\n",
       "        4.5902e-08, 4.5902e-08, 3.7877e-08, 3.6505e-08, 3.6505e-08, 3.2628e-08,\n",
       "        3.1109e-08, 3.1109e-08, 2.7226e-08, 2.7226e-08, 2.5728e-08, 2.5728e-08,\n",
       "        2.5315e-08, 2.5315e-08, 2.4628e-08, 2.4628e-08, 2.3814e-08, 2.2028e-08,\n",
       "        2.2028e-08, 1.7479e-08, 1.7479e-08, 1.5102e-08, 1.5102e-08, 1.2728e-08,\n",
       "        1.1167e-08, 1.1000e-08, 1.1000e-08, 1.0928e-08, 1.0928e-08, 9.9938e-09,\n",
       "        9.9938e-09, 9.9648e-09, 9.9367e-09, 9.9367e-09, 9.0492e-09, 9.0492e-09,\n",
       "        8.5347e-09, 8.5347e-09, 8.3756e-09, 8.3756e-09, 7.4380e-09, 7.4380e-09,\n",
       "        6.7348e-09, 6.5614e-09, 6.5614e-09, 5.9389e-09, 5.9389e-09, 5.6783e-09,\n",
       "        5.4112e-09, 5.4112e-09, 5.3889e-09, 5.3889e-09, 4.9605e-09, 4.9605e-09,\n",
       "        4.5972e-09, 4.5972e-09, 4.3595e-09, 4.3595e-09, 3.8859e-09, 3.8859e-09,\n",
       "        3.6363e-09, 3.6363e-09, 3.3494e-09, 3.3494e-09, 3.1572e-09, 3.1572e-09,\n",
       "        2.7870e-09, 2.7870e-09, 2.7790e-09, 2.6452e-09, 2.6452e-09, 2.3537e-09,\n",
       "        2.3537e-09, 2.1844e-09, 2.1844e-09, 2.1453e-09, 2.1453e-09, 2.0052e-09,\n",
       "        2.0052e-09, 1.7906e-09, 1.7906e-09, 1.6780e-09, 1.5854e-09, 1.5854e-09,\n",
       "        1.5499e-09, 1.5499e-09, 1.5274e-09, 1.5274e-09, 1.4595e-09, 1.4595e-09,\n",
       "        1.1844e-09, 1.1844e-09, 1.1061e-09, 1.1061e-09, 1.1054e-09, 1.1054e-09,\n",
       "        1.0625e-09, 1.0625e-09, 1.0500e-09, 1.0500e-09, 9.9274e-10, 9.9274e-10,\n",
       "        9.6696e-10, 9.6696e-10, 9.5671e-10, 9.5671e-10, 9.3302e-10, 9.3302e-10,\n",
       "        8.4408e-10, 8.3143e-10, 8.3143e-10, 7.9508e-10, 7.9508e-10, 7.6982e-10,\n",
       "        7.2114e-10, 7.2114e-10, 7.0756e-10, 7.0756e-10, 7.0275e-10, 7.0275e-10,\n",
       "        6.3526e-10, 5.8181e-10, 5.8181e-10, 5.7886e-10, 5.7886e-10, 5.4279e-10,\n",
       "        5.4279e-10, 4.9534e-10, 4.9534e-10, 4.8972e-10, 4.8972e-10, 4.8642e-10,\n",
       "        4.8642e-10, 4.7107e-10, 4.7107e-10, 4.3947e-10, 4.3947e-10, 4.3512e-10,\n",
       "        4.3512e-10, 4.2642e-10, 4.1749e-10, 4.1749e-10, 3.8538e-10, 3.8538e-10,\n",
       "        3.6406e-10, 3.6406e-10, 3.5838e-10, 3.5838e-10, 3.3578e-10, 3.3578e-10,\n",
       "        3.2271e-10, 3.0659e-10, 3.0659e-10, 2.9589e-10, 2.9589e-10, 2.9095e-10,\n",
       "        2.9095e-10, 2.8690e-10, 2.8690e-10, 2.8250e-10, 2.8250e-10, 2.7416e-10,\n",
       "        2.7416e-10, 2.7330e-10, 2.7330e-10, 2.6537e-10, 2.6537e-10, 2.6182e-10,\n",
       "        2.6182e-10, 2.5104e-10, 2.5104e-10, 2.2728e-10, 2.1116e-10, 2.1116e-10,\n",
       "        1.9844e-10, 1.9844e-10, 1.8762e-10, 1.8762e-10, 1.8077e-10, 1.8077e-10,\n",
       "        1.7897e-10, 1.7897e-10, 1.7799e-10, 1.7799e-10, 1.6355e-10, 1.6355e-10,\n",
       "        1.6306e-10, 1.6306e-10, 1.5733e-10, 1.5733e-10, 1.5509e-10, 1.5509e-10,\n",
       "        1.5062e-10, 1.5062e-10, 1.4889e-10, 1.4208e-10, 1.4208e-10, 1.2091e-10,\n",
       "        1.2091e-10, 1.1011e-10, 1.1011e-10, 1.0931e-10, 1.0931e-10, 1.0435e-10,\n",
       "        1.0333e-10, 1.0333e-10, 1.0013e-10, 1.0013e-10, 9.7714e-11, 9.7714e-11,\n",
       "        9.6844e-11, 9.6844e-11, 8.8701e-11, 8.8701e-11, 8.2411e-11, 8.2411e-11,\n",
       "        8.1305e-11, 8.1305e-11, 7.9889e-11, 7.6298e-11, 6.6599e-11, 6.6599e-11,\n",
       "        6.5314e-11, 6.5314e-11, 6.3325e-11, 6.3325e-11, 6.1363e-11, 6.1363e-11,\n",
       "        6.1123e-11, 6.1123e-11, 5.6120e-11, 5.6120e-11, 5.1681e-11, 5.1681e-11,\n",
       "        4.6982e-11, 4.6982e-11, 4.6753e-11, 4.6753e-11, 3.9145e-11, 3.9145e-11,\n",
       "        3.6851e-11, 3.6851e-11, 3.6469e-11, 3.6469e-11, 3.5023e-11, 3.5023e-11,\n",
       "        2.7117e-11, 2.7117e-11, 2.5710e-11, 2.5710e-11, 2.5507e-11, 2.5259e-11,\n",
       "        2.1756e-11, 2.1756e-11, 2.0745e-11, 2.0745e-11, 2.0554e-11, 2.0554e-11,\n",
       "        1.8032e-11, 1.8032e-11, 1.5639e-11, 1.5639e-11, 1.4753e-11, 1.4753e-11,\n",
       "        1.2493e-11, 1.1599e-11, 1.1599e-11, 1.0719e-11, 1.0719e-11, 8.7746e-12,\n",
       "        8.7746e-12, 8.4719e-12, 8.4719e-12, 7.1390e-12, 7.0151e-12, 7.0151e-12,\n",
       "        6.6510e-12, 6.6510e-12, 6.4741e-12, 5.7690e-12, 5.7690e-12, 5.7184e-12,\n",
       "        5.7184e-12, 5.6669e-12, 5.6669e-12, 5.4370e-12, 5.2154e-12, 5.2154e-12,\n",
       "        4.8941e-12, 4.0932e-12, 4.0932e-12, 3.4368e-12, 3.4368e-12, 3.0037e-12,\n",
       "        2.9957e-12, 2.9957e-12, 2.8279e-12, 2.8279e-12, 2.7058e-12, 2.7058e-12,\n",
       "        2.4770e-12, 2.4770e-12, 2.2651e-12, 2.1030e-12, 2.1030e-12, 2.0045e-12,\n",
       "        2.0045e-12, 1.7936e-12, 1.4628e-12, 1.4628e-12, 1.4144e-12, 1.4144e-12,\n",
       "        1.2762e-12, 1.2762e-12, 1.2306e-12, 1.2306e-12, 1.1413e-12, 9.5810e-13,\n",
       "        9.5810e-13, 9.5391e-13, 9.5215e-13, 9.5215e-13, 8.8573e-13, 8.8573e-13,\n",
       "        6.6815e-13, 6.6815e-13, 5.9111e-13, 5.9111e-13, 4.4736e-13, 4.0606e-13,\n",
       "        4.0606e-13, 3.1145e-13, 3.1145e-13, 3.0152e-13, 3.0152e-13, 2.8379e-13,\n",
       "        2.8379e-13, 2.3690e-13, 2.3690e-13, 1.8700e-13, 1.8700e-13, 1.5951e-13,\n",
       "        1.5951e-13, 1.5588e-13, 1.5588e-13, 1.1255e-13, 9.9031e-14, 9.9031e-14,\n",
       "        9.0821e-14, 9.0821e-14, 6.4751e-14, 6.4751e-14, 6.3636e-14, 6.2647e-14,\n",
       "        6.2647e-14, 3.9096e-14, 3.7647e-14, 3.7647e-14, 3.1068e-14, 3.1068e-14,\n",
       "        2.9312e-14, 2.3696e-14, 2.3696e-14, 1.8054e-14, 1.4273e-14, 1.3960e-14,\n",
       "        1.3960e-14, 1.3109e-14, 1.3109e-14, 7.3733e-15, 7.3733e-15, 5.4445e-15,\n",
       "        5.4445e-15, 4.7724e-15, 4.7724e-15, 4.3340e-15, 3.5649e-15, 3.5649e-15,\n",
       "        2.2996e-15, 2.2444e-15, 2.2444e-15, 2.2255e-15, 2.2255e-15, 1.7840e-15,\n",
       "        1.7840e-15, 1.3617e-15, 1.3617e-15, 1.0347e-15, 1.0347e-15, 5.3915e-16,\n",
       "        3.6764e-16, 3.6764e-16, 3.6702e-16, 3.6702e-16, 2.9242e-16, 2.7385e-16,\n",
       "        2.3376e-16, 2.3376e-16, 1.2486e-16, 8.2283e-17, 8.2283e-17, 5.3024e-17,\n",
       "        5.3024e-17, 4.9726e-17, 1.3509e-17, 3.8010e-18, 3.2475e-18, 1.8679e-18,\n",
       "        4.4575e-19, 1.9355e-19])"
      ]
     },
     "execution_count": 32,
     "metadata": {},
     "output_type": "execute_result"
    }
   ],
   "source": [
    "eigvals.sort(descending=True)[0]"
   ]
  },
  {
   "cell_type": "markdown",
   "id": "d2a500da",
   "metadata": {},
   "source": [
    "# 2. M-level constraint"
   ]
  },
  {
   "cell_type": "code",
   "execution_count": 16,
   "id": "d009e87d",
   "metadata": {},
   "outputs": [
    {
     "ename": "RuntimeError",
     "evalue": "The size of tensor a (100) must match the size of tensor b (200) at non-singleton dimension 0",
     "output_type": "error",
     "traceback": [
      "\u001b[0;31m---------------------------------------------------------------------------\u001b[0m",
      "\u001b[0;31mRuntimeError\u001b[0m                              Traceback (most recent call last)",
      "\u001b[0;32m/var/folders/p1/wl8__y5x6jgfhz_d47k5gq9m0000gn/T/ipykernel_8850/702341276.py\u001b[0m in \u001b[0;36m<module>\u001b[0;34m\u001b[0m\n\u001b[1;32m      3\u001b[0m \u001b[0mmws\u001b[0m \u001b[0;34m=\u001b[0m \u001b[0mtorch\u001b[0m\u001b[0;34m.\u001b[0m\u001b[0mFloatTensor\u001b[0m\u001b[0;34m(\u001b[0m\u001b[0mL\u001b[0m\u001b[0;34m,\u001b[0m\u001b[0mM\u001b[0m\u001b[0;34m-\u001b[0m\u001b[0;36m1\u001b[0m\u001b[0;34m,\u001b[0m\u001b[0mK\u001b[0m\u001b[0;34m)\u001b[0m\u001b[0;34m.\u001b[0m\u001b[0mnormal_\u001b[0m\u001b[0;34m(\u001b[0m\u001b[0;34m(\u001b[0m\u001b[0mwmin\u001b[0m \u001b[0;34m+\u001b[0m \u001b[0mwmax\u001b[0m\u001b[0;34m)\u001b[0m\u001b[0;34m/\u001b[0m\u001b[0;34m(\u001b[0m\u001b[0mM\u001b[0m\u001b[0;34m-\u001b[0m\u001b[0;36m1\u001b[0m\u001b[0;34m)\u001b[0m\u001b[0;34m,\u001b[0m \u001b[0;34m(\u001b[0m\u001b[0mwmax\u001b[0m \u001b[0;34m-\u001b[0m \u001b[0mwmin\u001b[0m\u001b[0;34m)\u001b[0m\u001b[0;34m/\u001b[0m\u001b[0;34m(\u001b[0m\u001b[0mM\u001b[0m\u001b[0;34m-\u001b[0m\u001b[0;36m1\u001b[0m\u001b[0;34m)\u001b[0m \u001b[0;34m*\u001b[0m \u001b[0;36m1e-2\u001b[0m\u001b[0;34m)\u001b[0m\u001b[0;34m\u001b[0m\u001b[0;34m\u001b[0m\u001b[0m\n\u001b[1;32m      4\u001b[0m \u001b[0mmw\u001b[0m \u001b[0;34m=\u001b[0m \u001b[0mmws\u001b[0m\u001b[0;34m.\u001b[0m\u001b[0msum\u001b[0m\u001b[0;34m(\u001b[0m\u001b[0mdim\u001b[0m\u001b[0;34m=\u001b[0m\u001b[0;36m1\u001b[0m\u001b[0;34m)\u001b[0m\u001b[0;34m\u001b[0m\u001b[0;34m\u001b[0m\u001b[0m\n\u001b[0;32m----> 5\u001b[0;31m \u001b[0mmy\u001b[0m \u001b[0;34m=\u001b[0m \u001b[0;34m(\u001b[0m\u001b[0mC\u001b[0m \u001b[0;34m@\u001b[0m \u001b[0mmw\u001b[0m\u001b[0;34m.\u001b[0m\u001b[0mview\u001b[0m\u001b[0;34m(\u001b[0m\u001b[0mL\u001b[0m\u001b[0;34m,\u001b[0m \u001b[0;36m1\u001b[0m\u001b[0;34m,\u001b[0m \u001b[0mK\u001b[0m\u001b[0;34m,\u001b[0m \u001b[0;36m1\u001b[0m\u001b[0;34m)\u001b[0m\u001b[0;34m)\u001b[0m\u001b[0;34m.\u001b[0m\u001b[0mview\u001b[0m\u001b[0;34m(\u001b[0m\u001b[0mL\u001b[0m\u001b[0;34m,\u001b[0m \u001b[0mN\u001b[0m\u001b[0;34m,\u001b[0m \u001b[0;36m2\u001b[0m\u001b[0;34m)\u001b[0m\u001b[0;34m\u001b[0m\u001b[0;34m\u001b[0m\u001b[0m\n\u001b[0m\u001b[1;32m      6\u001b[0m \u001b[0;34m\u001b[0m\u001b[0m\n\u001b[1;32m      7\u001b[0m \u001b[0;31m# add frames to gif\u001b[0m\u001b[0;34m\u001b[0m\u001b[0;34m\u001b[0m\u001b[0;34m\u001b[0m\u001b[0m\n",
      "\u001b[0;31mRuntimeError\u001b[0m: The size of tensor a (100) must match the size of tensor b (200) at non-singleton dimension 0"
     ]
    }
   ],
   "source": [
    "# random init of the prior messages\n",
    "M = 7\n",
    "mws = torch.FloatTensor(L,M-1,K).normal_((wmin + wmax)/(M-1), (wmax - wmin)/(M-1) * 1e-2)\n",
    "mw = mws.sum(dim=1)\n",
    "my = (C @ mw.view(L, 1, K, 1)).view(L, N, 2)\n",
    "\n",
    "# add frames to gif\n",
    "l = 42\n",
    "frames = []\n",
    "frame = add_frame(0, mw[l], my[l], theta, eta, dymin, wmin, wmax, mask_at_firing[l], mask_around_firing[l], mask_refractory_period[l])\n",
    "frames.append(frame)\n",
    "\n",
    "for itr in tqdm(range(1, 101)):\n",
    "    # priors\n",
    "    ## weights\n",
    "    mws_f, Vws_f = compute_m_ary_prior(mws, None, wmin, wmax, M, \"am\")\n",
    "    mw_f, Vw_f = mws_f.sum(dim=1), Vws_f.sum(dim=1)\n",
    "\n",
    "    ## action potentials\n",
    "    my_b = torch.zeros(L,N, 2)\n",
    "    Vy_b = 1e9 * torch.ones(L,N, 2)  \n",
    "    my_b[...,0][mask_before_firing], Vy_b[...,0][mask_before_firing] = compute_box_prior(my[...,0][mask_before_firing], None, eta, 100)\n",
    "    my_b[...,1][mask_around_firing], Vy_b[...,1][mask_around_firing] = compute_box_prior(my[...,1][mask_around_firing], dymin, None, 200)\n",
    "    my_b[...,0][mask_at_firing], Vy_b[...,0][mask_at_firing] = compute_box_prior(my[...,0][mask_at_firing], theta, theta, 200)\n",
    "\n",
    "    # posteriors\n",
    "    mw, Vw, my = compute_posterior(mw_f, Vw_f, my_b, Vy_b, C)\n",
    "    xiw = Vw_f.pow(-1) * (mw_f - mw) # (IV.9) in Loeliger2016\n",
    "    mws = mws_f - Vws_f * xiw.unsqueeze(1) # (IV.9) in Loeliger2016\n",
    "    \n",
    "    frame = add_frame(itr, mw[l], my[l], theta, eta, dymin, wmin, wmax, mask_at_firing[l], mask_around_firing[l], mask_refractory_period[l])\n",
    "    frames.append(frame)\n",
    "    \n",
    "print(f\"error at firing time is {(my[...,0][mask_at_firing] - theta).pow(2).sum().item()/L}\")\n",
    "print(f\"error around firing time is {torch.maximum(dymin - my[...,1][mask_around_firing], torch.tensor(0)).sum().item()/L}\")\n",
    "print(f\"error before firing time is {torch.maximum(my[...,0][mask_before_firing] - eta, torch.tensor(0)).sum().item()/L}\")"
   ]
  },
  {
   "cell_type": "code",
   "execution_count": null,
   "id": "f4b45b30",
   "metadata": {},
   "outputs": [],
   "source": [
    "if frames:\n",
    "    gif.save(frames, \"7_ary_am.gif\", duration=150)"
   ]
  },
  {
   "cell_type": "code",
   "execution_count": null,
   "id": "9a784b95",
   "metadata": {},
   "outputs": [],
   "source": [
    "# random init of the prior messages\n",
    "M = 7\n",
    "mws = torch.FloatTensor(L,M-1,K).normal_((wmin + wmax)/(M-1), (wmax - wmin)/(M-1) * 1e-2)\n",
    "Vws = torch.FloatTensor(L,M-1,K).normal_((wmax - wmin)/(M-1) * 1e-1, (wmax - wmin)/(M-1) * 1e-3)\n",
    "mw = mws.sum(dim=1)\n",
    "my = (C @ mw.view(L, 1, K, 1)).view(L, N, 2)\n",
    "\n",
    "# add frames to gif\n",
    "l = 42\n",
    "frames = []\n",
    "frame = add_frame(0, mw[l], my[l], theta, eta, dymin, wmin, wmax, mask_at_firing[l], mask_around_firing[l], mask_refractory_period[l])\n",
    "frames.append(frame)\n",
    "\n",
    "for itr in tqdm(range(1, 301)):\n",
    "    # priors\n",
    "    ## weights\n",
    "    mws_f, Vws_f = compute_m_ary_prior(mws, Vws, wmin, wmax, M, \"em\")\n",
    "    mw_f, Vw_f = mws_f.sum(dim=1), Vws_f.sum(dim=1)\n",
    "        \n",
    "    ## action potentials\n",
    "    my_b = torch.zeros(L,N, 2)\n",
    "    Vy_b = 1e9 * torch.ones(L,N, 2)  \n",
    "    my_b[...,0][mask_before_firing], Vy_b[...,0][mask_before_firing] = compute_box_prior(my[...,0][mask_before_firing], None, eta, 100)\n",
    "    my_b[...,1][mask_around_firing], Vy_b[...,1][mask_around_firing] = compute_box_prior(my[...,1][mask_around_firing], dymin, None, 200)\n",
    "    my_b[...,0][mask_at_firing], Vy_b[...,0][mask_at_firing] = compute_box_prior(my[...,0][mask_at_firing], theta, theta, 200)\n",
    "        \n",
    "    # posteriors\n",
    "    mw, Vw, my = compute_posterior(mw_f, Vw_f, my_b, Vy_b, C)\n",
    "\n",
    "    xiw = Vw_f.pow(-1) * (mw_f - mw) # (IV.9) in Loeliger2016\n",
    "    Ww = Vw_f.pow(-2) * (Vw_f - Vw) # (IV.13) in Loeliger2016\n",
    "    \n",
    "    mws = mws_f - Vws_f * xiw.unsqueeze(1) # (IV.9) in Loeliger2016\n",
    "    Vws = Vws_f - Vws_f.pow(2) * Ww.unsqueeze(1) # (IV.13) in Loeliger2016\n",
    "    \n",
    "    # add frames to gif\n",
    "    frame = add_frame(itr, mw[l], my[l], theta, eta, dymin, wmin, wmax, mask_at_firing[l], mask_around_firing[l], mask_refractory_period[l])\n",
    "    frames.append(frame)\n",
    "    \n",
    "print(f\"error at firing time is {(my[...,0][mask_at_firing] - theta).abs().sum().item()/L}\")\n",
    "print(f\"error around firing time is {torch.maximum(dymin - my[...,1][mask_around_firing], torch.tensor(0)).sum().item()/L}\")\n",
    "print(f\"error before firing time is {torch.maximum(my[...,0][mask_before_firing] - eta, torch.tensor(0)).sum().item()/L}\")"
   ]
  },
  {
   "cell_type": "code",
   "execution_count": null,
   "id": "33094c79",
   "metadata": {},
   "outputs": [],
   "source": [
    "if frames:\n",
    "    gif.save(frames, \"7_ary_em.gif\", duration=150)"
   ]
  },
  {
   "cell_type": "code",
   "execution_count": null,
   "id": "15f60956",
   "metadata": {},
   "outputs": [],
   "source": []
  }
 ],
 "metadata": {
  "kernelspec": {
   "display_name": "Python 3 (ipykernel)",
   "language": "python",
   "name": "python3"
  },
  "language_info": {
   "codemirror_mode": {
    "name": "ipython",
    "version": 3
   },
   "file_extension": ".py",
   "mimetype": "text/x-python",
   "name": "python",
   "nbconvert_exporter": "python",
   "pygments_lexer": "ipython3",
   "version": "3.8.12"
  }
 },
 "nbformat": 4,
 "nbformat_minor": 5
}
