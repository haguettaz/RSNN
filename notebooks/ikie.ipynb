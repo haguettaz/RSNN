{
 "cells": [
  {
   "cell_type": "code",
   "execution_count": 1,
   "id": "81666b18",
   "metadata": {},
   "outputs": [],
   "source": [
    "import math\n",
    "\n",
    "import torch\n",
    "from scipy.special import lambertw\n",
    "from tqdm import tqdm"
   ]
  },
  {
   "cell_type": "code",
   "execution_count": 2,
   "id": "c632cb38",
   "metadata": {},
   "outputs": [],
   "source": [
    "import matplotlib.pyplot as plt\n",
    "from matplotlib.collections import PatchCollection\n",
    "from matplotlib.patches import Rectangle, Circle\n",
    "import gif"
   ]
  },
  {
   "cell_type": "code",
   "execution_count": 3,
   "id": "a507e71d",
   "metadata": {},
   "outputs": [],
   "source": [
    "gif.options.matplotlib[\"dpi\"] = 150\n",
    "plt.style.use('scientific')"
   ]
  },
  {
   "cell_type": "code",
   "execution_count": 4,
   "id": "5c976003",
   "metadata": {},
   "outputs": [],
   "source": [
    "from rsnn.firing_sequences.sampling import backward_filtering_forward_sampling\n",
    "from rsnn.firing_sequences.utils import is_predictable\n",
    "from rsnn.ikie.ikie import compute_box_prior, compute_posterior_means, compute_m_ary_prior\n",
    "from rsnn.ikie.utils import compute_observation_matrix, get_mask_refractory_period, get_mask_around_firing, get_mask_at_firing"
   ]
  },
  {
   "cell_type": "code",
   "execution_count": 5,
   "id": "6771f8d5",
   "metadata": {},
   "outputs": [],
   "source": [
    "@gif.frame\n",
    "def add_frame(itr, w, y, theta, eta, dymin, wmin, wmax, mask_at_firing, mask_around_firing, mask_refractory_period):\n",
    "    N = y.size(0)\n",
    "    fig, ax = plt.subplots(3, figsize=(20, 20))\n",
    "    \n",
    "    ax[0].set_title(f\"action potential (level) at iteration {itr}\")\n",
    "    ax[0].set_ylim(-2, 3)\n",
    "    \n",
    "    for n in range(N):\n",
    "        if mask_around_firing[n]:\n",
    "            ax[0].add_patch(Rectangle((n,-2), 1, 5, facecolor=\"orange\", alpha=0.3))\n",
    "            if mask_at_firing[n]:\n",
    "                ax[0].axvline(n, color=\"orange\")\n",
    "        elif not mask_refractory_period[n]:\n",
    "            ax[0].add_patch(Rectangle((n,-2), 1, 5, facecolor=\"blue\", alpha=0.3))\n",
    "        \n",
    "    ax[0].axhline(theta, linestyle=\"dashed\", color=\"black\")\n",
    "    ax[0].axhline(eta, linestyle=\"dashed\", color=\"black\")\n",
    "    ax[0].plot(y[:,0], color=\"red\")\n",
    "    \n",
    "    ax[1].set_title(f\"action potential (slope) at iteration {itr}\")\n",
    "    ax[1].set_ylim(-1, 1)\n",
    "    \n",
    "    for n in range(N):\n",
    "        if mask_around_firing[n]:\n",
    "            ax[1].add_patch(Rectangle((n,-1), 1, 2, facecolor=\"orange\", alpha=0.3))\n",
    "        elif not mask_refractory_period[n]:\n",
    "            ax[1].add_patch(Rectangle((n,-1), 1, 2, facecolor=\"blue\", alpha=0.3))\n",
    "    \n",
    "    ax[1].axhline(dymin, linestyle=\"dashed\", color=\"black\")\n",
    "    ax[1].plot(y[:,1], color=\"red\")\n",
    "    \n",
    "    sorted_w, _ = w.sort()\n",
    "    ax[2].set_title(f\"weights at iteration {itr}\")\n",
    "    ax[2].set_ylim(wmin-0.5, wmax+0.5)\n",
    "    ax[2].axhline(wmin, linestyle=\"dashed\", color=\"black\")\n",
    "    ax[2].axhline(wmax, linestyle=\"dashed\", color=\"black\")\n",
    "    ax[2].plot(sorted_w, color=\"red\")"
   ]
  },
  {
   "cell_type": "code",
   "execution_count": 6,
   "id": "d7378961",
   "metadata": {},
   "outputs": [],
   "source": [
    "L, K, N, Tr = 100, 100, 100, 20"
   ]
  },
  {
   "cell_type": "code",
   "execution_count": 7,
   "id": "39098117",
   "metadata": {},
   "outputs": [],
   "source": [
    "taus = torch.randint(1, 2*Tr, (L,K))\n",
    "origins = torch.randint(0, L, (L,K))"
   ]
  },
  {
   "cell_type": "code",
   "execution_count": 8,
   "id": "da6eb89f",
   "metadata": {},
   "outputs": [],
   "source": [
    "beta = -Tr / lambertw(-1e-2 / math.exp(1), -1).real\n",
    "impulse_response = lambda t_: (t_>0) * t_ / beta * torch.exp(1 - t_ / beta)\n",
    "theta, eta = 1, 0\n",
    "eps, dymin = 5, 1e-1\n",
    "wmin, wmax = -1, 1"
   ]
  },
  {
   "cell_type": "code",
   "execution_count": 9,
   "id": "09d84f85",
   "metadata": {},
   "outputs": [],
   "source": [
    "firing_sequences = backward_filtering_forward_sampling(1, L, N, Tr).view(L, N)"
   ]
  },
  {
   "cell_type": "code",
   "execution_count": 10,
   "id": "7d74f167",
   "metadata": {},
   "outputs": [
    {
     "name": "stderr",
     "output_type": "stream",
     "text": [
      "[W NNPACK.cpp:51] Could not initialize NNPACK! Reason: Unsupported hardware.\n"
     ]
    },
    {
     "data": {
      "text/plain": [
       "True"
      ]
     },
     "execution_count": 10,
     "metadata": {},
     "output_type": "execute_result"
    }
   ],
   "source": [
    "# predictability\n",
    "is_predictable(firing_sequences[None,...], Tr)"
   ]
  },
  {
   "cell_type": "code",
   "execution_count": 11,
   "id": "afdc3b3b",
   "metadata": {},
   "outputs": [],
   "source": [
    "# set regions mask\n",
    "mask_at_firing = get_mask_at_firing(firing_sequences)\n",
    "mask_refractory_period = get_mask_refractory_period(firing_sequences, Tr, eps)\n",
    "mask_around_firing = get_mask_around_firing(firing_sequences, eps)\n",
    "mask_before_firing = ~(mask_refractory_period | mask_around_firing)"
   ]
  },
  {
   "cell_type": "code",
   "execution_count": 12,
   "id": "be980113",
   "metadata": {},
   "outputs": [],
   "source": [
    "# observation matrix\n",
    "C = compute_observation_matrix(firing_sequences.view(L,N), taus, origins, Tr, impulse_response)"
   ]
  },
  {
   "cell_type": "markdown",
   "id": "9f98653a",
   "metadata": {},
   "source": [
    "# 1. Box constraint"
   ]
  },
  {
   "cell_type": "code",
   "execution_count": null,
   "id": "99422727",
   "metadata": {},
   "outputs": [],
   "source": [
    "# init with random weights between wmin and wmax\n",
    "mw = torch.FloatTensor(L,K).uniform_(wmin,wmax)\n",
    "my = (C @ mw.view(L, 1, K, 1)).view(L, N, 2)\n",
    "\n",
    "# add frames to gif\n",
    "l = 42\n",
    "frames = []\n",
    "frame = add_frame(0, mw[l], my[l], theta, eta, dymin, wmin, wmax, mask_at_firing[l], mask_around_firing[l], mask_refractory_period[l])\n",
    "frames.append(frame)\n",
    "\n",
    "for itr in tqdm(range(1, 51)):\n",
    "    # priors\n",
    "    ## weights\n",
    "    mw_f, Vw_f = compute_box_prior(mw, wmin, wmax)\n",
    "    \n",
    "    ## action potentials\n",
    "    my_b = torch.zeros(L,N, 2)\n",
    "    Vy_b = 1e9 * torch.ones(L,N, 2)  \n",
    "    my_b[...,0][mask_before_firing], Vy_b[...,0][mask_before_firing] = compute_box_prior(my[...,0][mask_before_firing], None, eta, 50)\n",
    "    my_b[...,1][mask_around_firing], Vy_b[...,1][mask_around_firing] = compute_box_prior(my[...,1][mask_around_firing], dymin, None, 100)\n",
    "    my_b[...,0][mask_at_firing], Vy_b[...,0][mask_at_firing] = compute_box_prior(my[...,0][mask_at_firing], theta, theta, 50)\n",
    "        \n",
    "    # posteriors\n",
    "    mw, _, my = compute_posterior_means(mw_f, Vw_f, my_b, Vy_b, C)\n",
    "    \n",
    "    # add frames to gif\n",
    "    frame = add_frame(itr, mw[l], my[l], theta, eta, dymin, wmin, wmax, mask_at_firing[l], mask_around_firing[l], mask_refractory_period[l])\n",
    "    frames.append(frame)\n",
    "\n",
    "print(f\"error at firing time is {(my[...,0][mask_at_firing] - theta).abs().sum().item()/L}\")\n",
    "print(f\"error around firing time is {torch.maximum(dymin - my[...,1][mask_around_firing], torch.tensor(0)).sum().item()/L}\")\n",
    "print(f\"error before firing time is {torch.maximum(my[...,0][mask_before_firing] - eta, torch.tensor(0)).sum().item()/L}\")"
   ]
  },
  {
   "cell_type": "code",
   "execution_count": null,
   "id": "e3b17413",
   "metadata": {},
   "outputs": [],
   "source": [
    "if frames:\n",
    "    gif.save(frames, \"box.gif\", duration=150)"
   ]
  },
  {
   "cell_type": "markdown",
   "id": "e50ed37b",
   "metadata": {},
   "source": [
    "# 2. M-level constraint"
   ]
  },
  {
   "cell_type": "code",
   "execution_count": null,
   "id": "d009e87d",
   "metadata": {},
   "outputs": [],
   "source": [
    "# random init of the prior messages\n",
    "M = 7\n",
    "mws = torch.FloatTensor(L,M-1,K).normal_((wmin + wmax)/(M-1), (wmax - wmin)/(M-1) * 1e-2)\n",
    "mw = mws.sum(dim=1)\n",
    "my = (C @ mw.view(L, 1, K, 1)).view(L, N, 2)\n",
    "\n",
    "# add frames to gif\n",
    "l = 42\n",
    "frames = []\n",
    "frame = add_frame(0, mw[l], my[l], theta, eta, dymin, wmin, wmax, mask_at_firing[l], mask_around_firing[l], mask_refractory_period[l])\n",
    "frames.append(frame)\n",
    "\n",
    "for itr in tqdm(range(1, 101)):\n",
    "    # priors\n",
    "    ## weights\n",
    "    mws_f, Vws_f = compute_m_ary_prior(mws, None, wmin, wmax, M, \"am\")\n",
    "    mw_f, Vw_f = mws_f.sum(dim=1), Vws_f.sum(dim=1)\n",
    "\n",
    "    ## action potentials\n",
    "    my_b = torch.zeros(L,N, 2)\n",
    "    Vy_b = 1e9 * torch.ones(L,N, 2)  \n",
    "    my_b[...,0][mask_before_firing], Vy_b[...,0][mask_before_firing] = compute_box_prior(my[...,0][mask_before_firing], None, eta, 100)\n",
    "    my_b[...,1][mask_around_firing], Vy_b[...,1][mask_around_firing] = compute_box_prior(my[...,1][mask_around_firing], dymin, None, 200)\n",
    "    my_b[...,0][mask_at_firing], Vy_b[...,0][mask_at_firing] = compute_box_prior(my[...,0][mask_at_firing], theta, theta, 200)\n",
    "\n",
    "    # posteriors\n",
    "    mw, Vw, my = compute_posterior_means(mw_f, Vw_f, my_b, Vy_b, C)\n",
    "    xiw = Vw_f.pow(-1) * (mw_f - mw) # (IV.9) in Loeliger2016\n",
    "    mws = mws_f - Vws_f * xiw.unsqueeze(1) # (IV.9) in Loeliger2016\n",
    "    \n",
    "    frame = add_frame(itr, mw[l], my[l], theta, eta, dymin, wmin, wmax, mask_at_firing[l], mask_around_firing[l], mask_refractory_period[l])\n",
    "    frames.append(frame)\n",
    "    \n",
    "print(f\"error at firing time is {(my[...,0][mask_at_firing] - theta).pow(2).sum().item()/L}\")\n",
    "print(f\"error around firing time is {torch.maximum(dymin - my[...,1][mask_around_firing], torch.tensor(0)).sum().item()/L}\")\n",
    "print(f\"error before firing time is {torch.maximum(my[...,0][mask_before_firing] - eta, torch.tensor(0)).sum().item()/L}\")"
   ]
  },
  {
   "cell_type": "code",
   "execution_count": null,
   "id": "49223483",
   "metadata": {},
   "outputs": [],
   "source": [
    "if frames:\n",
    "    gif.save(frames, \"7_ary_am.gif\", duration=150)"
   ]
  },
  {
   "cell_type": "code",
   "execution_count": null,
   "id": "26f7b782",
   "metadata": {},
   "outputs": [],
   "source": [
    "# random init of the prior messages\n",
    "M = 7\n",
    "mws = torch.FloatTensor(L,M-1,K).normal_((wmin + wmax)/(M-1), (wmax - wmin)/(M-1) * 1e-2)\n",
    "Vws = torch.FloatTensor(L,M-1,K).normal_((wmax - wmin)/(M-1) * 1e-1, (wmax - wmin)/(M-1) * 1e-3)\n",
    "mw = mws.sum(dim=1)\n",
    "my = (C @ mw.view(L, 1, K, 1)).view(L, N, 2)\n",
    "\n",
    "# add frames to gif\n",
    "l = 42\n",
    "frames = []\n",
    "frame = add_frame(0, mw[l], my[l], theta, eta, dymin, wmin, wmax, mask_at_firing[l], mask_around_firing[l], mask_refractory_period[l])\n",
    "frames.append(frame)\n",
    "\n",
    "for itr in tqdm(range(1, 301)):\n",
    "    # priors\n",
    "    ## weights\n",
    "    mws_f, Vws_f = compute_m_ary_prior(mws, Vws, wmin, wmax, M, \"em\")\n",
    "    mw_f, Vw_f = mws_f.sum(dim=1), Vws_f.sum(dim=1)\n",
    "        \n",
    "    ## action potentials\n",
    "    my_b = torch.zeros(L,N, 2)\n",
    "    Vy_b = 1e9 * torch.ones(L,N, 2)  \n",
    "    my_b[...,0][mask_before_firing], Vy_b[...,0][mask_before_firing] = compute_box_prior(my[...,0][mask_before_firing], None, eta, 100)\n",
    "    my_b[...,1][mask_around_firing], Vy_b[...,1][mask_around_firing] = compute_box_prior(my[...,1][mask_around_firing], dymin, None, 200)\n",
    "    my_b[...,0][mask_at_firing], Vy_b[...,0][mask_at_firing] = compute_box_prior(my[...,0][mask_at_firing], theta, theta, 200)\n",
    "        \n",
    "    # posteriors\n",
    "    mw, Vw, my = compute_posterior_means(mw_f, Vw_f, my_b, Vy_b, C)\n",
    "\n",
    "    xiw = Vw_f.pow(-1) * (mw_f - mw) # (IV.9) in Loeliger2016\n",
    "    Ww = Vw_f.pow(-2) * (Vw_f - Vw) # (IV.13) in Loeliger2016\n",
    "    \n",
    "    mws = mws_f - Vws_f * xiw.unsqueeze(1) # (IV.9) in Loeliger2016\n",
    "    Vws = Vws_f - Vws_f.pow(2) * Ww.unsqueeze(1) # (IV.13) in Loeliger2016\n",
    "    \n",
    "    # add frames to gif\n",
    "    frame = add_frame(itr, mw[l], my[l], theta, eta, dymin, wmin, wmax, mask_at_firing[l], mask_around_firing[l], mask_refractory_period[l])\n",
    "    frames.append(frame)\n",
    "    \n",
    "print(f\"error at firing time is {(my[...,0][mask_at_firing] - theta).abs().sum().item()/L}\")\n",
    "print(f\"error around firing time is {torch.maximum(dymin - my[...,1][mask_around_firing], torch.tensor(0)).sum().item()/L}\")\n",
    "print(f\"error before firing time is {torch.maximum(my[...,0][mask_before_firing] - eta, torch.tensor(0)).sum().item()/L}\")"
   ]
  },
  {
   "cell_type": "code",
   "execution_count": null,
   "id": "a8a59807",
   "metadata": {},
   "outputs": [],
   "source": [
    "if frames:\n",
    "    gif.save(frames, \"7_ary_em.gif\", duration=150)"
   ]
  },
  {
   "cell_type": "code",
   "execution_count": null,
   "id": "15f60956",
   "metadata": {},
   "outputs": [],
   "source": []
  }
 ],
 "metadata": {
  "kernelspec": {
   "display_name": "Python 3 (ipykernel)",
   "language": "python",
   "name": "python3"
  },
  "language_info": {
   "codemirror_mode": {
    "name": "ipython",
    "version": 3
   },
   "file_extension": ".py",
   "mimetype": "text/x-python",
   "name": "python",
   "nbconvert_exporter": "python",
   "pygments_lexer": "ipython3",
   "version": "3.8.12"
  }
 },
 "nbformat": 4,
 "nbformat_minor": 5
}
