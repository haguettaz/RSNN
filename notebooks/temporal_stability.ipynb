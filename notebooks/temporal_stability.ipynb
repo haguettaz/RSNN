{
 "cells": [
  {
   "cell_type": "code",
   "execution_count": 1,
   "id": "1720a9be",
   "metadata": {},
   "outputs": [],
   "source": [
    "import matplotlib.pyplot as plt\n",
    "import torch\n",
    "import numpy as np\n",
    "from tqdm.notebook import trange"
   ]
  },
  {
   "cell_type": "code",
   "execution_count": 2,
   "id": "e2575cd1",
   "metadata": {},
   "outputs": [],
   "source": [
    "%matplotlib inline"
   ]
  },
  {
   "cell_type": "code",
   "execution_count": 3,
   "id": "68336d86",
   "metadata": {},
   "outputs": [],
   "source": [
    "_ = plt.style.use('scientific')\n",
    "_ = torch.manual_seed(7)"
   ]
  },
  {
   "cell_type": "markdown",
   "id": "45789bd8",
   "metadata": {},
   "source": [
    "# Random Multi-Channel Spike Sequence"
   ]
  },
  {
   "cell_type": "code",
   "execution_count": 4,
   "id": "e9cb48e5",
   "metadata": {},
   "outputs": [],
   "source": [
    "from rsnn.spike_sequences.sampling import sample_spike_sequences"
   ]
  },
  {
   "cell_type": "code",
   "execution_count": 7,
   "id": "ac97395a",
   "metadata": {},
   "outputs": [],
   "source": [
    "T, Tr = 200, 20 # in ms # it worked with T = 100, 200, 500(?)\n",
    "L = 100"
   ]
  },
  {
   "cell_type": "code",
   "execution_count": 8,
   "id": "6e703509",
   "metadata": {},
   "outputs": [],
   "source": [
    "N, Nr = T, Tr # one time unit = 1ms\n",
    "\n",
    "spike_sequences = sample_spike_sequences(N, Nr, L)"
   ]
  },
  {
   "cell_type": "markdown",
   "id": "0e4f534d",
   "metadata": {},
   "source": [
    "# Random Neural Network"
   ]
  },
  {
   "cell_type": "code",
   "execution_count": 7,
   "id": "02f5a203",
   "metadata": {},
   "outputs": [],
   "source": [
    "K = 500\n",
    "\n",
    "wb = 0.1\n",
    "taub = 60\n",
    "theta = 1.\n",
    "\n",
    "beta = 2 # spreading hyperparameter\n",
    "impulse_resp = lambda t_: (t_ >= 0) * t_ / beta * torch.exp(1 - t_ / beta)\n",
    "impulse_resp_deriv = lambda t_: (t_ >= 0) * 1 / beta * (1 - t_ / beta) * torch.exp(1 - t_ / beta)\n",
    "\n",
    "delays = torch.FloatTensor(L, K).uniform_(0, taub)\n",
    "sources = torch.randint(0, L, (L, K))\n",
    "weights = torch.FloatTensor(L, K).uniform_(-wb, wb)"
   ]
  },
  {
   "cell_type": "code",
   "execution_count": null,
   "id": "34218050",
   "metadata": {},
   "outputs": [],
   "source": []
  },
  {
   "cell_type": "markdown",
   "id": "058b0850",
   "metadata": {},
   "source": [
    "# Memorization"
   ]
  },
  {
   "cell_type": "code",
   "execution_count": 8,
   "id": "71a48545",
   "metadata": {},
   "outputs": [],
   "source": [
    "device = \"cpu\""
   ]
  },
  {
   "cell_type": "markdown",
   "id": "2b8885ad",
   "metadata": {},
   "source": [
    "## Firing Template"
   ]
  },
  {
   "cell_type": "code",
   "execution_count": 9,
   "id": "55f89534",
   "metadata": {},
   "outputs": [],
   "source": [
    "from rsnn.memorization.template import parse_spike_sequences\n",
    "from rsnn.memorization.utils import compute_observation_matrices"
   ]
  },
  {
   "cell_type": "code",
   "execution_count": 10,
   "id": "9a8bff91",
   "metadata": {},
   "outputs": [],
   "source": [
    "eps = 1 # firing surrounding window\n",
    "b = 0.5 # maximum level in silent period\n",
    "a = 0.5 # minimum slope in activity period"
   ]
  },
  {
   "cell_type": "code",
   "execution_count": 11,
   "id": "8b5f2618",
   "metadata": {},
   "outputs": [],
   "source": [
    "firing_indices, active_period_indices, silent_period_indices = parse_spike_sequences(spike_sequences, Nr, eps)"
   ]
  },
  {
   "cell_type": "code",
   "execution_count": 12,
   "id": "1c5909b1",
   "metadata": {},
   "outputs": [],
   "source": [
    "C = compute_observation_matrices(spike_sequences, delays, sources, Nr, impulse_resp, impulse_resp_deriv).to(device)"
   ]
  },
  {
   "cell_type": "markdown",
   "id": "318619e1",
   "metadata": {},
   "source": [
    "## Alternating Maximization"
   ]
  },
  {
   "cell_type": "code",
   "execution_count": 13,
   "id": "1315aa87",
   "metadata": {},
   "outputs": [],
   "source": [
    "from rsnn.memorization.prior import compute_box_prior\n",
    "from rsnn.memorization.posterior import compute_posterior"
   ]
  },
  {
   "cell_type": "code",
   "execution_count": 14,
   "id": "cacfcf82",
   "metadata": {},
   "outputs": [],
   "source": [
    "gamma_wb = 10.\n",
    "gamma_b = 3.\n",
    "gamma_a = 5.\n",
    "gamma_theta = 10."
   ]
  },
  {
   "cell_type": "code",
   "execution_count": 15,
   "id": "bbeb9f54",
   "metadata": {},
   "outputs": [],
   "source": [
    "mw_f = weights.to(device, copy=True)\n",
    "Vw_f = torch.ones(L, K, device=device)\n",
    "\n",
    "mz_b = torch.zeros(N, L, 2, device=device)\n",
    "Vz_b = torch.ones(N, L, 2, device=device)\n",
    "\n",
    "mz_b[silent_period_indices[:, 0], silent_period_indices[:, 1], 0] = b\n",
    "mz_b[active_period_indices[:, 0], active_period_indices[:, 1], 1] = a\n",
    "mz_b[firing_indices[:, 0], firing_indices[:, 1], 0] = theta"
   ]
  },
  {
   "cell_type": "code",
   "execution_count": 16,
   "id": "581340b7",
   "metadata": {},
   "outputs": [
    {
     "data": {
      "application/vnd.jupyter.widget-view+json": {
       "model_id": "0cf6fba2356c419b9c61dcf0689cfe91",
       "version_major": 2,
       "version_minor": 0
      },
      "text/plain": [
       "  0%|          | 0/200 [00:00<?, ?it/s]"
      ]
     },
     "metadata": {},
     "output_type": "display_data"
    }
   ],
   "source": [
    "for itr in trange(200): # previously 500\n",
    "    # posteriors\n",
    "    mw, Vw, mz = compute_posterior(mw_f, Vw_f, mz_b, Vz_b, C)\n",
    "    \n",
    "    # priors\n",
    "    mw_f, Vw_f = compute_box_prior(mw, -wb, wb, gamma_wb)\n",
    "        \n",
    "    mz_b = torch.zeros(N, L, 2, device=device)\n",
    "    Vz_b = 1e9 * torch.ones(N, L, 2, device=device)\n",
    "    (\n",
    "        mz_b[silent_period_indices[:, 0], silent_period_indices[:, 1], 0],\n",
    "        Vz_b[silent_period_indices[:, 0], silent_period_indices[:, 1], 0],\n",
    "    ) = compute_box_prior(mz[silent_period_indices[:, 0], silent_period_indices[:, 1], 0], None, b, gamma_b)\n",
    "    (\n",
    "        mz_b[active_period_indices[:, 0], active_period_indices[:, 1], 1],\n",
    "        Vz_b[active_period_indices[:, 0], active_period_indices[:, 1], 1],\n",
    "    ) = compute_box_prior(mz[active_period_indices[:, 0], active_period_indices[:, 1], 1], a, None, gamma_a)\n",
    "    mz_b[firing_indices[:, 0], firing_indices[:, 1], 0], Vz_b[firing_indices[:, 0], firing_indices[:, 1], 0] = compute_box_prior(\n",
    "        mz[firing_indices[:, 0], firing_indices[:, 1], 0], theta, theta, gamma_theta\n",
    "    )"
   ]
  },
  {
   "cell_type": "markdown",
   "id": "2a424042",
   "metadata": {},
   "source": [
    "### Bounded Weights?"
   ]
  },
  {
   "cell_type": "code",
   "execution_count": 17,
   "id": "2835fc8f",
   "metadata": {},
   "outputs": [
    {
     "data": {
      "text/plain": [
       "(tensor(0.1000), 0.1)"
      ]
     },
     "execution_count": 17,
     "metadata": {},
     "output_type": "execute_result"
    }
   ],
   "source": [
    "mw.flatten().abs().max(), wb"
   ]
  },
  {
   "cell_type": "markdown",
   "id": "42c8d8d8",
   "metadata": {},
   "source": [
    "### Cross Firing Threshold at Firing Times?"
   ]
  },
  {
   "cell_type": "code",
   "execution_count": 18,
   "id": "dbb21fa9",
   "metadata": {},
   "outputs": [
    {
     "data": {
      "text/plain": [
       "tensor(6.5565e-07)"
      ]
     },
     "execution_count": 18,
     "metadata": {},
     "output_type": "execute_result"
    }
   ],
   "source": [
    "(mz[firing_indices[:, 0], firing_indices[:, 1], 0] - theta).abs().max()"
   ]
  },
  {
   "cell_type": "markdown",
   "id": "61fbe2ec",
   "metadata": {},
   "source": [
    "### Minimum Raise Around Firing?"
   ]
  },
  {
   "cell_type": "code",
   "execution_count": 19,
   "id": "c62c92c3",
   "metadata": {},
   "outputs": [
    {
     "data": {
      "text/plain": [
       "(tensor(0.9092), 1.0)"
      ]
     },
     "execution_count": 19,
     "metadata": {},
     "output_type": "execute_result"
    }
   ],
   "source": [
    "(mz[active_period_indices[:, 0], active_period_indices[:, 1], 1]).min(), a"
   ]
  },
  {
   "cell_type": "markdown",
   "id": "bb1e18ba",
   "metadata": {},
   "source": [
    "### Maximum Potential at Silent Period?"
   ]
  },
  {
   "cell_type": "code",
   "execution_count": 20,
   "id": "9e38ec09",
   "metadata": {},
   "outputs": [
    {
     "data": {
      "text/plain": [
       "(tensor(0.5000), 0.5)"
      ]
     },
     "execution_count": 20,
     "metadata": {},
     "output_type": "execute_result"
    }
   ],
   "source": [
    "(mz[silent_period_indices[:, 0], silent_period_indices[:, 1], 0]).max(), b"
   ]
  },
  {
   "cell_type": "markdown",
   "id": "0b592d3e",
   "metadata": {},
   "source": [
    "### Visualisation"
   ]
  },
  {
   "cell_type": "code",
   "execution_count": 21,
   "id": "cbd2976d",
   "metadata": {},
   "outputs": [],
   "source": [
    "from rsnn.visualisation.visualisation import add_background"
   ]
  },
  {
   "cell_type": "code",
   "execution_count": 22,
   "id": "d158f7a4",
   "metadata": {},
   "outputs": [
    {
     "data": {
      "image/png": "[encoded data removed]",
      "text/plain": [
       "<Figure size 640x480 with 2 Axes>"
      ]
     },
     "metadata": {},
     "output_type": "display_data"
    }
   ],
   "source": [
    "fig, axes = plt.subplots(2, 1, sharex=True)\n",
    "\n",
    "axes[0], handles = add_background(axes[0], torch.argwhere(spike_sequences[:, 42]).squeeze(), N, Nr, eps)\n",
    "handles += axes[0].plot(mz[:, 42, 0], label=\"potential\")\n",
    "axes[0].set_yticks([b, theta])\n",
    "axes[0].set_yticklabels([\"$b$\", r\"$\\theta$\"])\n",
    "axes[0].legend(handles=handles, loc=\"center left\", bbox_to_anchor =(1, 0.5))\n",
    "\n",
    "axes[1], handles = add_background(axes[1], torch.argwhere(spike_sequences[:, 42]).squeeze(), N, Nr, eps)\n",
    "handles += axes[1].plot(mz[:, 42, 1], label=\"potential derivative\")\n",
    "axes[1].set_yticks([0, a])\n",
    "axes[1].set_yticklabels([0, \"$a$\"])\n",
    "axes[1].legend(handles=handles, loc=\"center left\", bbox_to_anchor =(1, 0.5))\n",
    "\n",
    "axes[0].set_xlim(0, T)\n",
    "axes[0].set_xticks(np.linspace(0, T, 11))\n",
    "axes[0].set_xticklabels(np.linspace(0, 1, 11).round(1))\n",
    "\n",
    "fig.tight_layout()\n",
    "fig.savefig(\"firing_template_matching.pdf\", format=\"pdf\", bbox_inches=\"tight\")"
   ]
  },
  {
   "cell_type": "markdown",
   "id": "119e0b7f",
   "metadata": {},
   "source": [
    "# Matrix Analysis"
   ]
  },
  {
   "cell_type": "code",
   "execution_count": 23,
   "id": "ded949d2",
   "metadata": {},
   "outputs": [],
   "source": [
    "from rsnn.robustness.temporal_stability import compute_jitter_transition_matrices, compute_v0"
   ]
  },
  {
   "cell_type": "code",
   "execution_count": 24,
   "id": "2c39ba58",
   "metadata": {},
   "outputs": [],
   "source": [
    "A = compute_jitter_transition_matrices(spike_sequences, weights, delays, sources, Tr, impulse_resp_deriv)"
   ]
  },
  {
   "cell_type": "code",
   "execution_count": 25,
   "id": "23ac2272",
   "metadata": {},
   "outputs": [],
   "source": [
    "Phi = torch.eye(A.size(1), A.size(2))\n",
    "for n in range(N):\n",
    "    Phi = A[n]@Phi"
   ]
  },
  {
   "cell_type": "code",
   "execution_count": 26,
   "id": "614a6968",
   "metadata": {},
   "outputs": [],
   "source": [
    "eigvals = torch.linalg.eigvals(Phi)"
   ]
  },
  {
   "cell_type": "code",
   "execution_count": 27,
   "id": "4e2b88d1",
   "metadata": {},
   "outputs": [
    {
     "data": {
      "image/png": "[encoded data removed]",
      "text/plain": [
       "<Figure size 640x480 with 1 Axes>"
      ]
     },
     "metadata": {},
     "output_type": "display_data"
    }
   ],
   "source": [
    "_ = plt.scatter(eigvals.real, eigvals.imag)\n",
    "_ = plt.xlabel(\"$Re(z)$\")\n",
    "_ = plt.ylabel(\"$Im(z)$\")"
   ]
  },
  {
   "cell_type": "code",
   "execution_count": 28,
   "id": "6ab0084b",
   "metadata": {},
   "outputs": [
    {
     "name": "stdout",
     "output_type": "stream",
     "text": [
      "not stable\n"
     ]
    }
   ],
   "source": [
    "values, _ = eigvals.abs().topk(5)\n",
    "if values[1] < 1:\n",
    "    v0 = compute_v0(Phi)\n",
    "    indices = torch.arange(v0.size(0))\n",
    "    colors = [\"C3\" if v0i > 0 else \"C1\" for v0i in v0 ]\n",
    "    _ = plt.bar(indices, v0, color=colors)\n",
    "else:\n",
    "    print(\"not stable\")"
   ]
  },
  {
   "cell_type": "markdown",
   "id": "56d26d64",
   "metadata": {},
   "source": [
    "# Network Dynamics"
   ]
  },
  {
   "cell_type": "code",
   "execution_count": 29,
   "id": "ae193402",
   "metadata": {},
   "outputs": [],
   "source": [
    "from rsnn.simulation.simulation import simulate\n",
    "from rsnn.simulation.utils import get_input, compute_drift\n",
    "from rsnn.visualisation.visualisation import add_spike_sequences"
   ]
  },
  {
   "cell_type": "code",
   "execution_count": 30,
   "id": "7402c7c4",
   "metadata": {},
   "outputs": [],
   "source": [
    "references = [(torch.argwhere(spike_sequence).flatten()).tolist() for spike_sequence in torch.unbind(spike_sequences, -1)]"
   ]
  },
  {
   "cell_type": "code",
   "execution_count": 31,
   "id": "a112961c",
   "metadata": {},
   "outputs": [],
   "source": [
    "firing_times = [[],[],[],[],[]] # init 5 simulations"
   ]
  },
  {
   "cell_type": "code",
   "execution_count": 32,
   "id": "afe20106",
   "metadata": {},
   "outputs": [
    {
     "data": {
      "application/vnd.jupyter.widget-view+json": {
       "model_id": "",
       "version_major": 2,
       "version_minor": 0
      },
      "text/plain": [
       "Simulating:   0%|          | 0/1000 [00:00<?, ?it/s]"
      ]
     },
     "metadata": {},
     "output_type": "display_data"
    },
    {
     "data": {
      "text/plain": [
       "(0.015616455115377903, 0.0005383265670388937)"
      ]
     },
     "execution_count": 32,
     "metadata": {},
     "output_type": "execute_result"
    }
   ],
   "source": [
    "noisy_references = get_input(references, 0, 0, N)\n",
    "firing_times[0] = simulate(sources, delays, mw, theta, Nr, impulse_resp, noisy_references, 10*N, 0.001)\n",
    "compute_drift(firing_times[0], references, N, 9)"
   ]
  },
  {
   "cell_type": "code",
   "execution_count": 33,
   "id": "c65c37a5",
   "metadata": {},
   "outputs": [
    {
     "data": {
      "application/vnd.jupyter.widget-view+json": {
       "model_id": "",
       "version_major": 2,
       "version_minor": 0
      },
      "text/plain": [
       "Simulating:   0%|          | 0/1000 [00:00<?, ?it/s]"
      ]
     },
     "metadata": {},
     "output_type": "display_data"
    },
    {
     "data": {
      "text/plain": [
       "(0.20030613243579865, 0.0005460416432470083)"
      ]
     },
     "execution_count": 33,
     "metadata": {},
     "output_type": "execute_result"
    }
   ],
   "source": [
    "noisy_references = get_input(references, 0, Tr, N)\n",
    "firing_times[1] = simulate(sources, delays, mw, theta, Nr, impulse_resp, noisy_references, 10*N, 0.001)\n",
    "compute_drift(firing_times[1], references, N, 9)"
   ]
  },
  {
   "cell_type": "code",
   "execution_count": 34,
   "id": "42628f07",
   "metadata": {},
   "outputs": [
    {
     "data": {
      "application/vnd.jupyter.widget-view+json": {
       "model_id": "",
       "version_major": 2,
       "version_minor": 0
      },
      "text/plain": [
       "Simulating:   0%|          | 0/1000 [00:00<?, ?it/s]"
      ]
     },
     "metadata": {},
     "output_type": "display_data"
    },
    {
     "data": {
      "text/plain": [
       "(0.23577606678009033, 0.0006458903662860394)"
      ]
     },
     "execution_count": 34,
     "metadata": {},
     "output_type": "execute_result"
    }
   ],
   "source": [
    "noisy_references = get_input(references, 0, 2, N)\n",
    "firing_times[2] = simulate(sources, delays, mw, theta, Nr, impulse_resp, noisy_references, 10*N, 0.001)\n",
    "compute_drift(firing_times[2], references, N, 9)"
   ]
  },
  {
   "cell_type": "code",
   "execution_count": 35,
   "id": "77c4096d",
   "metadata": {},
   "outputs": [
    {
     "data": {
      "application/vnd.jupyter.widget-view+json": {
       "model_id": "",
       "version_major": 2,
       "version_minor": 0
      },
      "text/plain": [
       "Simulating:   0%|          | 0/1000 [00:00<?, ?it/s]"
      ]
     },
     "metadata": {},
     "output_type": "display_data"
    },
    {
     "data": {
      "text/plain": [
       "(53.22203063964844, 0.06295459717512131)"
      ]
     },
     "execution_count": 35,
     "metadata": {},
     "output_type": "execute_result"
    }
   ],
   "source": [
    "noisy_references = get_input(references, 0, 5, N)\n",
    "firing_times[3] = simulate(sources, delays, mw, theta, Nr, impulse_resp, noisy_references, 10*N, 0.001)\n",
    "compute_drift(firing_times[3], references, N, 9)"
   ]
  },
  {
   "cell_type": "code",
   "execution_count": 36,
   "id": "08cd3069",
   "metadata": {},
   "outputs": [
    {
     "data": {
      "application/vnd.jupyter.widget-view+json": {
       "model_id": "1307172af37c47808e63f05c1162ce7c",
       "version_major": 2,
       "version_minor": 0
      },
      "text/plain": [
       "Simulating:   0%|          | 0/1000 [00:00<?, ?it/s]"
      ]
     },
     "metadata": {},
     "output_type": "display_data"
    },
    {
     "name": "stdout",
     "output_type": "stream",
     "text": [
      "The network is dead...\n",
      "The network cannot synchronize with the reference...\n"
     ]
    }
   ],
   "source": [
    "noisy_references = get_input(references, 0, 10, N)\n",
    "firing_times[4] = simulate(sources, delays, mw, theta, Nr, impulse_resp, noisy_references, 10*N, 0.001)\n",
    "compute_drift(firing_times[4], references, N, 9)"
   ]
  },
  {
   "cell_type": "code",
   "execution_count": 37,
   "id": "487482e1",
   "metadata": {},
   "outputs": [
    {
     "data": {
      "image/png": "[encoded data removed]",
      "text/plain": [
       "<Figure size 640x480 with 5 Axes>"
      ]
     },
     "metadata": {},
     "output_type": "display_data"
    }
   ],
   "source": [
    "fig, axes = plt.subplots(5, 1, sharex=True)\n",
    "\n",
    "for i in range(5):\n",
    "    axes[i] = add_spike_sequences(axes[i], firing_times[i][42], N, 4*N, references[42])\n",
    "    \n",
    "fig.tight_layout()\n",
    "fig.savefig(\"dynamics.pdf\", format=\"pdf\", bbox_inches=\"tight\")"
   ]
  },
  {
   "cell_type": "code",
   "execution_count": null,
   "id": "050c57b9",
   "metadata": {},
   "outputs": [],
   "source": []
  }
 ],
 "metadata": {
  "kernelspec": {
   "display_name": "Python 3 (ipykernel)",
   "language": "python",
   "name": "python3"
  },
  "language_info": {
   "codemirror_mode": {
    "name": "ipython",
    "version": 3
   },
   "file_extension": ".py",
   "mimetype": "text/x-python",
   "name": "python",
   "nbconvert_exporter": "python",
   "pygments_lexer": "ipython3",
   "version": "3.8.13"
  },
  "vscode": {
   "interpreter": {
    "hash": "30a3abac4e33153c625169a6f1431190cbb23e1fa7c6672388737f79e54d9341"
   }
  }
 },
 "nbformat": 4,
 "nbformat_minor": 5
}
