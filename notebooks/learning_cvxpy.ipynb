{
 "cells": [
  {
   "cell_type": "code",
   "execution_count": 1,
   "id": "adeb92c3",
   "metadata": {},
   "outputs": [],
   "source": [
    "%matplotlib inline"
   ]
  },
  {
   "cell_type": "code",
   "execution_count": 2,
   "id": "620dde06",
   "metadata": {},
   "outputs": [],
   "source": [
    "import matplotlib.pyplot as plt\n",
    "import numpy as np"
   ]
  },
  {
   "cell_type": "code",
   "execution_count": 3,
   "id": "3e37a55a",
   "metadata": {},
   "outputs": [],
   "source": [
    "from rsnn.rsnn.generator import NetworkGenerator\n",
    "from rsnn.rsnn.network import Network\n",
    "from rsnn.spike_train.generator import PeriodicSpikeTrainGenerator\n",
    "from rsnn.spike_train.periodic_spike_train import MultiChannelPeriodicSpikeTrain, PeriodicSpikeTrain"
   ]
  },
  {
   "cell_type": "code",
   "execution_count": 4,
   "id": "a125da68",
   "metadata": {},
   "outputs": [],
   "source": [
    "plt.style.use('paper')"
   ]
  },
  {
   "cell_type": "markdown",
   "id": "14174e11",
   "metadata": {},
   "source": [
    "# Create Neural Network"
   ]
  },
  {
   "cell_type": "code",
   "execution_count": 5,
   "id": "88ee3e39",
   "metadata": {},
   "outputs": [],
   "source": [
    "num_neurons = 100\n",
    "nominal_threshold = 1.0\n",
    "absolute_refractory = 5.0\n",
    "relative_refractory = 5.0\n",
    "\n",
    "num_synapses = 500\n",
    "synapse_beta = 5.0\n",
    "synapse_delay_lim = (1.0, 60.0)\n",
    "\n",
    "period = 100.0\n",
    "firing_rate = 0.1"
   ]
  },
  {
   "cell_type": "markdown",
   "id": "0c5f809d",
   "metadata": {},
   "source": [
    "## Neural Network"
   ]
  },
  {
   "cell_type": "code",
   "execution_count": 6,
   "id": "7d7fbf30",
   "metadata": {},
   "outputs": [],
   "source": [
    "network_generator = NetworkGenerator(\n",
    "        num_neurons,\n",
    "        nominal_threshold,\n",
    "        absolute_refractory,\n",
    "        relative_refractory,\n",
    "        num_synapses,\n",
    "        synapse_beta,\n",
    "        synapse_delay_lim\n",
    "    )\n",
    "network = network_generator.rand()"
   ]
  },
  {
   "cell_type": "code",
   "execution_count": 7,
   "id": "867274c9",
   "metadata": {},
   "outputs": [],
   "source": [
    "neuron = network.neurons[7]"
   ]
  },
  {
   "cell_type": "code",
   "execution_count": 8,
   "id": "f3e51c16",
   "metadata": {},
   "outputs": [],
   "source": [
    "fig, axes = plt.subplots(nrows=2, ncols=1, sharex=True, figsize=(3.5, 4))\n",
    "\n",
    "times = np.linspace(0, 100, 1000)\n",
    "\n",
    "axes[0].plot(times, neuron.synapses[0].response(times), c=\"C2\")\n",
    "axes[1].plot(times, neuron.adaptive_threshold.response(times), c=\"C2\")\n",
    "\n",
    "axes[0].set_ylabel(r\"$h(t)$\")\n",
    "axes[1].set_ylabel(r\"$\\eta(t)$\")\n",
    "axes[1].set_xlabel(r\"$t$\")\n",
    "axes[1].set_xlim(0, 60)\n",
    "\n",
    "fig.tight_layout()\n",
    "#fig.savefig('spike_responses.pgf')\n",
    "plt.show()"
   ]
  },
  {
   "cell_type": "code",
   "execution_count": 9,
   "id": "8b0a263c",
   "metadata": {},
   "outputs": [],
   "source": [
    "sources = []\n",
    "for n_ in network.neurons:\n",
    "    for s_ in n_.synapses:\n",
    "        sources.append(s_.source.idx)\n",
    "sources = np.array(sources)\n",
    "\n",
    "unique, counts = np.unique(sources, return_counts=True)"
   ]
  },
  {
   "cell_type": "code",
   "execution_count": 10,
   "id": "c081d758",
   "metadata": {},
   "outputs": [],
   "source": [
    "adjacency_matrix = np.zeros((num_neurons, num_neurons))\n",
    "for n_ in network.neurons:\n",
    "    for s_ in n_.synapses:\n",
    "        adjacency_matrix[s_.source.idx, n_.idx] += 1"
   ]
  },
  {
   "cell_type": "code",
   "execution_count": 11,
   "id": "c7e0d187",
   "metadata": {},
   "outputs": [],
   "source": [
    "fig, ax = plt.subplots(1, 1, figsize=(5, 5))\n",
    "\n",
    "im = ax.imshow(adjacency_matrix, cmap=\"Greys\")\n",
    "\n",
    "ax.set_xlabel(\"pre-synaptic neuron\")\n",
    "ax.set_ylabel(\"post-synaptic neuron\")\n",
    "ax.grid(visible=False)\n",
    "\n",
    "plt.show()"
   ]
  },
  {
   "cell_type": "code",
   "execution_count": 12,
   "id": "7ddc37a7",
   "metadata": {},
   "outputs": [],
   "source": [
    "fig, ax = plt.subplots(1, 1, figsize=(5, 2))\n",
    "ax.hist(sources, color=\"C2\", bins=50)\n",
    "\n",
    "ax.set_xlabel(\"out degree\")\n",
    "ax.set_xlim(sources.min(), sources.max())\n",
    "ax.set_ylabel(\"count\")\n",
    "\n",
    "plt.show()"
   ]
  },
  {
   "cell_type": "markdown",
   "id": "c36f36d1",
   "metadata": {},
   "source": [
    "## Spike Trains"
   ]
  },
  {
   "cell_type": "code",
   "execution_count": 13,
   "id": "2d8c4a55",
   "metadata": {},
   "outputs": [],
   "source": [
    "spike_train_generator = PeriodicSpikeTrainGenerator(firing_rate, absolute_refractory, relative_refractory)\n",
    "spike_trains = spike_train_generator.rand(period, num_neurons)"
   ]
  },
  {
   "cell_type": "code",
   "execution_count": 14,
   "id": "5d4aabdf",
   "metadata": {},
   "outputs": [],
   "source": [
    "spike_train = spike_trains.spike_trains[neuron.idx]"
   ]
  },
  {
   "cell_type": "code",
   "execution_count": 15,
   "id": "b21e75fd",
   "metadata": {},
   "outputs": [],
   "source": [
    "fig, ax = plt.subplots(1, 1, figsize=(5, 0.8))\n",
    "ax.stem(\n",
    "    spike_train.firing_times, \n",
    "    np.full_like(spike_train.firing_times, 0.6), \n",
    "    basefmt=\" \", \n",
    "    markerfmt=\"C2o\", \n",
    "    linefmt=\"C2-\",\n",
    "    label=r\"$x_7(.)$\"\n",
    ")\n",
    "ax.set_xlim(0, period)\n",
    "ax.set_xlabel(r\"$t$\")\n",
    "ax.set_ylim(0, 1.4)\n",
    "#ax.legend()\n",
    "ax.grid(visible=False)\n",
    "ax.set_yticks([])\n",
    "ax.spines['top'].set_visible(False)\n",
    "ax.spines['right'].set_visible(False)\n",
    "ax.spines['left'].set_visible(False)\n",
    "\n",
    "plt.show()"
   ]
  },
  {
   "cell_type": "code",
   "execution_count": 16,
   "id": "922eb372",
   "metadata": {},
   "outputs": [],
   "source": [
    "num_spikes = np.array([spike_train.num_spikes for spike_train in spike_trains.spike_trains])\n",
    "unique, counts = np.unique(num_spikes, return_counts=True)"
   ]
  },
  {
   "cell_type": "code",
   "execution_count": 17,
   "id": "356c14ee",
   "metadata": {},
   "outputs": [],
   "source": [
    "fig, ax = plt.subplots(1, 1, figsize=(5, 2))\n",
    "ax.bar(unique, counts, color=\"C2\")\n",
    "\n",
    "ax.set_xlabel(\"num spikes\")\n",
    "ax.set_ylabel(\"count\")\n",
    "\n",
    "plt.show()"
   ]
  },
  {
   "cell_type": "markdown",
   "id": "46d62069",
   "metadata": {},
   "source": [
    "## Memorization"
   ]
  },
  {
   "cell_type": "code",
   "execution_count": 18,
   "id": "50274da3",
   "metadata": {},
   "outputs": [],
   "source": [
    "network_l1 = network.copy()\n",
    "network_l2 = network.copy()"
   ]
  },
  {
   "cell_type": "code",
   "execution_count": 19,
   "id": "6f22f496",
   "metadata": {},
   "outputs": [],
   "source": [
    "eps, gap, slope = 1.0, 1.0, 0.5\n",
    "weights_lim = (-0.1, 0.1)"
   ]
  },
  {
   "cell_type": "code",
   "execution_count": 20,
   "id": "effd2a0f",
   "metadata": {},
   "outputs": [],
   "source": [
    "network.memorize(spike_trains, weights_lim, eps, gap, slope)"
   ]
  },
  {
   "cell_type": "code",
   "execution_count": 21,
   "id": "534ee5c0",
   "metadata": {},
   "outputs": [],
   "source": [
    "network_l1.memorize(spike_trains, weights_lim, eps, gap, slope, \"l1\")"
   ]
  },
  {
   "cell_type": "code",
   "execution_count": 22,
   "id": "8a145dde",
   "metadata": {},
   "outputs": [],
   "source": [
    "network_l2.memorize(spike_trains, weights_lim, eps, gap, slope, \"l2\")"
   ]
  },
  {
   "cell_type": "code",
   "execution_count": 23,
   "id": "53fbfa22",
   "metadata": {},
   "outputs": [],
   "source": [
    "neurons_indices = np.repeat(np.arange(num_neurons), num_synapses, axis=0)\n",
    "\n",
    "weights = np.array([s_.weight for n_ in network.neurons for s_ in n_.synapses])\n",
    "weights_l1 = np.array([s_.weight for n_ in network_l1.neurons for s_ in n_.synapses])\n",
    "weights_l2 = np.array([s_.weight for n_ in network_l2.neurons for s_ in n_.synapses])\n",
    "\n",
    "colors = np.repeat([\"C3\" if n_.prob.status == \"optimal\" else \"C1\" for n_ in network.neurons], num_synapses, axis=0)\n",
    "colors_l1 = np.repeat([\"C3\" if n_.prob.status == \"optimal\" else \"C1\" for n_ in network_l1.neurons], num_synapses, axis=0)\n",
    "colors_l2 = np.repeat([\"C3\" if n_.prob.status == \"optimal\" else \"C1\" for n_ in network_l2.neurons], num_synapses, axis=0)"
   ]
  },
  {
   "cell_type": "code",
   "execution_count": 24,
   "id": "e68ad222",
   "metadata": {},
   "outputs": [],
   "source": [
    "fig, axes = plt.subplots(nrows=1, ncols=3, figsize=(5, 2), sharey=True)\n",
    "\n",
    "axes[0].scatter(neurons_indices, weights, color=colors, s=1, alpha=0.1)\n",
    "axes[1].scatter(neurons_indices, weights_l1, color=colors, s=1, alpha=0.1)\n",
    "axes[2].scatter(neurons_indices, weights_l2, color=colors, s=1, alpha=0.1)\n",
    "\n",
    "axes[0].set_xlabel(\"postsynaptic neuron\")\n",
    "axes[1].set_xlabel(\"postsynaptic neuron\")\n",
    "axes[2].set_xlabel(\"postsynaptic neuron\")\n",
    "axes[0].set_ylabel(\"synaptic weights\")\n",
    "\n",
    "axes[0].set_title(\"no reg\")\n",
    "axes[1].set_title(\"$\\ell_1$ reg\")\n",
    "axes[2].set_title(\"$\\ell_2$ reg\")\n",
    "\n",
    "fig.tight_layout()\n",
    "plt.show()"
   ]
  },
  {
   "cell_type": "code",
   "execution_count": 25,
   "id": "de16f858",
   "metadata": {},
   "outputs": [],
   "source": [
    "# save networks\n",
    "network.save_to_file(\"networks/network_no_reg.pkl\")\n",
    "network_l1.save_to_file(\"networks/network_l1_reg.pkl\")\n",
    "network_l2.save_to_file(\"networks/network_l2_reg.pkl\")"
   ]
  },
  {
   "cell_type": "code",
   "execution_count": 26,
   "id": "5450d35d",
   "metadata": {},
   "outputs": [],
   "source": [
    "# load networks\n",
    "# network = Network(num_neurons, nominal_threshold, absolute_refractory, relative_refractory)\n",
    "# network.load_from_file(\"networks/network_no_reg.pkl\")\n",
    "# \n",
    "# network_l1 = Network(num_neurons, nominal_threshold, absolute_refractory, relative_refractory)\n",
    "# network_l1.load_from_file(\"networks/network_l1_reg.pkl\")\n",
    "# \n",
    "# network_l2 = Network(num_neurons, nominal_threshold, absolute_refractory, relative_refractory)\n",
    "# network_l2.load_from_file(\"networks/network_l2_reg.pkl\")"
   ]
  },
  {
   "cell_type": "code",
   "execution_count": 27,
   "id": "ee27b326",
   "metadata": {},
   "outputs": [],
   "source": [
    "raise ValueError()"
   ]
  },
  {
   "cell_type": "code",
   "execution_count": null,
   "id": "9dcc7971",
   "metadata": {},
   "outputs": [],
   "source": []
  },
  {
   "cell_type": "code",
   "execution_count": null,
   "id": "446acb8a",
   "metadata": {},
   "outputs": [],
   "source": [
    "for n_ in network.neurons:\n",
    "    n_.spike_train = PeriodicSpikeTrain(\n",
    "        period,\n",
    "        spike_trains.spike_trains[n_.idx].firing_times,\n",
    "    )"
   ]
  },
  {
   "cell_type": "code",
   "execution_count": null,
   "id": "42dc47c1",
   "metadata": {},
   "outputs": [],
   "source": [
    "neuron.init_template_single(eps, gap, slope)"
   ]
  },
  {
   "cell_type": "code",
   "execution_count": null,
   "id": "6964091c",
   "metadata": {},
   "outputs": [],
   "source": [
    "neuron.memorize(weights_lim)"
   ]
  },
  {
   "cell_type": "code",
   "execution_count": null,
   "id": "3cd307dd",
   "metadata": {},
   "outputs": [],
   "source": [
    "neuron.spike_train.firing_times"
   ]
  },
  {
   "cell_type": "code",
   "execution_count": null,
   "id": "8e1e6312",
   "metadata": {},
   "outputs": [],
   "source": []
  },
  {
   "cell_type": "code",
   "execution_count": null,
   "id": "cff80925",
   "metadata": {},
   "outputs": [],
   "source": []
  },
  {
   "cell_type": "code",
   "execution_count": null,
   "id": "fc61df26",
   "metadata": {},
   "outputs": [],
   "source": [
    "network.memorize(multi_channel_spike_train, SYNAPSE_WEIGHTS_LIM, EPS, GAP, SLOPE, \"l1\")"
   ]
  },
  {
   "cell_type": "code",
   "execution_count": null,
   "id": "3bacfede",
   "metadata": {},
   "outputs": [],
   "source": [
    "times = np.linspace(0, period, 10000)"
   ]
  },
  {
   "cell_type": "code",
   "execution_count": null,
   "id": "2fd987fb",
   "metadata": {},
   "outputs": [],
   "source": [
    "def input_spike_resp(t):\n",
    "        \n",
    "    #tmax = (math.log(synapse_decay) - math.log(soma_decay)) / (1 / soma_decay - 1 / synapse_decay)\n",
    "    #gamma = 1 / (math.exp(-tmax / soma_decay) - math.exp(-tmax / synapse_decay))\n",
    "\n",
    "    if isinstance(t, np.ndarray):\n",
    "        #z = gamma * (np.exp(-t / soma_decay) - np.exp(-t / synapse_decay))\n",
    "        z = t / 5 * np.exp(1 - t / 5)\n",
    "        z[t < 0] = 0.0\n",
    "        return z\n",
    "    \n",
    "    if t < 0:\n",
    "        return 0.0\n",
    "    \n",
    "    #return gamma * (np.exp(-t / soma_decay) - np.exp(-t / synapse_decay))\n",
    "    return t / 5 * np.exp(1 - t / 5)\n",
    "    \n",
    "def input_spike_resp_deriv(t):\n",
    "    tmax = (math.log(synapse_decay) - math.log(soma_decay)) / (1 / soma_decay - 1 / synapse_decay)\n",
    "    gamma = 1 / (math.exp(-tmax / soma_decay) - math.exp(-tmax / synapse_decay))\n",
    "\n",
    "    if isinstance(t, np.ndarray):\n",
    "        z = gamma * (np.exp(-t / synapse_decay) / synapse_decay - np.exp(-t / soma_decay) / soma_decay)\n",
    "        z[t < 0] = 0.0\n",
    "        return z\n",
    "    \n",
    "    if t < 0:\n",
    "        return 0.0\n",
    "    \n",
    "    return gamma * (np.exp(-t / synapse_decay) / synapse_decay - np.exp(-t / soma_decay) / soma_decay)\n",
    "\n",
    "def refractory_spike_resp(t):\n",
    "    if isinstance(t, np.ndarray):\n",
    "        z = -refractory_weight * np.exp(- (t - abs_refractory_period) / soma_decay)\n",
    "        z[t <= abs_refractory_period] = -np.inf\n",
    "        z[t <= 0] = 0.0\n",
    "        return z\n",
    "    \n",
    "    if t <= 0:\n",
    "        return 0.0\n",
    "    \n",
    "    if t <= abs_refractory_period:\n",
    "        return -np.inf\n",
    "    \n",
    "    return -refractory_weight * np.exp(- (t - abs_refractory_period) / soma_decay)\n",
    "\n",
    "def refractory_spike_resp_deriv(t):\n",
    "    if isinstance(t, np.ndarray):\n",
    "        z = refractory_weight / soma_decay * np.exp(- (t - abs_refractory_period) / soma_decay)\n",
    "        z[t <= abs_refractory_period] = 0.0\n",
    "        return z\n",
    "\n",
    "    if t <= abs_refractory_period:\n",
    "        return 0.0\n",
    "    \n",
    "    return refractory_weight / soma_decay * np.exp(- (t - abs_refractory_period) / soma_decay)"
   ]
  },
  {
   "cell_type": "code",
   "execution_count": null,
   "id": "7d0d6cbe",
   "metadata": {},
   "outputs": [],
   "source": [
    "def potential(t, delays, weights, input_spike_trains, modulo=True):\n",
    "    if isinstance(t, np.ndarray):\n",
    "        if modulo:\n",
    "            y = np.array([\n",
    "                np.sum(input_spike_resp((t[None,:] - delays[k] - input_spike_trains.spike_trains[k].firing_times[:,None])%period), axis=0) for k in range(num_inputs)\n",
    "            ])\n",
    "            return weights@y\n",
    "        \n",
    "        y = np.array([\n",
    "            np.sum(input_spike_resp((t[None,:] - delays[k] - input_spike_trains.spike_trains[k].firing_times[:,None])), axis=0) for k in range(num_inputs)\n",
    "        ])\n",
    "        return weights@y  \n",
    "        \n",
    "    if modulo:\n",
    "        y = np.array([\n",
    "            np.sum(input_spike_resp((t - delays[k] - input_spike_trains.spike_trains[k].firing_times)%period), axis=0) for k in range(num_inputs)\n",
    "        ])\n",
    "        return weights@y\n",
    "    \n",
    "    y = np.array([\n",
    "        np.sum(input_spike_resp((t - delays[k] - input_spike_trains.spike_trains[k].firing_times)), axis=0) for k in range(num_inputs)\n",
    "    ])\n",
    "    return weights@y  \n",
    "\n",
    "def potential_deriv(t, delays, weights, input_spike_trains, modulo=True):\n",
    "    if isinstance(t, np.ndarray):\n",
    "        if modulo:\n",
    "            y = np.array([\n",
    "                np.sum(input_spike_resp_deriv((t[None,:] - delays[k] - input_spike_trains.spike_trains[k].firing_times[:,None])%period), axis=0) for k in range(num_inputs)\n",
    "                ])\n",
    "            return weights@y\n",
    "        \n",
    "        y = np.array([\n",
    "                np.sum(input_spike_resp_deriv((t[None,:] - delays[k] - input_spike_trains.spike_trains[k].firing_times[:,None])), axis=0) for k in range(num_inputs)\n",
    "            ])\n",
    "        return weights@y\n",
    "    \n",
    "    if modulo:\n",
    "        y = np.array([\n",
    "            np.sum(input_spike_resp((t - delays[k] - input_spike_trains.spike_trains[k].firing_times)%period), axis=0) for k in range(num_inputs)\n",
    "            ])\n",
    "        return weights@y  \n",
    "    \n",
    "    y = np.array([\n",
    "            np.sum(input_spike_resp((t - delays[k] - input_spike_trains.spike_trains[k].firing_times)), axis=0) for k in range(num_inputs)\n",
    "        ])\n",
    "    return weights@y\n",
    "\n",
    "def threshold(t, target_spike_train, modulo=True):\n",
    "    if isinstance(t, np.ndarray):\n",
    "        if modulo: \n",
    "            return firing_threshold - np.sum(refractory_spike_resp((t[None,:] - target_spike_train.firing_times[:,None])%period), axis=0)\n",
    "\n",
    "        return firing_threshold - np.sum(refractory_spike_resp((t[None,:] - target_spike_train.firing_times[:,None])), axis=0)\n",
    "    \n",
    "    if modulo: \n",
    "        return firing_threshold - np.sum(refractory_spike_resp((t - target_spike_train.firing_times)%period), axis=0)        \n",
    "    return firing_threshold - np.sum(refractory_spike_resp((t - target_spike_train.firing_times)), axis=0)"
   ]
  },
  {
   "cell_type": "code",
   "execution_count": null,
   "id": "576271a1",
   "metadata": {},
   "outputs": [],
   "source": [
    "1.0 + np.exp(-((0 - 53.55974238 - 5.0) % 100)/5.0)"
   ]
  },
  {
   "cell_type": "code",
   "execution_count": null,
   "id": "f88ddb28",
   "metadata": {},
   "outputs": [],
   "source": [
    "#def threshold(t, target_spike_train, modulo=True):\n",
    "#    if isinstance(t, np.ndarray):\n",
    "#        if modulo: \n",
    "#            return firing_threshold - np.sum(refractory_spike_resp((t[None,:] - target_spike_train.firing_times[:,None])%period), axis=0)\n",
    "#\n",
    "#        return firing_threshold - np.sum(refractory_spike_resp((t[None,:] - target_spike_train.firing_times[:,None])), axis=0)\n",
    "#    \n",
    "#    if modulo: \n",
    "#        return firing_threshold - np.sum(refractory_spike_resp((t - target_spike_train.firing_times[:,None])%period), axis=0)        \n",
    "#    return firing_threshold - np.sum(refractory_spike_resp((t - target_spike_train.firing_times[:,None])), axis=0)"
   ]
  },
  {
   "cell_type": "code",
   "execution_count": null,
   "id": "9cb33b9d",
   "metadata": {},
   "outputs": [],
   "source": [
    "#def threshold_deriv(t, target_spike_train):\n",
    "#    if isinstance(t, np.ndarray):\n",
    "#        return - np.sum(refractory_spike_resp_deriv((t[None,:] - target_spike_train.firing_times[:,None])), axis=0)\n",
    "#    return - np.sum(refractory_spike_resp_deriv((t - target_spike_train.firing_times[:,None])), axis=0)"
   ]
  },
  {
   "cell_type": "code",
   "execution_count": null,
   "id": "006679d3",
   "metadata": {},
   "outputs": [],
   "source": [
    "input_spike_resp((0 - 92.17851908 - 1)%100)"
   ]
  },
  {
   "cell_type": "code",
   "execution_count": null,
   "id": "4d96af22",
   "metadata": {},
   "outputs": [],
   "source": [
    "fig, axes = plt.subplots(nrows=2, ncols=1, sharex=True, figsize=(3.5, 4))\n",
    "\n",
    "times = np.linspace(0, 100, 1000)\n",
    "\n",
    "axes[0].plot(times, input_spike_resp(times), c=\"C2\", label=r\"$g_0 * g_k$\")\n",
    "axes[1].plot(times, -refractory_spike_resp(times), c=\"C2\", label=r\"$-g_0$\")\n",
    "#axes[0].legend()\n",
    "#axes[1].legend()\n",
    "#axes[0].set_xlabel(r\"$t$\")\n",
    "#axes[0].set_xlim(0, period)\n",
    "axes[0].set_ylabel(r\"$h(t)$\")\n",
    "axes[1].set_ylabel(r\"$\\eta(t)$\")\n",
    "axes[1].set_xlabel(r\"$t$\")\n",
    "axes[1].set_xlim(0, 100)\n",
    "\n",
    "fig.tight_layout()\n",
    "fig.savefig('spike_responses.pgf')\n",
    "#plt.show()"
   ]
  },
  {
   "cell_type": "code",
   "execution_count": null,
   "id": "f7683ffd",
   "metadata": {},
   "outputs": [],
   "source": [
    "spike_train_generator = PeriodicSpikeTrainGenerator(firing_rate, abs_refractory_period, rel_refractory_period)"
   ]
  },
  {
   "cell_type": "code",
   "execution_count": null,
   "id": "d253cb3f",
   "metadata": {},
   "outputs": [],
   "source": [
    "input_spike_trains = spike_train_generator.rand(period, num_inputs)\n",
    "#input_spike_train = spike_train_generator.rand(period)\n",
    "#input_spike_trains = MultiChannelPeriodicSpikeTrain(\n",
    "#    period, \n",
    "#    num_inputs,\n",
    "#    [input_spike_train.firing_times]*num_inputs\n",
    "#)\n",
    "target_spike_train = spike_train_generator.rand(period)"
   ]
  },
  {
   "cell_type": "code",
   "execution_count": null,
   "id": "7ac76b4f",
   "metadata": {},
   "outputs": [],
   "source": [
    "num_spikes = np.array([spike_train.num_spikes for spike_train in input_spike_trains.spike_trains])"
   ]
  },
  {
   "cell_type": "code",
   "execution_count": null,
   "id": "47c2c7df",
   "metadata": {},
   "outputs": [],
   "source": [
    "fig, ax = plt.subplots(1, 1, figsize=(5, 0.8))\n",
    "ax.stem(target_spike_train.firing_times, np.ones_like(target_spike_train.firing_times), basefmt=\" \", markerfmt=\"C2o\", linefmt=\"C2-\")\n",
    "ax.set_xlim(0, period)\n",
    "ax.set_ylim(0, 2)\n",
    "ax.set_yticks([])\n",
    "plt.show()"
   ]
  },
  {
   "cell_type": "code",
   "execution_count": null,
   "id": "186bac5c",
   "metadata": {},
   "outputs": [],
   "source": [
    "unique, counts = np.unique(num_spikes, return_counts=True)\n",
    "\n",
    "fig, ax = plt.subplots(1, 1, figsize=(5, 2))\n",
    "ax.bar(unique, counts, color=\"C2\")\n",
    "#ax.set_xticks(np.arange(np.min(num_spikes), np.max(num_spikes)+1))\n",
    "plt.show()"
   ]
  },
  {
   "cell_type": "code",
   "execution_count": null,
   "id": "f029e784",
   "metadata": {},
   "outputs": [],
   "source": [
    "delays = rng.uniform(1.0, 60.0, num_inputs)"
   ]
  },
  {
   "cell_type": "markdown",
   "id": "8579d9c0",
   "metadata": {},
   "source": [
    "# Computing Weights"
   ]
  },
  {
   "cell_type": "code",
   "execution_count": null,
   "id": "aeaf5287",
   "metadata": {},
   "outputs": [],
   "source": [
    "def compute_spike_train(weights):\n",
    "    spike_train = target_spike_train.copy()\n",
    "    \n",
    "    fun = lambda t_: potential(t_, delays, weights, input_spike_trains) - threshold(t_, spike_train, modulo=False)\n",
    "\n",
    "    ta = spike_train.firing_times[-1] + abs_refractory_period\n",
    "    while(ta < 2*period):\n",
    "        tb = ta + 1\n",
    "        if fun(ta) * fun(tb) <= 0:\n",
    "            t = brentq(fun, ta, tb)\n",
    "            spike_train.append(t)\n",
    "            ta += abs_refractory_period\n",
    "        else:\n",
    "            ta += 1\n",
    "\n",
    "    return spike_train"
   ]
  },
  {
   "cell_type": "code",
   "execution_count": null,
   "id": "79b4210a",
   "metadata": {},
   "outputs": [],
   "source": [
    "extended_firing_times = np.concatenate([\n",
    "    target_spike_train.firing_times - period,\n",
    "    target_spike_train.firing_times,\n",
    "    target_spike_train.firing_times + period\n",
    "])\n",
    "\n",
    "times = np.arange(0, period, 1e-2)\n",
    "time_diff = times[:,None] - extended_firing_times[None,:]\n",
    "mask_slope = np.any(np.abs(time_diff) < 1.0, axis=1)\n",
    "t_slope = times[mask_slope]\n",
    "y_slope = np.stack(\n",
    "    [np.sum(\n",
    "        input_spike_resp_deriv(\n",
    "            (t_slope[:,None] - delays[k] - input_spike_trains.spike_trains[k].firing_times[None,:]) % period\n",
    "        ),\n",
    "        axis=1) for k in range(num_inputs)], \n",
    "    axis=1)\n",
    "z_slope = np.full_like(t_slope, 0.5)\n",
    "\n",
    "times = np.arange(0, period, 1e-2)\n",
    "time_diff = times[:,None] - extended_firing_times[None,:]\n",
    "mask_level_f = np.any((time_diff > -1.0) & (time_diff < 0.0), axis=1)\n",
    "t_level_f = times[mask_level_f]\n",
    "y_level_f = np.stack(\n",
    "    [np.sum(\n",
    "        input_spike_resp(\n",
    "            (t_level_f[:,None] - delays[k] - input_spike_trains.spike_trains[k].firing_times[None,:]) % period\n",
    "        ),\n",
    "        axis=1) for k in range(num_inputs)], \n",
    "    axis=1)\n",
    "z_level_f = firing_threshold - np.sum(\n",
    "    refractory_spike_resp(\n",
    "        (t_level_f[:,None] - target_spike_train.firing_times[None,:]) % period\n",
    "    ), axis=1)\n",
    "\n",
    "times = np.arange(0, period, 1e-1)\n",
    "time_diff = times[:,None] - extended_firing_times[None,:]\n",
    "mask_level = np.all((time_diff > abs_refractory_period) | (time_diff < -1.0), axis=1)\n",
    "t_level = times[mask_level]\n",
    "y_level = np.stack(\n",
    "    [np.sum(\n",
    "        input_spike_resp(\n",
    "            (t_level[:,None] - delays[k] - input_spike_trains.spike_trains[k].firing_times[None,:]) % period\n",
    "        ),\n",
    "        axis=1) for k in range(num_inputs)], \n",
    "    axis=1)\n",
    "z_level = 0.0 - np.sum(\n",
    "    refractory_spike_resp(\n",
    "        (t_level[:,None] - target_spike_train.firing_times[None,:]) % period\n",
    "    ), axis=1)\n",
    "\n",
    "y_firing = np.stack(\n",
    "    [np.sum(\n",
    "        input_spike_resp(\n",
    "            (target_spike_train.firing_times[:,None] - delays[k] - input_spike_trains.spike_trains[k].firing_times[None,:]) % period\n",
    "        ),\n",
    "        axis=1) for k in range(num_inputs)], \n",
    "    axis=1)\n",
    "z_firing = firing_threshold - np.sum(\n",
    "    refractory_spike_resp(\n",
    "        (target_spike_train.firing_times[:,None] - target_spike_train.firing_times[None,:]) % period\n",
    "    ), axis=1)"
   ]
  },
  {
   "cell_type": "markdown",
   "id": "bbdd0370",
   "metadata": {},
   "source": [
    "## Bounded Weights"
   ]
  },
  {
   "cell_type": "code",
   "execution_count": null,
   "id": "d18ebad6",
   "metadata": {},
   "outputs": [],
   "source": [
    "weights = cp.Variable(num_inputs)\n",
    "objective = cp.Minimize(0.0)\n",
    "constraints = [\n",
    "    y_firing @ weights == z_firing, \n",
    "    y_level_f @ weights <= z_level_f, \n",
    "    y_level @ weights <= z_level, \n",
    "    y_slope @ weights >= z_slope,\n",
    "    weights >= wmin,\n",
    "    weights <= wmax\n",
    "]\n",
    "prob = cp.Problem(objective, constraints)"
   ]
  },
  {
   "cell_type": "code",
   "execution_count": null,
   "id": "f247300d",
   "metadata": {},
   "outputs": [],
   "source": [
    "_ = prob.solve(solver=\"GUROBI\")\n",
    "print(\"problem is\", prob.status)"
   ]
  },
  {
   "cell_type": "code",
   "execution_count": null,
   "id": "316faa08",
   "metadata": {},
   "outputs": [],
   "source": [
    "times = np.linspace(0, period, 1000)\n",
    "\n",
    "fig = plt.figure(layout=\"constrained\")\n",
    "subplots = fig.subfigures()\n",
    "\n",
    "axes_template = subplots.subplots(nrows=2, ncols=1)\n",
    "\n",
    "_ = axes_template[0].scatter(np.arange(num_inputs), np.sort(weights.value), s=2, c=\"C2\", label=r\"$w$\")\n",
    "_ = axes_template[0].set_xlim(0, num_inputs)\n",
    "_ = axes_template[0].set_ylim(wmin, wmax)\n",
    "_ = axes_template[0].set_xlabel(r\"$k$\")\n",
    "_ = axes_template[0].set_ylabel(r\"$w_k$\")\n",
    "#_ = axes_template[0].axhline(wmin, linestyle=\"--\", c=\"C1\")\n",
    "#_ = axes_template[0].axhline(wmax, linestyle=\"--\", c=\"C1\")\n",
    "\n",
    "for s in target_spike_train.firing_times:\n",
    "    _ = axes_template[1].axvline(s, linestyle=\"--\", c=\"C0\")\n",
    "_ = axes_template[1].plot(times, potential(times, delays, weights.value, input_spike_trains), c=\"C2\", label=r\"$w$\")\n",
    "_ = axes_template[1].plot(times, threshold(times, target_spike_train), c=\"C1\")\n",
    "_ = axes_template[1].set_xlim(0, period)\n",
    "_ = axes_template[1].set_xlabel(r\"$t$\")\n",
    "_ = axes_template[1].set_ylabel(r\"$z(t)$\")"
   ]
  },
  {
   "cell_type": "code",
   "execution_count": null,
   "id": "cf8db099",
   "metadata": {},
   "outputs": [],
   "source": [
    "spike_train = compute_spike_train(weights.value)\n",
    "spike_train_ = SpikeTrain(spike_train.firing_times[spike_train.firing_times > period])\n",
    "corr, lag = single_channel_correlation(target_spike_train, spike_train_, eps=1e-3)\n",
    "\n",
    "print(f\"spike train similarity: {corr:.3f} (with a lag of {lag:.3f})\" )\n",
    "print(f\"sparsity: {1 - np.count_nonzero(weights.value)/num_inputs:.6f}\")\n",
    "print(f\"energy: {np.sum(np.square(weights.value))/num_inputs:.6f}\")"
   ]
  },
  {
   "cell_type": "markdown",
   "id": "0e861208",
   "metadata": {},
   "source": [
    "## Bounded Weights with L2 Regularization"
   ]
  },
  {
   "cell_type": "code",
   "execution_count": null,
   "id": "c9869d2c",
   "metadata": {},
   "outputs": [],
   "source": [
    "weights_r2 = cp.Variable(num_inputs)\n",
    "objective = cp.Minimize(cp.norm2(weights_r2))\n",
    "constraints = [\n",
    "    y_firing @ weights_r2 == z_firing, \n",
    "    y_level_f @ weights_r2 <= z_level_f, \n",
    "    y_level @ weights_r2 <= z_level, \n",
    "    y_slope @ weights_r2 >= z_slope,\n",
    "    weights_r2 >= wmin,\n",
    "    weights_r2 <= wmax\n",
    "]\n",
    "prob = cp.Problem(objective, constraints)"
   ]
  },
  {
   "cell_type": "code",
   "execution_count": null,
   "id": "e738036c",
   "metadata": {},
   "outputs": [],
   "source": [
    "_ = prob.solve(solver=\"GUROBI\")\n",
    "print(\"problem is\", prob.status)"
   ]
  },
  {
   "cell_type": "code",
   "execution_count": null,
   "id": "eb58399b",
   "metadata": {},
   "outputs": [],
   "source": [
    "times = np.linspace(0, period, 1000)\n",
    "\n",
    "fig = plt.figure(layout=\"constrained\")\n",
    "subplots = fig.subfigures()\n",
    "\n",
    "axes_template = subplots.subplots(nrows=2, ncols=1)\n",
    "\n",
    "_ = axes_template[0].scatter(np.arange(num_inputs), np.sort(weights_r2.value), s=2, c=\"C2\", label=r\"$w$\")\n",
    "_ = axes_template[0].set_xlim(0, num_inputs)\n",
    "_ = axes_template[0].set_ylim(wmin, wmax)\n",
    "_ = axes_template[0].set_xlabel(r\"$k$\")\n",
    "_ = axes_template[0].set_ylabel(r\"$w_k$\")\n",
    "#_ = axes_template[0].axhline(wmin, linestyle=\"--\", c=\"C1\")\n",
    "#_ = axes_template[0].axhline(wmax, linestyle=\"--\", c=\"C1\")\n",
    "\n",
    "for s in target_spike_train.firing_times:\n",
    "    _ = axes_template[1].axvline(s, linestyle=\"--\", c=\"C0\")\n",
    "_ = axes_template[1].plot(times, potential(times, delays, weights_r2.value, input_spike_trains), c=\"C2\", label=r\"$w$\")\n",
    "_ = axes_template[1].plot(times, threshold(times, target_spike_train), c=\"C1\")\n",
    "_ = axes_template[1].set_xlim(0, period)\n",
    "_ = axes_template[1].set_xlabel(r\"$t$\")\n",
    "_ = axes_template[1].set_ylabel(r\"$z(t)$\")"
   ]
  },
  {
   "cell_type": "code",
   "execution_count": null,
   "id": "35180962",
   "metadata": {},
   "outputs": [],
   "source": [
    "spike_train = compute_spike_train(weights.value)\n",
    "spike_train_ = SpikeTrain(spike_train.firing_times[spike_train.firing_times > period])\n",
    "corr, lag = single_channel_correlation(target_spike_train, spike_train_, eps=1e-3)\n",
    "\n",
    "print(f\"spike train similarity: {corr:.3f} (with a lag of {lag:.3f})\" )\n",
    "print(f\"sparsity: {1 - np.count_nonzero(weights.value)/num_inputs:.6f}\")\n",
    "print(f\"energy: {np.sum(np.square(weights.value))/num_inputs:.6f}\")"
   ]
  },
  {
   "cell_type": "markdown",
   "id": "6cd2c0fe",
   "metadata": {},
   "source": [
    "## Bounded Weights with L1 Regularization"
   ]
  },
  {
   "cell_type": "code",
   "execution_count": null,
   "id": "d5e01c0b",
   "metadata": {},
   "outputs": [],
   "source": [
    "weights_r1 = cp.Variable(num_inputs)\n",
    "objective = cp.Minimize(cp.norm1(weights_r1))\n",
    "constraints = [\n",
    "    y_firing @ weights_r1 == z_firing, \n",
    "    y_level_f @ weights_r1 <= z_level_f, \n",
    "    y_level @ weights_r1 <= z_level, \n",
    "    y_slope @ weights_r1 >= z_slope,\n",
    "    weights_r1 >= wmin,\n",
    "    weights_r1 <= wmax\n",
    "]\n",
    "prob = cp.Problem(objective, constraints)"
   ]
  },
  {
   "cell_type": "code",
   "execution_count": null,
   "id": "c559258f",
   "metadata": {},
   "outputs": [],
   "source": [
    "_ = prob.solve(solver=\"GUROBI\")\n",
    "print(\"problem is\", prob.status)"
   ]
  },
  {
   "cell_type": "code",
   "execution_count": null,
   "id": "e4abb083",
   "metadata": {},
   "outputs": [],
   "source": [
    "times = np.linspace(0, period, 1000)\n",
    "\n",
    "fig = plt.figure(layout=\"constrained\")\n",
    "subplots = fig.subfigures()\n",
    "\n",
    "axes_template = subplots.subplots(nrows=2, ncols=1)\n",
    "\n",
    "_ = axes_template[0].scatter(np.arange(num_inputs), np.sort(weights_r1.value), s=2, c=\"C2\", label=r\"$w$\")\n",
    "_ = axes_template[0].set_xlim(0, num_inputs)\n",
    "_ = axes_template[0].set_ylim(wmin, wmax)\n",
    "_ = axes_template[0].set_xlabel(r\"$k$\")\n",
    "_ = axes_template[0].set_ylabel(r\"$w_k$\")\n",
    "#_ = axes_template[0].axhline(wmin, linestyle=\"--\", c=\"C1\")\n",
    "#_ = axes_template[0].axhline(wmax, linestyle=\"--\", c=\"C1\")\n",
    "\n",
    "for s in target_spike_train.firing_times:\n",
    "    _ = axes_template[1].axvline(s, linestyle=\"--\", c=\"C0\")\n",
    "_ = axes_template[1].plot(times, potential(times, delays, weights_r1.value, input_spike_trains), c=\"C2\", label=r\"$w$\")\n",
    "_ = axes_template[1].plot(times, threshold(times, target_spike_train), c=\"C1\")\n",
    "_ = axes_template[1].set_xlim(0, period)\n",
    "_ = axes_template[1].set_xlabel(r\"$t$\")\n",
    "_ = axes_template[1].set_ylabel(r\"$z(t)$\")"
   ]
  },
  {
   "cell_type": "code",
   "execution_count": null,
   "id": "364915ba",
   "metadata": {},
   "outputs": [],
   "source": [
    "spike_train = compute_spike_train(weights_r1.value)\n",
    "spike_train_ = SpikeTrain(spike_train.firing_times[spike_train.firing_times > period])\n",
    "corr, lag = single_channel_correlation(target_spike_train, spike_train_, eps=1e-3)\n",
    "\n",
    "print(f\"spike train similarity: {corr:.3f} (with a lag of {lag:.3f})\" )\n",
    "print(f\"sparsity: {1 - np.count_nonzero(weights_r1.value)/num_inputs:.6f}\")\n",
    "print(f\"energy: {np.sum(np.square(weights_r1.value))/num_inputs:.6f}\")"
   ]
  },
  {
   "cell_type": "markdown",
   "id": "988fc500",
   "metadata": {},
   "source": [
    "# Comparison"
   ]
  },
  {
   "cell_type": "code",
   "execution_count": null,
   "id": "96048cfd",
   "metadata": {},
   "outputs": [],
   "source": [
    "times = np.linspace(0, period, 1000)\n",
    "\n",
    "fig = plt.figure(layout=\"constrained\", figsize=(3.4, 5))\n",
    "subplots = fig.subfigures()\n",
    "\n",
    "axes_template = subplots.subplots(nrows=3, ncols=1, sharex=True)\n",
    "\n",
    "axes_template[0].scatter(np.arange(num_inputs), weights.value, s=2, c=\"C1\", label=\"w/o reg\")\n",
    "axes_template[1].scatter(np.arange(num_inputs), weights_r2.value, s=2, c=\"C2\", label=r\"$\\ell_2$ reg\")\n",
    "axes_template[2].scatter(np.arange(num_inputs), weights_r1.value, s=2, c=\"C3\", label=r\"$\\ell_1$ reg\")\n",
    "\n",
    "axes_template[2].set_xlim(0, num_inputs)\n",
    "axes_template[2].set_xlabel(r\"$k$\")\n",
    "\n",
    "axes_template[0].set_ylim(wmin, wmax)\n",
    "axes_template[0].set_ylabel(r\"$w_k$\")\n",
    "axes_template[1].set_ylim(wmin, wmax)\n",
    "axes_template[1].set_ylabel(r\"$w_k$\")\n",
    "axes_template[2].set_ylim(wmin, wmax)\n",
    "axes_template[2].set_ylabel(r\"$w_k$\")\n",
    "\n",
    "plt.show()\n",
    "\n",
    "#plt.figlegend(loc='center left', bbox_to_anchor=(1, 0.5))\n",
    "\n",
    "#fig.savefig('weights_reg.pgf')"
   ]
  },
  {
   "cell_type": "code",
   "execution_count": null,
   "id": "a5b1bb94",
   "metadata": {},
   "outputs": [],
   "source": []
  },
  {
   "cell_type": "code",
   "execution_count": null,
   "id": "dccb4e1d",
   "metadata": {},
   "outputs": [],
   "source": []
  },
  {
   "cell_type": "code",
   "execution_count": null,
   "id": "cd02b0df",
   "metadata": {},
   "outputs": [],
   "source": []
  }
 ],
 "metadata": {
  "kernelspec": {
   "display_name": "Python 3 (ipykernel)",
   "language": "python",
   "name": "python3"
  },
  "language_info": {
   "codemirror_mode": {
    "name": "ipython",
    "version": 3
   },
   "file_extension": ".py",
   "mimetype": "text/x-python",
   "name": "python",
   "nbconvert_exporter": "python",
   "pygments_lexer": "ipython3",
   "version": "3.10.9"
  }
 },
 "nbformat": 4,
 "nbformat_minor": 5
}
