{
 "cells": [
  {
   "attachments": {},
   "cell_type": "markdown",
   "metadata": {},
   "source": [
    "# Optimization Problem"
   ]
  },
  {
   "cell_type": "code",
   "execution_count": 1,
   "metadata": {},
   "outputs": [
    {
     "name": "stdout",
     "output_type": "stream",
     "text": [
      "Intel MKL WARNING: Support of Intel(R) Streaming SIMD Extensions 4.2 (Intel(R) SSE4.2) enabled only processors has been deprecated. Intel oneAPI Math Kernel Library 2025.0 will require Intel(R) Advanced Vector Extensions (Intel(R) AVX) instructions.\n",
      "Intel MKL WARNING: Support of Intel(R) Streaming SIMD Extensions 4.2 (Intel(R) SSE4.2) enabled only processors has been deprecated. Intel oneAPI Math Kernel Library 2025.0 will require Intel(R) Advanced Vector Extensions (Intel(R) AVX) instructions.\n"
     ]
    }
   ],
   "source": [
    "import torch\n",
    "import matplotlib.pyplot as plt\n",
    "import seaborn as sns"
   ]
  },
  {
   "cell_type": "code",
   "execution_count": 2,
   "metadata": {},
   "outputs": [],
   "source": [
    "%matplotlib inline"
   ]
  },
  {
   "cell_type": "code",
   "execution_count": 3,
   "metadata": {},
   "outputs": [],
   "source": [
    "sns.set_theme(context='paper', palette='colorblind', style='whitegrid')"
   ]
  },
  {
   "cell_type": "markdown",
   "metadata": {},
   "source": [
    "## Constrained Optimization"
   ]
  },
  {
   "cell_type": "markdown",
   "metadata": {},
   "source": [
    "### Linear Constraints w/o Objective Function"
   ]
  },
  {
   "cell_type": "code",
   "execution_count": 4,
   "metadata": {},
   "outputs": [
    {
     "name": "stderr",
     "output_type": "stream",
     "text": [
      "/Users/haguettaz/Documents/RSNN/src/rsnn/optim/irls.py:2: TqdmWarning: IProgress not found. Please update jupyter and ipywidgets. See https://ipywidgets.readthedocs.io/en/stable/user_install.html\n",
      "  from tqdm.autonotebook import trange\n"
     ]
    }
   ],
   "source": [
    "from rsnn.optim.irls import solve_lp"
   ]
  },
  {
   "cell_type": "code",
   "execution_count": 5,
   "metadata": {},
   "outputs": [],
   "source": [
    "N, K = 10, 5\n",
    "xb = 1\n",
    "\n",
    "x = torch.empty(K).uniform_(-xb,xb)\n",
    "A = torch.empty(N,K).normal_()\n",
    "b = A@x + torch.rand(N)"
   ]
  },
  {
   "cell_type": "code",
   "execution_count": null,
   "metadata": {},
   "outputs": [
    {
     "name": "stderr",
     "output_type": "stream",
     "text": [
      "  0%|                                                                                                                                                                                                                                                | 0/1000 [00:00<?, ?it/s]"
     ]
    }
   ],
   "source": [
    "solve_lp(A, b, xb, device=\"mps\")"
   ]
  },
  {
   "cell_type": "markdown",
   "metadata": {},
   "source": [
    "### Linear Constraints with L2 Regularization"
   ]
  },
  {
   "cell_type": "code",
   "execution_count": 7,
   "metadata": {},
   "outputs": [
    {
     "ename": "ImportError",
     "evalue": "cannot import name 'solve_lp_l2' from 'rsnn.optim.irls' (/Users/haguettaz/Documents/RSNN/src/rsnn/optim/irls.py)",
     "output_type": "error",
     "traceback": [
      "\u001b[0;31m---------------------------------------------------------------------------\u001b[0m",
      "\u001b[0;31mImportError\u001b[0m                               Traceback (most recent call last)",
      "Cell \u001b[0;32mIn[7], line 1\u001b[0m\n\u001b[0;32m----> 1\u001b[0m \u001b[38;5;28;01mfrom\u001b[39;00m \u001b[38;5;21;01mrsnn\u001b[39;00m\u001b[38;5;21;01m.\u001b[39;00m\u001b[38;5;21;01moptim\u001b[39;00m\u001b[38;5;21;01m.\u001b[39;00m\u001b[38;5;21;01mirls\u001b[39;00m \u001b[38;5;28;01mimport\u001b[39;00m solve_lp_l2\n",
      "\u001b[0;31mImportError\u001b[0m: cannot import name 'solve_lp_l2' from 'rsnn.optim.irls' (/Users/haguettaz/Documents/RSNN/src/rsnn/optim/irls.py)"
     ]
    }
   ],
   "source": [
    "from rsnn.optim.irls import solve_lp_l2"
   ]
  },
  {
   "cell_type": "code",
   "execution_count": null,
   "metadata": {},
   "outputs": [],
   "source": [
    "def solve_lp_l2_gurobi(A, b, xb):\n",
    "    _, K = A.shape\n",
    "    \n",
    "    model_gp = gp.Model()\n",
    "    model_gp.setParam(\"OutputFlag\", 0)\n",
    "    x_gp = model_gp.addMVar(shape=K, lb=-xb, ub=xb)\n",
    "    model_gp.addConstr(A @ x_gp <= b)\n",
    "\n",
    "    lp_norm = model_gp.addVar()\n",
    "    model_gp.addConstr(lp_norm == gp.norm(x_gp, 2))\n",
    "    objective = lp_norm\n",
    "    model_gp.setObjective(objective, gp.GRB.MINIMIZE)\n",
    "    \n",
    "    model_gp.optimize()\n",
    "\n",
    "    x = x_gp.X\n",
    "    \n",
    "    summary = {\n",
    "        \"status\": \"optimal\" if model_gp.status is gp.GRB.OPTIMAL else \"infeasible\", \n",
    "        \"constraints\": np.all(A@x <= b), \n",
    "        \"bounds\": np.all(np.abs(x) <= xb), \n",
    "        \"l2\": np.mean(np.square(x)), \n",
    "        \"x\":x\n",
    "    }\n",
    "    \n",
    "    model_gp.dispose()\n",
    "    \n",
    "    return summary"
   ]
  },
  {
   "cell_type": "code",
   "execution_count": null,
   "metadata": {},
   "outputs": [],
   "source": [
    "N, K = 10, 5\n",
    "xb = 1\n",
    "\n",
    "x = np.random.uniform(-xb,xb,K)\n",
    "A = np.random.normal(size=(N,K))\n",
    "b = A@x + np.random.uniform(0,2,N)"
   ]
  },
  {
   "cell_type": "code",
   "execution_count": null,
   "metadata": {},
   "outputs": [],
   "source": [
    "solve_lp_l2(A, b, xb, atol=1e-12)"
   ]
  },
  {
   "cell_type": "code",
   "execution_count": null,
   "metadata": {},
   "outputs": [],
   "source": [
    "solve_lp_l2_gurobi(A, b, xb)"
   ]
  },
  {
   "cell_type": "markdown",
   "metadata": {},
   "source": [
    "### Linear Constraints with L1 Regularization"
   ]
  },
  {
   "cell_type": "code",
   "execution_count": null,
   "metadata": {},
   "outputs": [],
   "source": [
    "from rsnn.optim.irls import solve_lp_l1"
   ]
  },
  {
   "cell_type": "code",
   "execution_count": null,
   "metadata": {},
   "outputs": [],
   "source": [
    "def solve_lp_l1_gurobi(A, b, xb):\n",
    "    _, K = A.shape\n",
    "    \n",
    "    model_gp = gp.Model()\n",
    "    model_gp.setParam(\"OutputFlag\", 0)\n",
    "    x_gp = model_gp.addMVar(shape=K, lb=-xb, ub=xb)\n",
    "    model_gp.addConstr(A @ x_gp <= b)\n",
    "\n",
    "    lp_norm = model_gp.addVar()\n",
    "    model_gp.addConstr(lp_norm == gp.norm(x_gp, 1))\n",
    "    objective = lp_norm\n",
    "    model_gp.setObjective(objective, gp.GRB.MINIMIZE)\n",
    "    \n",
    "    model_gp.optimize()\n",
    "\n",
    "    x = x_gp.X\n",
    "    \n",
    "    summary = {\n",
    "        \"status\": \"optimal\" if model_gp.status is gp.GRB.OPTIMAL else \"infeasible\", \n",
    "        \"constraints\": np.all(A@x <= b), \n",
    "        \"bounds\": np.all(np.abs(x) <= xb), \n",
    "        \"l1\": np.mean(np.abs(x)), \n",
    "        \"x\":x\n",
    "    }\n",
    "    \n",
    "    model_gp.dispose()\n",
    "    \n",
    "    return summary"
   ]
  },
  {
   "cell_type": "code",
   "execution_count": null,
   "metadata": {},
   "outputs": [],
   "source": [
    "N, K = 10, 5\n",
    "xb = 1\n",
    "\n",
    "x = np.random.uniform(-xb,xb,K)\n",
    "A = np.random.normal(size=(N,K))\n",
    "b = A@x + np.random.uniform(0,2,N)"
   ]
  },
  {
   "cell_type": "code",
   "execution_count": null,
   "metadata": {},
   "outputs": [],
   "source": [
    "solve_lp_l1(A, b, xb, atol=1e-12)"
   ]
  },
  {
   "cell_type": "code",
   "execution_count": null,
   "metadata": {},
   "outputs": [],
   "source": [
    "solve_lp_l1_gurobi(A, b, xb)"
   ]
  },
  {
   "cell_type": "markdown",
   "metadata": {},
   "source": [
    "### Linear Constraints with Quantized Variables"
   ]
  },
  {
   "cell_type": "code",
   "execution_count": null,
   "metadata": {},
   "outputs": [],
   "source": [
    "from rsnn.optim.irls import solve_lp_q\n",
    "from rsnn.optim.utils import all_close_to_one_of"
   ]
  },
  {
   "cell_type": "code",
   "execution_count": null,
   "metadata": {},
   "outputs": [],
   "source": [
    "def solve_lp_q_gurobi(A, b, xb, xlvl):\n",
    "    _, K = A.shape\n",
    "    \n",
    "    model_gp = gp.Model()\n",
    "    model_gp.setParam(\"OutputFlag\", 0)\n",
    "    x_gp = model_gp.addMVar(shape=K, lb=-xb, ub=xb, vtype=gp.GRB.INTEGER)\n",
    "    model_gp.addConstr(A @ x_gp <= b)\n",
    "    \n",
    "    model_gp.optimize()\n",
    "\n",
    "    x = x_gp.X\n",
    "    \n",
    "    summary = {\n",
    "        \"status\": \"optimal\" if model_gp.status is gp.GRB.OPTIMAL else \"infeasible\", \n",
    "        \"constraints\": np.all(A@x <= b), \n",
    "        \"quantization\": all_close_to_one_of(x, np.linspace(-xb,xb,xlvl)), \n",
    "        \"x\":x\n",
    "    }\n",
    "    \n",
    "    model_gp.dispose()\n",
    "    \n",
    "    return summary"
   ]
  },
  {
   "cell_type": "code",
   "execution_count": null,
   "metadata": {},
   "outputs": [],
   "source": [
    "# should we scale the penalty strength with the number of constraints and variables?\n",
    "N, K = 10, 50\n",
    "xb, xlvl = 1, 3\n",
    "\n",
    "x = np.random.randint(-xb,xb+1,K)\n",
    "A = np.random.normal(size=(N,K))\n",
    "b = A@x + np.random.uniform(0,1,N)"
   ]
  },
  {
   "cell_type": "code",
   "execution_count": null,
   "metadata": {},
   "outputs": [],
   "source": [
    "solve_lp_q(A, b, xb, xlvl, gamma_y=10, max_iter=10000, atol=1e-12, rtol=1e-9)"
   ]
  },
  {
   "cell_type": "code",
   "execution_count": null,
   "metadata": {},
   "outputs": [],
   "source": [
    "solve_lp_q_gurobi(A, b, xb, xlvl)"
   ]
  },
  {
   "cell_type": "code",
   "execution_count": null,
   "metadata": {},
   "outputs": [],
   "source": []
  }
 ],
 "metadata": {
  "kernelspec": {
   "display_name": "Python 3 (ipykernel)",
   "language": "python",
   "name": "python3"
  },
  "language_info": {
   "codemirror_mode": {
    "name": "ipython",
    "version": 3
   },
   "file_extension": ".py",
   "mimetype": "text/x-python",
   "name": "python",
   "nbconvert_exporter": "python",
   "pygments_lexer": "ipython3",
   "version": "3.11.8"
  }
 },
 "nbformat": 4,
 "nbformat_minor": 4
}
