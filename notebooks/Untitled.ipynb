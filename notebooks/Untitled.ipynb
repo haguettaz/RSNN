{
 "cells": [
  {
   "cell_type": "code",
   "execution_count": 1,
   "id": "6fc8fd97",
   "metadata": {},
   "outputs": [],
   "source": [
    "import numpy as np"
   ]
  },
  {
   "cell_type": "code",
   "execution_count": 2,
   "id": "5ef6c3fe",
   "metadata": {},
   "outputs": [],
   "source": [
    "L = 20\n",
    "Tr = 2\n",
    "Tw = 3\n",
    "N = 5"
   ]
  },
  {
   "cell_type": "code",
   "execution_count": 3,
   "id": "ae14808d",
   "metadata": {},
   "outputs": [],
   "source": [
    "from rsnn.firing_sequences.classic import f_set, f_card, f_sample, is_in_f\n",
    "from rsnn.firing_sequences.reasonable import is_in_r\n",
    "from rsnn.utils.utils import cyclic_range"
   ]
  },
  {
   "cell_type": "code",
   "execution_count": 4,
   "id": "3f3ffac7",
   "metadata": {},
   "outputs": [
    {
     "data": {
      "text/plain": [
       "False"
      ]
     },
     "execution_count": 4,
     "metadata": {},
     "output_type": "execute_result"
    }
   ],
   "source": [
    "seq = np.random.binomial(1, 0.5, (10, 5000))\n",
    "is_in_f(seq, 10, 5000, 1)"
   ]
  },
  {
   "cell_type": "code",
   "execution_count": 5,
   "id": "b77c85d2",
   "metadata": {},
   "outputs": [
    {
     "data": {
      "text/plain": [
       "True"
      ]
     },
     "execution_count": 5,
     "metadata": {},
     "output_type": "execute_result"
    }
   ],
   "source": [
    "seq = np.array([f_sample(L, Tr) for _ in range(N)])\n",
    "is_in_f(seq, N, L, Tr)"
   ]
  },
  {
   "cell_type": "code",
   "execution_count": 6,
   "id": "e7c57f77",
   "metadata": {},
   "outputs": [
    {
     "data": {
      "text/plain": [
       "(array([[0, 0, 0, 0, 1, 0, 0, 0, 0, 0, 1, 0, 0, 0, 0, 0, 0, 0, 0, 0],\n",
       "        [0, 0, 0, 0, 0, 0, 0, 0, 0, 0, 1, 0, 0, 1, 0, 0, 1, 0, 0, 1],\n",
       "        [0, 0, 1, 0, 0, 1, 0, 0, 0, 0, 0, 0, 0, 0, 0, 1, 0, 0, 0, 1],\n",
       "        [0, 0, 0, 1, 0, 0, 0, 1, 0, 0, 1, 0, 0, 0, 0, 0, 0, 1, 0, 0],\n",
       "        [0, 0, 1, 0, 0, 1, 0, 0, 0, 1, 0, 0, 1, 0, 0, 0, 0, 0, 0, 0]]),\n",
       " True)"
      ]
     },
     "execution_count": 6,
     "metadata": {},
     "output_type": "execute_result"
    }
   ],
   "source": [
    "seq, is_in_r(seq, N, L, Tr, Tw)"
   ]
  },
  {
   "cell_type": "code",
   "execution_count": 8,
   "id": "d584c0e8",
   "metadata": {},
   "outputs": [],
   "source": [
    "import matplotlib.pyplot as plt"
   ]
  },
  {
   "cell_type": "code",
   "execution_count": 34,
   "id": "47ceec0c",
   "metadata": {},
   "outputs": [
    {
     "name": "stdout",
     "output_type": "stream",
     "text": [
      "L=2 is done!\n",
      "L=3 is done!\n",
      "L=4 is done!\n",
      "L=5 is done!\n",
      "L=6 is done!\n",
      "L=7 is done!\n",
      "L=8 is done!\n",
      "L=9 is done!\n",
      "L=10 is done!\n",
      "L=11 is done!\n",
      "L=12 is done!\n",
      "L=13 is done!\n",
      "L=14 is done!\n",
      "L=15 is done!\n",
      "L=16 is done!\n",
      "L=17 is done!\n",
      "L=18 is done!\n",
      "L=19 is done!\n"
     ]
    },
    {
     "data": {
      "image/png": "[encoded data removed]",
      "text/plain": [
       "<Figure size 432x288 with 1 Axes>"
      ]
     },
     "metadata": {
      "needs_background": "light"
     },
     "output_type": "display_data"
    }
   ],
   "source": [
    "Tr, Tw, N = 1, 2, 3\n",
    "c = []\n",
    "for L in range(Tw, 20):\n",
    "    ci = 0\n",
    "    num_iter = 2000\n",
    "    for _ in range(num_iter):\n",
    "        seq = [f_sample(L, Tr) for _ in range(N)]\n",
    "        ci += 1 if is_in_r(seq, N, L, Tr, Tw) else 0\n",
    "    c.append(ci/num_iter)\n",
    "    print(f\"L={L} is done!\")\n",
    "    \n",
    "plt.scatter(range(Tw, 20), c);"
   ]
  },
  {
   "cell_type": "code",
   "execution_count": 37,
   "id": "2cc4024c",
   "metadata": {},
   "outputs": [
    {
     "name": "stdout",
     "output_type": "stream",
     "text": [
      "Tr=0 is done!\n",
      "Tr=1 is done!\n",
      "Tr=2 is done!\n"
     ]
    },
    {
     "data": {
      "image/png": "[encoded data removed]",
      "text/plain": [
       "<Figure size 432x288 with 1 Axes>"
      ]
     },
     "metadata": {
      "needs_background": "light"
     },
     "output_type": "display_data"
    }
   ],
   "source": [
    "L, Tw, N = 10, 3, 3\n",
    "c = []\n",
    "for Tr in range(Tw):\n",
    "    ci = 0\n",
    "    num_iter = 2000\n",
    "    for _ in range(num_iter):\n",
    "        seq = [f_sample(L, Tr) for _ in range(N)]\n",
    "        ci += 1 if is_in_r(seq, N, L, Tr, Tw) else 0\n",
    "    c.append(ci/num_iter)\n",
    "    print(f\"Tr={Tr} is done!\")\n",
    "    \n",
    "plt.scatter(range(Tw), c);"
   ]
  },
  {
   "cell_type": "code",
   "execution_count": 10,
   "id": "3f88d6a9",
   "metadata": {},
   "outputs": [
    {
     "name": "stdout",
     "output_type": "stream",
     "text": [
      "Tw=1 is done!\n",
      "Tw=2 is done!\n",
      "Tw=3 is done!\n",
      "Tw=4 is done!\n",
      "Tw=5 is done!\n",
      "Tw=6 is done!\n",
      "Tw=7 is done!\n",
      "Tw=8 is done!\n",
      "Tw=9 is done!\n"
     ]
    },
    {
     "data": {
      "image/png": "[encoded data removed]",
      "text/plain": [
       "<Figure size 432x288 with 1 Axes>"
      ]
     },
     "metadata": {
      "needs_background": "light"
     },
     "output_type": "display_data"
    }
   ],
   "source": [
    "L, Tr, N = 10, 1, 3\n",
    "c = []\n",
    "for Tw in range(Tr, L):\n",
    "    ci = 0\n",
    "    num_iter = 2000\n",
    "    for _ in range(num_iter):\n",
    "        seq = [f_sample(L, Tr) for _ in range(N)]\n",
    "        ci += 1 if is_in_r(seq, N, L, Tr, Tw) else 0\n",
    "    c.append(ci/num_iter)\n",
    "    print(f\"Tw={Tw} is done!\")\n",
    "    \n",
    "plt.scatter(range(Tw), c);"
   ]
  },
  {
   "cell_type": "code",
   "execution_count": 11,
   "id": "3c7c9767",
   "metadata": {},
   "outputs": [
    {
     "name": "stdout",
     "output_type": "stream",
     "text": [
      "N=1 is done!\n",
      "N=2 is done!\n",
      "N=3 is done!\n",
      "N=4 is done!\n",
      "N=5 is done!\n",
      "N=6 is done!\n",
      "N=7 is done!\n",
      "N=8 is done!\n",
      "N=9 is done!\n"
     ]
    },
    {
     "data": {
      "image/png": "[encoded data removed]",
      "text/plain": [
       "<Figure size 432x288 with 1 Axes>"
      ]
     },
     "metadata": {
      "needs_background": "light"
     },
     "output_type": "display_data"
    }
   ],
   "source": [
    "L, Tr, Tw = 10, 1, 3\n",
    "c = []\n",
    "for N in range(1, 10):\n",
    "    ci = 0\n",
    "    num_iter = 2000\n",
    "    for _ in range(num_iter):\n",
    "        seq = [f_sample(L, Tr) for _ in range(N)]\n",
    "        ci += 1 if is_in_r(seq, N, L, Tr, Tw) else 0\n",
    "    c.append(ci/num_iter)\n",
    "    print(f\"N={N} is done!\")\n",
    "    \n",
    "plt.scatter(range(1, 10), c);"
   ]
  },
  {
   "cell_type": "code",
   "execution_count": 33,
   "id": "7fca5392",
   "metadata": {},
   "outputs": [
    {
     "data": {
      "text/plain": [
       "array([ 6, 24, 28, 19,  7, 30, 23, 13, 15, 18, 21,  4, 13, 13,  7,  8,  3,\n",
       "       19, 23, 24])"
      ]
     },
     "execution_count": 33,
     "metadata": {},
     "output_type": "execute_result"
    }
   ],
   "source": [
    "L = 20\n",
    "Tr = 0\n",
    "N = 5\n",
    "seq = np.sum([np.array(f_sample(L, Tr)) * 2**n for n in range(N)], axis=0)\n",
    "seq"
   ]
  },
  {
   "cell_type": "code",
   "execution_count": 24,
   "id": "88fa3400",
   "metadata": {},
   "outputs": [
    {
     "data": {
      "text/plain": [
       "(5, 20)"
      ]
     },
     "execution_count": 24,
     "metadata": {},
     "output_type": "execute_result"
    }
   ],
   "source": [
    "seq.shape"
   ]
  },
  {
   "cell_type": "code",
   "execution_count": null,
   "id": "6a8e42b9",
   "metadata": {},
   "outputs": [],
   "source": [
    "seq"
   ]
  }
 ],
 "metadata": {
  "kernelspec": {
   "display_name": "Python 3 (ipykernel)",
   "language": "python",
   "name": "python3"
  },
  "language_info": {
   "codemirror_mode": {
    "name": "ipython",
    "version": 3
   },
   "file_extension": ".py",
   "mimetype": "text/x-python",
   "name": "python",
   "nbconvert_exporter": "python",
   "pygments_lexer": "ipython3",
   "version": "3.8.12"
  }
 },
 "nbformat": 4,
 "nbformat_minor": 5
}
