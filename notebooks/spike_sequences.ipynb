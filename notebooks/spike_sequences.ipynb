{
 "cells": [
  {
   "cell_type": "code",
   "execution_count": 1,
   "id": "e296e960",
   "metadata": {},
   "outputs": [],
   "source": [
    "import torch\n",
    "from matplotlib import pyplot as plt"
   ]
  },
  {
   "cell_type": "code",
   "execution_count": 2,
   "id": "e4292033",
   "metadata": {},
   "outputs": [],
   "source": [
    "from rsnn.spike_sequences.sampling import sample_spike_sequences\n",
    "from rsnn.spike_sequences.utils import get_spiking_check_matrix, get_phi0\n",
    "from rsnn.spike_sequences.counting import get_cardinality"
   ]
  },
  {
   "cell_type": "code",
   "execution_count": 3,
   "id": "f9732c2a",
   "metadata": {},
   "outputs": [],
   "source": [
    "%matplotlib inline"
   ]
  },
  {
   "cell_type": "code",
   "execution_count": 4,
   "id": "e5d95095",
   "metadata": {},
   "outputs": [],
   "source": [
    "plt.style.use('scientific')\n",
    "torch.manual_seed(42);"
   ]
  },
  {
   "cell_type": "markdown",
   "id": "95148e6d",
   "metadata": {},
   "source": [
    "# Spiking-Check Matrix and Spectral Radius"
   ]
  },
  {
   "cell_type": "code",
   "execution_count": 5,
   "id": "244316dc",
   "metadata": {},
   "outputs": [
    {
     "data": {
      "image/png": "[encoded data removed]",
      "text/plain": [
       "<Figure size 640x480 with 1 Axes>"
      ]
     },
     "metadata": {},
     "output_type": "display_data"
    }
   ],
   "source": [
    "G = get_spiking_check_matrix(50)\n",
    "phis = torch.linalg.eigvals(G)\n",
    "\n",
    "_ = plt.scatter(phis.real, phis.imag)"
   ]
  },
  {
   "cell_type": "code",
   "execution_count": 6,
   "id": "c2857934",
   "metadata": {},
   "outputs": [
    {
     "data": {
      "text/plain": [
       "float"
      ]
     },
     "execution_count": 6,
     "metadata": {},
     "output_type": "execute_result"
    }
   ],
   "source": [
    "type(get_phi0(50))"
   ]
  },
  {
   "cell_type": "markdown",
   "id": "3b413ed9",
   "metadata": {},
   "source": [
    "# Counting"
   ]
  },
  {
   "cell_type": "code",
   "execution_count": 17,
   "id": "ae353c82",
   "metadata": {},
   "outputs": [
    {
     "data": {
      "text/plain": [
       "0.0025510776622943406"
      ]
     },
     "execution_count": 17,
     "metadata": {},
     "output_type": "execute_result"
    }
   ],
   "source": [
    "card = get_cardinality(500, 50, approx=False)\n",
    "approx_card = get_cardinality(500, 50, approx=True)\n",
    "abs(card - approx_card)/card"
   ]
  },
  {
   "cell_type": "code",
   "execution_count": 58,
   "id": "93d512f1",
   "metadata": {},
   "outputs": [
    {
     "data": {
      "text/plain": [
       "51976.0"
      ]
     },
     "execution_count": 58,
     "metadata": {},
     "output_type": "execute_result"
    }
   ],
   "source": [
    "card = get_cardinality(100, 20, approx=False)\n",
    "card"
   ]
  },
  {
   "cell_type": "markdown",
   "id": "6dca14b2",
   "metadata": {},
   "source": [
    "# Sampling"
   ]
  },
  {
   "cell_type": "code",
   "execution_count": 19,
   "id": "e5a410a3",
   "metadata": {},
   "outputs": [],
   "source": [
    "spike_sequences = sample_spike_sequences(10, 2, 10000)"
   ]
  },
  {
   "cell_type": "code",
   "execution_count": 20,
   "id": "2ea1d4b9",
   "metadata": {},
   "outputs": [
    {
     "data": {
      "text/plain": [
       "tensor([209, 198, 249, 195, 221, 210, 210, 223, 193, 198, 231, 217, 254, 235,\n",
       "        212, 204, 198, 230, 228, 233, 228, 212, 217, 210, 255, 209, 201, 221,\n",
       "        203, 216, 205, 215, 216, 201, 220, 228, 202, 230, 219, 233, 227, 218,\n",
       "        227, 202, 223, 214])"
      ]
     },
     "execution_count": 20,
     "metadata": {},
     "output_type": "execute_result"
    }
   ],
   "source": [
    "_, counts = spike_sequences.unique(dim=1, return_counts=True)\n",
    "counts"
   ]
  },
  {
   "cell_type": "markdown",
   "id": "5c269857",
   "metadata": {},
   "source": [
    "# Marginal and Empirical Number of Spikes"
   ]
  },
  {
   "cell_type": "code",
   "execution_count": 21,
   "id": "55560fe9",
   "metadata": {},
   "outputs": [],
   "source": [
    "spike_sequences = sample_spike_sequences(200, 10, 1000)"
   ]
  },
  {
   "cell_type": "code",
   "execution_count": 22,
   "id": "758a191c",
   "metadata": {},
   "outputs": [
    {
     "data": {
      "text/plain": [
       "(tensor(0.0608), 0.060876747580960344)"
      ]
     },
     "execution_count": 22,
     "metadata": {},
     "output_type": "execute_result"
    }
   ],
   "source": [
    "spike_sequences.float().mean(), 1/(get_phi0(10)**(11) + 10)"
   ]
  },
  {
   "cell_type": "code",
   "execution_count": 27,
   "id": "8c5accfb",
   "metadata": {},
   "outputs": [
    {
     "data": {
      "image/png": "[encoded data removed]",
      "text/plain": [
       "<Figure size 432x288 with 1 Axes>"
      ]
     },
     "metadata": {},
     "output_type": "display_data"
    }
   ],
   "source": [
    "_ = plt.hist(spike_sequences.float().sum(dim=1).numpy(), bins=50, density=True)"
   ]
  },
  {
   "cell_type": "code",
   "execution_count": null,
   "id": "00c52ed0",
   "metadata": {},
   "outputs": [],
   "source": []
  },
  {
   "cell_type": "code",
   "execution_count": 23,
   "id": "de385760",
   "metadata": {},
   "outputs": [
    {
     "data": {
      "text/plain": [
       "tensor([[ 1,  0, 10],\n",
       "        [ 0,  0,  1],\n",
       "        [ 0,  0,  1]])"
      ]
     },
     "execution_count": 23,
     "metadata": {},
     "output_type": "execute_result"
    }
   ],
   "source": [
    "A = torch.tensor([[1, 0, 1], [0, 0, 1], [0, 0, 1]])\n",
    "A.matrix_power(10)"
   ]
  }
 ],
 "metadata": {
  "kernelspec": {
   "display_name": "Python 3 (ipykernel)",
   "language": "python",
   "name": "python3"
  },
  "language_info": {
   "codemirror_mode": {
    "name": "ipython",
    "version": 3
   },
   "file_extension": ".py",
   "mimetype": "text/x-python",
   "name": "python",
   "nbconvert_exporter": "python",
   "pygments_lexer": "ipython3",
   "version": "3.10.6"
  }
 },
 "nbformat": 4,
 "nbformat_minor": 5
}
