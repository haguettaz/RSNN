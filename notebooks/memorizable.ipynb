{
 "cells": [
  {
   "cell_type": "code",
   "execution_count": 1,
   "id": "c05d2855",
   "metadata": {},
   "outputs": [],
   "source": [
    "import matplotlib.pyplot as plt"
   ]
  },
  {
   "cell_type": "code",
   "execution_count": 2,
   "id": "d2c7ffa9",
   "metadata": {},
   "outputs": [],
   "source": [
    "from rsnn.firing_sequences.classic import *\n",
    "from rsnn.firing_sequences.reasonable import *\n",
    "from rsnn.firing_sequences.reducible import *\n",
    "from rsnn.firing_sequences.autonomous import *\n",
    "from rsnn.firing_sequences.memorizable import *"
   ]
  },
  {
   "cell_type": "code",
   "execution_count": 31,
   "id": "c88cd2eb",
   "metadata": {},
   "outputs": [],
   "source": [
    "length, Tr, Th = 10, 2, 4"
   ]
  },
  {
   "cell_type": "code",
   "execution_count": 29,
   "id": "c0171aeb",
   "metadata": {},
   "outputs": [
    {
     "data": {
      "text/plain": [
       "{(0, 0, 0, 0, 0, 0, 0, 0, 0, 0, 0, 0),\n",
       " (0, 0, 0, 0, 0, 1, 0, 0, 0, 0, 0, 1),\n",
       " (0, 0, 0, 0, 1, 0, 0, 0, 0, 0, 1, 0),\n",
       " (0, 0, 0, 1, 0, 0, 0, 0, 0, 1, 0, 0),\n",
       " (0, 0, 0, 1, 0, 0, 0, 1, 0, 0, 0, 1),\n",
       " (0, 0, 1, 0, 0, 0, 0, 0, 1, 0, 0, 0),\n",
       " (0, 0, 1, 0, 0, 0, 1, 0, 0, 0, 1, 0),\n",
       " (0, 0, 1, 0, 0, 1, 0, 0, 1, 0, 0, 1),\n",
       " (0, 1, 0, 0, 0, 0, 0, 1, 0, 0, 0, 0),\n",
       " (0, 1, 0, 0, 0, 1, 0, 0, 0, 1, 0, 0),\n",
       " (0, 1, 0, 0, 1, 0, 0, 1, 0, 0, 1, 0),\n",
       " (1, 0, 0, 0, 0, 0, 1, 0, 0, 0, 0, 0),\n",
       " (1, 0, 0, 0, 1, 0, 0, 0, 1, 0, 0, 0),\n",
       " (1, 0, 0, 1, 0, 0, 1, 0, 0, 1, 0, 0)}"
      ]
     },
     "execution_count": 29,
     "metadata": {},
     "output_type": "execute_result"
    }
   ],
   "source": [
    "d_set(length, Tr)"
   ]
  },
  {
   "cell_type": "code",
   "execution_count": 30,
   "id": "965dcffd",
   "metadata": {},
   "outputs": [
    {
     "data": {
      "text/plain": [
       "{(0, 0, 0, 0, 0, 0, 0, 0, 0, 0, 0, 0),\n",
       " (0, 0, 0, 1, 0, 0, 0, 1, 0, 0, 0, 1),\n",
       " (0, 0, 1, 0, 0, 0, 1, 0, 0, 0, 1, 0),\n",
       " (0, 0, 1, 0, 0, 1, 0, 0, 1, 0, 0, 1),\n",
       " (0, 1, 0, 0, 0, 1, 0, 0, 0, 1, 0, 0),\n",
       " (0, 1, 0, 0, 1, 0, 0, 1, 0, 0, 1, 0),\n",
       " (1, 0, 0, 0, 1, 0, 0, 0, 1, 0, 0, 0),\n",
       " (1, 0, 0, 1, 0, 0, 1, 0, 0, 1, 0, 0)}"
      ]
     },
     "execution_count": 30,
     "metadata": {},
     "output_type": "execute_result"
    }
   ],
   "source": [
    "m_set(length, Tr, Th)"
   ]
  },
  {
   "cell_type": "code",
   "execution_count": 10,
   "id": "10afd471",
   "metadata": {},
   "outputs": [
    {
     "data": {
      "text/plain": [
       "False"
      ]
     },
     "execution_count": 10,
     "metadata": {},
     "output_type": "execute_result"
    }
   ],
   "source": [
    "seq = (0, 0, 0, 1, 0, 0, 1)\n",
    "is_in_r(seq, length, Tr, Th)"
   ]
  },
  {
   "cell_type": "code",
   "execution_count": 36,
   "id": "5b8de268",
   "metadata": {},
   "outputs": [
    {
     "name": "stdout",
     "output_type": "stream",
     "text": [
      "Th=4\n",
      "R - A\n",
      "{(1, 0, 0, 0, 0, 1, 0, 0, 0, 0), (0, 0, 0, 1, 0, 0, 0, 0, 1, 0), (0, 1, 0, 0, 0, 0, 1, 0, 0, 0), (0, 0, 0, 0, 1, 0, 0, 0, 0, 1), (0, 0, 1, 0, 0, 0, 0, 1, 0, 0)}\n",
      "Th=6\n",
      "R - A\n",
      "{(0, 1, 0, 0, 0, 0, 0, 0, 1, 0), (0, 0, 0, 0, 0, 0, 1, 0, 0, 1), (0, 0, 1, 0, 0, 0, 0, 0, 0, 1), (0, 0, 0, 0, 1, 0, 0, 1, 0, 0), (0, 0, 1, 0, 0, 1, 0, 0, 0, 0), (1, 0, 0, 1, 0, 0, 0, 0, 0, 0), (0, 1, 0, 0, 1, 0, 0, 0, 0, 0), (0, 0, 0, 0, 0, 1, 0, 0, 1, 0), (1, 0, 0, 0, 0, 0, 0, 1, 0, 0), (0, 0, 0, 1, 0, 0, 1, 0, 0, 0)}\n",
      "Th=9\n",
      "R - A\n",
      "{(0, 0, 0, 0, 0, 0, 0, 0, 0, 1), (0, 0, 0, 0, 0, 0, 0, 0, 1, 0), (0, 0, 0, 0, 0, 0, 1, 0, 0, 0), (1, 0, 0, 0, 0, 0, 0, 0, 0, 0), (0, 0, 0, 0, 0, 1, 0, 0, 0, 0), (0, 0, 1, 0, 0, 0, 0, 0, 0, 0), (0, 0, 0, 0, 0, 0, 0, 1, 0, 0), (0, 0, 0, 0, 1, 0, 0, 0, 0, 0), (0, 1, 0, 0, 0, 0, 0, 0, 0, 0), (0, 0, 0, 1, 0, 0, 0, 0, 0, 0)}\n"
     ]
    }
   ],
   "source": [
    "for Th in range(Tr+1, length+1):\n",
    "    R = r_set(length, Tr, Th)\n",
    "    A = a_set(length, Tr, Th)\n",
    "    if not R.issubset(A):\n",
    "        print(f\"Th={Th}\")\n",
    "        print(\"R - A\")\n",
    "        print(R - A)"
   ]
  },
  {
   "cell_type": "code",
   "execution_count": null,
   "id": "d811c3a0",
   "metadata": {},
   "outputs": [],
   "source": []
  },
  {
   "cell_type": "code",
   "execution_count": 11,
   "id": "a5e6dd34",
   "metadata": {},
   "outputs": [
    {
     "data": {
      "text/plain": [
       "6"
      ]
     },
     "execution_count": 11,
     "metadata": {},
     "output_type": "execute_result"
    }
   ],
   "source": [
    "m_card(length, Tr, Th)"
   ]
  },
  {
   "cell_type": "code",
   "execution_count": 12,
   "id": "15d70b45",
   "metadata": {},
   "outputs": [
    {
     "data": {
      "text/plain": [
       "46"
      ]
     },
     "execution_count": 12,
     "metadata": {},
     "output_type": "execute_result"
    }
   ],
   "source": [
    "f_card(length, Tr)"
   ]
  },
  {
   "cell_type": "code",
   "execution_count": 13,
   "id": "258ee9c9",
   "metadata": {},
   "outputs": [
    {
     "data": {
      "text/plain": [
       "0.8695652173913043"
      ]
     },
     "execution_count": 13,
     "metadata": {},
     "output_type": "execute_result"
    }
   ],
   "source": [
    "1 - 6/46"
   ]
  },
  {
   "cell_type": "code",
   "execution_count": 16,
   "id": "9c800239",
   "metadata": {},
   "outputs": [
    {
     "data": {
      "text/plain": [
       "0.06110027894055305"
      ]
     },
     "execution_count": 16,
     "metadata": {},
     "output_type": "execute_result"
    }
   ],
   "source": [
    "(1 - 6/46)**20"
   ]
  },
  {
   "cell_type": "code",
   "execution_count": 22,
   "id": "78a6c34b",
   "metadata": {},
   "outputs": [
    {
     "ename": "KeyboardInterrupt",
     "evalue": "",
     "output_type": "error",
     "traceback": [
      "\u001b[0;31m---------------------------------------------------------------------------\u001b[0m",
      "\u001b[0;31mKeyboardInterrupt\u001b[0m                         Traceback (most recent call last)",
      "\u001b[0;32m/var/folders/p1/wl8__y5x6jgfhz_d47k5gq9m0000gn/T/ipykernel_8399/2382517630.py\u001b[0m in \u001b[0;36m<module>\u001b[0;34m\u001b[0m\n\u001b[1;32m      1\u001b[0m \u001b[0mTr\u001b[0m \u001b[0;34m=\u001b[0m \u001b[0;36m1\u001b[0m\u001b[0;34m\u001b[0m\u001b[0;34m\u001b[0m\u001b[0m\n\u001b[1;32m      2\u001b[0m \u001b[0mx\u001b[0m\u001b[0;34m,\u001b[0m \u001b[0my\u001b[0m \u001b[0;34m=\u001b[0m \u001b[0mnp\u001b[0m\u001b[0;34m.\u001b[0m\u001b[0mmgrid\u001b[0m\u001b[0;34m[\u001b[0m\u001b[0;36m1\u001b[0m\u001b[0;34m:\u001b[0m\u001b[0;36m26\u001b[0m\u001b[0;34m,\u001b[0m\u001b[0;36m1\u001b[0m\u001b[0;34m:\u001b[0m\u001b[0;36m16\u001b[0m\u001b[0;34m]\u001b[0m\u001b[0;34m.\u001b[0m\u001b[0mreshape\u001b[0m\u001b[0;34m(\u001b[0m\u001b[0;36m2\u001b[0m\u001b[0;34m,\u001b[0m \u001b[0;34m-\u001b[0m\u001b[0;36m1\u001b[0m\u001b[0;34m)\u001b[0m\u001b[0;34m\u001b[0m\u001b[0;34m\u001b[0m\u001b[0m\n\u001b[0;32m----> 3\u001b[0;31m \u001b[0mz\u001b[0m \u001b[0;34m=\u001b[0m \u001b[0mnp\u001b[0m\u001b[0;34m.\u001b[0m\u001b[0marray\u001b[0m\u001b[0;34m(\u001b[0m\u001b[0;34m[\u001b[0m\u001b[0mm_card\u001b[0m\u001b[0;34m(\u001b[0m\u001b[0mx\u001b[0m\u001b[0;34m[\u001b[0m\u001b[0mi\u001b[0m\u001b[0;34m]\u001b[0m\u001b[0;34m,\u001b[0m \u001b[0mTr\u001b[0m\u001b[0;34m,\u001b[0m \u001b[0my\u001b[0m\u001b[0;34m[\u001b[0m\u001b[0mi\u001b[0m\u001b[0;34m]\u001b[0m\u001b[0;34m)\u001b[0m\u001b[0;34m/\u001b[0m\u001b[0mf_card\u001b[0m\u001b[0;34m(\u001b[0m\u001b[0mx\u001b[0m\u001b[0;34m[\u001b[0m\u001b[0mi\u001b[0m\u001b[0;34m]\u001b[0m\u001b[0;34m,\u001b[0m \u001b[0mTr\u001b[0m\u001b[0;34m)\u001b[0m \u001b[0;32mfor\u001b[0m \u001b[0mi\u001b[0m \u001b[0;32min\u001b[0m \u001b[0mrange\u001b[0m\u001b[0;34m(\u001b[0m\u001b[0;36m25\u001b[0m\u001b[0;34m*\u001b[0m\u001b[0;36m15\u001b[0m\u001b[0;34m)\u001b[0m\u001b[0;34m]\u001b[0m\u001b[0;34m)\u001b[0m\u001b[0;34m\u001b[0m\u001b[0;34m\u001b[0m\u001b[0m\n\u001b[0m",
      "\u001b[0;32m/var/folders/p1/wl8__y5x6jgfhz_d47k5gq9m0000gn/T/ipykernel_8399/2382517630.py\u001b[0m in \u001b[0;36m<listcomp>\u001b[0;34m(.0)\u001b[0m\n\u001b[1;32m      1\u001b[0m \u001b[0mTr\u001b[0m \u001b[0;34m=\u001b[0m \u001b[0;36m1\u001b[0m\u001b[0;34m\u001b[0m\u001b[0;34m\u001b[0m\u001b[0m\n\u001b[1;32m      2\u001b[0m \u001b[0mx\u001b[0m\u001b[0;34m,\u001b[0m \u001b[0my\u001b[0m \u001b[0;34m=\u001b[0m \u001b[0mnp\u001b[0m\u001b[0;34m.\u001b[0m\u001b[0mmgrid\u001b[0m\u001b[0;34m[\u001b[0m\u001b[0;36m1\u001b[0m\u001b[0;34m:\u001b[0m\u001b[0;36m26\u001b[0m\u001b[0;34m,\u001b[0m\u001b[0;36m1\u001b[0m\u001b[0;34m:\u001b[0m\u001b[0;36m16\u001b[0m\u001b[0;34m]\u001b[0m\u001b[0;34m.\u001b[0m\u001b[0mreshape\u001b[0m\u001b[0;34m(\u001b[0m\u001b[0;36m2\u001b[0m\u001b[0;34m,\u001b[0m \u001b[0;34m-\u001b[0m\u001b[0;36m1\u001b[0m\u001b[0;34m)\u001b[0m\u001b[0;34m\u001b[0m\u001b[0;34m\u001b[0m\u001b[0m\n\u001b[0;32m----> 3\u001b[0;31m \u001b[0mz\u001b[0m \u001b[0;34m=\u001b[0m \u001b[0mnp\u001b[0m\u001b[0;34m.\u001b[0m\u001b[0marray\u001b[0m\u001b[0;34m(\u001b[0m\u001b[0;34m[\u001b[0m\u001b[0mm_card\u001b[0m\u001b[0;34m(\u001b[0m\u001b[0mx\u001b[0m\u001b[0;34m[\u001b[0m\u001b[0mi\u001b[0m\u001b[0;34m]\u001b[0m\u001b[0;34m,\u001b[0m \u001b[0mTr\u001b[0m\u001b[0;34m,\u001b[0m \u001b[0my\u001b[0m\u001b[0;34m[\u001b[0m\u001b[0mi\u001b[0m\u001b[0;34m]\u001b[0m\u001b[0;34m)\u001b[0m\u001b[0;34m/\u001b[0m\u001b[0mf_card\u001b[0m\u001b[0;34m(\u001b[0m\u001b[0mx\u001b[0m\u001b[0;34m[\u001b[0m\u001b[0mi\u001b[0m\u001b[0;34m]\u001b[0m\u001b[0;34m,\u001b[0m \u001b[0mTr\u001b[0m\u001b[0;34m)\u001b[0m \u001b[0;32mfor\u001b[0m \u001b[0mi\u001b[0m \u001b[0;32min\u001b[0m \u001b[0mrange\u001b[0m\u001b[0;34m(\u001b[0m\u001b[0;36m25\u001b[0m\u001b[0;34m*\u001b[0m\u001b[0;36m15\u001b[0m\u001b[0;34m)\u001b[0m\u001b[0;34m]\u001b[0m\u001b[0;34m)\u001b[0m\u001b[0;34m\u001b[0m\u001b[0;34m\u001b[0m\u001b[0m\n\u001b[0m",
      "\u001b[0;32m~/Documents/PhD/RSNN/rsnn/firing_sequences/memorizable.py\u001b[0m in \u001b[0;36mm_card\u001b[0;34m(length, Tr, Th)\u001b[0m\n\u001b[1;32m     19\u001b[0m \u001b[0;34m\u001b[0m\u001b[0m\n\u001b[1;32m     20\u001b[0m \u001b[0;32mdef\u001b[0m \u001b[0mm_card\u001b[0m\u001b[0;34m(\u001b[0m\u001b[0mlength\u001b[0m\u001b[0;34m,\u001b[0m \u001b[0mTr\u001b[0m\u001b[0;34m,\u001b[0m \u001b[0mTh\u001b[0m\u001b[0;34m)\u001b[0m\u001b[0;34m:\u001b[0m\u001b[0;34m\u001b[0m\u001b[0;34m\u001b[0m\u001b[0m\n\u001b[0;32m---> 21\u001b[0;31m     \u001b[0;32mreturn\u001b[0m \u001b[0mlen\u001b[0m\u001b[0;34m(\u001b[0m\u001b[0mm_set\u001b[0m\u001b[0;34m(\u001b[0m\u001b[0mlength\u001b[0m\u001b[0;34m,\u001b[0m \u001b[0mTr\u001b[0m\u001b[0;34m,\u001b[0m \u001b[0mTh\u001b[0m\u001b[0;34m)\u001b[0m\u001b[0;34m)\u001b[0m\u001b[0;34m\u001b[0m\u001b[0;34m\u001b[0m\u001b[0m\n\u001b[0m",
      "\u001b[0;32m~/Documents/PhD/RSNN/rsnn/firing_sequences/memorizable.py\u001b[0m in \u001b[0;36mm_set\u001b[0;34m(length, Tr, Th)\u001b[0m\n\u001b[1;32m     15\u001b[0m \u001b[0;34m\u001b[0m\u001b[0m\n\u001b[1;32m     16\u001b[0m \u001b[0;32mdef\u001b[0m \u001b[0mm_set\u001b[0m\u001b[0;34m(\u001b[0m\u001b[0mlength\u001b[0m\u001b[0;34m,\u001b[0m \u001b[0mTr\u001b[0m\u001b[0;34m,\u001b[0m \u001b[0mTh\u001b[0m\u001b[0;34m)\u001b[0m\u001b[0;34m:\u001b[0m\u001b[0;34m\u001b[0m\u001b[0;34m\u001b[0m\u001b[0m\n\u001b[0;32m---> 17\u001b[0;31m     \u001b[0;32mreturn\u001b[0m \u001b[0ma_set\u001b[0m\u001b[0;34m(\u001b[0m\u001b[0mlength\u001b[0m\u001b[0;34m,\u001b[0m \u001b[0mTr\u001b[0m\u001b[0;34m,\u001b[0m \u001b[0mTh\u001b[0m\u001b[0;34m)\u001b[0m\u001b[0;34m.\u001b[0m\u001b[0mintersection\u001b[0m\u001b[0;34m(\u001b[0m\u001b[0mr_set\u001b[0m\u001b[0;34m(\u001b[0m\u001b[0mlength\u001b[0m\u001b[0;34m,\u001b[0m \u001b[0mTr\u001b[0m\u001b[0;34m,\u001b[0m \u001b[0mTh\u001b[0m\u001b[0;34m)\u001b[0m\u001b[0;34m)\u001b[0m\u001b[0;34m\u001b[0m\u001b[0;34m\u001b[0m\u001b[0m\n\u001b[0m\u001b[1;32m     18\u001b[0m \u001b[0;34m\u001b[0m\u001b[0m\n\u001b[1;32m     19\u001b[0m \u001b[0;34m\u001b[0m\u001b[0m\n",
      "\u001b[0;32m~/Documents/PhD/RSNN/rsnn/firing_sequences/reasonable.py\u001b[0m in \u001b[0;36mr_set\u001b[0;34m(length, Tr, Th)\u001b[0m\n\u001b[1;32m     26\u001b[0m \u001b[0;34m\u001b[0m\u001b[0m\n\u001b[1;32m     27\u001b[0m \u001b[0;32mdef\u001b[0m \u001b[0mr_set\u001b[0m\u001b[0;34m(\u001b[0m\u001b[0mlength\u001b[0m\u001b[0;34m,\u001b[0m \u001b[0mTr\u001b[0m\u001b[0;34m,\u001b[0m \u001b[0mTh\u001b[0m\u001b[0;34m)\u001b[0m\u001b[0;34m:\u001b[0m\u001b[0;34m\u001b[0m\u001b[0;34m\u001b[0m\u001b[0m\n\u001b[0;32m---> 28\u001b[0;31m     \u001b[0;32mreturn\u001b[0m \u001b[0;34m{\u001b[0m\u001b[0mseq\u001b[0m \u001b[0;32mfor\u001b[0m \u001b[0mseq\u001b[0m \u001b[0;32min\u001b[0m \u001b[0mf_set\u001b[0m\u001b[0;34m(\u001b[0m\u001b[0mlength\u001b[0m\u001b[0;34m,\u001b[0m \u001b[0mTr\u001b[0m\u001b[0;34m)\u001b[0m \u001b[0;32mif\u001b[0m \u001b[0mis_in_r\u001b[0m\u001b[0;34m(\u001b[0m\u001b[0mseq\u001b[0m\u001b[0;34m,\u001b[0m \u001b[0mlength\u001b[0m\u001b[0;34m,\u001b[0m \u001b[0mTr\u001b[0m\u001b[0;34m,\u001b[0m \u001b[0mTh\u001b[0m\u001b[0;34m)\u001b[0m\u001b[0;34m}\u001b[0m\u001b[0;34m\u001b[0m\u001b[0;34m\u001b[0m\u001b[0m\n\u001b[0m\u001b[1;32m     29\u001b[0m \u001b[0;34m\u001b[0m\u001b[0m\n\u001b[1;32m     30\u001b[0m \u001b[0;34m\u001b[0m\u001b[0m\n",
      "\u001b[0;32m~/Documents/PhD/RSNN/rsnn/firing_sequences/reasonable.py\u001b[0m in \u001b[0;36m<setcomp>\u001b[0;34m(.0)\u001b[0m\n\u001b[1;32m     26\u001b[0m \u001b[0;34m\u001b[0m\u001b[0m\n\u001b[1;32m     27\u001b[0m \u001b[0;32mdef\u001b[0m \u001b[0mr_set\u001b[0m\u001b[0;34m(\u001b[0m\u001b[0mlength\u001b[0m\u001b[0;34m,\u001b[0m \u001b[0mTr\u001b[0m\u001b[0;34m,\u001b[0m \u001b[0mTh\u001b[0m\u001b[0;34m)\u001b[0m\u001b[0;34m:\u001b[0m\u001b[0;34m\u001b[0m\u001b[0;34m\u001b[0m\u001b[0m\n\u001b[0;32m---> 28\u001b[0;31m     \u001b[0;32mreturn\u001b[0m \u001b[0;34m{\u001b[0m\u001b[0mseq\u001b[0m \u001b[0;32mfor\u001b[0m \u001b[0mseq\u001b[0m \u001b[0;32min\u001b[0m \u001b[0mf_set\u001b[0m\u001b[0;34m(\u001b[0m\u001b[0mlength\u001b[0m\u001b[0;34m,\u001b[0m \u001b[0mTr\u001b[0m\u001b[0;34m)\u001b[0m \u001b[0;32mif\u001b[0m \u001b[0mis_in_r\u001b[0m\u001b[0;34m(\u001b[0m\u001b[0mseq\u001b[0m\u001b[0;34m,\u001b[0m \u001b[0mlength\u001b[0m\u001b[0;34m,\u001b[0m \u001b[0mTr\u001b[0m\u001b[0;34m,\u001b[0m \u001b[0mTh\u001b[0m\u001b[0;34m)\u001b[0m\u001b[0;34m}\u001b[0m\u001b[0;34m\u001b[0m\u001b[0;34m\u001b[0m\u001b[0m\n\u001b[0m\u001b[1;32m     29\u001b[0m \u001b[0;34m\u001b[0m\u001b[0m\n\u001b[1;32m     30\u001b[0m \u001b[0;34m\u001b[0m\u001b[0m\n",
      "\u001b[0;32m~/Documents/PhD/RSNN/rsnn/firing_sequences/reasonable.py\u001b[0m in \u001b[0;36mis_in_r\u001b[0;34m(seq, length, Tr, Th)\u001b[0m\n\u001b[1;32m     20\u001b[0m \u001b[0;34m\u001b[0m\u001b[0m\n\u001b[1;32m     21\u001b[0m     \u001b[0munique_1\u001b[0m \u001b[0;34m=\u001b[0m \u001b[0mnp\u001b[0m\u001b[0;34m.\u001b[0m\u001b[0munique\u001b[0m\u001b[0;34m(\u001b[0m\u001b[0mseq\u001b[0m\u001b[0;34m[\u001b[0m\u001b[0mindices_1\u001b[0m\u001b[0;34m]\u001b[0m\u001b[0;34m,\u001b[0m \u001b[0maxis\u001b[0m\u001b[0;34m=\u001b[0m\u001b[0;36m0\u001b[0m\u001b[0;34m)\u001b[0m\u001b[0;34m\u001b[0m\u001b[0;34m\u001b[0m\u001b[0m\n\u001b[0;32m---> 22\u001b[0;31m     \u001b[0munique_2\u001b[0m \u001b[0;34m=\u001b[0m \u001b[0mnp\u001b[0m\u001b[0;34m.\u001b[0m\u001b[0munique\u001b[0m\u001b[0;34m(\u001b[0m\u001b[0mseq\u001b[0m\u001b[0;34m[\u001b[0m\u001b[0mindices_2\u001b[0m\u001b[0;34m]\u001b[0m\u001b[0;34m,\u001b[0m \u001b[0maxis\u001b[0m\u001b[0;34m=\u001b[0m\u001b[0;36m0\u001b[0m\u001b[0;34m)\u001b[0m\u001b[0;34m\u001b[0m\u001b[0;34m\u001b[0m\u001b[0m\n\u001b[0m\u001b[1;32m     23\u001b[0m \u001b[0;34m\u001b[0m\u001b[0m\n\u001b[1;32m     24\u001b[0m     \u001b[0;32mreturn\u001b[0m \u001b[0mlen\u001b[0m\u001b[0;34m(\u001b[0m\u001b[0munique_1\u001b[0m\u001b[0;34m)\u001b[0m \u001b[0;34m==\u001b[0m \u001b[0mlen\u001b[0m\u001b[0;34m(\u001b[0m\u001b[0munique_2\u001b[0m\u001b[0;34m)\u001b[0m\u001b[0;34m\u001b[0m\u001b[0;34m\u001b[0m\u001b[0m\n",
      "\u001b[0;32m<__array_function__ internals>\u001b[0m in \u001b[0;36munique\u001b[0;34m(*args, **kwargs)\u001b[0m\n",
      "\u001b[0;32m/opt/miniconda3/envs/rsnn/lib/python3.8/site-packages/numpy/lib/arraysetops.py\u001b[0m in \u001b[0;36munique\u001b[0;34m(ar, return_index, return_inverse, return_counts, axis)\u001b[0m\n\u001b[1;32m    274\u001b[0m     \u001b[0mar\u001b[0m \u001b[0;34m=\u001b[0m \u001b[0mar\u001b[0m\u001b[0;34m.\u001b[0m\u001b[0mreshape\u001b[0m\u001b[0;34m(\u001b[0m\u001b[0morig_shape\u001b[0m\u001b[0;34m[\u001b[0m\u001b[0;36m0\u001b[0m\u001b[0;34m]\u001b[0m\u001b[0;34m,\u001b[0m \u001b[0mnp\u001b[0m\u001b[0;34m.\u001b[0m\u001b[0mprod\u001b[0m\u001b[0;34m(\u001b[0m\u001b[0morig_shape\u001b[0m\u001b[0;34m[\u001b[0m\u001b[0;36m1\u001b[0m\u001b[0;34m:\u001b[0m\u001b[0;34m]\u001b[0m\u001b[0;34m,\u001b[0m \u001b[0mdtype\u001b[0m\u001b[0;34m=\u001b[0m\u001b[0mnp\u001b[0m\u001b[0;34m.\u001b[0m\u001b[0mintp\u001b[0m\u001b[0;34m)\u001b[0m\u001b[0;34m)\u001b[0m\u001b[0;34m\u001b[0m\u001b[0;34m\u001b[0m\u001b[0m\n\u001b[1;32m    275\u001b[0m     \u001b[0mar\u001b[0m \u001b[0;34m=\u001b[0m \u001b[0mnp\u001b[0m\u001b[0;34m.\u001b[0m\u001b[0mascontiguousarray\u001b[0m\u001b[0;34m(\u001b[0m\u001b[0mar\u001b[0m\u001b[0;34m)\u001b[0m\u001b[0;34m\u001b[0m\u001b[0;34m\u001b[0m\u001b[0m\n\u001b[0;32m--> 276\u001b[0;31m     \u001b[0mdtype\u001b[0m \u001b[0;34m=\u001b[0m \u001b[0;34m[\u001b[0m\u001b[0;34m(\u001b[0m\u001b[0;34m'f{i}'\u001b[0m\u001b[0;34m.\u001b[0m\u001b[0mformat\u001b[0m\u001b[0;34m(\u001b[0m\u001b[0mi\u001b[0m\u001b[0;34m=\u001b[0m\u001b[0mi\u001b[0m\u001b[0;34m)\u001b[0m\u001b[0;34m,\u001b[0m \u001b[0mar\u001b[0m\u001b[0;34m.\u001b[0m\u001b[0mdtype\u001b[0m\u001b[0;34m)\u001b[0m \u001b[0;32mfor\u001b[0m \u001b[0mi\u001b[0m \u001b[0;32min\u001b[0m \u001b[0mrange\u001b[0m\u001b[0;34m(\u001b[0m\u001b[0mar\u001b[0m\u001b[0;34m.\u001b[0m\u001b[0mshape\u001b[0m\u001b[0;34m[\u001b[0m\u001b[0;36m1\u001b[0m\u001b[0;34m]\u001b[0m\u001b[0;34m)\u001b[0m\u001b[0;34m]\u001b[0m\u001b[0;34m\u001b[0m\u001b[0;34m\u001b[0m\u001b[0m\n\u001b[0m\u001b[1;32m    277\u001b[0m \u001b[0;34m\u001b[0m\u001b[0m\n\u001b[1;32m    278\u001b[0m     \u001b[0;31m# At this point, `ar` has shape `(n, m)`, and `dtype` is a structured\u001b[0m\u001b[0;34m\u001b[0m\u001b[0;34m\u001b[0m\u001b[0;34m\u001b[0m\u001b[0m\n",
      "\u001b[0;32m/opt/miniconda3/envs/rsnn/lib/python3.8/site-packages/numpy/lib/arraysetops.py\u001b[0m in \u001b[0;36m<listcomp>\u001b[0;34m(.0)\u001b[0m\n\u001b[1;32m    274\u001b[0m     \u001b[0mar\u001b[0m \u001b[0;34m=\u001b[0m \u001b[0mar\u001b[0m\u001b[0;34m.\u001b[0m\u001b[0mreshape\u001b[0m\u001b[0;34m(\u001b[0m\u001b[0morig_shape\u001b[0m\u001b[0;34m[\u001b[0m\u001b[0;36m0\u001b[0m\u001b[0;34m]\u001b[0m\u001b[0;34m,\u001b[0m \u001b[0mnp\u001b[0m\u001b[0;34m.\u001b[0m\u001b[0mprod\u001b[0m\u001b[0;34m(\u001b[0m\u001b[0morig_shape\u001b[0m\u001b[0;34m[\u001b[0m\u001b[0;36m1\u001b[0m\u001b[0;34m:\u001b[0m\u001b[0;34m]\u001b[0m\u001b[0;34m,\u001b[0m \u001b[0mdtype\u001b[0m\u001b[0;34m=\u001b[0m\u001b[0mnp\u001b[0m\u001b[0;34m.\u001b[0m\u001b[0mintp\u001b[0m\u001b[0;34m)\u001b[0m\u001b[0;34m)\u001b[0m\u001b[0;34m\u001b[0m\u001b[0;34m\u001b[0m\u001b[0m\n\u001b[1;32m    275\u001b[0m     \u001b[0mar\u001b[0m \u001b[0;34m=\u001b[0m \u001b[0mnp\u001b[0m\u001b[0;34m.\u001b[0m\u001b[0mascontiguousarray\u001b[0m\u001b[0;34m(\u001b[0m\u001b[0mar\u001b[0m\u001b[0;34m)\u001b[0m\u001b[0;34m\u001b[0m\u001b[0;34m\u001b[0m\u001b[0m\n\u001b[0;32m--> 276\u001b[0;31m     \u001b[0mdtype\u001b[0m \u001b[0;34m=\u001b[0m \u001b[0;34m[\u001b[0m\u001b[0;34m(\u001b[0m\u001b[0;34m'f{i}'\u001b[0m\u001b[0;34m.\u001b[0m\u001b[0mformat\u001b[0m\u001b[0;34m(\u001b[0m\u001b[0mi\u001b[0m\u001b[0;34m=\u001b[0m\u001b[0mi\u001b[0m\u001b[0;34m)\u001b[0m\u001b[0;34m,\u001b[0m \u001b[0mar\u001b[0m\u001b[0;34m.\u001b[0m\u001b[0mdtype\u001b[0m\u001b[0;34m)\u001b[0m \u001b[0;32mfor\u001b[0m \u001b[0mi\u001b[0m \u001b[0;32min\u001b[0m \u001b[0mrange\u001b[0m\u001b[0;34m(\u001b[0m\u001b[0mar\u001b[0m\u001b[0;34m.\u001b[0m\u001b[0mshape\u001b[0m\u001b[0;34m[\u001b[0m\u001b[0;36m1\u001b[0m\u001b[0;34m]\u001b[0m\u001b[0;34m)\u001b[0m\u001b[0;34m]\u001b[0m\u001b[0;34m\u001b[0m\u001b[0;34m\u001b[0m\u001b[0m\n\u001b[0m\u001b[1;32m    277\u001b[0m \u001b[0;34m\u001b[0m\u001b[0m\n\u001b[1;32m    278\u001b[0m     \u001b[0;31m# At this point, `ar` has shape `(n, m)`, and `dtype` is a structured\u001b[0m\u001b[0;34m\u001b[0m\u001b[0;34m\u001b[0m\u001b[0;34m\u001b[0m\u001b[0m\n",
      "\u001b[0;31mKeyboardInterrupt\u001b[0m: "
     ]
    }
   ],
   "source": [
    "Tr = 1\n",
    "x, y = np.mgrid[1:26,1:16].reshape(2, -1)\n",
    "z = np.array([m_card(x[i], Tr, y[i])/f_card(x[i], Tr) for i in range(25*15)])"
   ]
  },
  {
   "cell_type": "code",
   "execution_count": null,
   "id": "e79dd28c",
   "metadata": {},
   "outputs": [],
   "source": [
    "plt.contourf(x.reshape(25,15), y.reshape(25,15), z.reshape(25,15), 20, cmap='RdGy')\n",
    "plt.colorbar();"
   ]
  },
  {
   "cell_type": "code",
   "execution_count": 31,
   "id": "401910b3",
   "metadata": {},
   "outputs": [],
   "source": [
    "Tr = 1\n",
    "\n",
    "x, y = np.mgrid[1:11,1:11].reshape(2, -1)\n",
    "z = np.array([m_card(x[i], Tr, y[i])/f_card(x[i], Tr) for i in range(10*10)])"
   ]
  },
  {
   "cell_type": "code",
   "execution_count": 32,
   "id": "b0a28417",
   "metadata": {},
   "outputs": [
    {
     "data": {
      "image/png": "[encoded data removed]",
      "text/plain": [
       "<Figure size 432x288 with 2 Axes>"
      ]
     },
     "metadata": {
      "needs_background": "light"
     },
     "output_type": "display_data"
    }
   ],
   "source": [
    "plt.contourf(x.reshape(10,10), y.reshape(10,10), z.reshape(10,10), 10, cmap='RdGy')\n",
    "plt.colorbar();"
   ]
  },
  {
   "cell_type": "code",
   "execution_count": 34,
   "id": "19c7a57f",
   "metadata": {},
   "outputs": [
    {
     "data": {
      "text/plain": [
       "set()"
      ]
     },
     "execution_count": 34,
     "metadata": {},
     "output_type": "execute_result"
    }
   ],
   "source": [
    "length, Tr, Th = 7, 2, 5\n",
    "m_set(length, Tr, Th)"
   ]
  },
  {
   "cell_type": "code",
   "execution_count": 35,
   "id": "f39fc565",
   "metadata": {},
   "outputs": [
    {
     "data": {
      "text/plain": [
       "{(0, 0, 0, 1, 0, 0, 1),\n",
       " (0, 0, 1, 0, 0, 0, 1),\n",
       " (0, 0, 1, 0, 0, 1, 0),\n",
       " (0, 1, 0, 0, 0, 1, 0),\n",
       " (0, 1, 0, 0, 1, 0, 0),\n",
       " (1, 0, 0, 0, 1, 0, 0),\n",
       " (1, 0, 0, 1, 0, 0, 0)}"
      ]
     },
     "execution_count": 35,
     "metadata": {},
     "output_type": "execute_result"
    }
   ],
   "source": [
    "a_set(length, Tr, Th)"
   ]
  },
  {
   "cell_type": "code",
   "execution_count": 36,
   "id": "08172c66",
   "metadata": {},
   "outputs": [
    {
     "data": {
      "text/plain": [
       "{(0, 0, 0, 0, 0, 0, 0)}"
      ]
     },
     "execution_count": 36,
     "metadata": {},
     "output_type": "execute_result"
    }
   ],
   "source": [
    "r_set(length, Tr, Th)"
   ]
  },
  {
   "cell_type": "code",
   "execution_count": null,
   "id": "897a908e",
   "metadata": {},
   "outputs": [],
   "source": []
  },
  {
   "cell_type": "code",
   "execution_count": 49,
   "id": "39b4d19f",
   "metadata": {},
   "outputs": [],
   "source": [
    "ends_with = (0,)\n",
    "Tr = 2\n",
    "length = 5"
   ]
  },
  {
   "cell_type": "code",
   "execution_count": 121,
   "id": "deaeb0c7",
   "metadata": {},
   "outputs": [],
   "source": [
    "def f_sample(length, Tr, ends_with=tuple()):\n",
    "\n",
    "    if length < 1:\n",
    "        raise ValueError(f\"length must be stricly positive\")\n",
    "\n",
    "    if Tr < 0:\n",
    "        raise ValueError(f\"Tr must be positive\")\n",
    "\n",
    "    if Tr == 0:\n",
    "        return b_sample(length, ends_with)\n",
    "\n",
    "    # TODO: deal with constraints at sampling\n",
    "    # const = {\"start\": list or tuple or None, \"end\": list or tuple or None}\n",
    "    # the constraint sequences can be of any size\n",
    "\n",
    "    if len(ends_with) > 0 and not is_in_fa(ends_with, len(ends_with), Tr):\n",
    "        raise ValueError(\"ends_with is not valid\")\n",
    "\n",
    "    if length < Tr + 1:\n",
    "        if 1 in ends_with:\n",
    "            raise ValueError(f\"ends_with is not combatible with length and Tr\")\n",
    "\n",
    "        return np.zeros(length, int)\n",
    "\n",
    "    seq_to_idx = lambda seq_: 0 if sum(seq_) < 1 else seq_.index(1)\n",
    "    idx_to_seq = lambda idx_, l_: (0,) * l_ if idx_ == 0 else (0,) * (idx_ - 1) + (1,) + (0,) * (l_ - idx_)\n",
    "\n",
    "    if len(ends_with) < Tr:\n",
    "        dl = Tr - len(ends_with)\n",
    "        if sum(ends_with) < 1:\n",
    "            if length <= 2 * Tr + 1:\n",
    "                p = np.array([fa_card(length - Tr, Tr)] + [1] * dl)\n",
    "            else:\n",
    "                p = np.array([fa_card(length - Tr, Tr)] + [fa_card(length - 2 * Tr - 1, Tr)] * dl)\n",
    "\n",
    "            ends_with = idx_to_seq(np.random.choice(dl + 1, p=p / p.sum()), dl) + ends_with\n",
    "\n",
    "        else:\n",
    "            ends_with = (0,) * dl + ends_with\n",
    "\n",
    "    s_start = seq_to_idx(ends_with[-Tr:])\n",
    "    s_end = seq_to_idx(ends_with[:Tr])\n",
    "    print(s_start, s_end, length-(len(ends_with)-Tr))\n",
    "\n",
    "    samples = backward_filtering_forward_sampling(length-(len(ends_with)-Tr), Tr, s_start, s_end)\n",
    "    return tuple(idx_to_seq(s, Tr)[-1] for s in samples[1:])\n",
    "    \n",
    "    \n",
    "def to_sequence(samples, Tr, inclusive=False):\n",
    "    mapping = lambda s: [0] * Tr if s == 0 else [0] * (s - 1) + [1] + [0] * (Tr - s)\n",
    "    if inclusive:\n",
    "        return np.array(mapping(samples[0])[:-1] + [mapping(s)[-1] for s in samples])\n",
    "    return np.array([mapping(s)[-1] for s in samples])\n",
    "    \n",
    "    \n",
    "\n",
    "def backward_filtering_forward_sampling(length, Tr, s_start, s_end):\n",
    "    def get_A(Tr):\n",
    "        A = np.zeros((Tr + 1, Tr + 1))\n",
    "        A[:-1, 1:] = np.identity(Tr)\n",
    "        A[0, 0] = 1.0\n",
    "        A[-1, 0] = 1.0\n",
    "        return A\n",
    "\n",
    "    def backward_filtering(mu_b, A):\n",
    "        for i in range(mu_b.shape[0] - 1, 0, -1):\n",
    "            mu_b[i - 1] = mu_b[i] @ A\n",
    "        return mu_b\n",
    "\n",
    "    def forward_sampling(mu_b, A, Tr, s_start):\n",
    "        samples = [s_start]\n",
    "        for i in range(mu_b.shape[0] - 1):\n",
    "            p = 1 / mu_b[i, samples[i]] * mu_b[i + 1] * A[:, samples[i]]\n",
    "            s = np.random.choice(Tr + 1, p=p)\n",
    "            samples.append(s)\n",
    "        return samples\n",
    "\n",
    "    # message transmission matrix\n",
    "    A = get_A(Tr)\n",
    "\n",
    "    # init backward messages\n",
    "    mu_b = np.zeros((length+1, Tr + 1))\n",
    "    mu_b[-1] = np.array([0] * s_end + [1] + [0] * (Tr - s_end))\n",
    "\n",
    "    # backward filtering from right to left\n",
    "    mu_b = backward_filtering(mu_b, A)\n",
    "\n",
    "    # forward sampling from left to right\n",
    "    samples = forward_sampling(mu_b, A, Tr, s_start)\n",
    "\n",
    "    # convert to sequence\n",
    "    return samples"
   ]
  },
  {
   "cell_type": "code",
   "execution_count": null,
   "id": "24511614",
   "metadata": {},
   "outputs": [],
   "source": []
  },
  {
   "cell_type": "code",
   "execution_count": null,
   "id": "194b18d3",
   "metadata": {},
   "outputs": [],
   "source": []
  },
  {
   "cell_type": "code",
   "execution_count": null,
   "id": "b8de6b8f",
   "metadata": {},
   "outputs": [],
   "source": []
  },
  {
   "cell_type": "code",
   "execution_count": null,
   "id": "1cec977b",
   "metadata": {},
   "outputs": [],
   "source": []
  },
  {
   "cell_type": "code",
   "execution_count": null,
   "id": "caf52484",
   "metadata": {},
   "outputs": [],
   "source": []
  },
  {
   "cell_type": "code",
   "execution_count": 130,
   "id": "db552a3a",
   "metadata": {},
   "outputs": [
    {
     "name": "stdout",
     "output_type": "stream",
     "text": [
      "1 1 5\n"
     ]
    },
    {
     "data": {
      "text/plain": [
       "(0, 0, 0, 1, 0)"
      ]
     },
     "execution_count": 130,
     "metadata": {},
     "output_type": "execute_result"
    }
   ],
   "source": [
    "f_sample(5, 2)"
   ]
  },
  {
   "cell_type": "code",
   "execution_count": null,
   "id": "9f260ceb",
   "metadata": {},
   "outputs": [],
   "source": [
    "{(0, 0, 0, 0, 0, 0),\n",
    " (0, 0, 0, 0, 1, 0),\n",
    " (0, 0, 0, 1, 0, 0),\n",
    " (0, 0, 1, 0, 0, 0),\n",
    " (0, 1, 0, 0, 0, 0),\n",
    " (0, 1, 0, 0, 1, 0),\n",
    " (1, 0, 0, 0, 0, 0),\n",
    " (1, 0, 0, 1, 0, 0)}"
   ]
  },
  {
   "cell_type": "code",
   "execution_count": null,
   "id": "d45adcf5",
   "metadata": {},
   "outputs": [],
   "source": []
  },
  {
   "cell_type": "code",
   "execution_count": 20,
   "id": "dbe9ffc3",
   "metadata": {},
   "outputs": [],
   "source": [
    "ends_with = ()"
   ]
  },
  {
   "cell_type": "code",
   "execution_count": 24,
   "id": "45e82349",
   "metadata": {},
   "outputs": [
    {
     "data": {
      "text/plain": [
       "0"
      ]
     },
     "execution_count": 24,
     "metadata": {},
     "output_type": "execute_result"
    }
   ],
   "source": [
    "sum(ends_with)"
   ]
  },
  {
   "cell_type": "code",
   "execution_count": 2,
   "id": "8fa43f90",
   "metadata": {},
   "outputs": [
    {
     "data": {
      "text/plain": [
       "{(0, 0, 0), (0, 0, 1), (0, 1, 0), (1, 0, 0), (1, 0, 1)}"
      ]
     },
     "execution_count": 2,
     "metadata": {},
     "output_type": "execute_result"
    }
   ],
   "source": [
    "fa_set(3, 1)"
   ]
  },
  {
   "cell_type": "code",
   "execution_count": 2,
   "id": "02066bda",
   "metadata": {},
   "outputs": [
    {
     "data": {
      "text/plain": [
       "array([0, 0, 0, 0, 0, 0, 0, 0, 0, 1, 0])"
      ]
     },
     "execution_count": 2,
     "metadata": {},
     "output_type": "execute_result"
    }
   ],
   "source": [
    "f_sample(10, 1)"
   ]
  },
  {
   "cell_type": "code",
   "execution_count": 12,
   "id": "0d8e7a82",
   "metadata": {},
   "outputs": [
    {
     "data": {
      "text/plain": [
       "False"
      ]
     },
     "execution_count": 12,
     "metadata": {},
     "output_type": "execute_result"
    }
   ],
   "source": [
    "ends_with = (0, 0, 1.5)\n",
    "all(b in {0, 1} for b in ends_with)"
   ]
  },
  {
   "cell_type": "code",
   "execution_count": 15,
   "id": "f8cbd507",
   "metadata": {},
   "outputs": [
    {
     "data": {
      "text/plain": [
       "6"
      ]
     },
     "execution_count": 15,
     "metadata": {},
     "output_type": "execute_result"
    }
   ],
   "source": [
    "d_card(6, 1)"
   ]
  },
  {
   "cell_type": "code",
   "execution_count": 16,
   "id": "e449bd3e",
   "metadata": {},
   "outputs": [],
   "source": [
    "import numpy as np\n",
    "\n",
    "def get_A(Tr):\n",
    "    A = np.zeros((Tr + 1, Tr + 1))\n",
    "    A[:-1, 1:] = np.identity(Tr)\n",
    "    A[0, 0] = 1.0\n",
    "    A[-1, 0] = 1.0\n",
    "    return A"
   ]
  },
  {
   "cell_type": "code",
   "execution_count": 52,
   "id": "4067fd78",
   "metadata": {},
   "outputs": [],
   "source": [
    "def is_in_fa(seq, length, Tr):\n",
    "    if len(seq) != length:\n",
    "        return False\n",
    "\n",
    "    indices = np.arange(length-Tr+1)[:, None] + np.arange(Tr)[None, :]\n",
    "    return np.all(np.sum(seq[..., indices], axis=-1) <= 1)"
   ]
  },
  {
   "cell_type": "code",
   "execution_count": 54,
   "id": "c12d0f76",
   "metadata": {},
   "outputs": [
    {
     "data": {
      "text/plain": [
       "True"
      ]
     },
     "execution_count": 54,
     "metadata": {},
     "output_type": "execute_result"
    }
   ],
   "source": [
    "seq = np.array([1, 0, 0, 1, 1])\n",
    "length = 5\n",
    "Tr = 2\n",
    "\n",
    "is_in_fa(seq, length, 0)"
   ]
  },
  {
   "cell_type": "code",
   "execution_count": 55,
   "id": "8ce2c1a2",
   "metadata": {},
   "outputs": [
    {
     "ename": "TypeError",
     "evalue": "'>' not supported between instances of 'NoneType' and 'int'",
     "output_type": "error",
     "traceback": [
      "\u001b[0;31m---------------------------------------------------------------------------\u001b[0m",
      "\u001b[0;31mTypeError\u001b[0m                                 Traceback (most recent call last)",
      "\u001b[0;32m/var/folders/p1/wl8__y5x6jgfhz_d47k5gq9m0000gn/T/ipykernel_4581/980218709.py\u001b[0m in \u001b[0;36m<module>\u001b[0;34m\u001b[0m\n\u001b[0;32m----> 1\u001b[0;31m \u001b[0;32mNone\u001b[0m \u001b[0;34m>\u001b[0m \u001b[0;36m0\u001b[0m\u001b[0;34m\u001b[0m\u001b[0;34m\u001b[0m\u001b[0m\n\u001b[0m",
      "\u001b[0;31mTypeError\u001b[0m: '>' not supported between instances of 'NoneType' and 'int'"
     ]
    }
   ],
   "source": [
    "None > 0"
   ]
  },
  {
   "cell_type": "code",
   "execution_count": null,
   "id": "6c73de07",
   "metadata": {},
   "outputs": [],
   "source": [
    "def get_A(Tr):\n",
    "    A = np.zeros((Tr + 1, Tr + 1))\n",
    "    A[:-1, 1:] = np.identity(Tr)\n",
    "    A[0, 0] = 1.0\n",
    "    A[-1, 0] = 1.0\n",
    "    return A\n",
    "\n",
    "\n",
    "def to_sequence(samples, Tr, inclusive=False):\n",
    "    mapping = lambda s: [0] * Tr if s == 0 else [0] * (s - 1) + [1] + [0] * (Tr - s)\n",
    "    if inclusive:\n",
    "        return np.array(mapping(samples[0])[:-1] + [mapping(s)[-1] for s in samples])\n",
    "    return np.array([mapping(s)[-1] for s in samples])\n",
    "\n",
    "\n",
    "def sample_s(length, Tr, loop):\n",
    "    if loop:\n",
    "        if length <= Tr:\n",
    "            return 0\n",
    "        if length <= 2 * Tr + 1:\n",
    "            p = np.array([tilde_l(length - Tr, Tr)] + [1] * Tr)\n",
    "        else:\n",
    "            p = np.array([tilde_l(length - Tr, Tr)] + [tilde_l(length - 2 * Tr - 1, Tr)] * Tr)\n",
    "\n",
    "        return np.random.choice(Tr + 1, p=p / p.sum())\n",
    "\n",
    "    if length <= Tr:\n",
    "        return np.random.choice(Tr + 1)\n",
    "\n",
    "    p = np.array([tilde_l(length - Tr, Tr)] + [tilde_l(length - 2 * Tr + k, Tr) for k in range(Tr)])\n",
    "    return np.random.choice(Tr + 1, p=p / p.sum())\n",
    "\n",
    "\n",
    "def init_backward_messages(length, Tr, s_right):\n",
    "    mu_b = np.zeros((length, Tr + 1))\n",
    "    mu_b[-1] = np.array([0] * s_right + [1] + [0] * (Tr - s_right))\n",
    "    return mu_b\n",
    "\n",
    "\n",
    "def backward_filtering(num_iter, A, mu_b):\n",
    "    for i in range(num_iter):\n",
    "        mu_b[-2 - i] = mu_b[-1 - i] @ A\n",
    "    return mu_b\n",
    "\n",
    "\n",
    "def forward_sampling(num_iter, A, mu_b, Tr, s_left):\n",
    "    samples = []\n",
    "    if s_left is None:\n",
    "        p = mu_b[0]\n",
    "        s_left = np.random.choice(Tr + 1, p=p / p.sum())\n",
    "\n",
    "    samples.append(s_left)\n",
    "\n",
    "    for i in range(num_iter):\n",
    "        p = 1 / mu_b[i, samples[i]] * mu_b[i + 1] * A[:, samples[i]]\n",
    "        s = np.random.choice(Tr + 1, p=p)\n",
    "        samples.append(s)\n",
    "    return samples\n",
    "\n",
    "\n",
    "def init_samples(length, s_left, s_right):\n",
    "    samples = np.zeros(length, int)\n",
    "    samples[-1] = s_right\n",
    "    samples[0] = s_left\n",
    "    return samples\n",
    "\n",
    "\n",
    "def backward_filtering_forward_sampling(length, Tr, s_lim=None):\n",
    "\n",
    "    if loop:\n",
    "        if length < 2 * Tr + 1:\n",
    "            if s_lim is not None and s_lim > 0:\n",
    "                raise ValueError(f\"Boundaries are incompatible with length and Tr\")\n",
    "            return np.zeros(length, int)\n",
    "\n",
    "        if s_lim is None:\n",
    "            s_right = s_left = sample_s(length, Tr, loop)\n",
    "        else:\n",
    "            s_right = s_left = s_lim\n",
    "        length = length + 1\n",
    "\n",
    "    A = get_A(Tr)\n",
    "\n",
    "    # backward filtering from right to left\n",
    "    mu_b = init_backward_messages(length, Tr, s_right)\n",
    "    mu_b = backward_filtering(length - 1, A, mu_b)\n",
    "\n",
    "    # forward sampling from left to right\n",
    "    samples = forward_sampling(length - 1, A, mu_b, Tr, s_left)\n",
    "\n",
    "    if loop:\n",
    "        return to_sequence(samples[1:], Tr)\n",
    "\n",
    "    return to_sequence(samples, Tr, inclusive=True)\n",
    "\n",
    "\n"
   ]
  },
  {
   "cell_type": "code",
   "execution_count": 56,
   "id": "60b1e782",
   "metadata": {},
   "outputs": [
    {
     "name": "stdout",
     "output_type": "stream",
     "text": [
      "0\n",
      "1\n",
      "2\n",
      "3\n",
      "4\n",
      "5\n",
      "6\n",
      "7\n",
      "8\n",
      "9\n"
     ]
    }
   ],
   "source": [
    "for i in range(10):\n",
    "    print(i)"
   ]
  },
  {
   "cell_type": "code",
   "execution_count": 58,
   "id": "12d0eb4f",
   "metadata": {},
   "outputs": [
    {
     "name": "stdout",
     "output_type": "stream",
     "text": [
      "8\n",
      "7\n",
      "6\n",
      "5\n",
      "4\n",
      "3\n",
      "2\n",
      "1\n",
      "0\n"
     ]
    }
   ],
   "source": [
    "for i in range(8, -1, -1):\n",
    "    print(i)"
   ]
  },
  {
   "cell_type": "code",
   "execution_count": null,
   "id": "51a8d88a",
   "metadata": {},
   "outputs": [],
   "source": []
  },
  {
   "cell_type": "code",
   "execution_count": null,
   "id": "8fee9af8",
   "metadata": {},
   "outputs": [],
   "source": []
  },
  {
   "cell_type": "code",
   "execution_count": null,
   "id": "a83912c2",
   "metadata": {},
   "outputs": [],
   "source": []
  },
  {
   "cell_type": "code",
   "execution_count": null,
   "id": "842bfbeb",
   "metadata": {},
   "outputs": [],
   "source": []
  },
  {
   "cell_type": "code",
   "execution_count": 5,
   "id": "83cb89d0",
   "metadata": {},
   "outputs": [],
   "source": [
    "import numpy as np\n",
    "import pandas as pd"
   ]
  },
  {
   "cell_type": "code",
   "execution_count": 6,
   "id": "38f4a825",
   "metadata": {},
   "outputs": [],
   "source": [
    "from firing_signals.utils.utils import is_autonomous, is_reasonable, is_reducible\n",
    "from firing_signals.sampling.bffs import backward_filtering_forward_sampling\n",
    "from firing_signals.counting.counting import l"
   ]
  },
  {
   "cell_type": "code",
   "execution_count": 7,
   "id": "e4db83a2",
   "metadata": {},
   "outputs": [],
   "source": [
    "%matplotlib inline\n",
    "import matplotlib.pyplot as plt\n",
    "plt.style.use('seaborn-white')\n",
    "import numpy as np"
   ]
  },
  {
   "cell_type": "code",
   "execution_count": 107,
   "id": "70f31cd6",
   "metadata": {},
   "outputs": [],
   "source": [
    "def binary_sequences(length, n=1, seq_set={(0,), (1,)}):  \n",
    "    if n+1 == length:\n",
    "        return {seq + (0,) for seq in seq_set}.union({seq + (1,) for seq in seq_set})\n",
    "    return binary_sequences(length, n+1, {seq + (0,) for seq in seq_set}.union({seq + (1,) for seq in seq_set}))\n",
    "\n",
    "def acyclic_firing_sequences(length, Tr):\n",
    "    \n",
    "    if length < 1:\n",
    "        return {}\n",
    "    \n",
    "    if Tr == 0:\n",
    "        return binary_sequences(length)\n",
    "    \n",
    "    if length == 1:\n",
    "        return {(0,), (1,)}\n",
    "    \n",
    "    if length <= Tr + 1:\n",
    "        set1 = {(0,)*(length-1) + (1,)}\n",
    "        set2 = {seq + (0,) for seq in acyclic_firing_sequences(length - 1, Tr)}\n",
    "        return set1.union(set2)\n",
    "    \n",
    "    set1 = {seq + (0,) for seq in acyclic_firing_sequences(length-1, Tr)}\n",
    "    set2 = {seq + (0,)*Tr + (1,) for seq in acyclic_firing_sequences(length-Tr-1, Tr)}\n",
    "    return set1.union(set2)\n",
    "\n",
    "\n",
    "def firing_sequences(length, Tr):\n",
    "    if length < 1:\n",
    "        return {}\n",
    "    \n",
    "    if Tr == 0:\n",
    "        return binary_sequences(length)\n",
    "    \n",
    "    if length == 1:\n",
    "        return {(0,)}\n",
    "    \n",
    "    if 2 <= length <= Tr:\n",
    "        return {seq + (0,) for seq in firing_sequences(length - 1, Tr)}\n",
    "    \n",
    "    if length == Tr + 1:\n",
    "        seq1 = {seq + (0,) for seq in firing_sequences(length - 1, Tr)}\n",
    "        seq2 = {(0,)*k + (1,) + (0,)*(Tr-1-k) + (0,) for k in range(Tr)}\n",
    "        seq3 = {(0,)*Tr + (1,)}\n",
    "        return seq1.union(seq2.union(seq3))\n",
    "    \n",
    "    if Tr + 2 <= length <= 2*Tr + 1:\n",
    "        seq1 = {seq + (0,) for seq in firing_sequences(length - 1, Tr)}\n",
    "        seq2 = {(0,)*(length-1) + (1,)}\n",
    "        return seq1.union(seq2)\n",
    "        \n",
    "    if 2*Tr + 2 <= length <= 3*Tr + 2:\n",
    "        seq1 = {seq + (0,) for seq in firing_sequences(length - 1, Tr)}\n",
    "        seq2 = {(0,)*k + (1,) + (0,)*(length-2-Tr) + (1,) + (0,)*(Tr-k) for k in range(Tr)}\n",
    "        seq3 = {(0,)*Tr + seq + (0,)*Tr + (1,) for seq in acyclic_firing_sequences(length-2*Tr-1, Tr)}\n",
    "        return seq1.union(seq2.union(seq3))\n",
    "    \n",
    "    seq1 = {seq + (0,) for seq in firing_sequences(length - 1, Tr)}\n",
    "    \n",
    "    seq2 = {\n",
    "        (0,)*k + (1,) + (0,)*Tr + seq + (0,)*Tr + (1,) + (0,)*(Tr-k) \n",
    "        for k in range(Tr) \n",
    "        for seq in acyclic_firing_sequences(length-3*Tr-2, Tr)\n",
    "    }\n",
    "    seq3 = {(0,)*Tr + seq + (0,)*Tr + (1,) for seq in acyclic_firing_sequences(length-2*Tr-1, Tr)}\n",
    "    return seq1.union(seq2.union(seq3))  "
   ]
  },
  {
   "cell_type": "code",
   "execution_count": 9,
   "id": "7af52b36",
   "metadata": {},
   "outputs": [],
   "source": [
    "length = 20\n",
    "Tr = 0\n",
    "F = firing_sequences(length, Tr)"
   ]
  },
  {
   "cell_type": "code",
   "execution_count": 10,
   "id": "3fcbe9fb",
   "metadata": {},
   "outputs": [
    {
     "ename": "KeyboardInterrupt",
     "evalue": "",
     "output_type": "error",
     "traceback": [
      "\u001b[0;31m---------------------------------------------------------------------------\u001b[0m",
      "\u001b[0;31mKeyboardInterrupt\u001b[0m                         Traceback (most recent call last)",
      "\u001b[0;32m/var/folders/p1/wl8__y5x6jgfhz_d47k5gq9m0000gn/T/ipykernel_2648/1903019692.py\u001b[0m in \u001b[0;36m<module>\u001b[0;34m\u001b[0m\n\u001b[0;32m----> 1\u001b[0;31m \u001b[0mD\u001b[0m \u001b[0;34m=\u001b[0m \u001b[0;34m{\u001b[0m\u001b[0mseq\u001b[0m \u001b[0;32mfor\u001b[0m \u001b[0mseq\u001b[0m \u001b[0;32min\u001b[0m \u001b[0mF\u001b[0m \u001b[0;32mif\u001b[0m \u001b[0mis_reducible\u001b[0m\u001b[0;34m(\u001b[0m\u001b[0mnp\u001b[0m\u001b[0;34m.\u001b[0m\u001b[0marray\u001b[0m\u001b[0;34m(\u001b[0m\u001b[0mseq\u001b[0m\u001b[0;34m)\u001b[0m\u001b[0;34m,\u001b[0m \u001b[0mlength\u001b[0m\u001b[0;34m)\u001b[0m\u001b[0;34m}\u001b[0m\u001b[0;34m\u001b[0m\u001b[0;34m\u001b[0m\u001b[0m\n\u001b[0m",
      "\u001b[0;32m/var/folders/p1/wl8__y5x6jgfhz_d47k5gq9m0000gn/T/ipykernel_2648/1903019692.py\u001b[0m in \u001b[0;36m<setcomp>\u001b[0;34m(.0)\u001b[0m\n\u001b[0;32m----> 1\u001b[0;31m \u001b[0mD\u001b[0m \u001b[0;34m=\u001b[0m \u001b[0;34m{\u001b[0m\u001b[0mseq\u001b[0m \u001b[0;32mfor\u001b[0m \u001b[0mseq\u001b[0m \u001b[0;32min\u001b[0m \u001b[0mF\u001b[0m \u001b[0;32mif\u001b[0m \u001b[0mis_reducible\u001b[0m\u001b[0;34m(\u001b[0m\u001b[0mnp\u001b[0m\u001b[0;34m.\u001b[0m\u001b[0marray\u001b[0m\u001b[0;34m(\u001b[0m\u001b[0mseq\u001b[0m\u001b[0;34m)\u001b[0m\u001b[0;34m,\u001b[0m \u001b[0mlength\u001b[0m\u001b[0;34m)\u001b[0m\u001b[0;34m}\u001b[0m\u001b[0;34m\u001b[0m\u001b[0;34m\u001b[0m\u001b[0m\n\u001b[0m",
      "\u001b[0;32m~/Documents/PhD/FiringSignals/firing_signals/utils/utils.py\u001b[0m in \u001b[0;36mis_reducible\u001b[0;34m(seq, length)\u001b[0m\n\u001b[1;32m     30\u001b[0m     \u001b[0;32mfor\u001b[0m \u001b[0md\u001b[0m \u001b[0;32min\u001b[0m \u001b[0mdivisors\u001b[0m\u001b[0;34m(\u001b[0m\u001b[0mlength\u001b[0m\u001b[0;34m)\u001b[0m\u001b[0;34m[\u001b[0m\u001b[0;36m1\u001b[0m\u001b[0;34m:\u001b[0m\u001b[0;34m]\u001b[0m\u001b[0;34m:\u001b[0m\u001b[0;34m\u001b[0m\u001b[0;34m\u001b[0m\u001b[0m\n\u001b[1;32m     31\u001b[0m         \u001b[0mT\u001b[0m \u001b[0;34m=\u001b[0m \u001b[0mlength\u001b[0m \u001b[0;34m//\u001b[0m \u001b[0md\u001b[0m\u001b[0;34m\u001b[0m\u001b[0;34m\u001b[0m\u001b[0m\n\u001b[0;32m---> 32\u001b[0;31m         \u001b[0;32mif\u001b[0m \u001b[0mnp\u001b[0m\u001b[0;34m.\u001b[0m\u001b[0mall\u001b[0m\u001b[0;34m(\u001b[0m\u001b[0;34m[\u001b[0m\u001b[0mnp\u001b[0m\u001b[0;34m.\u001b[0m\u001b[0marray_equal\u001b[0m\u001b[0;34m(\u001b[0m\u001b[0mseq\u001b[0m\u001b[0;34m[\u001b[0m\u001b[0;34m:\u001b[0m\u001b[0mT\u001b[0m\u001b[0;34m]\u001b[0m\u001b[0;34m,\u001b[0m \u001b[0mseq\u001b[0m\u001b[0;34m[\u001b[0m\u001b[0;34m(\u001b[0m\u001b[0mk\u001b[0m \u001b[0;34m+\u001b[0m \u001b[0;36m1\u001b[0m\u001b[0;34m)\u001b[0m \u001b[0;34m*\u001b[0m \u001b[0mT\u001b[0m \u001b[0;34m:\u001b[0m \u001b[0;34m(\u001b[0m\u001b[0mk\u001b[0m \u001b[0;34m+\u001b[0m \u001b[0;36m2\u001b[0m\u001b[0;34m)\u001b[0m \u001b[0;34m*\u001b[0m \u001b[0mT\u001b[0m\u001b[0;34m]\u001b[0m\u001b[0;34m)\u001b[0m \u001b[0;32mfor\u001b[0m \u001b[0mk\u001b[0m \u001b[0;32min\u001b[0m \u001b[0mrange\u001b[0m\u001b[0;34m(\u001b[0m\u001b[0md\u001b[0m \u001b[0;34m-\u001b[0m \u001b[0;36m1\u001b[0m\u001b[0;34m)\u001b[0m\u001b[0;34m]\u001b[0m\u001b[0;34m)\u001b[0m\u001b[0;34m:\u001b[0m\u001b[0;34m\u001b[0m\u001b[0;34m\u001b[0m\u001b[0m\n\u001b[0m\u001b[1;32m     33\u001b[0m             \u001b[0;32mreturn\u001b[0m \u001b[0;32mTrue\u001b[0m\u001b[0;34m\u001b[0m\u001b[0;34m\u001b[0m\u001b[0m\n\u001b[1;32m     34\u001b[0m     \u001b[0;32mreturn\u001b[0m \u001b[0;32mFalse\u001b[0m\u001b[0;34m\u001b[0m\u001b[0;34m\u001b[0m\u001b[0m\n",
      "\u001b[0;32m<__array_function__ internals>\u001b[0m in \u001b[0;36mall\u001b[0;34m(*args, **kwargs)\u001b[0m\n",
      "\u001b[0;32m/opt/miniconda3/envs/firing_signals/lib/python3.9/site-packages/numpy/core/fromnumeric.py\u001b[0m in \u001b[0;36mall\u001b[0;34m(a, axis, out, keepdims, where)\u001b[0m\n\u001b[1;32m   2436\u001b[0m \u001b[0;34m\u001b[0m\u001b[0m\n\u001b[1;32m   2437\u001b[0m     \"\"\"\n\u001b[0;32m-> 2438\u001b[0;31m     return _wrapreduction(a, np.logical_and, 'all', axis, None, out,\n\u001b[0m\u001b[1;32m   2439\u001b[0m                           keepdims=keepdims, where=where)\n\u001b[1;32m   2440\u001b[0m \u001b[0;34m\u001b[0m\u001b[0m\n",
      "\u001b[0;32m/opt/miniconda3/envs/firing_signals/lib/python3.9/site-packages/numpy/core/fromnumeric.py\u001b[0m in \u001b[0;36m_wrapreduction\u001b[0;34m(obj, ufunc, method, axis, dtype, out, **kwargs)\u001b[0m\n\u001b[1;32m     85\u001b[0m                 \u001b[0;32mreturn\u001b[0m \u001b[0mreduction\u001b[0m\u001b[0;34m(\u001b[0m\u001b[0maxis\u001b[0m\u001b[0;34m=\u001b[0m\u001b[0maxis\u001b[0m\u001b[0;34m,\u001b[0m \u001b[0mout\u001b[0m\u001b[0;34m=\u001b[0m\u001b[0mout\u001b[0m\u001b[0;34m,\u001b[0m \u001b[0;34m**\u001b[0m\u001b[0mpasskwargs\u001b[0m\u001b[0;34m)\u001b[0m\u001b[0;34m\u001b[0m\u001b[0;34m\u001b[0m\u001b[0m\n\u001b[1;32m     86\u001b[0m \u001b[0;34m\u001b[0m\u001b[0m\n\u001b[0;32m---> 87\u001b[0;31m     \u001b[0;32mreturn\u001b[0m \u001b[0mufunc\u001b[0m\u001b[0;34m.\u001b[0m\u001b[0mreduce\u001b[0m\u001b[0;34m(\u001b[0m\u001b[0mobj\u001b[0m\u001b[0;34m,\u001b[0m \u001b[0maxis\u001b[0m\u001b[0;34m,\u001b[0m \u001b[0mdtype\u001b[0m\u001b[0;34m,\u001b[0m \u001b[0mout\u001b[0m\u001b[0;34m,\u001b[0m \u001b[0;34m**\u001b[0m\u001b[0mpasskwargs\u001b[0m\u001b[0;34m)\u001b[0m\u001b[0;34m\u001b[0m\u001b[0;34m\u001b[0m\u001b[0m\n\u001b[0m\u001b[1;32m     88\u001b[0m \u001b[0;34m\u001b[0m\u001b[0m\n\u001b[1;32m     89\u001b[0m \u001b[0;34m\u001b[0m\u001b[0m\n",
      "\u001b[0;31mKeyboardInterrupt\u001b[0m: "
     ]
    }
   ],
   "source": [
    "D = {seq for seq in F if is_reducible(np.array(seq), length)}"
   ]
  },
  {
   "cell_type": "code",
   "execution_count": 9,
   "id": "ae97005e",
   "metadata": {},
   "outputs": [
    {
     "data": {
      "text/plain": [
       "1048576"
      ]
     },
     "execution_count": 9,
     "metadata": {},
     "output_type": "execute_result"
    }
   ],
   "source": [
    "2**20"
   ]
  },
  {
   "cell_type": "code",
   "execution_count": 6,
   "id": "5b3d7ba7",
   "metadata": {},
   "outputs": [
    {
     "name": "stdout",
     "output_type": "stream",
     "text": [
      "1 True 6.610696106299993e-05\n",
      "2 True 0.0001983208831889998\n",
      "3 True 0.0001983208831889998\n",
      "4 True 0.0007932835327559992\n",
      "5 True 0.0024459575593309977\n",
      "6 True 0.0031070271699609967\n",
      "7 False 0.022939115488860976\n",
      "8 False 0.1895286573676208\n",
      "9 False 0.3977655847160706\n",
      "10 False 0.6020360944007404\n",
      "11 False 0.7408607126330402\n",
      "12 False 0.8386990150062802\n",
      "13 False 0.8823296093078601\n",
      "14 False 0.9378594566007801\n",
      "15 False 0.9643022410259801\n",
      "16 False 0.98281219012362\n",
      "17 False 0.9867786077874\n",
      "18 False 0.99471144311496\n",
      "19 False 0.998743967739803\n",
      "20 True 1.0\n"
     ]
    }
   ],
   "source": [
    "for Th in range(1, length+1):\n",
    "    A = {seq for seq in F if is_autonomous(np.array(seq), length, Th)}\n",
    "    R = {seq for seq in F if is_reasonable(np.array(seq), length, Th)}\n",
    "    print(Th, R.intersection(F-A).issubset(D), len(R.intersection(A))/len(F))"
   ]
  },
  {
   "cell_type": "code",
   "execution_count": 11,
   "id": "43c323dc",
   "metadata": {},
   "outputs": [
    {
     "data": {
      "text/html": [
       "<div>\n",
       "<style scoped>\n",
       "    .dataframe tbody tr th:only-of-type {\n",
       "        vertical-align: middle;\n",
       "    }\n",
       "\n",
       "    .dataframe tbody tr th {\n",
       "        vertical-align: top;\n",
       "    }\n",
       "\n",
       "    .dataframe thead th {\n",
       "        text-align: right;\n",
       "    }\n",
       "</style>\n",
       "<table border=\"1\" class=\"dataframe\">\n",
       "  <thead>\n",
       "    <tr style=\"text-align: right;\">\n",
       "      <th></th>\n",
       "      <th>length</th>\n",
       "      <th>Tr</th>\n",
       "    </tr>\n",
       "  </thead>\n",
       "  <tbody>\n",
       "    <tr>\n",
       "      <th>0</th>\n",
       "      <td>1</td>\n",
       "      <td>0</td>\n",
       "    </tr>\n",
       "    <tr>\n",
       "      <th>1</th>\n",
       "      <td>1</td>\n",
       "      <td>1</td>\n",
       "    </tr>\n",
       "    <tr>\n",
       "      <th>2</th>\n",
       "      <td>1</td>\n",
       "      <td>2</td>\n",
       "    </tr>\n",
       "    <tr>\n",
       "      <th>3</th>\n",
       "      <td>2</td>\n",
       "      <td>0</td>\n",
       "    </tr>\n",
       "    <tr>\n",
       "      <th>4</th>\n",
       "      <td>2</td>\n",
       "      <td>1</td>\n",
       "    </tr>\n",
       "  </tbody>\n",
       "</table>\n",
       "</div>"
      ],
      "text/plain": [
       "   length  Tr\n",
       "0       1   0\n",
       "1       1   1\n",
       "2       1   2\n",
       "3       2   0\n",
       "4       2   1"
      ]
     },
     "execution_count": 11,
     "metadata": {},
     "output_type": "execute_result"
    }
   ],
   "source": [
    "length, Tr = np.mgrid[1:6, 0:3].reshape(2,-1).astype(int)\n",
    "df = pd.DataFrame({\"length\":length, \"Tr\":Tr})\n",
    "df.head()"
   ]
  },
  {
   "cell_type": "code",
   "execution_count": 13,
   "id": "2788fc7a",
   "metadata": {},
   "outputs": [
    {
     "name": "stdout",
     "output_type": "stream",
     "text": [
      "2\n",
      "1\n",
      "1\n",
      "4\n",
      "3\n",
      "1\n",
      "8\n",
      "4\n",
      "4\n",
      "16\n",
      "7\n",
      "5\n",
      "32\n",
      "11\n",
      "6\n"
     ]
    }
   ],
   "source": [
    "df[\"F\"] = df.apply(lambda df: card_F(df.length, df.Tr), axis=1)\n",
    "df[\"D\"] = df.apply(lambda df: card_D(df.length, df.Tr), axis=1)"
   ]
  },
  {
   "cell_type": "code",
   "execution_count": 28,
   "id": "ed404048",
   "metadata": {},
   "outputs": [
    {
     "data": {
      "text/html": [
       "<div>\n",
       "<style scoped>\n",
       "    .dataframe tbody tr th:only-of-type {\n",
       "        vertical-align: middle;\n",
       "    }\n",
       "\n",
       "    .dataframe tbody tr th {\n",
       "        vertical-align: top;\n",
       "    }\n",
       "\n",
       "    .dataframe thead th {\n",
       "        text-align: right;\n",
       "    }\n",
       "</style>\n",
       "<table border=\"1\" class=\"dataframe\">\n",
       "  <thead>\n",
       "    <tr style=\"text-align: right;\">\n",
       "      <th></th>\n",
       "      <th>length</th>\n",
       "      <th>Tr</th>\n",
       "      <th>F</th>\n",
       "    </tr>\n",
       "  </thead>\n",
       "  <tbody>\n",
       "    <tr>\n",
       "      <th>0</th>\n",
       "      <td>1</td>\n",
       "      <td>0</td>\n",
       "      <td>2.0</td>\n",
       "    </tr>\n",
       "    <tr>\n",
       "      <th>1</th>\n",
       "      <td>1</td>\n",
       "      <td>1</td>\n",
       "      <td>1.0</td>\n",
       "    </tr>\n",
       "    <tr>\n",
       "      <th>2</th>\n",
       "      <td>1</td>\n",
       "      <td>2</td>\n",
       "      <td>1.0</td>\n",
       "    </tr>\n",
       "    <tr>\n",
       "      <th>3</th>\n",
       "      <td>2</td>\n",
       "      <td>0</td>\n",
       "      <td>4.0</td>\n",
       "    </tr>\n",
       "    <tr>\n",
       "      <th>4</th>\n",
       "      <td>2</td>\n",
       "      <td>1</td>\n",
       "      <td>3.0</td>\n",
       "    </tr>\n",
       "    <tr>\n",
       "      <th>5</th>\n",
       "      <td>2</td>\n",
       "      <td>2</td>\n",
       "      <td>1.0</td>\n",
       "    </tr>\n",
       "    <tr>\n",
       "      <th>6</th>\n",
       "      <td>3</td>\n",
       "      <td>0</td>\n",
       "      <td>8.0</td>\n",
       "    </tr>\n",
       "    <tr>\n",
       "      <th>7</th>\n",
       "      <td>3</td>\n",
       "      <td>1</td>\n",
       "      <td>4.0</td>\n",
       "    </tr>\n",
       "    <tr>\n",
       "      <th>8</th>\n",
       "      <td>3</td>\n",
       "      <td>2</td>\n",
       "      <td>4.0</td>\n",
       "    </tr>\n",
       "    <tr>\n",
       "      <th>9</th>\n",
       "      <td>4</td>\n",
       "      <td>0</td>\n",
       "      <td>16.0</td>\n",
       "    </tr>\n",
       "    <tr>\n",
       "      <th>10</th>\n",
       "      <td>4</td>\n",
       "      <td>1</td>\n",
       "      <td>7.0</td>\n",
       "    </tr>\n",
       "    <tr>\n",
       "      <th>11</th>\n",
       "      <td>4</td>\n",
       "      <td>2</td>\n",
       "      <td>5.0</td>\n",
       "    </tr>\n",
       "    <tr>\n",
       "      <th>12</th>\n",
       "      <td>5</td>\n",
       "      <td>0</td>\n",
       "      <td>32.0</td>\n",
       "    </tr>\n",
       "    <tr>\n",
       "      <th>13</th>\n",
       "      <td>5</td>\n",
       "      <td>1</td>\n",
       "      <td>11.0</td>\n",
       "    </tr>\n",
       "    <tr>\n",
       "      <th>14</th>\n",
       "      <td>5</td>\n",
       "      <td>2</td>\n",
       "      <td>6.0</td>\n",
       "    </tr>\n",
       "  </tbody>\n",
       "</table>\n",
       "</div>"
      ],
      "text/plain": [
       "    length  Tr     F\n",
       "0        1   0   2.0\n",
       "1        1   1   1.0\n",
       "2        1   2   1.0\n",
       "3        2   0   4.0\n",
       "4        2   1   3.0\n",
       "5        2   2   1.0\n",
       "6        3   0   8.0\n",
       "7        3   1   4.0\n",
       "8        3   2   4.0\n",
       "9        4   0  16.0\n",
       "10       4   1   7.0\n",
       "11       4   2   5.0\n",
       "12       5   0  32.0\n",
       "13       5   1  11.0\n",
       "14       5   2   6.0"
      ]
     },
     "execution_count": 28,
     "metadata": {},
     "output_type": "execute_result"
    }
   ],
   "source": [
    "df"
   ]
  },
  {
   "cell_type": "code",
   "execution_count": null,
   "id": "a1f6b6f0",
   "metadata": {},
   "outputs": [],
   "source": [
    "card_A_fun = lambda df: card_A(df.length, df.Tr, df.Th)\n"
   ]
  },
  {
   "cell_type": "code",
   "execution_count": 14,
   "id": "c30681a5",
   "metadata": {},
   "outputs": [],
   "source": [
    "from firing_signals.utils.utils import divisors"
   ]
  },
  {
   "cell_type": "code",
   "execution_count": 39,
   "id": "21431d39",
   "metadata": {},
   "outputs": [
    {
     "name": "stdout",
     "output_type": "stream",
     "text": [
      "+ 1 1\n",
      "+ 2 3\n",
      "- 2 1 1\n",
      "+ 3 4\n",
      "- 3 1 1\n",
      "+ 4 7\n",
      "- 4 1 1\n",
      "- 4 2 3\n",
      "+ 6 18\n",
      "- 6 1 1\n",
      "- 6 2 3\n",
      "- 6 3 4\n",
      "19\n"
     ]
    },
    {
     "data": {
      "text/plain": [
       "22"
      ]
     },
     "execution_count": 39,
     "metadata": {},
     "output_type": "execute_result"
    }
   ],
   "source": [
    "length = 12\n",
    "Tr = 1\n",
    "\n",
    "c = 0\n",
    "for T in divisors(length)[:-1]:\n",
    "    print(\"+\", T, l(T, Tr))\n",
    "    c += l(T, Tr)\n",
    "    if T>1:\n",
    "        for d in divisors(T)[:-1]:\n",
    "            print(\"-\", T, d, l(d, Tr))\n",
    "            c -= l(d, Tr)\n",
    "print(c)\n",
    "\n",
    "F = firing_sequences(length, Tr)\n",
    "D = {seq for seq in F if is_reducible(np.array(seq), length)}\n",
    "len(D)"
   ]
  },
  {
   "cell_type": "code",
   "execution_count": 41,
   "id": "ff90a1b1",
   "metadata": {},
   "outputs": [
    {
     "data": {
      "text/plain": [
       "{(0, 0, 0, 0, 0, 0, 0, 0, 0, 0, 0, 0),\n",
       " (0, 0, 0, 0, 0, 1, 0, 0, 0, 0, 0, 1),\n",
       " (0, 0, 0, 0, 1, 0, 0, 0, 0, 0, 1, 0),\n",
       " (0, 0, 0, 1, 0, 0, 0, 0, 0, 1, 0, 0),\n",
       " (0, 0, 0, 1, 0, 0, 0, 1, 0, 0, 0, 1),\n",
       " (0, 0, 0, 1, 0, 1, 0, 0, 0, 1, 0, 1),\n",
       " (0, 0, 1, 0, 0, 0, 0, 0, 1, 0, 0, 0),\n",
       " (0, 0, 1, 0, 0, 0, 1, 0, 0, 0, 1, 0),\n",
       " (0, 0, 1, 0, 0, 1, 0, 0, 1, 0, 0, 1),\n",
       " (0, 0, 1, 0, 1, 0, 0, 0, 1, 0, 1, 0),\n",
       " (0, 1, 0, 0, 0, 0, 0, 1, 0, 0, 0, 0),\n",
       " (0, 1, 0, 0, 0, 1, 0, 0, 0, 1, 0, 0),\n",
       " (0, 1, 0, 0, 0, 1, 0, 1, 0, 0, 0, 1),\n",
       " (0, 1, 0, 0, 1, 0, 0, 1, 0, 0, 1, 0),\n",
       " (0, 1, 0, 1, 0, 0, 0, 1, 0, 1, 0, 0),\n",
       " (0, 1, 0, 1, 0, 1, 0, 1, 0, 1, 0, 1),\n",
       " (1, 0, 0, 0, 0, 0, 1, 0, 0, 0, 0, 0),\n",
       " (1, 0, 0, 0, 1, 0, 0, 0, 1, 0, 0, 0),\n",
       " (1, 0, 0, 0, 1, 0, 1, 0, 0, 0, 1, 0),\n",
       " (1, 0, 0, 1, 0, 0, 1, 0, 0, 1, 0, 0),\n",
       " (1, 0, 1, 0, 0, 0, 1, 0, 1, 0, 0, 0),\n",
       " (1, 0, 1, 0, 1, 0, 1, 0, 1, 0, 1, 0)}"
      ]
     },
     "execution_count": 41,
     "metadata": {},
     "output_type": "execute_result"
    }
   ],
   "source": [
    "F = firing_sequences(length, Tr)\n",
    "D = {seq for seq in F if is_reducible(np.array(seq), length)}\n",
    "D"
   ]
  },
  {
   "cell_type": "code",
   "execution_count": null,
   "id": "d4b2d05c",
   "metadata": {},
   "outputs": [],
   "source": [
    "# (0, 0, 0, 0, 0, 0, 0, 0, 0, 0, 0, 0) - 1, 2, 3, 4, 6 -> 1\n",
    "# (0, 0, 0, 0, 0, 1, 0, 0, 0, 0, 0, 1) - 6\n",
    "# (0, 0, 0, 0, 1, 0, 0, 0, 0, 0, 1, 0) - 6\n",
    "# (0, 0, 0, 1, 0, 0, 0, 0, 0, 1, 0, 0) - 6\n",
    "# (0, 0, 0, 1, 0, 0, 0, 1, 0, 0, 0, 1) - 4 -> 4\n",
    "# (0, 0, 0, 1, 0, 1, 0, 0, 0, 1, 0, 1) - 6\n",
    "# (0, 0, 1, 0, 0, 0, 0, 0, 1, 0, 0, 0) - 6\n",
    "# (0, 0, 1, 0, 0, 0, 1, 0, 0, 0, 1, 0) - 4 -> 4\n",
    "# (0, 0, 1, 0, 0, 1, 0, 0, 1, 0, 0, 1) - 3, 6 -> 3\n",
    "# (0, 0, 1, 0, 1, 0, 0, 0, 1, 0, 1, 0) - 6\n",
    "# (0, 1, 0, 0, 0, 0, 0, 1, 0, 0, 0, 0) - 6\n",
    "# (0, 1, 0, 0, 0, 1, 0, 0, 0, 1, 0, 0) - 4 -> 4\n",
    "# (0, 1, 0, 0, 0, 1, 0, 1, 0, 0, 0, 1) - 6\n",
    "# (0, 1, 0, 0, 1, 0, 0, 1, 0, 0, 1, 0) - 3, 6 -> 3\n",
    "# (0, 1, 0, 1, 0, 0, 0, 1, 0, 1, 0, 0) - 6\n",
    "# (0, 1, 0, 1, 0, 1, 0, 1, 0, 1, 0, 1) - 2, 4, 6 -> 2\n",
    "# (1, 0, 0, 0, 0, 0, 1, 0, 0, 0, 0, 0) - 6\n",
    "# (1, 0, 0, 0, 1, 0, 0, 0, 1, 0, 0, 0) - 4 -> 4\n",
    "# (1, 0, 0, 0, 1, 0, 1, 0, 0, 0, 1, 0) - 6\n",
    "# (1, 0, 0, 1, 0, 0, 1, 0, 0, 1, 0, 0) - 3, 6 -> 3\n",
    "# (1, 0, 1, 0, 0, 0, 1, 0, 1, 0, 0, 0) - 6\n",
    "# (1, 0, 1, 0, 1, 0, 1, 0, 1, 0, 1, 0) - 2 -> 2"
   ]
  },
  {
   "cell_type": "code",
   "execution_count": 17,
   "id": "db771ba7",
   "metadata": {},
   "outputs": [],
   "source": [
    "from firing_signals.utils.utils import is_autonomous, is_reasonable, is_reducible, is_prime, divisors\n",
    "from firing_signals.sampling.bffs import backward_filtering_forward_sampling\n",
    "from firing_signals.counting.counting import l"
   ]
  },
  {
   "cell_type": "code",
   "execution_count": 18,
   "id": "bebebe40",
   "metadata": {},
   "outputs": [],
   "source": [
    "import numpy as np"
   ]
  },
  {
   "cell_type": "code",
   "execution_count": 54,
   "id": "64596518",
   "metadata": {},
   "outputs": [],
   "source": [
    "def card_D(length, Tr):\n",
    "    def recursion(length, Tr):\n",
    "        if length == 1:\n",
    "            return l(length, Tr)\n",
    "\n",
    "        if is_prime(length):\n",
    "            return l(length, Tr) - l(1, Tr)\n",
    "\n",
    "        count = l(length, Tr)\n",
    "        for T in divisors(length)[:-1]:\n",
    "            count -= recursion(T, Tr)\n",
    "        return count\n",
    "    \n",
    "    return sum([recursion(T, Tr) for T in divisors(length)[:-1]])\n",
    "\n",
    "    # \n",
    "    # c = l(length, Tr)\n",
    "    # for d in divisors(length)[:-1]:\n",
    "    #     c -= card_D(d, Tr)\n",
    "    #     print(length, d, card_D(d, Tr))\n",
    "    # return c\n",
    "    \n",
    "    #return sum([l(length, Tr)] + [-card_D(d, Tr) for d in divisors(length)[:-1]])"
   ]
  },
  {
   "cell_type": "code",
   "execution_count": 69,
   "id": "06ca23c8",
   "metadata": {},
   "outputs": [],
   "source": [
    "length = 24\n",
    "Tr = 1"
   ]
  },
  {
   "cell_type": "code",
   "execution_count": 70,
   "id": "bbfbab7e",
   "metadata": {},
   "outputs": [
    {
     "data": {
      "text/plain": [
       "362"
      ]
     },
     "execution_count": 70,
     "metadata": {},
     "output_type": "execute_result"
    }
   ],
   "source": [
    "F = firing_sequences(length, Tr)\n",
    "D = {seq for seq in F if is_reducible(np.array(seq), length)}\n",
    "len(D)"
   ]
  },
  {
   "cell_type": "code",
   "execution_count": 71,
   "id": "774ec450",
   "metadata": {},
   "outputs": [
    {
     "data": {
      "text/plain": [
       "362"
      ]
     },
     "execution_count": 71,
     "metadata": {},
     "output_type": "execute_result"
    }
   ],
   "source": [
    "    def get_card(self):\n",
    "        if hasattr(self, \"card\"):\n",
    "            return self.card\n",
    "        \n",
    "        if hasattr(self, 'set_'):\n",
    "            self.card = len(self.set_)\n",
    "            return self.card\n",
    "\n",
    "        def recursion(length, Tr):\n",
    "            if length == 1:\n",
    "                return l(length, Tr)\n",
    "\n",
    "            if is_prime(length):\n",
    "                return l(length, Tr) - l(1, Tr)\n",
    "\n",
    "            count = l(length, Tr)\n",
    "            for T in divisors(length)[:-1]:\n",
    "                count -= recursion(T, Tr)\n",
    "            return count\n",
    "    \n",
    "        self.card = sum([recursion(T, self.Tr) for T in divisors(self.length)[:-1]])\n",
    "        return self.card"
   ]
  },
  {
   "cell_type": "code",
   "execution_count": 113,
   "id": "cc31aebc",
   "metadata": {},
   "outputs": [],
   "source": [
    "def recursion(length):\n",
    "    if length == 1:\n",
    "        return {(0,), (1,)}\n",
    "\n",
    "    set0  = {seq + (0,) for seq in recursion(length - 1)}\n",
    "    set1  = {seq + (1,) for seq in recursion(length - 1)}\n",
    "\n",
    "    return set0.union(set1)"
   ]
  },
  {
   "cell_type": "code",
   "execution_count": 117,
   "id": "9b30da47",
   "metadata": {},
   "outputs": [
    {
     "data": {
      "text/plain": [
       "1024"
      ]
     },
     "execution_count": 117,
     "metadata": {},
     "output_type": "execute_result"
    }
   ],
   "source": [
    "len(recursion(10))"
   ]
  },
  {
   "cell_type": "code",
   "execution_count": null,
   "id": "e073a81b",
   "metadata": {},
   "outputs": [],
   "source": [
    "def binary_sequences(length, n=1, seq_set={(0,), (1,)}): \n",
    "    \n",
    "    \n",
    "    def recursion(length):\n",
    "        if length == 1:\n",
    "            return {(0,), (1,)}\n",
    "        \n",
    "        set0  = {seq + (0,) for seq in recursion(length - 1)}\n",
    "        set1  = {seq + (1,) for seq in recursion(length - 1)}\n",
    "\n",
    "        return set0.union(set1)\n",
    "    \n",
    "    \n",
    "    if n+1 == length:\n",
    "        return {seq + (0,) for seq in seq_set}.union({seq + (1,) for seq in seq_set})\n",
    "    return binary_sequences(length, n+1, {seq + (0,) for seq in seq_set}.union({seq + (1,) for seq in seq_set}))"
   ]
  },
  {
   "cell_type": "code",
   "execution_count": 108,
   "id": "4ca538e3",
   "metadata": {},
   "outputs": [
    {
     "data": {
      "text/plain": [
       "{(0, 0), (0, 1), (1, 0)}"
      ]
     },
     "execution_count": 108,
     "metadata": {},
     "output_type": "execute_result"
    }
   ],
   "source": [
    "firing_sequences(2, 1)"
   ]
  },
  {
   "cell_type": "code",
   "execution_count": null,
   "id": "23d38095",
   "metadata": {},
   "outputs": [],
   "source": [
    "def binary_sequences(length, n=1, seq_set={(0,), (1,)}):  \n",
    "    if n+1 == length:\n",
    "        return {seq + (0,) for seq in seq_set}.union({seq + (1,) for seq in seq_set})\n",
    "    return binary_sequences(length, n+1, {seq + (0,) for seq in seq_set}.union({seq + (1,) for seq in seq_set}))\n",
    "\n",
    "def acyclic_firing_sequences(length, Tr):\n",
    "    if length < 1:\n",
    "        return {}\n",
    "    \n",
    "    if Tr == 0:\n",
    "        return binary_sequences(length)\n",
    "    \n",
    "    if length == 1:\n",
    "        return {(0,), (1,)}\n",
    "    \n",
    "    if length <= Tr + 1:\n",
    "        set1 = {(0,)*(length-1) + (1,)}\n",
    "        set2 = {seq + (0,) for seq in acyclic_firing_sequences(length - 1, Tr)}\n",
    "        return set1.union(set2)\n",
    "    \n",
    "    set1 = {seq + (0,) for seq in acyclic_firing_sequences(length-1, Tr)}\n",
    "    set2 = {seq + (0,)*Tr + (1,) for seq in acyclic_firing_sequences(length-Tr-1, Tr)}\n",
    "    return set1.union(set2)\n",
    "\n",
    "\n",
    "def firing_sequences(length, Tr):\n",
    "    if length < 1:\n",
    "        return {}\n",
    "    \n",
    "    if Tr == 0:\n",
    "        return binary_sequences(length)\n",
    "    \n",
    "    if length == 1:\n",
    "        return {(0,)}\n",
    "    \n",
    "    if 2 <= length <= Tr:\n",
    "        return {seq + (0,) for seq in firing_sequences(length - 1, Tr)}\n",
    "    \n",
    "    if length == Tr + 1:\n",
    "        seq1 = {seq + (0,) for seq in firing_sequences(length - 1, Tr)}\n",
    "        seq2 = {(0,)*k + (1,) + (0,)*(Tr-1-k) + (0,) for k in range(Tr)}\n",
    "        seq3 = {(0,)*Tr + (1,)}\n",
    "        return seq1.union(seq2.union(seq3))\n",
    "    \n",
    "    if Tr + 2 <= length <= 2*Tr + 1:\n",
    "        seq1 = {seq + (0,) for seq in firing_sequences(length - 1, Tr)}\n",
    "        seq2 = {(0,)*(length-1) + (1,)}\n",
    "        return seq1.union(seq2)\n",
    "        \n",
    "    if 2*Tr + 2 <= length <= 3*Tr + 2:\n",
    "        seq1 = {seq + (0,) for seq in firing_sequences(length - 1, Tr)}\n",
    "        seq2 = {(0,)*k + (1,) + (0,)*(length-2-Tr) + (1,) + (0,)*(Tr-k) for k in range(Tr)}\n",
    "        seq3 = {(0,)*Tr + seq + (0,)*Tr + (1,) for seq in acyclic_firing_sequences(length-2*Tr-1, Tr)}\n",
    "        return seq1.union(seq2.union(seq3))\n",
    "    \n",
    "    seq1 = {seq + (0,) for seq in firing_sequences(length - 1, Tr)}\n",
    "    \n",
    "    seq2 = {\n",
    "        (0,)*k + (1,) + (0,)*Tr + seq + (0,)*Tr + (1,) + (0,)*(Tr-k) \n",
    "        for k in range(Tr) \n",
    "        for seq in acyclic_firing_sequences(length-3*Tr-2, Tr)\n",
    "    }\n",
    "    seq3 = {(0,)*Tr + seq + (0,)*Tr + (1,) for seq in acyclic_firing_sequences(length-2*Tr-1, Tr)}\n",
    "    return seq1.union(seq2.union(seq3))  "
   ]
  },
  {
   "cell_type": "code",
   "execution_count": 126,
   "id": "e601d95b",
   "metadata": {},
   "outputs": [],
   "source": [
    "class BinarySequences:\n",
    "    def __init__(self, length):\n",
    "        \n",
    "        if length < 1:\n",
    "            raise ValueError(f\"length must be larger or equal to 1 but is {length}\")\n",
    "            \n",
    "        self.length = length\n",
    "        \n",
    "    def get_set(self):\n",
    "        \n",
    "        def recursion(length):\n",
    "            if length == 1:\n",
    "                return {(0,), (1,)}\n",
    "\n",
    "            set0  = {seq + (0,) for seq in recursion(length - 1)}\n",
    "            set1  = {seq + (1,) for seq in recursion(length - 1)}\n",
    "\n",
    "            return set0.union(set1)\n",
    "        \n",
    "        if hasattr(self, 'set_'):\n",
    "            return self.set_\n",
    "        \n",
    "        self.set_ = recursion(self.length)\n",
    "        return self.set_\n",
    "    \n",
    "    def get_card(self):\n",
    "        if hasattr(self, \"card\"):\n",
    "            return self.card\n",
    "        \n",
    "        if hasattr(self, \"set_\"):\n",
    "            self.card = len(self.set_)\n",
    "            return self.card\n",
    "            \n",
    "        self.card = int(2**self.length)\n",
    "        return self.card\n",
    "    \n",
    "    def get_sample(self):\n",
    "        return np.random.binomial(1, 0.5, self.length)"
   ]
  },
  {
   "cell_type": "code",
   "execution_count": 148,
   "id": "3a5cc528",
   "metadata": {},
   "outputs": [],
   "source": [
    "class AcyclicFiringSequence:\n",
    "    def __init__(self, length, Tr):\n",
    "        \n",
    "        if length < 1:\n",
    "            raise ValueError(f\"length must be larger or equal to 1 but is {length}\")\n",
    "            \n",
    "        if Tr < 1:\n",
    "            raise ValueError(f\"Tr must be larger or equal to 1 but is {Tr}\")\n",
    "            \n",
    "        self.length = length\n",
    "        self.Tr = Tr\n",
    "        \n",
    "        \n",
    "    def get_set(self):\n",
    "        if hasattr(self, 'set_'):\n",
    "            return self.set_\n",
    "\n",
    "        def recursion(length, Tr):\n",
    "            if length == 1:\n",
    "                return {(0,), (1,)}\n",
    "\n",
    "            if length <= Tr + 1:\n",
    "                set1 = {(0,)*(length-1) + (1,)}\n",
    "                set2 = {seq + (0,) for seq in recursion(length - 1, Tr)}\n",
    "                return set1.union(set2)\n",
    "\n",
    "            set1 = {seq + (0,) for seq in recursion(length-1, Tr)}\n",
    "            set2 = {seq + (0,)*Tr + (1,) for seq in recursion(length-Tr-1, Tr)}\n",
    "            return set1.union(set2)\n",
    "        \n",
    "        self.set_ = recursion(self.length, self.Tr)\n",
    "        return self.set_\n",
    "    \n",
    "            \n",
    "    def get_card(self):\n",
    "        if hasattr(self, \"card\"):\n",
    "            return self.card\n",
    "        \n",
    "        if hasattr(self, 'set_'):\n",
    "            self.card = len(self.set_)\n",
    "            return self.card\n",
    "\n",
    "        def recursion(length, Tr):\n",
    "            if length == 1:\n",
    "                return 2\n",
    "            \n",
    "            if 2 <= length <= Tr+1:\n",
    "                return recursion(length-1, Tr) + 1\n",
    "            \n",
    "            return recursion(length-1, Tr) + recursion(length-Tr-1, Tr)\n",
    "\n",
    "        self.card = recursion(self.length, self.Tr)\n",
    "        return self.card    "
   ]
  },
  {
   "cell_type": "code",
   "execution_count": 173,
   "id": "535045ea",
   "metadata": {},
   "outputs": [],
   "source": [
    "class FiringSequence:\n",
    "    def __init__(self, length, Tr):\n",
    "        \n",
    "        if length < 1:\n",
    "            raise ValueError(f\"length must be larger or equal to 1 but is {length}\")\n",
    "            \n",
    "        if Tr < 1:\n",
    "            raise ValueError(f\"Tr must be larger or equal to 1 but is {Tr}\")\n",
    "            \n",
    "        self.length = length\n",
    "        self.Tr = Tr\n",
    "        \n",
    "        \n",
    "    def get_set(self):\n",
    "        if hasattr(self, 'set_'):\n",
    "            return self.set_\n",
    "    \n",
    "        def recursion(length, Tr):\n",
    "            \n",
    "            def recursion_acyclic(length, Tr):\n",
    "                if length == 1:\n",
    "                    return {(0,), (1,)}\n",
    "\n",
    "                if length <= Tr + 1:\n",
    "                    set1 = {(0,)*(length-1) + (1,)}\n",
    "                    set2 = {seq + (0,) for seq in recursion_acyclic(length - 1, Tr)}\n",
    "                    return set1.union(set2)\n",
    "\n",
    "                set1 = {seq + (0,) for seq in recursion_acyclic(length-1, Tr)}\n",
    "                set2 = {seq + (0,)*Tr + (1,) for seq in recursion_acyclic(length-Tr-1, Tr)}\n",
    "                return set1.union(set2)\n",
    "            \n",
    "            if length == 1:\n",
    "                return {(0,)}\n",
    "\n",
    "            if 2 <= length <= Tr:\n",
    "                return {seq + (0,) for seq in recursion(length - 1, Tr)}\n",
    "\n",
    "            if length == Tr + 1:\n",
    "                seq1 = {seq + (0,) for seq in recursion(length - 1, Tr)}\n",
    "                seq2 = {(0,)*k + (1,) + (0,)*(Tr-1-k) + (0,) for k in range(Tr)}\n",
    "                seq3 = {(0,)*Tr + (1,)}\n",
    "                return seq1.union(seq2.union(seq3))\n",
    "\n",
    "            if Tr + 2 <= length <= 2*Tr + 1:\n",
    "                seq1 = {seq + (0,) for seq in recursion(length - 1, Tr)}\n",
    "                seq2 = {(0,)*(length-1) + (1,)}\n",
    "                return seq1.union(seq2)\n",
    "\n",
    "            if 2*Tr + 2 <= length <= 3*Tr + 2:\n",
    "                seq1 = {seq + (0,) for seq in recursion(length - 1, Tr)}\n",
    "                seq2 = {(0,)*k + (1,) + (0,)*(length-2-Tr) + (1,) + (0,)*(Tr-k) for k in range(Tr)}\n",
    "                seq3 = {(0,)*Tr + seq + (0,)*Tr + (1,) for seq in recursion_acyclic(length-2*Tr-1, Tr)}\n",
    "                return seq1.union(seq2.union(seq3))\n",
    "\n",
    "            seq1 = {seq + (0,) for seq in recursion(length - 1, Tr)}\n",
    "\n",
    "            seq2 = {\n",
    "                (0,)*k + (1,) + (0,)*Tr + seq + (0,)*Tr + (1,) + (0,)*(Tr-k) \n",
    "                for k in range(Tr) \n",
    "                for seq in recursion_acyclic(length-3*Tr-2, Tr)\n",
    "            }\n",
    "            seq3 = {(0,)*Tr + seq + (0,)*Tr + (1,) for seq in recursion_acyclic(length-2*Tr-1, Tr)}\n",
    "            return seq1.union(seq2.union(seq3))  \n",
    "                \n",
    "        self.set_ = recursion(self.length, self.Tr)\n",
    "        return self.set_\n",
    "    \n",
    "            \n",
    "    def get_card(self):\n",
    "        if hasattr(self, \"card\"):\n",
    "            return self.card\n",
    "        \n",
    "        if hasattr(self, 'set_'):\n",
    "            self.card = len(self.set_)\n",
    "            return self.card\n",
    "            \n",
    "        \n",
    "        def recursion(length, Tr):\n",
    "            \n",
    "            def recursion_acyclic(length, Tr):\n",
    "                if length == 1:\n",
    "                    return 2\n",
    "\n",
    "                if 2 <= length <= Tr+1:\n",
    "                    return recursion_acyclic(length-1, Tr) + 1\n",
    "\n",
    "                return recursion_acyclic(length-1, Tr) + recursion_acyclic(length-Tr-1, Tr)\n",
    "            \n",
    "            if length == 1:\n",
    "                return 1\n",
    "            \n",
    "            if 2 <= length <= Tr:\n",
    "                return recursion(length-1, Tr)\n",
    "            \n",
    "            if length == Tr + 1:\n",
    "                return recursion(length-1, Tr) + 1 + Tr\n",
    "            \n",
    "            if Tr + 2 <= length <= 2*Tr + 1:\n",
    "                return recursion(length-1, Tr) + 1\n",
    "            \n",
    "            if 2*Tr + 2 <= length <= 3*Tr + 2:\n",
    "                return recursion(length-1, Tr) + recursion_acyclic(length-2*Tr-1, Tr) + Tr\n",
    "            \n",
    "            return recursion(length-1, Tr) + recursion_acyclic(length-2*Tr-1, Tr) + Tr*recursion_acyclic(length-3*Tr-2, Tr)\n",
    "\n",
    "        self.card = recursion(self.length, self.Tr)\n",
    "        return self.card   "
   ]
  },
  {
   "cell_type": "code",
   "execution_count": 177,
   "id": "2608fd49",
   "metadata": {},
   "outputs": [],
   "source": [
    "F = FiringSequence(19, 1)"
   ]
  },
  {
   "cell_type": "code",
   "execution_count": null,
   "id": "644899ef",
   "metadata": {},
   "outputs": [],
   "source": []
  },
  {
   "cell_type": "code",
   "execution_count": null,
   "id": "e1fb3ffb",
   "metadata": {},
   "outputs": [],
   "source": [
    "class FiringSequence:\n",
    "    def __init__(self, length, Tr, cyclic=True):\n",
    "        self.length = length\n",
    "        self.Tr = Tr\n",
    "        \n",
    "        \n",
    "    def get_set(self):\n",
    "        if hasattr(self, 'set_'):\n",
    "            return self.set_\n",
    "        \n",
    "    def acyclic_firing_sequences(length, Tr):\n",
    "        if length < 1:\n",
    "            return {}\n",
    "\n",
    "        if Tr == 0:\n",
    "            return binary_sequences(length)\n",
    "\n",
    "        if length == 1:\n",
    "            return {(0,), (1,)}\n",
    "\n",
    "        if length <= Tr + 1:\n",
    "            set1 = {(0,)*(length-1) + (1,)}\n",
    "            set2 = {seq + (0,) for seq in acyclic_firing_sequences(length - 1, Tr)}\n",
    "            return set1.union(set2)\n",
    "\n",
    "        set1 = {seq + (0,) for seq in acyclic_firing_sequences(length-1, Tr)}\n",
    "        set2 = {seq + (0,)*Tr + (1,) for seq in acyclic_firing_sequences(length-Tr-1, Tr)}\n",
    "        return set1.union(set2)\n",
    "\n",
    "\n",
    "\n",
    "            \n",
    "    def get_card(self):\n",
    "        if hasattr(self, \"card\"):\n",
    "            return self.card\n",
    "        \n",
    "        if hasattr(self, 'set_'):\n",
    "            self.card = len(self.set_)\n",
    "            return self.card\n",
    "\n",
    "        def recursion(length, Tr):\n",
    "            if length == 1:\n",
    "                return l(length, Tr)\n",
    "\n",
    "            if is_prime(length):\n",
    "                return l(length, Tr) - l(1, Tr)\n",
    "\n",
    "            count = l(length, Tr)\n",
    "            for T in divisors(length)[:-1]:\n",
    "                count -= recursion(T, Tr)\n",
    "            return count\n",
    "    \n",
    "        self.card = sum([recursion(T, self.Tr) for T in divisors(self.length)[:-1]])\n",
    "        return self.card\n",
    "    \n",
    "    def get_sample(self):\n",
    "        "
   ]
  },
  {
   "cell_type": "code",
   "execution_count": 112,
   "id": "bddd0a38",
   "metadata": {},
   "outputs": [],
   "source": [
    "class ReducibleSequences:\n",
    "    def __init__(self, length, Tr):\n",
    "        self.length = length\n",
    "        self.Tr = Tr\n",
    "        \n",
    "        \n",
    "    def get_set(self):\n",
    "        if hasattr(self, 'set_'):\n",
    "            return self.set_\n",
    "        \n",
    "        self.set_ = set()\n",
    "        for T in divisors(self.length)[:-1]:\n",
    "            d = self.length // T\n",
    "            set_ = {seq*d for seq in firing_sequences(T, self.Tr)}\n",
    "            self.set_ = self.set_.union(set_)\n",
    "        \n",
    "        return self.set_\n",
    "            \n",
    "    def get_card(self):\n",
    "        if hasattr(self, \"card\"):\n",
    "            return self.card\n",
    "        \n",
    "        if hasattr(self, 'set_'):\n",
    "            self.card = len(self.set_)\n",
    "            return self.card\n",
    "\n",
    "        def recursion(length, Tr):\n",
    "            if length == 1:\n",
    "                return l(length, Tr)\n",
    "\n",
    "            if is_prime(length):\n",
    "                return l(length, Tr) - l(1, Tr)\n",
    "\n",
    "            count = l(length, Tr)\n",
    "            for T in divisors(length)[:-1]:\n",
    "                count -= recursion(T, Tr)\n",
    "            return count\n",
    "    \n",
    "        self.card = sum([recursion(T, self.Tr) for T in divisors(self.length)[:-1]])\n",
    "        return self.card\n",
    "    \n",
    "    def get_sample(self):\n",
    "        raise NotImplementedError"
   ]
  },
  {
   "cell_type": "code",
   "execution_count": 110,
   "id": "e647e83b",
   "metadata": {},
   "outputs": [
    {
     "name": "stdout",
     "output_type": "stream",
     "text": [
      "1 {(0, 0, 0, 0, 0, 0, 0, 0, 0, 0, 0, 0)} {(0,)}\n",
      "2 {(0, 1, 0, 1, 0, 1, 0, 1, 0, 1, 0, 1), (1, 0, 1, 0, 1, 0, 1, 0, 1, 0, 1, 0), (0, 0, 0, 0, 0, 0, 0, 0, 0, 0, 0, 0)} {(1, 0), (0, 1), (0, 0)}\n",
      "3 {(1, 0, 0, 1, 0, 0, 1, 0, 0, 1, 0, 0), (0, 0, 1, 0, 0, 1, 0, 0, 1, 0, 0, 1), (0, 1, 0, 0, 1, 0, 0, 1, 0, 0, 1, 0), (0, 0, 0, 0, 0, 0, 0, 0, 0, 0, 0, 0)} {(1, 0, 0), (0, 0, 0), (0, 0, 1), (0, 1, 0)}\n",
      "4 {(0, 0, 1, 0, 0, 0, 1, 0, 0, 0, 1, 0), (1, 0, 0, 0, 1, 0, 0, 0, 1, 0, 0, 0), (0, 1, 0, 0, 0, 1, 0, 0, 0, 1, 0, 0), (0, 0, 0, 0, 0, 0, 0, 0, 0, 0, 0, 0), (0, 1, 0, 1, 0, 1, 0, 1, 0, 1, 0, 1), (0, 0, 0, 1, 0, 0, 0, 1, 0, 0, 0, 1), (1, 0, 1, 0, 1, 0, 1, 0, 1, 0, 1, 0)} {(0, 0, 0, 1), (0, 0, 1, 0), (0, 1, 0, 1), (1, 0, 1, 0), (0, 1, 0, 0), (1, 0, 0, 0), (0, 0, 0, 0)}\n",
      "6 {(0, 1, 0, 0, 0, 0, 0, 1, 0, 0, 0, 0), (1, 0, 0, 0, 0, 0, 1, 0, 0, 0, 0, 0), (1, 0, 1, 0, 0, 0, 1, 0, 1, 0, 0, 0), (0, 0, 1, 0, 0, 1, 0, 0, 1, 0, 0, 1), (0, 0, 0, 1, 0, 0, 0, 0, 0, 1, 0, 0), (0, 0, 0, 0, 0, 1, 0, 0, 0, 0, 0, 1), (0, 0, 1, 0, 0, 0, 0, 0, 1, 0, 0, 0), (1, 0, 0, 1, 0, 0, 1, 0, 0, 1, 0, 0), (0, 0, 0, 0, 1, 0, 0, 0, 0, 0, 1, 0), (0, 0, 1, 0, 1, 0, 0, 0, 1, 0, 1, 0), (1, 0, 1, 0, 1, 0, 1, 0, 1, 0, 1, 0), (0, 0, 0, 1, 0, 1, 0, 0, 0, 1, 0, 1), (0, 1, 0, 0, 1, 0, 0, 1, 0, 0, 1, 0), (0, 0, 0, 0, 0, 0, 0, 0, 0, 0, 0, 0), (0, 1, 0, 1, 0, 1, 0, 1, 0, 1, 0, 1), (0, 1, 0, 0, 0, 1, 0, 1, 0, 0, 0, 1), (0, 1, 0, 1, 0, 0, 0, 1, 0, 1, 0, 0), (1, 0, 0, 0, 1, 0, 1, 0, 0, 0, 1, 0)} {(0, 0, 1, 0, 0, 0), (0, 0, 1, 0, 1, 0), (0, 1, 0, 0, 0, 0), (1, 0, 0, 1, 0, 0), (0, 0, 0, 1, 0, 1), (0, 1, 0, 1, 0, 1), (0, 0, 0, 0, 0, 0), (1, 0, 0, 0, 0, 0), (0, 0, 0, 0, 1, 0), (0, 1, 0, 0, 1, 0), (0, 1, 0, 1, 0, 0), (0, 0, 0, 1, 0, 0), (0, 1, 0, 0, 0, 1), (1, 0, 1, 0, 0, 0), (1, 0, 1, 0, 1, 0), (0, 0, 1, 0, 0, 1), (0, 0, 0, 0, 0, 1), (1, 0, 0, 0, 1, 0)}\n"
     ]
    },
    {
     "data": {
      "text/plain": [
       "{(0, 0, 0, 0, 0, 0, 0, 0, 0, 0, 0, 0),\n",
       " (0, 0, 0, 0, 0, 1, 0, 0, 0, 0, 0, 1),\n",
       " (0, 0, 0, 0, 1, 0, 0, 0, 0, 0, 1, 0),\n",
       " (0, 0, 0, 1, 0, 0, 0, 0, 0, 1, 0, 0),\n",
       " (0, 0, 0, 1, 0, 0, 0, 1, 0, 0, 0, 1),\n",
       " (0, 0, 0, 1, 0, 1, 0, 0, 0, 1, 0, 1),\n",
       " (0, 0, 1, 0, 0, 0, 0, 0, 1, 0, 0, 0),\n",
       " (0, 0, 1, 0, 0, 0, 1, 0, 0, 0, 1, 0),\n",
       " (0, 0, 1, 0, 0, 1, 0, 0, 1, 0, 0, 1),\n",
       " (0, 0, 1, 0, 1, 0, 0, 0, 1, 0, 1, 0),\n",
       " (0, 1, 0, 0, 0, 0, 0, 1, 0, 0, 0, 0),\n",
       " (0, 1, 0, 0, 0, 1, 0, 0, 0, 1, 0, 0),\n",
       " (0, 1, 0, 0, 0, 1, 0, 1, 0, 0, 0, 1),\n",
       " (0, 1, 0, 0, 1, 0, 0, 1, 0, 0, 1, 0),\n",
       " (0, 1, 0, 1, 0, 0, 0, 1, 0, 1, 0, 0),\n",
       " (0, 1, 0, 1, 0, 1, 0, 1, 0, 1, 0, 1),\n",
       " (1, 0, 0, 0, 0, 0, 1, 0, 0, 0, 0, 0),\n",
       " (1, 0, 0, 0, 1, 0, 0, 0, 1, 0, 0, 0),\n",
       " (1, 0, 0, 0, 1, 0, 1, 0, 0, 0, 1, 0),\n",
       " (1, 0, 0, 1, 0, 0, 1, 0, 0, 1, 0, 0),\n",
       " (1, 0, 1, 0, 0, 0, 1, 0, 1, 0, 0, 0),\n",
       " (1, 0, 1, 0, 1, 0, 1, 0, 1, 0, 1, 0)}"
      ]
     },
     "execution_count": 110,
     "metadata": {},
     "output_type": "execute_result"
    }
   ],
   "source": [
    "D = ReducibleSequences(12, 1)\n",
    "D.get_set()"
   ]
  },
  {
   "cell_type": "code",
   "execution_count": 111,
   "id": "af3cba8a",
   "metadata": {},
   "outputs": [
    {
     "data": {
      "text/plain": [
       "22"
      ]
     },
     "execution_count": 111,
     "metadata": {},
     "output_type": "execute_result"
    }
   ],
   "source": [
    "len(D.set_)"
   ]
  },
  {
   "cell_type": "code",
   "execution_count": null,
   "id": "04609453",
   "metadata": {},
   "outputs": [],
   "source": []
  },
  {
   "cell_type": "code",
   "execution_count": 55,
   "id": "4ecafa1e",
   "metadata": {},
   "outputs": [
    {
     "data": {
      "text/plain": [
       "22"
      ]
     },
     "execution_count": 55,
     "metadata": {},
     "output_type": "execute_result"
    }
   ],
   "source": [
    "\n",
    "card_D(length, Tr)"
   ]
  },
  {
   "cell_type": "code",
   "execution_count": null,
   "id": "b8ce1ce5",
   "metadata": {},
   "outputs": [],
   "source": [
    "l1 + (l2 - l1) + (l3-l1) + "
   ]
  },
  {
   "cell_type": "code",
   "execution_count": 40,
   "id": "91b5f091",
   "metadata": {},
   "outputs": [
    {
     "data": {
      "text/plain": [
       "22"
      ]
     },
     "execution_count": 40,
     "metadata": {},
     "output_type": "execute_result"
    }
   ],
   "source": [
    "l(6, 1) + l(4, 1) - 3*l(1,1)"
   ]
  },
  {
   "cell_type": "code",
   "execution_count": 12,
   "id": "a0ab8af5",
   "metadata": {},
   "outputs": [],
   "source": [
    "def card_A(length, Tr, Th):\n",
    "    ...\n",
    "    \n",
    "def card_D(length, Tr):\n",
    "    ...\n",
    "\n",
    "def card_F(length, Tr):\n",
    "    return l(length, Tr)\n",
    "    \n",
    "def card_R(length, Tr, Th):\n",
    "    ..."
   ]
  },
  {
   "cell_type": "code",
   "execution_count": null,
   "id": "ecc8485c",
   "metadata": {},
   "outputs": [],
   "source": [
    "for (length, Tr), group in df.groupby([\"length\", \"Tr\"]):\n",
    "    group[\"F\"] = len(firing_sequences(length, Tr))\n",
    "    group[\"D\"] = len({seq for seq in F if is_reducible(np.array(seq), length)})"
   ]
  },
  {
   "cell_type": "code",
   "execution_count": null,
   "id": "acb84aeb",
   "metadata": {},
   "outputs": [],
   "source": [
    "df.head()"
   ]
  },
  {
   "cell_type": "code",
   "execution_count": null,
   "id": "36ac0fd5",
   "metadata": {},
   "outputs": [],
   "source": []
  },
  {
   "cell_type": "code",
   "execution_count": 313,
   "id": "d2f3e2be",
   "metadata": {},
   "outputs": [
    {
     "data": {
      "text/plain": [
       "129"
      ]
     },
     "execution_count": 313,
     "metadata": {},
     "output_type": "execute_result"
    }
   ],
   "source": [
    "len(A.intersection(R))"
   ]
  },
  {
   "cell_type": "code",
   "execution_count": 289,
   "id": "f01d58b4",
   "metadata": {},
   "outputs": [],
   "source": [
    "A = {seq for seq in F if is_autonomous(np.array(seq), length, Th)}\n",
    "R = {seq for seq in F if is_reasonable(np.array(seq), length, Th)}\n",
    "D = {seq for seq in F if is_reducible(np.array(seq), length)}"
   ]
  },
  {
   "cell_type": "code",
   "execution_count": 290,
   "id": "516bfd39",
   "metadata": {},
   "outputs": [
    {
     "data": {
      "text/plain": [
       "0.84375"
      ]
     },
     "execution_count": 290,
     "metadata": {},
     "output_type": "execute_result"
    }
   ],
   "source": [
    "len(A)/len(F)"
   ]
  },
  {
   "cell_type": "code",
   "execution_count": 293,
   "id": "cacc29b1",
   "metadata": {},
   "outputs": [
    {
     "data": {
      "text/plain": [
       "0.58984375"
      ]
     },
     "execution_count": 293,
     "metadata": {},
     "output_type": "execute_result"
    }
   ],
   "source": [
    "len(R)/len(F)"
   ]
  },
  {
   "cell_type": "code",
   "execution_count": 250,
   "id": "ee0088eb",
   "metadata": {},
   "outputs": [
    {
     "data": {
      "text/plain": [
       "0.023923444976076555"
      ]
     },
     "execution_count": 250,
     "metadata": {},
     "output_type": "execute_result"
    }
   ],
   "source": [
    "len(D)/len(F)"
   ]
  },
  {
   "cell_type": "code",
   "execution_count": 261,
   "id": "d9c54a07",
   "metadata": {},
   "outputs": [
    {
     "data": {
      "text/plain": [
       "(2090, 1810)"
      ]
     },
     "execution_count": 261,
     "metadata": {},
     "output_type": "execute_result"
    }
   ],
   "source": [
    "len(F), len(F - A - R)"
   ]
  },
  {
   "cell_type": "code",
   "execution_count": 262,
   "id": "9b170916",
   "metadata": {},
   "outputs": [
    {
     "data": {
      "text/plain": [
       "50"
      ]
     },
     "execution_count": 262,
     "metadata": {},
     "output_type": "execute_result"
    }
   ],
   "source": [
    "len(D)"
   ]
  },
  {
   "cell_type": "code",
   "execution_count": null,
   "id": "640e08b2",
   "metadata": {},
   "outputs": [],
   "source": []
  },
  {
   "cell_type": "code",
   "execution_count": null,
   "id": "0ac40b90",
   "metadata": {},
   "outputs": [],
   "source": []
  },
  {
   "cell_type": "code",
   "execution_count": 234,
   "id": "4423e1ff",
   "metadata": {},
   "outputs": [],
   "source": [
    "A = {seq for seq in F if is_autonomous(np.array(seq), length, Th)}"
   ]
  },
  {
   "cell_type": "code",
   "execution_count": null,
   "id": "35dbf21e",
   "metadata": {},
   "outputs": [],
   "source": []
  },
  {
   "cell_type": "code",
   "execution_count": null,
   "id": "5e20d3c7",
   "metadata": {},
   "outputs": [],
   "source": []
  },
  {
   "cell_type": "code",
   "execution_count": null,
   "id": "69642637",
   "metadata": {},
   "outputs": [],
   "source": []
  },
  {
   "cell_type": "code",
   "execution_count": 131,
   "id": "95bd46e0",
   "metadata": {},
   "outputs": [
    {
     "data": {
      "text/plain": [
       "173"
      ]
     },
     "execution_count": 131,
     "metadata": {},
     "output_type": "execute_result"
    }
   ],
   "source": [
    "Tr = 3\n",
    "length = 16\n",
    "\n",
    "len(firing_sequences(length, Tr))"
   ]
  },
  {
   "cell_type": "code",
   "execution_count": 111,
   "id": "2a6a3b98",
   "metadata": {},
   "outputs": [
    {
     "data": {
      "text/plain": [
       "{(0, 0, 0, 0), (0, 0, 0, 1), (0, 0, 1, 0), (0, 1, 0, 0), (1, 0, 0, 0)}"
      ]
     },
     "execution_count": 111,
     "metadata": {},
     "output_type": "execute_result"
    }
   ],
   "source": [
    "generate_firing_sequences(4, 2)"
   ]
  },
  {
   "cell_type": "code",
   "execution_count": 86,
   "id": "4218082d",
   "metadata": {},
   "outputs": [
    {
     "data": {
      "text/plain": [
       "[[1, 0, 0], [0, 1, 0], [0, 0, 1]]"
      ]
     },
     "execution_count": 86,
     "metadata": {},
     "output_type": "execute_result"
    }
   ],
   "source": [
    "length = 3\n",
    "i=2\n",
    "[[0]*i + [1] + [0]*(length-i-1) for i in range(length)]"
   ]
  },
  {
   "cell_type": "code",
   "execution_count": null,
   "id": "da2d7fdf",
   "metadata": {},
   "outputs": [],
   "source": []
  },
  {
   "cell_type": "code",
   "execution_count": null,
   "id": "bc879616",
   "metadata": {},
   "outputs": [],
   "source": []
  },
  {
   "cell_type": "code",
   "execution_count": 30,
   "id": "7e4cfc02",
   "metadata": {},
   "outputs": [],
   "source": [
    "def p_a(length, Tr, Th, num_iter=1000):\n",
    "    c_a = 0\n",
    "    for _ in range(num_iter):\n",
    "        seq = backward_filtering_forward_sampling(length, Tr, loop=True)\n",
    "        if is_autonomous(seq, length, Th):\n",
    "            c_a += 1 \n",
    "    return c_a/num_iter\n",
    "\n",
    "def p_r(length, Tr, Th, num_iter=1000):\n",
    "    c_r = 0\n",
    "    for _ in range(num_iter):\n",
    "        seq = backward_filtering_forward_sampling(length, Tr, loop=True)\n",
    "        if is_reasonable(seq, length, Th):\n",
    "            c_r += 1\n",
    "    return c_r/num_iter\n",
    "\n",
    "def p_m(length, Tr, Th, num_iter=1000):\n",
    "    c_m = 0\n",
    "    for _ in range(num_iter):\n",
    "        seq = backward_filtering_forward_sampling(length, Tr, loop=True)\n",
    "        if is_autonomous(seq, length, Th) and is_reasonable(seq, length, Th):\n",
    "            c_m += 1 \n",
    "    return c_m/num_iter"
   ]
  },
  {
   "cell_type": "code",
   "execution_count": 31,
   "id": "68ccc4f7",
   "metadata": {},
   "outputs": [],
   "source": [
    "Tr = 0\n",
    "\n",
    "x, y = np.mgrid[1:21,1:21].reshape(2, -1)\n",
    "\n",
    "za = np.empty(400)\n",
    "zr = np.empty(400)\n",
    "zm = np.empty(400)\n",
    "\n",
    "for i in range(400):\n",
    "    za[i] = p_a(x[i], Tr, y[i])\n",
    "    zr[i] = p_r(x[i], Tr, y[i])\n",
    "    zm[i] = p_m(x[i], Tr, y[i])"
   ]
  },
  {
   "cell_type": "code",
   "execution_count": 32,
   "id": "b82dd777",
   "metadata": {},
   "outputs": [
    {
     "data": {
      "image/png": "[encoded data removed]",
      "text/plain": [
       "<Figure size 432x288 with 2 Axes>"
      ]
     },
     "metadata": {},
     "output_type": "display_data"
    }
   ],
   "source": [
    "plt.contourf(x.reshape(20,20), y.reshape(20,20), za.reshape(20,20), 20, cmap='RdGy')\n",
    "plt.colorbar();"
   ]
  },
  {
   "cell_type": "code",
   "execution_count": 33,
   "id": "cc7751c7",
   "metadata": {},
   "outputs": [
    {
     "data": {
      "image/png": "[encoded data removed]",
      "text/plain": [
       "<Figure size 432x288 with 2 Axes>"
      ]
     },
     "metadata": {},
     "output_type": "display_data"
    }
   ],
   "source": [
    "plt.contourf(x.reshape(20,20), y.reshape(20,20), zr.reshape(20,20), 20, cmap='RdGy')\n",
    "plt.colorbar();"
   ]
  },
  {
   "cell_type": "code",
   "execution_count": 34,
   "id": "0d240328",
   "metadata": {},
   "outputs": [
    {
     "data": {
      "image/png": "[encoded data removed]",
      "text/plain": [
       "<Figure size 432x288 with 2 Axes>"
      ]
     },
     "metadata": {},
     "output_type": "display_data"
    }
   ],
   "source": [
    "plt.contourf(x.reshape(20,20), y.reshape(20,20), zm.reshape(20,20), 20, cmap='RdGy')\n",
    "plt.colorbar();"
   ]
  },
  {
   "cell_type": "code",
   "execution_count": null,
   "id": "79a377e4",
   "metadata": {},
   "outputs": [],
   "source": []
  },
  {
   "cell_type": "code",
   "execution_count": 35,
   "id": "64c128c0",
   "metadata": {},
   "outputs": [],
   "source": [
    "Tr = 1\n",
    "\n",
    "x, y = np.mgrid[1:21,1:21].reshape(2, -1)\n",
    "\n",
    "za = np.empty(400)\n",
    "zr = np.empty(400)\n",
    "zm = np.empty(400)\n",
    "\n",
    "for i in range(400):\n",
    "    za[i] = p_a(x[i], Tr, y[i])\n",
    "    zr[i] = p_r(x[i], Tr, y[i])\n",
    "    zm[i] = p_m(x[i], Tr, y[i])"
   ]
  },
  {
   "cell_type": "code",
   "execution_count": 36,
   "id": "c527500c",
   "metadata": {},
   "outputs": [
    {
     "data": {
      "image/png": "[encoded data removed]",
      "text/plain": [
       "<Figure size 432x288 with 2 Axes>"
      ]
     },
     "metadata": {},
     "output_type": "display_data"
    }
   ],
   "source": [
    "plt.contourf(x.reshape(20,20), y.reshape(20,20), za.reshape(20,20), 20, cmap='RdGy')\n",
    "plt.colorbar();"
   ]
  },
  {
   "cell_type": "code",
   "execution_count": 37,
   "id": "40bee984",
   "metadata": {},
   "outputs": [
    {
     "data": {
      "image/png": "[encoded data removed]",
      "text/plain": [
       "<Figure size 432x288 with 2 Axes>"
      ]
     },
     "metadata": {},
     "output_type": "display_data"
    }
   ],
   "source": [
    "plt.contourf(x.reshape(20,20), y.reshape(20,20), zr.reshape(20,20), 20, cmap='RdGy')\n",
    "plt.colorbar();"
   ]
  },
  {
   "cell_type": "code",
   "execution_count": 38,
   "id": "c0185766",
   "metadata": {},
   "outputs": [
    {
     "data": {
      "image/png": "[encoded data removed]",
      "text/plain": [
       "<Figure size 432x288 with 2 Axes>"
      ]
     },
     "metadata": {},
     "output_type": "display_data"
    }
   ],
   "source": [
    "plt.contourf(x.reshape(20,20), y.reshape(20,20), zm.reshape(20,20), 20, cmap='RdGy')\n",
    "plt.colorbar();"
   ]
  },
  {
   "cell_type": "code",
   "execution_count": null,
   "id": "81c3a7ee",
   "metadata": {},
   "outputs": [],
   "source": []
  },
  {
   "cell_type": "code",
   "execution_count": 39,
   "id": "a6be11f0",
   "metadata": {},
   "outputs": [],
   "source": [
    "Tr = 2\n",
    "\n",
    "x, y = np.mgrid[1:21,1:21].reshape(2, -1)\n",
    "\n",
    "za = np.empty(400)\n",
    "zr = np.empty(400)\n",
    "zm = np.empty(400)\n",
    "\n",
    "for i in range(400):\n",
    "    za[i] = p_a(x[i], Tr, y[i])\n",
    "    zr[i] = p_r(x[i], Tr, y[i])\n",
    "    zm[i] = p_m(x[i], Tr, y[i])"
   ]
  },
  {
   "cell_type": "code",
   "execution_count": 40,
   "id": "40b00b8e",
   "metadata": {},
   "outputs": [
    {
     "data": {
      "image/png": "[encoded data removed]",
      "text/plain": [
       "<Figure size 432x288 with 2 Axes>"
      ]
     },
     "metadata": {},
     "output_type": "display_data"
    }
   ],
   "source": [
    "plt.contourf(x.reshape(20,20), y.reshape(20,20), za.reshape(20,20), 20, cmap='RdGy')\n",
    "plt.colorbar();"
   ]
  },
  {
   "cell_type": "code",
   "execution_count": 41,
   "id": "d8aac7f6",
   "metadata": {},
   "outputs": [
    {
     "data": {
      "image/png": "[encoded data removed]",
      "text/plain": [
       "<Figure size 432x288 with 2 Axes>"
      ]
     },
     "metadata": {},
     "output_type": "display_data"
    }
   ],
   "source": [
    "plt.contourf(x.reshape(20,20), y.reshape(20,20), zr.reshape(20,20), 20, cmap='RdGy')\n",
    "plt.colorbar();"
   ]
  },
  {
   "cell_type": "code",
   "execution_count": 42,
   "id": "1ff1af68",
   "metadata": {},
   "outputs": [
    {
     "data": {
      "image/png": "[encoded data removed]",
      "text/plain": [
       "<Figure size 432x288 with 2 Axes>"
      ]
     },
     "metadata": {},
     "output_type": "display_data"
    }
   ],
   "source": [
    "plt.contourf(x.reshape(20,20), y.reshape(20,20), zm.reshape(20,20), 20, cmap='RdGy')\n",
    "plt.colorbar();"
   ]
  },
  {
   "cell_type": "code",
   "execution_count": null,
   "id": "3cbfb510",
   "metadata": {},
   "outputs": [],
   "source": []
  },
  {
   "cell_type": "code",
   "execution_count": 43,
   "id": "bb0e714c",
   "metadata": {},
   "outputs": [],
   "source": [
    "Tr = 3\n",
    "\n",
    "x, y = np.mgrid[1:21,1:21].reshape(2, -1)\n",
    "\n",
    "za = np.empty(400)\n",
    "zr = np.empty(400)\n",
    "zm = np.empty(400)\n",
    "\n",
    "for i in range(400):\n",
    "    za[i] = p_a(x[i], Tr, y[i])\n",
    "    zr[i] = p_r(x[i], Tr, y[i])\n",
    "    zm[i] = p_m(x[i], Tr, y[i])"
   ]
  },
  {
   "cell_type": "code",
   "execution_count": 44,
   "id": "366fa0d4",
   "metadata": {},
   "outputs": [
    {
     "data": {
      "image/png": "[encoded data removed]",
      "text/plain": [
       "<Figure size 432x288 with 2 Axes>"
      ]
     },
     "metadata": {},
     "output_type": "display_data"
    }
   ],
   "source": [
    "plt.contourf(x.reshape(20,20), y.reshape(20,20), za.reshape(20,20), 20, cmap='RdGy')\n",
    "plt.colorbar();"
   ]
  },
  {
   "cell_type": "code",
   "execution_count": 45,
   "id": "ed97ecbe",
   "metadata": {},
   "outputs": [
    {
     "data": {
      "image/png": "[encoded data removed]",
      "text/plain": [
       "<Figure size 432x288 with 2 Axes>"
      ]
     },
     "metadata": {},
     "output_type": "display_data"
    }
   ],
   "source": [
    "plt.contourf(x.reshape(20,20), y.reshape(20,20), zr.reshape(20,20), 20, cmap='RdGy')\n",
    "plt.colorbar();"
   ]
  },
  {
   "cell_type": "code",
   "execution_count": 46,
   "id": "b5513615",
   "metadata": {},
   "outputs": [
    {
     "data": {
      "image/png": "[encoded data removed]",
      "text/plain": [
       "<Figure size 432x288 with 2 Axes>"
      ]
     },
     "metadata": {},
     "output_type": "display_data"
    }
   ],
   "source": [
    "plt.contourf(x.reshape(20,20), y.reshape(20,20), zm.reshape(20,20), 20, cmap='RdGy')\n",
    "plt.colorbar();"
   ]
  },
  {
   "cell_type": "code",
   "execution_count": null,
   "id": "1c38e705",
   "metadata": {},
   "outputs": [],
   "source": []
  },
  {
   "cell_type": "code",
   "execution_count": 47,
   "id": "1e47c81f",
   "metadata": {},
   "outputs": [],
   "source": [
    "Tr = 4\n",
    "\n",
    "x, y = np.mgrid[1:21,1:21].reshape(2, -1)\n",
    "\n",
    "za = np.empty(400)\n",
    "zr = np.empty(400)\n",
    "zm = np.empty(400)\n",
    "\n",
    "for i in range(400):\n",
    "    za[i] = p_a(x[i], Tr, y[i])\n",
    "    zr[i] = p_r(x[i], Tr, y[i])\n",
    "    zm[i] = p_m(x[i], Tr, y[i])"
   ]
  },
  {
   "cell_type": "code",
   "execution_count": 48,
   "id": "0b5428d3",
   "metadata": {},
   "outputs": [
    {
     "data": {
      "image/png": "[encoded data removed]",
      "text/plain": [
       "<Figure size 432x288 with 2 Axes>"
      ]
     },
     "metadata": {},
     "output_type": "display_data"
    }
   ],
   "source": [
    "plt.contourf(x.reshape(20,20), y.reshape(20,20), za.reshape(20,20), 20, cmap='RdGy')\n",
    "plt.colorbar();"
   ]
  },
  {
   "cell_type": "code",
   "execution_count": 49,
   "id": "e8ffe231",
   "metadata": {},
   "outputs": [
    {
     "data": {
      "image/png": "[encoded data removed]",
      "text/plain": [
       "<Figure size 432x288 with 2 Axes>"
      ]
     },
     "metadata": {},
     "output_type": "display_data"
    }
   ],
   "source": [
    "plt.contourf(x.reshape(20,20), y.reshape(20,20), zr.reshape(20,20), 20, cmap='RdGy')\n",
    "plt.colorbar();"
   ]
  },
  {
   "cell_type": "code",
   "execution_count": 50,
   "id": "27eecb5d",
   "metadata": {},
   "outputs": [
    {
     "data": {
      "image/png": "[encoded data removed]",
      "text/plain": [
       "<Figure size 432x288 with 2 Axes>"
      ]
     },
     "metadata": {},
     "output_type": "display_data"
    }
   ],
   "source": [
    "plt.contourf(x.reshape(20,20), y.reshape(20,20), zm.reshape(20,20), 20, cmap='RdGy')\n",
    "plt.colorbar();"
   ]
  },
  {
   "cell_type": "code",
   "execution_count": null,
   "id": "30efbfc0",
   "metadata": {},
   "outputs": [],
   "source": []
  },
  {
   "cell_type": "code",
   "execution_count": null,
   "id": "072ae8e1",
   "metadata": {},
   "outputs": [],
   "source": []
  },
  {
   "cell_type": "code",
   "execution_count": null,
   "id": "a512db4e",
   "metadata": {},
   "outputs": [],
   "source": []
  },
  {
   "cell_type": "code",
   "execution_count": null,
   "id": "7289d37b",
   "metadata": {},
   "outputs": [],
   "source": []
  },
  {
   "cell_type": "code",
   "execution_count": null,
   "id": "962bd345",
   "metadata": {},
   "outputs": [],
   "source": []
  },
  {
   "cell_type": "code",
   "execution_count": null,
   "id": "9a719d32",
   "metadata": {},
   "outputs": [],
   "source": []
  },
  {
   "cell_type": "code",
   "execution_count": null,
   "id": "84276f5b",
   "metadata": {},
   "outputs": [],
   "source": []
  },
  {
   "cell_type": "code",
   "execution_count": 102,
   "id": "f4c2ce15",
   "metadata": {},
   "outputs": [],
   "source": [
    "def is_autonomous(seq, Th):\n",
    "    # check if the sequence contains enough energy to produce itself\n",
    "    length = seq.shape[0]\n",
    "    indices = cyclic_range(np.arange(length), Th, length)\n",
    "    return np.all(np.sum(seq[...,indices], axis=-1) > 0)"
   ]
  },
  {
   "cell_type": "code",
   "execution_count": 103,
   "id": "2f464bfc",
   "metadata": {},
   "outputs": [],
   "source": [
    "def is_reasonable(seq, Th):\n",
    "    # check if all Th sub-sequences fully determine the upcoming value\n",
    "    length = seq.shape[0]\n",
    "    indices_1 = cyclic_range(np.arange(length), Th, length)\n",
    "    indices_2 = cyclic_range(np.arange(length), Th+1, length)\n",
    "    \n",
    "    _, index_1, counts_1 = np.unique(seq[indices_1], return_index=True, return_counts=True, axis=0)\n",
    "    _, index_2, counts_2 = np.unique(seq[indices_2], return_index=True, return_counts=True, axis=0)\n",
    "    \n",
    "    return np.array_equal(index_1, index_2) and np.array_equal(counts_1, counts_2)"
   ]
  },
  {
   "cell_type": "code",
   "execution_count": 123,
   "id": "d81fe81e",
   "metadata": {},
   "outputs": [],
   "source": [
    "length = 10\n",
    "Th = 2"
   ]
  },
  {
   "cell_type": "code",
   "execution_count": 124,
   "id": "2f3b8dad",
   "metadata": {},
   "outputs": [],
   "source": [
    "l_count = 0\n",
    "a_count = 0\n",
    "al_count = 0\n",
    "\n",
    "num_iter = 1000\n",
    "\n",
    "for _ in range(num_iter):\n",
    "    seq = np.random.binomial(1, 0.5, length)\n",
    "    if is_learnable(seq, Th):\n",
    "        l_count += 1 # learnable\n",
    "    if is_autonomous(seq, Th):\n",
    "        a_count += 1 # autonomous\n",
    "    if is_learnable(seq, Th) and is_autonomous(seq, Th):\n",
    "        al_count += 1 # memorizable by our rsnn"
   ]
  },
  {
   "cell_type": "code",
   "execution_count": 125,
   "id": "263cfd44",
   "metadata": {},
   "outputs": [
    {
     "data": {
      "text/plain": [
       "0.001"
      ]
     },
     "execution_count": 125,
     "metadata": {},
     "output_type": "execute_result"
    }
   ],
   "source": [
    "l_count/num_iter"
   ]
  },
  {
   "cell_type": "code",
   "execution_count": 126,
   "id": "929b971f",
   "metadata": {},
   "outputs": [
    {
     "data": {
      "text/plain": [
       "0.121"
      ]
     },
     "execution_count": 126,
     "metadata": {},
     "output_type": "execute_result"
    }
   ],
   "source": [
    "a_count/num_iter"
   ]
  },
  {
   "cell_type": "code",
   "execution_count": 127,
   "id": "f9ae26b8",
   "metadata": {},
   "outputs": [
    {
     "data": {
      "text/plain": [
       "0.001"
      ]
     },
     "execution_count": 127,
     "metadata": {},
     "output_type": "execute_result"
    }
   ],
   "source": [
    "al_count/num_iter"
   ]
  },
  {
   "cell_type": "code",
   "execution_count": null,
   "id": "4aaf9eaf",
   "metadata": {},
   "outputs": [],
   "source": [
    "# TODO : graph number of sequence as a function of the length and Th in a color plot"
   ]
  },
  {
   "cell_type": "code",
   "execution_count": 3,
   "id": "e68a32d4",
   "metadata": {},
   "outputs": [],
   "source": [
    "length = 100\n",
    "Tr = 4"
   ]
  },
  {
   "cell_type": "code",
   "execution_count": 4,
   "id": "f0cb09c3",
   "metadata": {},
   "outputs": [],
   "source": [
    "def is_valid(seq, length, Tr):\n",
    "    if len(seq) != length:\n",
    "        return False\n",
    "\n",
    "    if length <= Tr and np.sum(seq) > 0:\n",
    "        return False\n",
    "\n",
    "    for k in range(length):\n",
    "        if np.sum(np.roll(seq, -k)[: Tr + 1]) not in {0, 1}:\n",
    "            return False\n",
    "    return True"
   ]
  },
  {
   "cell_type": "code",
   "execution_count": 5,
   "id": "57a9b5a4",
   "metadata": {},
   "outputs": [
    {
     "name": "stdout",
     "output_type": "stream",
     "text": [
      "3.58 ms ± 22.7 µs per loop (mean ± std. dev. of 7 runs, 100 loops each)\n"
     ]
    }
   ],
   "source": [
    "%%timeit \n",
    "seq = backward_filtering_forward_sampling(length, Tr)\n",
    "is_valid(seq, length, Tr)"
   ]
  },
  {
   "cell_type": "code",
   "execution_count": 10,
   "id": "27aaf03a",
   "metadata": {},
   "outputs": [],
   "source": [
    "def cyclic_range(idx_start, length, idx_max):\n",
    "\n",
    "    idx_start = np.arange(idx_max)\n",
    "    idx_end = idx_start + length\n",
    "\n",
    "    num_channels = len(idx_start)\n",
    "    indices = np.empty((len(idx_start), length), int)\n",
    "    idx_end = (idx_start + length) % idx_max\n",
    "\n",
    "    for c in range(num_channels):\n",
    "        if idx_start[c] < idx_max - length:\n",
    "            indices[c] = np.arange(idx_start[c], idx_end[c])\n",
    "        else:\n",
    "            indices[c] = np.concatenate((np.arange(idx_start[c], idx_max), np.arange(idx_end[c])))\n",
    "\n",
    "    return indices\n",
    "\n",
    "def is_valid(seq, length, Tr):\n",
    "    if len(seq) != length:\n",
    "        return False\n",
    "\n",
    "    indices = cyclic_range(np.arange(length), Tr, length)\n",
    "    return np.all(np.sum(seq[..., indices], axis=-1) < 2)"
   ]
  },
  {
   "cell_type": "code",
   "execution_count": 12,
   "id": "c2a1114b",
   "metadata": {},
   "outputs": [
    {
     "name": "stdout",
     "output_type": "stream",
     "text": [
      "2.62 ms ± 39.9 µs per loop (mean ± std. dev. of 7 runs, 100 loops each)\n"
     ]
    }
   ],
   "source": [
    "%%timeit \n",
    "seq = backward_filtering_forward_sampling(length, Tr)\n",
    "is_valid(seq, length, Tr)"
   ]
  },
  {
   "cell_type": "code",
   "execution_count": null,
   "id": "95290727",
   "metadata": {},
   "outputs": [],
   "source": []
  },
  {
   "cell_type": "code",
   "execution_count": 100,
   "id": "06a4cd97",
   "metadata": {},
   "outputs": [
    {
     "data": {
      "text/plain": [
       "False"
      ]
     },
     "execution_count": 100,
     "metadata": {},
     "output_type": "execute_result"
    }
   ],
   "source": [
    "is_decodable(seq, Th)"
   ]
  },
  {
   "cell_type": "code",
   "execution_count": 61,
   "id": "9b0f3c9b",
   "metadata": {},
   "outputs": [
    {
     "data": {
      "text/plain": [
       "True"
      ]
     },
     "execution_count": 61,
     "metadata": {},
     "output_type": "execute_result"
    }
   ],
   "source": [
    "is_autonomous(seq, Th)"
   ]
  },
  {
   "cell_type": "code",
   "execution_count": null,
   "id": "c4c32180",
   "metadata": {},
   "outputs": [],
   "source": []
  },
  {
   "cell_type": "code",
   "execution_count": null,
   "id": "9255dabe",
   "metadata": {},
   "outputs": [],
   "source": [
    "def is_memorizable(seq, Th, Tr):\n",
    "    length = seq.shape[0]\n",
    "    \n",
    "    # max gap in the sequence depends on the neuron impulse response support\n",
    "    max_gap = np.zeros((L, Th), dtype=int)\n",
    "    if np.sum(bin_seq) > 0:\n",
    "        for k in range(n):\n",
    "            if np.all(np.roll(bin_seq, -k, 1)[:, :Th] == max_gap):\n",
    "                return False\n",
    "        \n",
    "    # problematic collision\n",
    "    for k in range(n):\n",
    "        sub_seq = np.roll(bin_seq, -k, 1)[:, :Th+1]\n",
    "        for d in range(n-1):\n",
    "            tmp_seq = np.roll(bin_seq, -k-d-1, 1)[:, :Th+1]\n",
    "            if np.any(sub_seq[:, -1] != tmp_seq[:, -1]) and np.all(sub_seq[:, :Th] == tmp_seq[:, :Th]):\n",
    "                return False\n",
    "            \n",
    "    return True"
   ]
  },
  {
   "cell_type": "code",
   "execution_count": 2,
   "id": "f9ef5c7d",
   "metadata": {},
   "outputs": [
    {
     "data": {
      "text/plain": [
       "array([1, 0, 0, 1, 1, 1, 1, 1, 1, 0])"
      ]
     },
     "execution_count": 2,
     "metadata": {},
     "output_type": "execute_result"
    }
   ],
   "source": [
    "length = 10\n",
    "seq = np.random.binomial(1, 0.5, length)\n",
    "seq"
   ]
  },
  {
   "cell_type": "code",
   "execution_count": 5,
   "id": "b21943e5",
   "metadata": {},
   "outputs": [
    {
     "data": {
      "text/plain": [
       "array([], dtype=int64)"
      ]
     },
     "execution_count": 5,
     "metadata": {},
     "output_type": "execute_result"
    }
   ],
   "source": [
    "k = 8\n",
    "Th = 4\n",
    "seq[k%length:(k+Th)%length]"
   ]
  },
  {
   "cell_type": "code",
   "execution_count": 11,
   "id": "d9054015",
   "metadata": {},
   "outputs": [],
   "source": [
    "def cycle(idx_start, length, idx_max):\n",
    "    idx_start %= idx_max\n",
    "    idx_end %= length\n",
    "    \n",
    "    if idx_start < idx_end:\n",
    "        return np.arange(idx_start, idx_end)\n",
    "    \n",
    "    return np.concatenate((np.arange(idx_start, length), np.arange(idx_end)))"
   ]
  },
  {
   "cell_type": "code",
   "execution_count": 12,
   "id": "76bb0fc2",
   "metadata": {},
   "outputs": [
    {
     "data": {
      "text/plain": [
       "array([8, 9, 0, 1])"
      ]
     },
     "execution_count": 12,
     "metadata": {},
     "output_type": "execute_result"
    }
   ],
   "source": [
    "indices = cycle(k, k+Th, length)\n",
    "indices"
   ]
  },
  {
   "cell_type": "code",
   "execution_count": 13,
   "id": "b69ea0b3",
   "metadata": {},
   "outputs": [
    {
     "data": {
      "text/plain": [
       "array([1, 0, 1, 0])"
      ]
     },
     "execution_count": 13,
     "metadata": {},
     "output_type": "execute_result"
    }
   ],
   "source": [
    "seq[indices]"
   ]
  },
  {
   "cell_type": "code",
   "execution_count": 16,
   "id": "8f1d9005",
   "metadata": {},
   "outputs": [
    {
     "data": {
      "text/plain": [
       "(array([0, 1, 2, 3, 4, 5, 6, 7, 8, 9]), array([4, 5, 6, 7, 8, 9, 0, 1, 2, 3]))"
      ]
     },
     "execution_count": 16,
     "metadata": {},
     "output_type": "execute_result"
    }
   ],
   "source": [
    "idx_start = np.arange(length)\n",
    "idx_end = idx_start + Th\n",
    "idx_start %= length\n",
    "idx_end %= length\n",
    "idx_start, idx_end"
   ]
  },
  {
   "cell_type": "code",
   "execution_count": 17,
   "id": "6b1215f9",
   "metadata": {},
   "outputs": [
    {
     "data": {
      "text/plain": [
       "array([ True,  True,  True,  True,  True,  True, False, False, False,\n",
       "       False])"
      ]
     },
     "execution_count": 17,
     "metadata": {},
     "output_type": "execute_result"
    }
   ],
   "source": [
    "idx_start < idx_end"
   ]
  },
  {
   "cell_type": "code",
   "execution_count": 42,
   "id": "8618c361",
   "metadata": {},
   "outputs": [],
   "source": [
    "idx_max = 10\n",
    "length = 4\n",
    "data = np.random.binomial(1, 0.5, idx_max)"
   ]
  },
  {
   "cell_type": "code",
   "execution_count": 46,
   "id": "cb1bfb2a",
   "metadata": {},
   "outputs": [],
   "source": [
    "def cyclic_range(idx_start, length, idx_max):\n",
    "\n",
    "    idx_start = np.arange(idx_max)\n",
    "    idx_end = idx_start + length\n",
    "\n",
    "\n",
    "    num_channels = len(idx_start)\n",
    "    indices = np.empty((len(idx_start), length), int)\n",
    "    idx_end = (idx_start + length)%idx_max\n",
    "\n",
    "    for c in range(num_channels):\n",
    "        if idx_start[c] < idx_max - length:\n",
    "            indices[c] = np.arange(idx_start[c], idx_end[c])\n",
    "        else:\n",
    "            indices[c] = np.concatenate((np.arange(idx_start[c], idx_max), np.arange(idx_end[c])))\n",
    "\n",
    "    return indices"
   ]
  },
  {
   "cell_type": "code",
   "execution_count": 45,
   "id": "cd758344",
   "metadata": {},
   "outputs": [
    {
     "name": "stdout",
     "output_type": "stream",
     "text": [
      "78.7 µs ± 270 ns per loop (mean ± std. dev. of 7 runs, 10000 loops each)\n"
     ]
    }
   ],
   "source": []
  },
  {
   "cell_type": "code",
   "execution_count": null,
   "id": "d4de17cb",
   "metadata": {},
   "outputs": [],
   "source": []
  }
 ],
 "metadata": {
  "kernelspec": {
   "display_name": "Python 3 (ipykernel)",
   "language": "python",
   "name": "python3"
  },
  "language_info": {
   "codemirror_mode": {
    "name": "ipython",
    "version": 3
   },
   "file_extension": ".py",
   "mimetype": "text/x-python",
   "name": "python",
   "nbconvert_exporter": "python",
   "pygments_lexer": "ipython3",
   "version": "3.8.12"
  }
 },
 "nbformat": 4,
 "nbformat_minor": 5
}
