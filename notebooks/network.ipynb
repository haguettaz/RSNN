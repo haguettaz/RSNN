{
 "cells": [
  {
   "cell_type": "code",
   "execution_count": 1,
   "id": "ccb45092",
   "metadata": {},
   "outputs": [],
   "source": [
    "import numpy as np\n",
    "from matplotlib import pyplot as plt\n",
    "import scipy\n",
    "import seaborn as sns\n",
    "import pandas as pd"
   ]
  },
  {
   "cell_type": "code",
   "execution_count": 2,
   "id": "0f56dd12",
   "metadata": {},
   "outputs": [],
   "source": [
    "sns.set_theme(\n",
    "    context='paper', \n",
    "    palette='colorblind',\n",
    "    style='whitegrid',\n",
    "    rc={'text.usetex':True, 'mathtext.fontset':'cm'},\n",
    ")"
   ]
  },
  {
   "cell_type": "code",
   "execution_count": 3,
   "id": "b69e76bd",
   "metadata": {},
   "outputs": [],
   "source": [
    "%matplotlib inline"
   ]
  },
  {
   "cell_type": "markdown",
   "id": "73b1906a",
   "metadata": {},
   "source": [
    "# Recurrent Spiking Neural Network"
   ]
  },
  {
   "cell_type": "code",
   "execution_count": 4,
   "id": "99a80eaf",
   "metadata": {},
   "outputs": [
    {
     "name": "stderr",
     "output_type": "stream",
     "text": [
      "/Users/haguettaz/Documents/RSNN/src/rsnn/rsnn/rsnn.py:5: TqdmExperimentalWarning: Using `tqdm.autonotebook.tqdm` in notebook mode. Use `tqdm.tqdm` instead to force console mode (e.g. in jupyter console)\n",
      "  from tqdm.autonotebook import tqdm\n"
     ]
    }
   ],
   "source": [
    "from rsnn.rsnn.rsnn import Network"
   ]
  },
  {
   "cell_type": "code",
   "execution_count": 14,
   "id": "18d0ce89",
   "metadata": {},
   "outputs": [],
   "source": [
    "num_neurons = 10\n",
    "\n",
    "# inputs\n",
    "num_synapses = 500\n",
    "synaptic_decay = 3 # synaptic time constant c_k, e.g., 1/5 ms\n",
    "somatic_decay = 5 # somatic time constant c_0, e.g., 1/10 ms\n",
    "weights_lim = (-0.25, 0.25)\n",
    "delays_lim = (1.0, 10.0)\n",
    "\n",
    "# spike generation\n",
    "firing_threshold = 1.0\n",
    "\n",
    "# refractoriness\n",
    "hard_refractory_period = 5\n",
    "soft_refractory_period = 5\n",
    "soft_refractory_weight = 1.0"
   ]
  },
  {
   "cell_type": "code",
   "execution_count": 15,
   "id": "af9a11ca",
   "metadata": {},
   "outputs": [],
   "source": [
    "network = Network(num_neurons, num_synapses, firing_threshold, synaptic_decay, somatic_decay, delays_lim, hard_refractory_period, soft_refractory_period, soft_refractory_weight, weights_lim)    "
   ]
  },
  {
   "cell_type": "code",
   "execution_count": 16,
   "id": "0660d04d",
   "metadata": {},
   "outputs": [
    {
     "data": {
      "image/png": "[encoded data removed]",
      "text/plain": [
       "<Figure size 640x480 with 4 Axes>"
      ]
     },
     "metadata": {},
     "output_type": "display_data"
    }
   ],
   "source": [
    "neuron = network.neurons[0]\n",
    "\n",
    "t = np.linspace(0, 100, 1000)\n",
    "\n",
    "fig, axes = plt.subplots(2, 2, sharex=\"all\")\n",
    "\n",
    "#axes[0,0].plot(t, neuron.weights_min * neuron.impulse_resp(t[:,None]), label=\"$-w_b h(t)$\")\n",
    "axes[0,0].plot(t, neuron.weights_max * neuron.impulse_resp(t[:,None]))\n",
    "axes[0,0].axhline(neuron.firing_threshold, linestyle=\"--\", color=\"black\")\n",
    "axes[0,0].set_title(\"$w_b h(.)$\")\n",
    "\n",
    "axes[0,1].plot(t, neuron.refractory_resp(t[:,None]))\n",
    "axes[0,1].axvline(neuron.hard_refractory_period, linestyle=\"--\", color=\"black\")\n",
    "axes[0,1].axvline(neuron.hard_refractory_period + neuron.soft_refractory_period, linestyle=\"--\", color=\"black\")\n",
    "axes[0,1].set_title(\"$w_0 g_0(.)$\")\n",
    "\n",
    "#axes[1,0].plot(t, neuron.weights_min * neuron.impulse_resp_deriv(t[:,None]), label=\"$-w_b h'(t)$\")\n",
    "axes[1,0].plot(t, neuron.weights_max * neuron.impulse_resp_deriv(t[:,None]))\n",
    "axes[1,0].set_title(\"$w_b h'(.)$\")\n",
    "axes[1,0].set_xlabel(\"$t$\")\n",
    "axes[1,0].set_xlim(0, 100)\n",
    "\n",
    "axes[1,1].plot(t, neuron.refractory_resp_deriv(t[:,None]))\n",
    "axes[1,1].axvline(neuron.hard_refractory_period, linestyle=\"--\", color=\"black\")\n",
    "axes[1,1].axvline(neuron.hard_refractory_period + neuron.soft_refractory_period, linestyle=\"--\", color=\"black\")\n",
    "axes[1,1].set_title(\"$w_0 g_0'(.)$\")\n",
    "axes[1,1].set_xlabel(\"$t$\")\n",
    "axes[1,1].set_xlim(0, 100)\n",
    "\n",
    "plt.show()"
   ]
  },
  {
   "cell_type": "code",
   "execution_count": 17,
   "id": "9c5d84e3",
   "metadata": {},
   "outputs": [],
   "source": [
    "from rsnn.rsnn.utils import get_stability_matrix"
   ]
  },
  {
   "cell_type": "code",
   "execution_count": 18,
   "id": "57672eea",
   "metadata": {},
   "outputs": [],
   "source": [
    "from rsnn.signals.spike_train import PeriodicSpikeTrain"
   ]
  },
  {
   "cell_type": "code",
   "execution_count": 19,
   "id": "9659956f",
   "metadata": {},
   "outputs": [],
   "source": [
    "period = 100\n",
    "soft_refractory_period = 5\n",
    "hard_refractory_period = 5\n",
    "firing_rate = 0.1"
   ]
  },
  {
   "cell_type": "code",
   "execution_count": 20,
   "id": "18caae01",
   "metadata": {},
   "outputs": [],
   "source": [
    "spike_train = PeriodicSpikeTrain(num_neurons, period, firing_rate, hard_refractory_period, soft_refractory_period)"
   ]
  },
  {
   "cell_type": "code",
   "execution_count": 21,
   "id": "45ad32f8",
   "metadata": {},
   "outputs": [],
   "source": [
    "spike_train.random()"
   ]
  },
  {
   "cell_type": "code",
   "execution_count": 38,
   "id": "de236579",
   "metadata": {},
   "outputs": [
    {
     "data": {
      "application/vnd.jupyter.widget-view+json": {
       "model_id": "68239121c4f94f2fa7bdafecef573b5e",
       "version_major": 2,
       "version_minor": 0
      },
      "text/plain": [
       "  0%|          | 0/57 [00:00<?, ?it/s]"
      ]
     },
     "metadata": {},
     "output_type": "display_data"
    }
   ],
   "source": [
    "Phi = get_stability_matrix(network, spike_train)"
   ]
  },
  {
   "cell_type": "code",
   "execution_count": 45,
   "id": "e056af98",
   "metadata": {},
   "outputs": [
    {
     "data": {
      "text/plain": [
       "array([0.00000000e+00, 0.00000000e+00, 0.00000000e+00, 0.00000000e+00,\n",
       "       0.00000000e+00, 0.00000000e+00, 0.00000000e+00, 0.00000000e+00,\n",
       "       0.00000000e+00, 0.00000000e+00, 1.51395792e-09, 1.57060307e-09,\n",
       "       1.57060307e-09, 1.61722272e-09, 1.66990837e-09, 1.66990837e-09,\n",
       "       1.70829545e-09, 1.70829545e-09, 1.73309363e-09, 1.73309363e-09,\n",
       "       1.78061856e-09, 1.78061856e-09, 1.80215872e-09, 1.80922733e-09,\n",
       "       1.80922733e-09, 1.87231975e-09, 1.89211738e-09, 1.89211738e-09,\n",
       "       1.89381736e-09, 1.89381736e-09, 1.90492711e-09, 1.92283807e-09,\n",
       "       1.92283807e-09, 1.92737435e-09, 1.92737435e-09, 1.94058193e-09,\n",
       "       1.94058193e-09, 1.94849663e-09, 1.94849663e-09, 1.96129087e-09,\n",
       "       1.96129087e-09, 1.97260097e-09, 1.97260097e-09, 1.98027915e-09,\n",
       "       1.98027915e-09, 1.99207824e-09, 1.99207824e-09, 1.00000000e+00,\n",
       "       1.00000000e+00, 1.00000000e+00, 1.00000000e+00, 1.00000000e+00,\n",
       "       1.00000000e+00, 1.00000000e+00, 1.00000000e+00, 1.00000000e+00,\n",
       "       1.00000000e+00])"
      ]
     },
     "execution_count": 45,
     "metadata": {},
     "output_type": "execute_result"
    }
   ],
   "source": [
    "np.sort(np.abs(np.linalg.eigvals(Phi)))"
   ]
  },
  {
   "cell_type": "code",
   "execution_count": null,
   "id": "47cfcd80",
   "metadata": {},
   "outputs": [],
   "source": []
  }
 ],
 "metadata": {
  "kernelspec": {
   "display_name": "Python 3 (ipykernel)",
   "language": "python",
   "name": "python3"
  },
  "language_info": {
   "codemirror_mode": {
    "name": "ipython",
    "version": 3
   },
   "file_extension": ".py",
   "mimetype": "text/x-python",
   "name": "python",
   "nbconvert_exporter": "python",
   "pygments_lexer": "ipython3",
   "version": "3.10.9"
  }
 },
 "nbformat": 4,
 "nbformat_minor": 5
}
