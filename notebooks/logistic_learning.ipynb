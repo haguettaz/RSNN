{
    "cells": [
        {
            "cell_type": "code",
            "execution_count": 1,
            "id": "1822d54b",
            "metadata": {},
            "outputs": [],
            "source": [
                "import numpy as np\n",
                "from matplotlib import pyplot as plt\n",
                "from cycler import cycler"
            ]
        },
        {
            "cell_type": "code",
            "execution_count": 2,
            "id": "eece54d6",
            "metadata": {},
            "outputs": [],
            "source": [
                "default_cycler = cycler(color=['firebrick', 'green'])\n",
                "plt.rc('axes', prop_cycle=default_cycler)"
            ]
        },
        {
            "cell_type": "code",
            "execution_count": 3,
            "id": "34762f7c",
            "metadata": {},
            "outputs": [],
            "source": [
                "from firing_signals.sampling.bffs import backward_filtering_forward_sampling"
            ]
        },
        {
            "cell_type": "code",
            "execution_count": 4,
            "id": "ab3d1f4d",
            "metadata": {},
            "outputs": [],
            "source": [
                "# LMS algorithm\n",
                "# conjugate gradient descent"
            ]
        },
        {
            "cell_type": "code",
            "execution_count": 5,
            "id": "2f704db8",
            "metadata": {},
            "outputs": [],
            "source": [
                "def hamming_dist(seq1, seq2):\n",
                "    return np.sum(seq1 != seq2)"
            ]
        },
        {
            "cell_type": "code",
            "execution_count": 6,
            "id": "4bbca0d0",
            "metadata": {},
            "outputs": [],
            "source": [
                "n, Nr = 20, 1\n",
                "m = 30"
            ]
        },
        {
            "cell_type": "markdown",
            "id": "192df335",
            "metadata": {},
            "source": [
                "# Logistic regression\n",
                "\n",
                "The link function is\n",
                "\\begin{equation}\n",
                "h_{w, \\theta}(z_k) = \\frac{1}{1 + \\exp (- w^\\top z_k + \\theta)}\n",
                "\\end{equation}\n",
                "with $k = 1, \\dots, n$ and where $z_k \\in \\mathbb{R}^m$ is the score vector corresponding to the inputs of the neuron and $w \\in \\mathbb{R}^m$ are the learnable weights\n",
                "\n",
                "We can interpret $h_{w, \\theta}(z_k)$ as the probability of firing at time $k$ if the neuron input is $z_k$ and it has weights $w$ and threshold $\\theta$."
            ]
        },
        {
            "cell_type": "code",
            "execution_count": 7,
            "id": "a012cf61",
            "metadata": {},
            "outputs": [],
            "source": [
                "S = lambda x, theta : 1 / (1 + np.exp(-(x - theta)))"
            ]
        },
        {
            "cell_type": "code",
            "execution_count": 8,
            "id": "c9396931",
            "metadata": {},
            "outputs": [
                {
                    "data": {
                        "image/png": "[encoded data removed]",
                        "text/plain": [
                            "<Figure size 432x288 with 1 Axes>"
                        ]
                    },
                    "metadata": {
                        "needs_background": "light"
                    },
                    "output_type": "display_data"
                }
            ],
            "source": [
                "theta = 0.\n",
                "plt.plot(np.linspace(-10, 10, 1000), S(np.linspace(-10, 10, 1000), theta))\n",
                "plt.show()"
            ]
        },
        {
            "cell_type": "markdown",
            "id": "fa41c2e8",
            "metadata": {},
            "source": [
                "The neural network aim at learn a binary sequence $y \\in \\{0, 1\\}^n$ (or more specifically a periodic binary sequence)."
            ]
        },
        {
            "cell_type": "code",
            "execution_count": 9,
            "id": "ea366738",
            "metadata": {},
            "outputs": [],
            "source": [
                "seq = backward_filtering_forward_sampling(n, Nr)"
            ]
        },
        {
            "cell_type": "markdown",
            "id": "58541b6a",
            "metadata": {},
            "source": [
                "The fitting loss function is given by\n",
                "\\begin{equation}\n",
                "L_f (w) = -\\frac{1}{n} \\sum_{k=1}^n y_k \\log (h_{w, \\theta}(z_k)) + (1-y_k) \\log (1- h_{w, \\theta}(z_k)) \n",
                "\\end{equation}\n",
                "\n",
                "In reality, we use $\\tilde{n}$ instead of $n$, corresponding to the number of free position in the sequence. Obviously, we have $\\tilde{n} \\leq n$.\n",
                "\n",
                "\n",
                "This loss function is convex, so using gradient descent, we converge to the optimal solution. The gradient of the fitting loss function is given by:\n",
                "\\begin{equation}\n",
                "\\frac{\\partial}{\\partial w_i} L_f (w) = \\frac{1}{n} \\sum_{k=1}^n (h_{w, \\theta}(z_k) - y_k) z_{k, i}\n",
                "\\end{equation}\n",
                "The gradient descent weight update rule is:\n",
                "\\begin{equation}\n",
                "w \\leftarrow w - \\eta \\cdot \\nabla_w L_f (w),\n",
                "\\end{equation}\n",
                "with some learning rate parameter $\\eta > 0$."
            ]
        },
        {
            "cell_type": "code",
            "execution_count": 10,
            "id": "40441de3",
            "metadata": {},
            "outputs": [],
            "source": [
                "loss_fit = lambda w, z, y : -np.mean(y * np.log(S(np.inner(w, z), theta)) + (1-y) * np.log(1-S(np.inner(w, z), theta)))\n",
                "grad_loss_fit = lambda w, z, y : (1/n * np.dot(S(np.inner(w, z), theta) - y, z))\n",
                "eta = 1."
            ]
        },
        {
            "cell_type": "code",
            "execution_count": 11,
            "id": "60aebc12",
            "metadata": {},
            "outputs": [],
            "source": [
                "free_indices = [k for k in range(n) if np.sum(np.roll(seq, -k)[...,-Nr:]) < 1]\n",
                "n_ = len(free_indices)\n",
                "z = np.random.uniform(0, 1, (n_, m))\n",
                "y = seq[free_indices]"
            ]
        },
        {
            "cell_type": "code",
            "execution_count": 12,
            "id": "315d0b38",
            "metadata": {},
            "outputs": [],
            "source": [
                "w = np.random.uniform(-1, 1, (m))\n",
                "for _ in range(10000):\n",
                "    w -= eta * grad_loss_fit(w, z, y)"
            ]
        },
        {
            "cell_type": "code",
            "execution_count": 13,
            "id": "b35ccd64",
            "metadata": {},
            "outputs": [],
            "source": [
                "y_hat = np.inner(w, z) > theta\n",
                "seq_hat = np.zeros(n, dtype=int)\n",
                "seq_hat[free_indices] = y_hat"
            ]
        },
        {
            "cell_type": "code",
            "execution_count": 14,
            "id": "ccfd8867",
            "metadata": {},
            "outputs": [
                {
                    "data": {
                        "text/plain": [
                            "0"
                        ]
                    },
                    "execution_count": 14,
                    "metadata": {},
                    "output_type": "execute_result"
                }
            ],
            "source": [
                "hamming_dist(seq_hat, seq)"
            ]
        },
        {
            "cell_type": "code",
            "execution_count": 15,
            "id": "7aa582e7",
            "metadata": {},
            "outputs": [
                {
                    "data": {
                        "image/png": "[encoded data removed]",
                        "text/plain": [
                            "<Figure size 432x288 with 1 Axes>"
                        ]
                    },
                    "metadata": {
                        "needs_background": "light"
                    },
                    "output_type": "display_data"
                }
            ],
            "source": [
                "firing_pos = np.argwhere(seq > 0)\n",
                "hat_firing_pos = np.argwhere(seq_hat > 0)\n",
                "plt.stem(hat_firing_pos, seq_hat[hat_firing_pos], basefmt=\" \")\n",
                "plt.stem(firing_pos, - seq[firing_pos], linefmt=\"C1-\", markerfmt=\"C1o\", basefmt=\" \")\n",
                "plt.axhline(0, linestyle=(0, (3, 1, 1, 1)), color=\"black\")\n",
                "plt.ylim(-5, 5)\n",
                "plt.xlim(-1, n)\n",
                "plt.show()"
            ]
        },
        {
            "cell_type": "markdown",
            "id": "535f0fc4",
            "metadata": {},
            "source": [
                "For robustness consideration, we are interested in the distribution of the weights"
            ]
        },
        {
            "cell_type": "code",
            "execution_count": 16,
            "id": "c4dcc3f4",
            "metadata": {},
            "outputs": [
                {
                    "data": {
                        "text/plain": [
                            "<matplotlib.lines.Line2D at 0x7f8148b41940>"
                        ]
                    },
                    "execution_count": 16,
                    "metadata": {},
                    "output_type": "execute_result"
                },
                {
                    "data": {
                        "image/png": "[encoded data removed]",
                        "text/plain": [
                            "<Figure size 432x288 with 1 Axes>"
                        ]
                    },
                    "metadata": {
                        "needs_background": "light"
                    },
                    "output_type": "display_data"
                }
            ],
            "source": [
                "plt.scatter(np.arange(m), w)\n",
                "plt.axhline(-1, linestyle=\"dashed\", color=\"black\")\n",
                "plt.axhline(1, linestyle=\"dashed\", color=\"black\")"
            ]
        },
        {
            "cell_type": "markdown",
            "id": "fa01001a",
            "metadata": {},
            "source": [
                "# With bounded weights\n",
                "\n",
                "An extended version of the logistic regression to bound weights can be used. We start noticing that the absolute function can be approximate by the twice differentiable function\n",
                "\\begin{equation}\n",
                "|x| \\simeq \\sqrt{x^2 + c}\n",
                "\\end{equation}\n",
                "with $c > 0$ arbitrarily small.\n",
                "\n",
                "One can easily prove that this function is stricly convex, as its second derivative is stricly positive."
            ]
        },
        {
            "cell_type": "code",
            "execution_count": 17,
            "id": "911543eb",
            "metadata": {},
            "outputs": [],
            "source": [
                "abs_app = lambda x : np.sqrt(np.square(x) + 1e-2)"
            ]
        },
        {
            "cell_type": "code",
            "execution_count": 18,
            "id": "52bcebd2",
            "metadata": {},
            "outputs": [],
            "source": [
                "x = np.linspace(-2, 2, 1000)"
            ]
        },
        {
            "cell_type": "code",
            "execution_count": 19,
            "id": "ae1876bf",
            "metadata": {},
            "outputs": [
                {
                    "data": {
                        "image/png": "[encoded data removed]",
                        "text/plain": [
                            "<Figure size 432x288 with 1 Axes>"
                        ]
                    },
                    "metadata": {
                        "needs_background": "light"
                    },
                    "output_type": "display_data"
                }
            ],
            "source": [
                "plt.plot(x, np.abs(x))\n",
                "plt.plot(x, abs_app(x), linestyle=(0, (5,5)), color=\"black\")\n",
                "plt.legend([r\"$|x|$\", r\"$\\sqrt{x^2 + c}$\"])\n",
                "plt.show()"
            ]
        },
        {
            "cell_type": "markdown",
            "id": "a86d3935",
            "metadata": {},
            "source": [
                "Using this approximation, we can use a regularization loss function to enforce the weights being in a specific range $[a, b]$:\n",
                "\\begin{equation}\n",
                "L_r(w) = \\sum_{i=1}^m |w_i - a| + |w_i - b| - 2 \\simeq \\sum_{i=1}^m \\sqrt{(w_i-a)^2 + c} + \\sqrt{(w_i-b)^2 + c} - 2\n",
                "\\end{equation}\n",
                "with small $c > 0$.\n",
                "\n",
                "The partial derivative of the regularization loss function w.r.t each weight is given by:\n",
                "\\begin{equation}\n",
                "\\frac{\\partial}{\\partial w_i} L_r(w) = \\frac{w_i - a}{\\sqrt{(w_i-a)^2 + c}} + \\frac{w_i - b}{\\sqrt{(w_i-b)^2 + c}}\n",
                "\\end{equation}\n",
                "\n",
                "This reguralization loss function is also convex, being a sum of convex functions."
            ]
        },
        {
            "cell_type": "code",
            "execution_count": 20,
            "id": "5651d475",
            "metadata": {},
            "outputs": [],
            "source": [
                "loss_reg = lambda w : np.sum(abs_app(w-a) + abs_app(w-b) - np.abs(b-a))\n",
                "grad_loss_reg = lambda w : (w - a)/abs_app(w-a) + (w - b)/abs_app(w-b)"
            ]
        },
        {
            "cell_type": "code",
            "execution_count": 21,
            "id": "89ac65a3",
            "metadata": {},
            "outputs": [
                {
                    "data": {
                        "image/png": "[encoded data removed]",
                        "text/plain": [
                            "<Figure size 432x288 with 1 Axes>"
                        ]
                    },
                    "metadata": {
                        "needs_background": "light"
                    },
                    "output_type": "display_data"
                }
            ],
            "source": [
                "a, b = (-1, 1)\n",
                "plt.plot(x, abs_app(x - a), x, abs_app(x-b), linestyle=(0, (5,5)), c=\"black\")\n",
                "plt.plot(x, abs_app(x - a) + abs_app(x-b) - np.abs(b-a))\n",
                "plt.show()"
            ]
        },
        {
            "cell_type": "markdown",
            "id": "77358d6d",
            "metadata": {},
            "source": [
                "Combining the fitting and the reguralization loss functions, we can optimize the weights such that they fit well the sequence to learn and are bounded. The mixing loss function is \n",
                "\\begin{equation}\n",
                "L (w) = L_f(w) + \\alpha L_r(w)\n",
                "\\end{equation}\n",
                "where $\\alpha \\leq 0$ is a balancing parameter. As a sum of convex function, this is also a convex function and it can be optimize via gradient descent.\n",
                "The gradient of the mixing loss function is given by \n",
                "\\begin{equation}\n",
                "\\nabla_w L (w) = \\nabla_w L_f(w) + \\alpha \\cdot \\nabla_w L_r(w)\n",
                "\\end{equation}\n",
                "The gradient descent update rule for the weights is then\n",
                "\\begin{equation}\n",
                "w \\leftarrow w + \\eta \\cdot \\nabla_w L(w),\n",
                "\\end{equation}\n",
                "with $\\eta > 0$ the learning rate."
            ]
        },
        {
            "cell_type": "code",
            "execution_count": 22,
            "id": "4ad6ffb9",
            "metadata": {},
            "outputs": [],
            "source": [
                "# Total Loss = Fitting Loss + Bound Loss\n",
                "alpha = 0.5\n",
                "loss = lambda w, z, y : loss_fit(w, z, y) + alpha * loss_reg(w)\n",
                "grad_loss = lambda w, z, y : grad_loss_fit(w, z, y) + alpha * grad_loss_reg(w)"
            ]
        },
        {
            "cell_type": "code",
            "execution_count": 23,
            "id": "9980bd5e",
            "metadata": {},
            "outputs": [],
            "source": [
                "w = np.random.uniform(-1, 1, (m))\n",
                "for _ in range(10000):\n",
                "    w -= eta * grad_loss(w, z, y)"
            ]
        },
        {
            "cell_type": "code",
            "execution_count": 24,
            "id": "76ad54f3",
            "metadata": {},
            "outputs": [],
            "source": [
                "y_hat = np.inner(w, z) > theta\n",
                "seq_hat = np.zeros(n, dtype=int)\n",
                "seq_hat[free_indices] = y_hat"
            ]
        },
        {
            "cell_type": "code",
            "execution_count": 25,
            "id": "866e3864",
            "metadata": {},
            "outputs": [
                {
                    "data": {
                        "text/plain": [
                            "0"
                        ]
                    },
                    "execution_count": 25,
                    "metadata": {},
                    "output_type": "execute_result"
                }
            ],
            "source": [
                "hamming_dist(seq_hat, seq)"
            ]
        },
        {
            "cell_type": "code",
            "execution_count": 26,
            "id": "8b34b488",
            "metadata": {},
            "outputs": [
                {
                    "data": {
                        "image/png": "[encoded data removed]",
                        "text/plain": [
                            "<Figure size 432x288 with 1 Axes>"
                        ]
                    },
                    "metadata": {
                        "needs_background": "light"
                    },
                    "output_type": "display_data"
                }
            ],
            "source": [
                "firing_pos = np.argwhere(seq > 0)\n",
                "hat_firing_pos = np.argwhere(seq_hat > 0)\n",
                "plt.stem(hat_firing_pos, seq_hat[hat_firing_pos], basefmt=\" \")\n",
                "plt.stem(firing_pos, - seq[firing_pos], linefmt=\"C1-\", markerfmt=\"C1o\", basefmt=\" \")\n",
                "plt.axhline(0, linestyle=(0, (3, 1, 1, 1)), color=\"black\")\n",
                "plt.ylim(-5, 5)\n",
                "plt.xlim(-1, n)\n",
                "plt.show()"
            ]
        },
        {
            "cell_type": "markdown",
            "id": "0b369e23",
            "metadata": {},
            "source": [
                "We verify the weights are bounded as imposed by our regularization loss function."
            ]
        },
        {
            "cell_type": "code",
            "execution_count": 27,
            "id": "961a86d6",
            "metadata": {},
            "outputs": [
                {
                    "data": {
                        "text/plain": [
                            "<matplotlib.lines.Line2D at 0x7f8148d75880>"
                        ]
                    },
                    "execution_count": 27,
                    "metadata": {},
                    "output_type": "execute_result"
                },
                {
                    "data": {
                        "image/png": "[encoded data removed]",
                        "text/plain": [
                            "<Figure size 432x288 with 1 Axes>"
                        ]
                    },
                    "metadata": {
                        "needs_background": "light"
                    },
                    "output_type": "display_data"
                }
            ],
            "source": [
                "plt.scatter(np.arange(m), w)\n",
                "plt.axhline(-1, linestyle=\"dashed\", color=\"black\")\n",
                "plt.axhline(1, linestyle=\"dashed\", color=\"black\")"
            ]
        },
        {
            "cell_type": "code",
            "execution_count": null,
            "id": "7be8a286",
            "metadata": {},
            "outputs": [],
            "source": []
        }
    ],
    "metadata": {
        "kernelspec": {
            "display_name": "Python 3 (ipykernel)",
            "language": "python",
            "name": "python3"
        },
        "language_info": {
            "codemirror_mode": {
                "name": "ipython",
                "version": 3
            },
            "file_extension": ".py",
            "mimetype": "text/x-python",
            "name": "python",
            "nbconvert_exporter": "python",
            "pygments_lexer": "ipython3",
            "version": "3.9.7"
        }
    },
    "nbformat": 4,
    "nbformat_minor": 5
}