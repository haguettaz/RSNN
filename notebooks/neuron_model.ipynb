{
 "cells": [
  {
   "cell_type": "code",
   "execution_count": 1,
   "id": "90dbddc7",
   "metadata": {},
   "outputs": [],
   "source": [
    "import numpy as np\n",
    "from cycler import cycler"
   ]
  },
  {
   "cell_type": "code",
   "execution_count": 2,
   "id": "ff38342c",
   "metadata": {},
   "outputs": [],
   "source": [
    "from matplotlib import pyplot as plt\n",
    "%matplotlib inline"
   ]
  },
  {
   "cell_type": "code",
   "execution_count": 3,
   "id": "e5cbcd6d",
   "metadata": {},
   "outputs": [],
   "source": [
    "default_cycler = cycler(color=['firebrick', 'green'])\n",
    "plt.rc('axes', prop_cycle=default_cycler)"
   ]
  },
  {
   "cell_type": "code",
   "execution_count": 4,
   "id": "5f37c010",
   "metadata": {},
   "outputs": [],
   "source": [
    "from firing_signals.sampling.bffs import backward_filtering_forward_sampling"
   ]
  },
  {
   "cell_type": "code",
   "execution_count": 5,
   "id": "8c64a271",
   "metadata": {},
   "outputs": [],
   "source": [
    "N, Tr = 20, 1\n",
    "L, M = 10, 50 # num neurons, num synapses per neuron\n",
    "l = 0 # we fix the neuron"
   ]
  },
  {
   "cell_type": "code",
   "execution_count": 6,
   "id": "d6bbb89f",
   "metadata": {},
   "outputs": [],
   "source": [
    "origins = np.random.randint(0, L, (M))\n",
    "delays = np.random.uniform(0, Tr, (M))"
   ]
  },
  {
   "cell_type": "markdown",
   "id": "4a9d4252",
   "metadata": {},
   "source": [
    "# Impulse response"
   ]
  },
  {
   "cell_type": "code",
   "execution_count": 7,
   "id": "88dc15c5",
   "metadata": {},
   "outputs": [],
   "source": [
    "beta = 0.5\n",
    "h = lambda t : (t>0) * t/beta * np.exp(1 - t/beta)"
   ]
  },
  {
   "cell_type": "code",
   "execution_count": 8,
   "id": "f144c303",
   "metadata": {},
   "outputs": [
    {
     "data": {
      "image/png": "[encoded data removed]",
      "text/plain": [
       "<Figure size 1152x72 with 1 Axes>"
      ]
     },
     "metadata": {
      "needs_background": "light"
     },
     "output_type": "display_data"
    }
   ],
   "source": [
    "plt.figure(figsize=(16,1))\n",
    "plt.plot(np.linspace(0, 20, 1000), h(np.linspace(0, 20, 1000)))\n",
    "plt.axis(\"off\")\n",
    "plt.show()"
   ]
  },
  {
   "cell_type": "markdown",
   "id": "19789bae",
   "metadata": {},
   "source": [
    "# Spike generation"
   ]
  },
  {
   "cell_type": "code",
   "execution_count": 9,
   "id": "91225d8c",
   "metadata": {},
   "outputs": [],
   "source": [
    "theta = 0.\n",
    "sigma_th = lambda z_ : z_ >= theta"
   ]
  },
  {
   "cell_type": "code",
   "execution_count": 10,
   "id": "949610bc",
   "metadata": {},
   "outputs": [
    {
     "data": {
      "image/png": "[encoded data removed]",
      "text/plain": [
       "<Figure size 1152x144 with 1 Axes>"
      ]
     },
     "metadata": {
      "needs_background": "light"
     },
     "output_type": "display_data"
    }
   ],
   "source": [
    "plt.figure(figsize=(16,2))\n",
    "\n",
    "plt.plot(np.linspace(-10, theta-1e-6, 100), sigma_th(np.linspace(-10, theta-1e-6, 100)), color=\"firebrick\")\n",
    "plt.plot(np.linspace(theta, 10, 100), sigma_th(np.linspace(theta, 10, 100)), color=\"firebrick\")\n",
    "plt.scatter(theta, 1)\n",
    "plt.vlines(theta, -0.2, 1.2, linestyle=\"dotted\", color=\"black\")\n",
    "plt.annotate(r\"$\\theta$\", (theta, -0.5), ha=\"center\")\n",
    "plt.ylim(-1, 1.2)\n",
    "plt.axis(\"off\")\n",
    "plt.show()"
   ]
  },
  {
   "cell_type": "markdown",
   "id": "c341129b",
   "metadata": {},
   "source": [
    "# Spiking neurons\n",
    "\n",
    "Suppose a neuron is connected to $L$ neurons through $M$ synapses. Each synapse has a delay (information does not propagate instantaneously) and a learnable weight. Moreover, each neuron of the neural network has to learn a sequence $y \\in \\mathcal{Y}_{T_r}^N$, indicating for each point on a discrete grid if a fire occurs or not."
   ]
  },
  {
   "cell_type": "code",
   "execution_count": 11,
   "id": "2d5286fe",
   "metadata": {},
   "outputs": [],
   "source": [
    "y = np.array([backward_filtering_forward_sampling(N, Tr) for _ in range(L)])"
   ]
  },
  {
   "cell_type": "code",
   "execution_count": 12,
   "id": "8c6d2e87",
   "metadata": {},
   "outputs": [
    {
     "data": {
      "image/png": "[encoded data removed]",
      "text/plain": [
       "<Figure size 1152x72 with 1 Axes>"
      ]
     },
     "metadata": {
      "needs_background": "light"
     },
     "output_type": "display_data"
    }
   ],
   "source": [
    "grid = np.arange(0, N)\n",
    "mask = y[l] > 0\n",
    "\n",
    "plt.figure(figsize=(16,1))\n",
    "plt.stem(grid[mask], y[l, mask], basefmt=\" \")\n",
    "plt.axvline(0, linestyle=(10,(3, 1, 1, 1)), color=\"black\")\n",
    "plt.axvline(N-1, linestyle=(10,(3, 1, 1, 1)), color=\"black\")\n",
    "    \n",
    "plt.axis('off')\n",
    "    \n",
    "plt.show()"
   ]
  },
  {
   "cell_type": "markdown",
   "id": "841491df",
   "metadata": {},
   "source": [
    "To generate a spike, the neuron should be activated by the network, through its synapses. At time $t$, the contribution of each synapse is given by :\n",
    "\\begin{equation}\n",
    "z_{m} (t) = \\sum_{t_s \\in T_m} h(t - t_s - \\tau_m)\n",
    "\\end{equation}\n",
    "where the sum is over $T_m$, the set of firing times of the neuron at the origin of the synapse."
   ]
  },
  {
   "cell_type": "code",
   "execution_count": 13,
   "id": "c8d2cc63",
   "metadata": {},
   "outputs": [
    {
     "data": {
      "image/png": "[encoded data removed]",
      "text/plain": [
       "<Figure size 1152x72 with 1 Axes>"
      ]
     },
     "metadata": {
      "needs_background": "light"
     },
     "output_type": "display_data"
    }
   ],
   "source": [
    "# signal in synapse m\n",
    "m, k = 6, 6\n",
    "\n",
    "y_m = y[origins[m]]\n",
    "\n",
    "grid = np.arange(-N, 0)\n",
    "mask = (grid) * np.roll(y_m, -k, axis=0) < 0\n",
    "\n",
    "plt.figure(figsize=(16,1))\n",
    "plt.stem(grid[mask], np.ones_like(grid[mask]), linefmt=\"C1-\", markerfmt=\"C1o\", basefmt=\" \")\n",
    "\n",
    "grid_d = np.arange(-N, 0) + delays[m]\n",
    "mask_d = (grid_d) * np.roll(y_m, -k, axis=0) < 0\n",
    "plt.stem(grid_d[mask_d], np.ones_like(grid_d[mask_d]), basefmt=\" \")\n",
    "\n",
    "plt.axvline(0, linestyle=(10,(3, 1, 1, 1)), color=\"black\")\n",
    "\n",
    "\n",
    "T = np.linspace(-N, 0, 1000)\n",
    "for t_ds in grid_d[mask]:\n",
    "    plt.plot(T, h(T - t_ds), color=\"black\", linestyle=\"dotted\")\n",
    "    \n",
    "plt.plot(T, np.sum(h(T[None,:]-grid_d[mask][:,None]), axis=0), linestyle=\"dashed\")\n",
    "plt.axis('off')\n",
    "plt.show()"
   ]
  },
  {
   "cell_type": "markdown",
   "id": "f1d63447",
   "metadata": {},
   "source": [
    "Given a sequence to learn, and assuming the firings occure on a discrete grid, the score related to each synapses is fixed at any time on the grid. The goal now is to learn the weights such that the neuron can reproduce the given sequence."
   ]
  },
  {
   "cell_type": "markdown",
   "id": "b4ab1524",
   "metadata": {},
   "source": [
    "# Learning\n",
    "\n",
    "The weights are learned using half-box learning via gradient descent with box constraint on the weights"
   ]
  },
  {
   "cell_type": "code",
   "execution_count": 14,
   "id": "68567715",
   "metadata": {},
   "outputs": [],
   "source": [
    "alpha = 10\n",
    "grad_loss_fit = lambda w_, z_, y_ : 1/N * np.dot(np.sign(np.dot(z_,w_) - theta)+(-1)**y_, z_)\n",
    "grad_loss_reg = lambda w_ : np.sign(w_+1) + np.sign(w_-1)\n",
    "grad_loss = lambda w_, z_, y_ : grad_loss_fit(w_, z_, y_) + alpha * grad_loss_reg(w_)"
   ]
  },
  {
   "cell_type": "code",
   "execution_count": 15,
   "id": "582e2f2f",
   "metadata": {},
   "outputs": [],
   "source": [
    "grid = np.arange(-N, 0)\n",
    "z = np.sum([h(-grid[None,:]-delays[:,None]) * np.roll(y[origins], -n, axis=1) for n in range(N)], axis=-1)\n",
    "free_indices = [k for k in range(N) if np.sum(np.roll(y[l], -k)[...,-Tr:]) < 1]"
   ]
  },
  {
   "cell_type": "code",
   "execution_count": 16,
   "id": "d1a1cd85",
   "metadata": {},
   "outputs": [],
   "source": [
    "eta = 1e-3\n",
    "\n",
    "weights = np.random.uniform(-1, 1, M)\n",
    "\n",
    "for _ in range(10000):\n",
    "    weights -= eta * grad_loss(weights, z[free_indices], y[l, free_indices])"
   ]
  },
  {
   "cell_type": "code",
   "execution_count": 17,
   "id": "5557b7db",
   "metadata": {},
   "outputs": [
    {
     "data": {
      "image/png": "[encoded data removed]",
      "text/plain": [
       "<Figure size 432x288 with 1 Axes>"
      ]
     },
     "metadata": {
      "needs_background": "light"
     },
     "output_type": "display_data"
    }
   ],
   "source": [
    "plt.scatter(np.arange(M), weights)\n",
    "plt.axhline(-1, linestyle=\"dashed\", color=\"black\")\n",
    "plt.axhline(1, linestyle=\"dashed\", color=\"black\")\n",
    "plt.show()"
   ]
  },
  {
   "cell_type": "code",
   "execution_count": 18,
   "id": "37767a62",
   "metadata": {},
   "outputs": [
    {
     "data": {
      "text/plain": [
       "True"
      ]
     },
     "execution_count": 18,
     "metadata": {},
     "output_type": "execute_result"
    }
   ],
   "source": [
    "y_hat = np.zeros(N, dtype=int)\n",
    "y_hat[free_indices] = np.inner(weights, z[free_indices]) >= theta\n",
    "np.all(y_hat == y[l])"
   ]
  },
  {
   "cell_type": "markdown",
   "id": "1f5f23c3",
   "metadata": {},
   "source": [
    "When initialized with the whole sequence, it is able to reproduce it perfectly"
   ]
  },
  {
   "cell_type": "code",
   "execution_count": 20,
   "id": "00e343e1",
   "metadata": {},
   "outputs": [],
   "source": [
    "grid = np.arange(-N, 0)\n",
    "\n",
    "hat_y = np.zeros((L, 4*N), dtype=np.int32)\n",
    "hat_y[:,:N] = y\n",
    "\n",
    "for n in range(N, 4*N):\n",
    "    if np.sum(hat_y[l, n-Tr:n]) > 0:\n",
    "        hat_y[l, n] = 0\n",
    "    else:\n",
    "        zn = np.sum(h(-grid[None,:]-delays[:,None]) * hat_y[origins, n-N:n], axis=1)\n",
    "        hat_y[l, n] = np.inner(zn, weights) >= theta\n",
    "    \n",
    "    hat_y[:l, n] = y[:l, n%N]\n",
    "    hat_y[l+1:, n] = y[l+1:, n%N]"
   ]
  },
  {
   "cell_type": "code",
   "execution_count": 21,
   "id": "46a38657",
   "metadata": {},
   "outputs": [
    {
     "data": {
      "image/png": "[encoded data removed]",
      "text/plain": [
       "<Figure size 1152x72 with 1 Axes>"
      ]
     },
     "metadata": {
      "needs_background": "light"
     },
     "output_type": "display_data"
    }
   ],
   "source": [
    "grid_ = np.arange(0, 4*N)\n",
    "mask = hat_y[l] > 0\n",
    "init = grid_ < N\n",
    "\n",
    "plt.figure(figsize=(16,1))\n",
    "plt.stem(grid_[mask & ~init], hat_y[l, mask & ~init], basefmt=\" \")\n",
    "plt.stem(grid_[mask & init], hat_y[l, mask & init], linefmt=\"C1-\", markerfmt=\"C1o\", basefmt=\" \")\n",
    "plt.axvline(N, linestyle=(10,(3, 1, 1, 1)), color=\"black\")\n",
    "plt.axvline(2*N, linestyle=(10,(3, 1, 1, 1)), color=\"black\")\n",
    "plt.axvline(3*N, linestyle=(10,(3, 1, 1, 1)), color=\"black\")\n",
    "    \n",
    "plt.axis('off')\n",
    "    \n",
    "plt.show()"
   ]
  },
  {
   "cell_type": "markdown",
   "id": "c4ce8133",
   "metadata": {},
   "source": [
    "WHAT HAPPENED IF NOT INITIALIZED WITH THE WHOLE SEQUENCE??"
   ]
  },
  {
   "cell_type": "code",
   "execution_count": 25,
   "id": "9343a6ed",
   "metadata": {},
   "outputs": [],
   "source": [
    "N_ = 7\n",
    "\n",
    "grid = np.arange(-N_, 0)\n",
    "\n",
    "hat_y = np.zeros((L, 4*N), dtype=np.int32)\n",
    "hat_y[...,:N_] = y[...,:N_]\n",
    "\n",
    "for n in range(N_, 4*N):\n",
    "    if np.sum(hat_y[l, n-Tr:n]) > 0:\n",
    "        hat_y[l, n] = 0\n",
    "    else:\n",
    "        zn = np.sum(h(-grid[None,:]-delays[:,None]) * hat_y[origins, n-N_:n], axis=1)\n",
    "        hat_y[l, n] = np.inner(zn, weights) >= theta\n",
    "    \n",
    "    hat_y[:l, n] = y[:l, n%N]\n",
    "    hat_y[l+1:, n] = y[l+1:, n%N]"
   ]
  },
  {
   "cell_type": "code",
   "execution_count": 26,
   "id": "9edc695c",
   "metadata": {},
   "outputs": [
    {
     "data": {
      "image/png": "[encoded data removed]",
      "text/plain": [
       "<Figure size 1152x72 with 1 Axes>"
      ]
     },
     "metadata": {
      "needs_background": "light"
     },
     "output_type": "display_data"
    }
   ],
   "source": [
    "grid_ = np.arange(0, 4*N)\n",
    "mask = hat_y[l] > 0\n",
    "init = grid_ < N_\n",
    "\n",
    "plt.figure(figsize=(16,1))\n",
    "plt.stem(grid_[mask & ~init], hat_y[l, mask & ~init], basefmt=\" \")\n",
    "plt.stem(grid_[mask & init], hat_y[l, mask & init], linefmt=\"C1-\", markerfmt=\"C1o\", basefmt=\" \")\n",
    "plt.axvline(N, linestyle=(10,(3, 1, 1, 1)), color=\"black\")\n",
    "plt.axvline(2*N, linestyle=(10,(3, 1, 1, 1)), color=\"black\")\n",
    "plt.axvline(3*N, linestyle=(10,(3, 1, 1, 1)), color=\"black\")\n",
    "    \n",
    "plt.axis('off')\n",
    "    \n",
    "plt.show()"
   ]
  },
  {
   "cell_type": "code",
   "execution_count": null,
   "id": "5cff4ce9",
   "metadata": {},
   "outputs": [],
   "source": []
  }
 ],
 "metadata": {
  "kernelspec": {
   "display_name": "Python 3 (ipykernel)",
   "language": "python",
   "name": "python3"
  },
  "language_info": {
   "codemirror_mode": {
    "name": "ipython",
    "version": 3
   },
   "file_extension": ".py",
   "mimetype": "text/x-python",
   "name": "python",
   "nbconvert_exporter": "python",
   "pygments_lexer": "ipython3",
   "version": "3.9.7"
  }
 },
 "nbformat": 4,
 "nbformat_minor": 5
}
