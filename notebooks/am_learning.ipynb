{
 "cells": [
  {
   "cell_type": "code",
   "execution_count": 1,
   "id": "81666b18",
   "metadata": {},
   "outputs": [],
   "source": [
    "import math\n",
    "\n",
    "import torch\n",
    "from scipy.special import lambertw\n",
    "\n",
    "import matplotlib.pyplot as plt\n",
    "\n",
    "from tqdm import tqdm"
   ]
  },
  {
   "cell_type": "code",
   "execution_count": 2,
   "id": "5c976003",
   "metadata": {},
   "outputs": [],
   "source": [
    "from rsnn.firing_sequences.sampling import backward_filtering_forward_sampling\n",
    "from rsnn.firing_sequences.utils import is_predictable\n",
    "from rsnn.alternating_maximization.alternating_maximization import compute_prior_messages, compute_posterior_means\n",
    "from rsnn.alternating_maximization.utils import compute_observation_matrix, get_mask_refractory_period, get_mask_around_firing, get_mask_at_firing\n"
   ]
  },
  {
   "cell_type": "code",
   "execution_count": 3,
   "id": "ddf3c283",
   "metadata": {},
   "outputs": [],
   "source": [
    "import torch\n",
    "import torch.nn.functional as F"
   ]
  },
  {
   "cell_type": "code",
   "execution_count": 4,
   "id": "55f8b3ee",
   "metadata": {},
   "outputs": [],
   "source": [
    "from matplotlib.collections import PatchCollection\n",
    "from matplotlib.patches import Rectangle, Circle\n",
    "\n",
    "import gif\n",
    "gif.options.matplotlib[\"dpi\"] = 300"
   ]
  },
  {
   "cell_type": "code",
   "execution_count": 5,
   "id": "6771f8d5",
   "metadata": {},
   "outputs": [],
   "source": [
    "@gif.frame\n",
    "def add_action_potential(y, theta, firing_times, mask_around_firing, mask_refractory_period):\n",
    "    N = y.size(0)\n",
    "    fig, ax = plt.subplots(1, figsize=(N//10, 10))\n",
    "    \n",
    "    ax.set_xlim(0, N-1)\n",
    "    ax.set_ylim(-5, 5)\n",
    "    \n",
    "    for n in range(N):\n",
    "        if mask_around_firing[n]:\n",
    "            ax.add_patch(Rectangle((n,-5), 1, 10, facecolor=\"orange\", alpha=0.3))\n",
    "        elif not mask_refractory_period[n]:\n",
    "            ax.add_patch(Rectangle((n,-5), 1, 10, facecolor=\"blue\", alpha=0.3))\n",
    "            \n",
    "    ax.vlines(firing_times.squeeze(), -5, 5, colors=\"red\")\n",
    "    ax.hlines(theta, 0, N-1, linestyle=\"dashed\", colors=\"black\")\n",
    "    ax.plot(y)\n",
    "    \n",
    "@gif.frame\n",
    "def add_weight(w):\n",
    "    K = w.size(0)\n",
    "    plt.ylim(-1.2,1.2)\n",
    "    plt.scatter(torch.arange(K), w, s=5)"
   ]
  },
  {
   "cell_type": "code",
   "execution_count": 16,
   "id": "d7378961",
   "metadata": {},
   "outputs": [],
   "source": [
    "L, K, N, Tr = 100, 100, 400, 25"
   ]
  },
  {
   "cell_type": "code",
   "execution_count": 17,
   "id": "39098117",
   "metadata": {},
   "outputs": [],
   "source": [
    "taus = torch.randint(1, 2*Tr, (L,K))\n",
    "origins = torch.randint(0, L, (L,K))"
   ]
  },
  {
   "cell_type": "code",
   "execution_count": 18,
   "id": "da6eb89f",
   "metadata": {},
   "outputs": [],
   "source": [
    "wlim = (-1, 1)\n",
    "beta = -Tr / lambertw(-1e-2 / math.exp(1), -1).real\n",
    "impulse_response = lambda t_: (t_>0) * t_ / beta * torch.exp(1 - t_ / beta)\n",
    "theta, eta = 1, 1e-5\n",
    "eps, dymin = 5, 1e-1"
   ]
  },
  {
   "cell_type": "code",
   "execution_count": 19,
   "id": "09d84f85",
   "metadata": {},
   "outputs": [
    {
     "data": {
      "text/plain": [
       "True"
      ]
     },
     "execution_count": 19,
     "metadata": {},
     "output_type": "execute_result"
    }
   ],
   "source": [
    "firing_sequences = backward_filtering_forward_sampling(1, L, N, Tr).view(L, N)\n",
    "is_predictable(firing_sequences[None,...], Tr)"
   ]
  },
  {
   "cell_type": "code",
   "execution_count": 20,
   "id": "afdc3b3b",
   "metadata": {},
   "outputs": [],
   "source": [
    "mask_at_firing = get_mask_at_firing(firing_sequences)\n",
    "mask_refractory_period = get_mask_refractory_period(firing_sequences, Tr, eps)\n",
    "mask_around_firing = get_mask_around_firing(firing_sequences, eps)\n",
    "mask_before_firing = ~(mask_refractory_period | mask_around_firing)"
   ]
  },
  {
   "cell_type": "code",
   "execution_count": 21,
   "id": "be980113",
   "metadata": {},
   "outputs": [],
   "source": [
    "C = compute_observation_matrix(firing_sequences.view(L,N), taus, origins, Tr, impulse_response)"
   ]
  },
  {
   "cell_type": "code",
   "execution_count": 22,
   "id": "f46b3161",
   "metadata": {},
   "outputs": [],
   "source": [
    "# init with random weights between wmin and wmax\n",
    "mw = torch.FloatTensor(L,1,K,1).uniform_(*wlim)\n",
    "my = C @ mw"
   ]
  },
  {
   "cell_type": "code",
   "execution_count": 23,
   "id": "c5f094e0",
   "metadata": {},
   "outputs": [],
   "source": [
    "Vw_f, mw_f, Vy_b, my_b = compute_prior_messages(mw, my, wlim, theta, eta, Tr, eps, dymin, firing_sequences)"
   ]
  },
  {
   "cell_type": "code",
   "execution_count": 24,
   "id": "99422727",
   "metadata": {},
   "outputs": [
    {
     "name": "stderr",
     "output_type": "stream",
     "text": [
      "100%|███████████████████████████████████████████| 20/20 [01:11<00:00,  3.59s/it]\n"
     ]
    }
   ],
   "source": [
    "weight_frames = []\n",
    "action_potential_frames = []\n",
    "\n",
    "max_iter = 20\n",
    "\n",
    "l = 42\n",
    "\n",
    "for _ in tqdm(range(max_iter)):\n",
    "    Vw_f, mw_f, Vy_b, my_b = compute_prior_messages(mw, my, wlim, theta, eta, Tr, eps, dymin, firing_sequences)\n",
    "    mw, my = compute_posterior_means(Vw_f, mw_f, Vy_b, my_b, C)\n",
    "    \n",
    "    frame = add_weight(mw[l,0,:,0])\n",
    "    weight_frames.append(frame)\n",
    "    \n",
    "    frame = add_action_potential(my[l,:,0,0], theta, torch.argwhere(mask_at_firing[l]), mask_around_firing[l], mask_refractory_period[l])\n",
    "    action_potential_frames.append(frame)"
   ]
  },
  {
   "cell_type": "code",
   "execution_count": 25,
   "id": "37b30206",
   "metadata": {},
   "outputs": [],
   "source": [
    "gif.save(weight_frames, \"am_learning_weight.gif\", loop=True)\n",
    "gif.save(action_potential_frames, \"am_learning_action_potential.gif\", loop=True)"
   ]
  },
  {
   "cell_type": "markdown",
   "id": "f70b0931",
   "metadata": {},
   "source": [
    "# Check all conditions\n",
    "## Bounded weights"
   ]
  },
  {
   "cell_type": "code",
   "execution_count": 26,
   "id": "5137a30e",
   "metadata": {},
   "outputs": [
    {
     "data": {
      "text/plain": [
       "tensor(True)"
      ]
     },
     "execution_count": 26,
     "metadata": {},
     "output_type": "execute_result"
    }
   ],
   "source": [
    "mw.min() >= wlim[0] and mw.max() <= wlim[1]"
   ]
  },
  {
   "cell_type": "markdown",
   "id": "5cb4dc70",
   "metadata": {},
   "source": [
    "## Equality at firing"
   ]
  },
  {
   "cell_type": "code",
   "execution_count": 34,
   "id": "fc7ee896",
   "metadata": {},
   "outputs": [
    {
     "data": {
      "text/plain": [
       "tensor(0.0983)"
      ]
     },
     "execution_count": 34,
     "metadata": {},
     "output_type": "execute_result"
    }
   ],
   "source": [
    "mask = get_mask_at_firing(firing_sequences)\n",
    "(my[...,0,0][mask] - theta).square().sum()"
   ]
  },
  {
   "cell_type": "markdown",
   "id": "f3c63481",
   "metadata": {},
   "source": [
    "## Slope around firing"
   ]
  },
  {
   "cell_type": "code",
   "execution_count": 35,
   "id": "ff21565b",
   "metadata": {},
   "outputs": [
    {
     "data": {
      "text/plain": [
       "tensor(-1.0935)"
      ]
     },
     "execution_count": 35,
     "metadata": {},
     "output_type": "execute_result"
    }
   ],
   "source": [
    "mask = get_mask_around_firing(firing_sequences, eps)\n",
    "(my[...,1,0][mask] - dymin).min()"
   ]
  },
  {
   "cell_type": "markdown",
   "id": "28a9cd72",
   "metadata": {},
   "source": [
    "## Before firing"
   ]
  },
  {
   "cell_type": "code",
   "execution_count": 37,
   "id": "36a952cb",
   "metadata": {},
   "outputs": [
    {
     "data": {
      "text/plain": [
       "tensor(6.0077)"
      ]
     },
     "execution_count": 37,
     "metadata": {},
     "output_type": "execute_result"
    }
   ],
   "source": [
    "mask1 = get_mask_refractory_period(firing_sequences, Tr, eps)\n",
    "mask2 = get_mask_around_firing(firing_sequences, eps)\n",
    "(eta - my[...,0,0][~(mask1|mask2)]).max()"
   ]
  },
  {
   "cell_type": "code",
   "execution_count": null,
   "id": "271dece4",
   "metadata": {},
   "outputs": [],
   "source": []
  }
 ],
 "metadata": {
  "kernelspec": {
   "display_name": "Python 3 (ipykernel)",
   "language": "python",
   "name": "python3"
  },
  "language_info": {
   "codemirror_mode": {
    "name": "ipython",
    "version": 3
   },
   "file_extension": ".py",
   "mimetype": "text/x-python",
   "name": "python",
   "nbconvert_exporter": "python",
   "pygments_lexer": "ipython3",
   "version": "3.8.12"
  }
 },
 "nbformat": 4,
 "nbformat_minor": 5
}
