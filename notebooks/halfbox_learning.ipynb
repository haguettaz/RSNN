{
 "cells": [
  {
   "cell_type": "code",
   "execution_count": 8,
   "id": "1822d54b",
   "metadata": {},
   "outputs": [],
   "source": [
    "import numpy as np\n",
    "import torch"
   ]
  },
  {
   "cell_type": "code",
   "execution_count": 9,
   "id": "9561b68d",
   "metadata": {},
   "outputs": [],
   "source": [
    "from rsnn.spike_sequences.sampling import sample_spike_sequences"
   ]
  },
  {
   "cell_type": "code",
   "execution_count": 23,
   "id": "c226f1e9",
   "metadata": {},
   "outputs": [],
   "source": [
    "from rsnn.utils.utils import rand_symm_matrix"
   ]
  },
  {
   "cell_type": "code",
   "execution_count": 28,
   "id": "447f79c5",
   "metadata": {},
   "outputs": [
    {
     "data": {
      "text/plain": [
       "tensor(True)"
      ]
     },
     "execution_count": 28,
     "metadata": {},
     "output_type": "execute_result"
    }
   ],
   "source": [
    "A = rand_symm_matrix(10)\n",
    "(A == A.T).all()"
   ]
  },
  {
   "cell_type": "code",
   "execution_count": 41,
   "id": "e564e3ad",
   "metadata": {},
   "outputs": [
    {
     "name": "stdout",
     "output_type": "stream",
     "text": [
      "1.25 ms ± 62.7 µs per loop (mean ± std. dev. of 7 runs, 1,000 loops each)\n"
     ]
    }
   ],
   "source": [
    "%%timeit\n",
    "A = torch.rand(500, 1)\n",
    "V = rand_symm_matrix(500)\n",
    "res = V @ A"
   ]
  },
  {
   "cell_type": "code",
   "execution_count": 42,
   "id": "84be8042",
   "metadata": {},
   "outputs": [
    {
     "name": "stdout",
     "output_type": "stream",
     "text": [
      "1.23 ms ± 109 µs per loop (mean ± std. dev. of 7 runs, 100 loops each)\n"
     ]
    }
   ],
   "source": [
    "%%timeit\n",
    "A = torch.rand(1, 500)\n",
    "V = rand_symm_matrix(500)\n",
    "res = A @ V"
   ]
  },
  {
   "cell_type": "code",
   "execution_count": 44,
   "id": "01907559",
   "metadata": {},
   "outputs": [
    {
     "data": {
      "text/plain": [
       "torch.Size([])"
      ]
     },
     "execution_count": 44,
     "metadata": {},
     "output_type": "execute_result"
    }
   ],
   "source": [
    "torch.tensor(1).size()"
   ]
  },
  {
   "cell_type": "code",
   "execution_count": 66,
   "id": "f3f4fc13",
   "metadata": {},
   "outputs": [],
   "source": [
    "A = torch.rand(1000)\n",
    "V = rand_symm_matrix(1000)"
   ]
  },
  {
   "cell_type": "code",
   "execution_count": 67,
   "id": "2567d467",
   "metadata": {},
   "outputs": [],
   "source": [
    "B = A.reshape(1000, 1)"
   ]
  },
  {
   "cell_type": "code",
   "execution_count": 68,
   "id": "d0543fb9",
   "metadata": {},
   "outputs": [
    {
     "name": "stdout",
     "output_type": "stream",
     "text": [
      "50.5 µs ± 6.7 µs per loop (mean ± std. dev. of 7 runs, 10,000 loops each)\n"
     ]
    }
   ],
   "source": [
    "%timeit torch.inner(V, A)"
   ]
  },
  {
   "cell_type": "code",
   "execution_count": 69,
   "id": "4bfabaec",
   "metadata": {},
   "outputs": [
    {
     "name": "stdout",
     "output_type": "stream",
     "text": [
      "39.6 µs ± 3.93 µs per loop (mean ± std. dev. of 7 runs, 10,000 loops each)\n"
     ]
    }
   ],
   "source": [
    "%timeit V@A"
   ]
  },
  {
   "cell_type": "code",
   "execution_count": 70,
   "id": "47724cec",
   "metadata": {},
   "outputs": [
    {
     "name": "stdout",
     "output_type": "stream",
     "text": [
      "36.7 µs ± 3.77 µs per loop (mean ± std. dev. of 7 runs, 10,000 loops each)\n"
     ]
    }
   ],
   "source": [
    "%timeit V@B"
   ]
  },
  {
   "cell_type": "code",
   "execution_count": 82,
   "id": "7700255c",
   "metadata": {},
   "outputs": [],
   "source": [
    "A = torch.rand(1000)\n",
    "B = torch.rand(1000)"
   ]
  },
  {
   "cell_type": "code",
   "execution_count": 87,
   "id": "c222039a",
   "metadata": {},
   "outputs": [
    {
     "name": "stdout",
     "output_type": "stream",
     "text": [
      "77.3 µs ± 3.36 µs per loop (mean ± std. dev. of 7 runs, 10,000 loops each)\n"
     ]
    }
   ],
   "source": [
    "%%timeit \n",
    "A = torch.rand(1000)\n",
    "B = torch.rand(1000)\n",
    "C = A.view(-1, 1) @ B.view(1, -1)"
   ]
  },
  {
   "cell_type": "code",
   "execution_count": 88,
   "id": "eb19442b",
   "metadata": {},
   "outputs": [
    {
     "name": "stdout",
     "output_type": "stream",
     "text": [
      "90.8 µs ± 3.01 µs per loop (mean ± std. dev. of 7 runs, 10,000 loops each)\n"
     ]
    }
   ],
   "source": [
    "%%timeit\n",
    "A = torch.rand(1000)\n",
    "B = torch.rand(1000)\n",
    "torch.outer(A, B)"
   ]
  },
  {
   "cell_type": "code",
   "execution_count": 89,
   "id": "af618b82",
   "metadata": {},
   "outputs": [
    {
     "name": "stdout",
     "output_type": "stream",
     "text": [
      "12.8 µs ± 87.3 ns per loop (mean ± std. dev. of 7 runs, 100,000 loops each)\n"
     ]
    }
   ],
   "source": [
    "%%timeit \n",
    "A = torch.rand(1000)\n",
    "B = torch.rand(1000)\n",
    "C = A @ B"
   ]
  },
  {
   "cell_type": "code",
   "execution_count": 90,
   "id": "b9a5f1ec",
   "metadata": {},
   "outputs": [
    {
     "name": "stdout",
     "output_type": "stream",
     "text": [
      "21.2 µs ± 15.9 ns per loop (mean ± std. dev. of 7 runs, 10,000 loops each)\n"
     ]
    }
   ],
   "source": [
    "%%timeit\n",
    "A = torch.rand(1000)\n",
    "B = torch.rand(1000)\n",
    "torch.inner(A, B)"
   ]
  },
  {
   "cell_type": "code",
   "execution_count": 95,
   "id": "a963aadc",
   "metadata": {},
   "outputs": [
    {
     "name": "stdout",
     "output_type": "stream",
     "text": [
      "23.8 ms ± 610 µs per loop (mean ± std. dev. of 7 runs, 10 loops each)\n"
     ]
    }
   ],
   "source": [
    "%%timeit\n",
    "A = torch.rand(1000, 1000)\n",
    "B = torch.rand(1000, 1000)\n",
    "C = torch.rand(1000, 1000)\n",
    "torch.addmm(A, B, C)"
   ]
  },
  {
   "cell_type": "code",
   "execution_count": 96,
   "id": "5192a25f",
   "metadata": {},
   "outputs": [
    {
     "name": "stdout",
     "output_type": "stream",
     "text": [
      "24.1 ms ± 568 µs per loop (mean ± std. dev. of 7 runs, 10 loops each)\n"
     ]
    }
   ],
   "source": [
    "%%timeit\n",
    "A = torch.rand(1000, 1000)\n",
    "B = torch.rand(1000, 1000)\n",
    "C = torch.rand(1000, 1000)\n",
    "A + B@C"
   ]
  },
  {
   "cell_type": "code",
   "execution_count": null,
   "id": "e5b23feb",
   "metadata": {},
   "outputs": [],
   "source": []
  },
  {
   "cell_type": "code",
   "execution_count": 97,
   "id": "e83503e3",
   "metadata": {},
   "outputs": [],
   "source": [
    "from rsnn.optimization.posterior import gmp_obs_blck, gmp_obs_blck_2"
   ]
  },
  {
   "cell_type": "code",
   "execution_count": 160,
   "id": "d36c8afb",
   "metadata": {},
   "outputs": [],
   "source": [
    "mx_f = torch.rand(1000)\n",
    "Vx_f = rand_symm_matrix(1000)\n",
    "my_b = torch.rand(1).squeeze()\n",
    "Vy_b = torch.rand(1).squeeze()\n",
    "A = torch.rand(1000)"
   ]
  },
  {
   "cell_type": "code",
   "execution_count": 141,
   "id": "b4ee0575",
   "metadata": {},
   "outputs": [],
   "source": [
    "mx_f2 = mx_f.reshape(-1, 1)\n",
    "Vx_f2 = Vx_f.clone()\n",
    "my_b2 = my_b.view(1, 1)\n",
    "Vy_b2 = Vy_b.view(1, 1)\n",
    "A2 = A.view(1, -1)"
   ]
  },
  {
   "cell_type": "code",
   "execution_count": 161,
   "id": "90b4de99",
   "metadata": {},
   "outputs": [
    {
     "name": "stdout",
     "output_type": "stream",
     "text": [
      "8.58 ms ± 0 ns per loop (mean ± std. dev. of 1 run, 1 loop each)\n"
     ]
    }
   ],
   "source": [
    "%timeit -n 1 -r 1 mz_f, Vz_f = gmp_obs_blck(mx_f, Vx_f, my_b, Vy_b, A)"
   ]
  },
  {
   "cell_type": "code",
   "execution_count": 162,
   "id": "01c197cc",
   "metadata": {},
   "outputs": [
    {
     "data": {
      "text/plain": [
       "tensor([[0.6641, 0.0000, 0.0000, 0.0000, 0.0000, 0.0000, 0.0000, 0.0000, 0.0000,\n",
       "         0.0000],\n",
       "        [0.0000, 0.1159, 0.0000, 0.0000, 0.0000, 0.0000, 0.0000, 0.0000, 0.0000,\n",
       "         0.0000],\n",
       "        [0.0000, 0.0000, 0.3441, 0.0000, 0.0000, 0.0000, 0.0000, 0.0000, 0.0000,\n",
       "         0.0000],\n",
       "        [0.0000, 0.0000, 0.0000, 0.9527, 0.0000, 0.0000, 0.0000, 0.0000, 0.0000,\n",
       "         0.0000],\n",
       "        [0.0000, 0.0000, 0.0000, 0.0000, 0.8469, 0.0000, 0.0000, 0.0000, 0.0000,\n",
       "         0.0000],\n",
       "        [0.0000, 0.0000, 0.0000, 0.0000, 0.0000, 0.3342, 0.0000, 0.0000, 0.0000,\n",
       "         0.0000],\n",
       "        [0.0000, 0.0000, 0.0000, 0.0000, 0.0000, 0.0000, 0.5282, 0.0000, 0.0000,\n",
       "         0.0000],\n",
       "        [0.0000, 0.0000, 0.0000, 0.0000, 0.0000, 0.0000, 0.0000, 0.4517, 0.0000,\n",
       "         0.0000],\n",
       "        [0.0000, 0.0000, 0.0000, 0.0000, 0.0000, 0.0000, 0.0000, 0.0000, 0.3224,\n",
       "         0.0000],\n",
       "        [0.0000, 0.0000, 0.0000, 0.0000, 0.0000, 0.0000, 0.0000, 0.0000, 0.0000,\n",
       "         0.5964]])"
      ]
     },
     "execution_count": 162,
     "metadata": {},
     "output_type": "execute_result"
    }
   ],
   "source": [
    "torch.rand(10).diag()"
   ]
  },
  {
   "cell_type": "code",
   "execution_count": 143,
   "id": "62ca9115",
   "metadata": {},
   "outputs": [
    {
     "name": "stdout",
     "output_type": "stream",
     "text": [
      "15.9 ms ± 2.46 ms per loop (mean ± std. dev. of 7 runs, 100 loops each)\n"
     ]
    }
   ],
   "source": [
    "%timeit mz_f2, Vz_f2 = gmp_obs_blck_2(mx_f2, Vx_f2, my_b2, Vy_b2, A2)"
   ]
  },
  {
   "cell_type": "code",
   "execution_count": 144,
   "id": "112090bb",
   "metadata": {},
   "outputs": [
    {
     "data": {
      "text/plain": [
       "True"
      ]
     },
     "execution_count": 144,
     "metadata": {},
     "output_type": "execute_result"
    }
   ],
   "source": [
    "torch.allclose(mz_f, mz_f2.squeeze(), atol=1e-6)"
   ]
  },
  {
   "cell_type": "code",
   "execution_count": 145,
   "id": "f92e2e20",
   "metadata": {},
   "outputs": [
    {
     "data": {
      "text/plain": [
       "True"
      ]
     },
     "execution_count": 145,
     "metadata": {},
     "output_type": "execute_result"
    }
   ],
   "source": [
    "torch.allclose(Vz_f, Vz_f2.squeeze(), atol=1e-6)"
   ]
  },
  {
   "cell_type": "code",
   "execution_count": 83,
   "id": "fdd7c917",
   "metadata": {},
   "outputs": [
    {
     "name": "stdout",
     "output_type": "stream",
     "text": [
      "724 ms ± 2.04 ms per loop (mean ± std. dev. of 7 runs, 1 loop each)\n"
     ]
    }
   ],
   "source": [
    "a = torch.randint(10, (1000, 1000), dtype=torch.long)\n",
    "b = torch.randint(10, (1000, 1000), dtype=torch.long)\n",
    "%timeit a@b"
   ]
  },
  {
   "cell_type": "code",
   "execution_count": 84,
   "id": "bb97148a",
   "metadata": {},
   "outputs": [
    {
     "name": "stdout",
     "output_type": "stream",
     "text": [
      "28.9 ms ± 1.21 ms per loop (mean ± std. dev. of 7 runs, 10 loops each)\n"
     ]
    }
   ],
   "source": [
    "a = torch.rand((1000, 1000), dtype=torch.double)\n",
    "b = torch.rand((1000, 1000), dtype=torch.double)\n",
    "%timeit a@b"
   ]
  },
  {
   "cell_type": "code",
   "execution_count": 69,
   "id": "c946ef9c",
   "metadata": {},
   "outputs": [
    {
     "ename": "TypeError",
     "evalue": "multinomial() got an unexpected keyword argument 'dtype'",
     "output_type": "error",
     "traceback": [
      "\u001b[0;31m---------------------------------------------------------------------------\u001b[0m",
      "\u001b[0;31mTypeError\u001b[0m                                 Traceback (most recent call last)",
      "Cell \u001b[0;32mIn [69], line 1\u001b[0m\n\u001b[0;32m----> 1\u001b[0m \u001b[43mtorch\u001b[49m\u001b[38;5;241;43m.\u001b[39;49m\u001b[43mmultinomial\u001b[49m\u001b[43m(\u001b[49m\u001b[43mtorch\u001b[49m\u001b[38;5;241;43m.\u001b[39;49m\u001b[43mones\u001b[49m\u001b[43m(\u001b[49m\u001b[38;5;241;43m10\u001b[39;49m\u001b[43m,\u001b[49m\u001b[43m \u001b[49m\u001b[43mdtype\u001b[49m\u001b[38;5;241;43m=\u001b[39;49m\u001b[43mtorch\u001b[49m\u001b[38;5;241;43m.\u001b[39;49m\u001b[43mfloat64\u001b[49m\u001b[43m)\u001b[49m\u001b[43m,\u001b[49m\u001b[43m \u001b[49m\u001b[38;5;241;43m10\u001b[39;49m\u001b[43m,\u001b[49m\u001b[43m \u001b[49m\u001b[43mdtype\u001b[49m\u001b[38;5;241;43m=\u001b[39;49m\u001b[43mtorch\u001b[49m\u001b[38;5;241;43m.\u001b[39;49m\u001b[43mint32\u001b[49m\u001b[43m)\u001b[49m\u001b[38;5;241m.\u001b[39mdtype\n",
      "\u001b[0;31mTypeError\u001b[0m: multinomial() got an unexpected keyword argument 'dtype'"
     ]
    }
   ],
   "source": [
    "torch.multinomial(torch.ones(10, dtype=torch.float64), 10).dtype"
   ]
  },
  {
   "cell_type": "code",
   "execution_count": 46,
   "id": "121e75ee",
   "metadata": {},
   "outputs": [
    {
     "data": {
      "text/plain": [
       "tensor([1.5820e-17, 1.4238e-17, 1.4238e-17, 1.4238e-17, 1.4238e-17, 1.4238e-17,\n",
       "        1.4238e-17, 1.4238e-17, 1.4238e-17, 1.4238e-17, 1.4238e-17])"
      ]
     },
     "execution_count": 46,
     "metadata": {},
     "output_type": "execute_result"
    }
   ],
   "source": [
    "get_spiking_matrix(10, 0.999).matrix_power(1000).diag()"
   ]
  },
  {
   "cell_type": "code",
   "execution_count": 62,
   "id": "fe8653f3",
   "metadata": {},
   "outputs": [
    {
     "data": {
      "text/plain": [
       "tensor(0.0900)"
      ]
     },
     "execution_count": 62,
     "metadata": {},
     "output_type": "execute_result"
    }
   ],
   "source": [
    "w = get_spiking_matrix(10, 0.99999).matrix_power(1000).diag()\n",
    "w[1]/w.sum()"
   ]
  },
  {
   "cell_type": "code",
   "execution_count": 13,
   "id": "77faf3a7",
   "metadata": {},
   "outputs": [],
   "source": [
    "Nr = 50\n",
    "p = 0.9\n",
    "G = torch.zeros((Nr + 1, Nr + 1))\n",
    "G[1:, :-1] = torch.eye(Nr)\n",
    "G[0, 0] = 1 - p\n",
    "G[0, -1] = p"
   ]
  },
  {
   "cell_type": "code",
   "execution_count": 14,
   "id": "aa69d3d0",
   "metadata": {},
   "outputs": [
    {
     "data": {
      "text/plain": [
       "tensor(1.0000)"
      ]
     },
     "execution_count": 14,
     "metadata": {},
     "output_type": "execute_result"
    }
   ],
   "source": [
    "torch.linalg.eigvals(G).abs().max()"
   ]
  },
  {
   "cell_type": "code",
   "execution_count": 17,
   "id": "7e413af2",
   "metadata": {},
   "outputs": [
    {
     "data": {
      "text/plain": [
       "(dtype('float64'), torch.float64)"
      ]
     },
     "execution_count": 17,
     "metadata": {},
     "output_type": "execute_result"
    }
   ],
   "source": [
    "a = np.random.randn(1000, 1000)\n",
    "a_torch = torch.from_numpy(a)\n",
    "a.dtype, a_torch.dtype"
   ]
  },
  {
   "cell_type": "code",
   "execution_count": 36,
   "id": "d91c3d6b",
   "metadata": {},
   "outputs": [
    {
     "name": "stdout",
     "output_type": "stream",
     "text": [
      "13.8 ms ± 115 µs per loop (mean ± std. dev. of 7 runs, 100 loops each)\n"
     ]
    }
   ],
   "source": [
    "a = torch.rand(1000, 1000)\n",
    "b = torch.rand(1000, 1000)\n",
    "%timeit c = a@b"
   ]
  },
  {
   "cell_type": "code",
   "execution_count": 34,
   "id": "e6906ab9",
   "metadata": {},
   "outputs": [
    {
     "name": "stdout",
     "output_type": "stream",
     "text": [
      "97.1 ms ± 1.47 ms per loop (mean ± std. dev. of 7 runs, 10 loops each)\n"
     ]
    }
   ],
   "source": [
    "%%timeit\n",
    "a = np.random.randn(1000, 1000)\n",
    "b = np.random.randn(1000, 1000)\n",
    "c = a@b"
   ]
  },
  {
   "cell_type": "code",
   "execution_count": 6,
   "id": "b4aade3c",
   "metadata": {},
   "outputs": [
    {
     "name": "stdout",
     "output_type": "stream",
     "text": [
      "84.5 µs ± 599 ns per loop (mean ± std. dev. of 7 runs, 10,000 loops each)\n"
     ]
    }
   ],
   "source": [
    "%timeit a = torch.rand(1000, 1000, device=\"mps:1\")"
   ]
  },
  {
   "cell_type": "code",
   "execution_count": 30,
   "id": "d80f75fd",
   "metadata": {},
   "outputs": [
    {
     "name": "stdout",
     "output_type": "stream",
     "text": [
      "4.28 ms ± 239 µs per loop (mean ± std. dev. of 7 runs, 100 loops each)\n"
     ]
    }
   ],
   "source": [
    "%timeit a = torch.rand(1000, 1000).to(\"mps\")"
   ]
  },
  {
   "cell_type": "code",
   "execution_count": null,
   "id": "cd735de6",
   "metadata": {},
   "outputs": [],
   "source": []
  },
  {
   "cell_type": "code",
   "execution_count": 14,
   "id": "354d3a1a",
   "metadata": {},
   "outputs": [],
   "source": [
    "from matplotlib import pyplot as plt\n",
    "%matplotlib inline"
   ]
  },
  {
   "cell_type": "code",
   "execution_count": 15,
   "id": "eece54d6",
   "metadata": {},
   "outputs": [],
   "source": [
    "default_cycler = cycler(color=['firebrick', 'green'])\n",
    "plt.rc('axes', prop_cycle=default_cycler)"
   ]
  },
  {
   "cell_type": "code",
   "execution_count": 16,
   "id": "34762f7c",
   "metadata": {},
   "outputs": [],
   "source": [
    "from firing_signals.sampling.bffs import backward_filtering_forward_sampling"
   ]
  },
  {
   "cell_type": "code",
   "execution_count": 17,
   "id": "ab3d1f4d",
   "metadata": {},
   "outputs": [],
   "source": [
    "# LMS algorithm\n",
    "# conjugate gradient descent"
   ]
  },
  {
   "cell_type": "code",
   "execution_count": 18,
   "id": "2f704db8",
   "metadata": {},
   "outputs": [],
   "source": [
    "def hamming_dist(seq1, seq2):\n",
    "    return np.sum(seq1 != seq2)"
   ]
  },
  {
   "cell_type": "code",
   "execution_count": 19,
   "id": "4bbca0d0",
   "metadata": {},
   "outputs": [],
   "source": [
    "n, Nr = 50, 3\n",
    "m = 50\n",
    "theta = 0."
   ]
  },
  {
   "cell_type": "markdown",
   "id": "fa41c2e8",
   "metadata": {},
   "source": [
    "The neural network aim at learn a binary sequence $y \\in \\mathcal{Y}_{T_r}^n$."
   ]
  },
  {
   "cell_type": "code",
   "execution_count": 20,
   "id": "ea366738",
   "metadata": {},
   "outputs": [],
   "source": [
    "seq = backward_filtering_forward_sampling(n, Nr)"
   ]
  },
  {
   "cell_type": "markdown",
   "id": "c5fe01be",
   "metadata": {},
   "source": [
    "# Half-box constraint\n",
    "\n",
    "We can use a half-box loss function to enforce the inner product $w^\\top z_k$ being greater (resp. lower) than the threshold when $y_k = 1$ (resp. $y_k = 0$. These conditions can be mixed in the following loss function:\n",
    "\\begin{equation}\n",
    "L_f(w) = \\frac{1}{n}\\sum_{k=1}^n |w^\\top z_k - \\theta| + \\lim_{b \\to \\infty} |w^\\top z_k + (-1)^{y_k} \\cdot b| - |\\theta + (-1)^{y_k} \\cdot b|\n",
    "\\end{equation}\n",
    "\n",
    "The partial derivative of the fitting loss function w.r.t each weight is given by:\n",
    "\\begin{equation}\n",
    "\\frac{\\partial}{\\partial w_i} L_f(w) =  \\frac{1}{n}\\sum_{k=1}^n \\left(\\text{sgn}(w^\\top z_k - \\theta) + \\lim_{b \\to \\infty}  \\text{sgn}(w^\\top z_k + (-1)^{y_k} \\cdot b)\\right) \\cdot z_k = \\frac{1}{n}\\sum_{k=1}^n \\left(\\text{sgn}(w^\\top z_k - \\theta) + (-1)^{y_k}\\right) \\cdot z_k\n",
    "\\end{equation}\n",
    "\n",
    "One can also use the approximation \n",
    "\\begin{equation}\n",
    "|x| \\simeq \\sqrt{x^2 + c}\n",
    "\\end{equation}\n",
    "with $c > 0$ arbitrarily small to obtain a twice differentiable loss function :\n",
    "\n",
    "\\begin{equation}\n",
    "L_f(w) =  \\frac{1}{n} \\sum_{k=1}^n \\sqrt{(w^\\top z_k - \\theta)^2 + c} + \\lim_{b \\to \\infty} \\sqrt{(w^\\top z_k + (-1)^{y_k} \\cdot b)^2 + c} - |\\theta + (-1)^{y_k} \\cdot b|\n",
    "\\end{equation}\n",
    "with small $c > 0$.\n",
    "\n",
    "The partial derivative of this fitting loss function w.r.t each weight is given by:\n",
    "\\begin{equation}\n",
    "\\frac{\\partial}{\\partial w_i} L_f(w) =  \\frac{1}{n}\\sum_{k=1}^n \\left(\\frac{w^\\top z_k - \\theta}{\\sqrt{(w^\\top z_k-\\theta)^2 + c}} + \\lim_{b \\to \\infty}  \\frac{w^\\top z_k + (-1)^{y_k} \\cdot b}{\\sqrt{(w^\\top z_k + (-1)^{y_k} \\cdot b)^2 + c}}\\right)z_k = \\frac{1}{n}\\sum_{k=1}^n \\left( \\frac{w^\\top z_k - \\theta}{\\sqrt{(w^\\top z_k-\\theta)^2 + c}} + (-1)^{y_k} \\right) z_k\n",
    "\\end{equation}\n",
    "\n",
    "This fitting loss function is convex, being a sum of convex functions.\n",
    "\n",
    "The gradient descent weight update rule is:\n",
    "\\begin{equation}\n",
    "w \\leftarrow w - \\eta \\cdot \\nabla_w L_f (w),\n",
    "\\end{equation}\n",
    "with some learning rate parameter $\\eta > 0$."
   ]
  },
  {
   "cell_type": "code",
   "execution_count": 21,
   "id": "49f04cf6",
   "metadata": {},
   "outputs": [],
   "source": [
    "abs_app = lambda x : np.sqrt(np.square(x) + 1e-3)"
   ]
  },
  {
   "cell_type": "code",
   "execution_count": 22,
   "id": "9cf2b95d",
   "metadata": {},
   "outputs": [],
   "source": [
    "x = np.linspace(-1, 1, 1000)"
   ]
  },
  {
   "cell_type": "code",
   "execution_count": 23,
   "id": "b6a3c104",
   "metadata": {},
   "outputs": [
    {
     "data": {
      "image/png": "[encoded data removed]",
      "text/plain": [
       "<Figure size 432x288 with 1 Axes>"
      ]
     },
     "metadata": {
      "needs_background": "light"
     },
     "output_type": "display_data"
    }
   ],
   "source": [
    "plt.plot(x, np.abs(x))\n",
    "plt.plot(x, abs_app(x), linestyle=(0, (5,5)), color=\"black\")\n",
    "plt.legend([r\"$|x|$\", r\"$\\sqrt{x^2 + c}$\"])\n",
    "plt.show()"
   ]
  },
  {
   "cell_type": "code",
   "execution_count": 24,
   "id": "8141cb79",
   "metadata": {},
   "outputs": [],
   "source": [
    "#loss_fit = lambda w, z, y : np.mean(abs_app(np.dot(z, w)-theta) + abs_app(np.dot(z, w)+(-1)**y * b) - np.abs(theta+(-1)**y*b))\n",
    "#grad_loss_fit = lambda w, z, y : 1/n * np.dot((np.dot(z,w) - theta)/abs_app(np.dot(z,w) - theta)+(-1)**y, z)\n",
    "\n",
    "loss_fit = lambda w, z, y : np.mean(np.abs(np.dot(z, w)-theta) + np.abs(np.dot(z, w)+(-1)**y * b) - np.abs(theta+(-1)**y*b))\n",
    "grad_loss_fit = lambda w, z, y : 1/n * np.dot(np.sign(np.dot(z,w) - theta)+(-1)**y, z)\n",
    "eta = 1."
   ]
  },
  {
   "cell_type": "code",
   "execution_count": 25,
   "id": "91c8a976",
   "metadata": {},
   "outputs": [
    {
     "data": {
      "image/png": "[encoded data removed]",
      "text/plain": [
       "<Figure size 432x288 with 1 Axes>"
      ]
     },
     "metadata": {
      "needs_background": "light"
     },
     "output_type": "display_data"
    }
   ],
   "source": [
    "a, b = (theta, 1e6)\n",
    "plt.plot(x, np.abs(x - a) + np.abs(x+ (-1)**1 * b) - np.abs(a+(-1)**1*b))\n",
    "plt.plot(x, np.abs(x - a) + np.abs(x+ (-1)**0 * b) - np.abs(a+(-1)**0*b))\n",
    "plt.legend([r\"$y_k = 1$\", r\"$y_k = 0$\"])\n",
    "plt.show()"
   ]
  },
  {
   "cell_type": "code",
   "execution_count": 26,
   "id": "60aebc12",
   "metadata": {},
   "outputs": [],
   "source": [
    "free_indices = [k for k in range(n) if np.sum(np.roll(seq, -k)[...,-Nr:]) < 1]\n",
    "n_ = len(free_indices)\n",
    "z = np.random.uniform(0, 1, (n_, m))\n",
    "y = seq[free_indices]"
   ]
  },
  {
   "cell_type": "code",
   "execution_count": 27,
   "id": "315d0b38",
   "metadata": {},
   "outputs": [],
   "source": [
    "w = np.random.uniform(-1, 1, (m))\n",
    "for _ in range(1000):\n",
    "    w -= eta * grad_loss_fit(w, z, y)"
   ]
  },
  {
   "cell_type": "code",
   "execution_count": 28,
   "id": "b35ccd64",
   "metadata": {},
   "outputs": [],
   "source": [
    "y_hat = np.inner(w, z) > theta\n",
    "seq_hat = np.zeros(n, dtype=int)\n",
    "seq_hat[free_indices] = y_hat"
   ]
  },
  {
   "cell_type": "code",
   "execution_count": 29,
   "id": "ccfd8867",
   "metadata": {},
   "outputs": [
    {
     "data": {
      "text/plain": [
       "0"
      ]
     },
     "execution_count": 29,
     "metadata": {},
     "output_type": "execute_result"
    }
   ],
   "source": [
    "hamming_dist(seq_hat, seq)"
   ]
  },
  {
   "cell_type": "code",
   "execution_count": 30,
   "id": "7aa582e7",
   "metadata": {},
   "outputs": [
    {
     "data": {
      "image/png": "[encoded data removed]",
      "text/plain": [
       "<Figure size 432x288 with 1 Axes>"
      ]
     },
     "metadata": {
      "needs_background": "light"
     },
     "output_type": "display_data"
    }
   ],
   "source": [
    "firing_pos = np.argwhere(seq > 0)\n",
    "hat_firing_pos = np.argwhere(seq_hat > 0)\n",
    "plt.stem(hat_firing_pos, seq_hat[hat_firing_pos], basefmt=\" \")\n",
    "plt.stem(firing_pos, - seq[firing_pos], linefmt=\"C1-\", markerfmt=\"C1o\", basefmt=\" \")\n",
    "plt.axhline(0, linestyle=(0, (3, 1, 1, 1)), color=\"black\")\n",
    "plt.ylim(-5, 5)\n",
    "plt.xlim(-1, n)\n",
    "plt.show()"
   ]
  },
  {
   "cell_type": "markdown",
   "id": "535f0fc4",
   "metadata": {},
   "source": [
    "For robustness consideration, we are interested in the distribution of the weights"
   ]
  },
  {
   "cell_type": "code",
   "execution_count": 31,
   "id": "c4dcc3f4",
   "metadata": {},
   "outputs": [
    {
     "data": {
      "image/png": "[encoded data removed]",
      "text/plain": [
       "<Figure size 432x288 with 1 Axes>"
      ]
     },
     "metadata": {
      "needs_background": "light"
     },
     "output_type": "display_data"
    }
   ],
   "source": [
    "plt.scatter(np.arange(m), w)\n",
    "plt.axhline(-1, linestyle=\"dashed\", color=\"black\")\n",
    "plt.axhline(1, linestyle=\"dashed\", color=\"black\")\n",
    "plt.show()"
   ]
  },
  {
   "cell_type": "markdown",
   "id": "fa01001a",
   "metadata": {},
   "source": [
    "# Box constraint on the weights\n",
    "\n",
    "An extended version of the half box optimization to bound weights can be used. We define a (stricly convex) regularization function to enforce the weights being in a specific range $[a, b]$:\n",
    "\\begin{equation}\n",
    "L_r(w) = \\sum_{i=1}^m |w_i - a| + |w_i - b| - |b-a|.\n",
    "\\end{equation}\n",
    "\n",
    "The partial derivative of the regularization loss function w.r.t each weight is given by:\n",
    "\\begin{equation}\n",
    "\\frac{\\partial}{\\partial w_i} L_r(w) = \\text{sgn}(w_i-a) + \\text{sgn}(w_i-b)\n",
    "\\end{equation}"
   ]
  },
  {
   "cell_type": "code",
   "execution_count": 36,
   "id": "5651d475",
   "metadata": {},
   "outputs": [],
   "source": [
    "loss_reg = lambda w : np.sum(np.abs(w-a) + np.abs(w-b) - np.abs(b-a))\n",
    "grad_loss_reg = lambda w : np.sign(w - a) + np.sign(w - b)"
   ]
  },
  {
   "cell_type": "code",
   "execution_count": 37,
   "id": "89ac65a3",
   "metadata": {},
   "outputs": [
    {
     "data": {
      "image/png": "[encoded data removed]",
      "text/plain": [
       "<Figure size 432x288 with 1 Axes>"
      ]
     },
     "metadata": {
      "needs_background": "light"
     },
     "output_type": "display_data"
    }
   ],
   "source": [
    "a, b = (-1, 1)\n",
    "x = np.linspace(-2, 2, 1000)\n",
    "plt.plot(x, np.abs(x - a), x, np.abs(x-b), linestyle=(0, (5,5)), c=\"black\")\n",
    "plt.plot(x, np.abs(x - a) + np.abs(x-b) - 2)\n",
    "plt.show()"
   ]
  },
  {
   "cell_type": "markdown",
   "id": "77358d6d",
   "metadata": {},
   "source": [
    "Combining the fitting and the reguralization loss functions, we can optimize the weights such that they fit well the sequence to learn and are bounded. The mixing loss function is \n",
    "\\begin{equation}\n",
    "L (w) = L_f(w) + \\alpha L_r(w)\n",
    "\\end{equation}\n",
    "where $\\alpha \\leq 0$ is a balancing parameter. As a sum of convex function, this is also a convex function and it can be optimize via gradient descent.\n",
    "The gradient of the mixing loss function is given by \n",
    "\\begin{equation}\n",
    "\\nabla_w L (w) = \\nabla_w L_f(w) + \\alpha \\cdot \\nabla_w L_r(w)\n",
    "\\end{equation}\n",
    "The gradient descent update rule for the weights is then\n",
    "\\begin{equation}\n",
    "w \\leftarrow w + \\eta \\cdot \\nabla_w L(w),\n",
    "\\end{equation}\n",
    "with $\\eta > 0$ the learning rate."
   ]
  },
  {
   "cell_type": "code",
   "execution_count": 38,
   "id": "4ad6ffb9",
   "metadata": {},
   "outputs": [],
   "source": [
    "# Total Loss = Fitting Loss + Bound Loss\n",
    "alpha = 0.5\n",
    "loss = lambda w, z, y : loss_fit(w, z, y) + alpha * loss_reg(w)\n",
    "grad_loss = lambda w, z, y : grad_loss_fit(w, z, y) + alpha * grad_loss_reg(w)"
   ]
  },
  {
   "cell_type": "code",
   "execution_count": 45,
   "id": "9980bd5e",
   "metadata": {},
   "outputs": [],
   "source": [
    "w = np.random.uniform(-1, 1, (m))\n",
    "for _ in range(1000):\n",
    "    w -= eta * grad_loss(w, z, y)"
   ]
  },
  {
   "cell_type": "code",
   "execution_count": 46,
   "id": "76ad54f3",
   "metadata": {},
   "outputs": [],
   "source": [
    "y_hat = np.inner(w, z) > theta\n",
    "seq_hat = np.zeros(n, dtype=int)\n",
    "seq_hat[free_indices] = y_hat"
   ]
  },
  {
   "cell_type": "code",
   "execution_count": 47,
   "id": "866e3864",
   "metadata": {},
   "outputs": [
    {
     "data": {
      "text/plain": [
       "0"
      ]
     },
     "execution_count": 47,
     "metadata": {},
     "output_type": "execute_result"
    }
   ],
   "source": [
    "hamming_dist(seq_hat, seq)"
   ]
  },
  {
   "cell_type": "code",
   "execution_count": 48,
   "id": "8b34b488",
   "metadata": {},
   "outputs": [
    {
     "data": {
      "image/png": "[encoded data removed]",
      "text/plain": [
       "<Figure size 432x288 with 1 Axes>"
      ]
     },
     "metadata": {
      "needs_background": "light"
     },
     "output_type": "display_data"
    }
   ],
   "source": [
    "firing_pos = np.argwhere(seq > 0)\n",
    "hat_firing_pos = np.argwhere(seq_hat > 0)\n",
    "plt.stem(hat_firing_pos, seq_hat[hat_firing_pos], basefmt=\" \")\n",
    "plt.stem(firing_pos, - seq[firing_pos], linefmt=\"C1-\", markerfmt=\"C1o\", basefmt=\" \")\n",
    "plt.axhline(0, linestyle=(0, (3, 1, 1, 1)), color=\"black\")\n",
    "plt.ylim(-5, 5)\n",
    "plt.xlim(-1, n)\n",
    "plt.show()"
   ]
  },
  {
   "cell_type": "markdown",
   "id": "0b369e23",
   "metadata": {},
   "source": [
    "We verify the weights are bounded as imposed by our regularization loss function."
   ]
  },
  {
   "cell_type": "code",
   "execution_count": 49,
   "id": "961a86d6",
   "metadata": {},
   "outputs": [
    {
     "data": {
      "image/png": "[encoded data removed]",
      "text/plain": [
       "<Figure size 432x288 with 1 Axes>"
      ]
     },
     "metadata": {
      "needs_background": "light"
     },
     "output_type": "display_data"
    }
   ],
   "source": [
    "plt.scatter(np.arange(m), w)\n",
    "plt.axhline(-1, linestyle=\"dashed\", color=\"black\")\n",
    "plt.axhline(1, linestyle=\"dashed\", color=\"black\")\n",
    "plt.show()"
   ]
  },
  {
   "cell_type": "code",
   "execution_count": null,
   "id": "7be8a286",
   "metadata": {},
   "outputs": [],
   "source": []
  }
 ],
 "metadata": {
  "kernelspec": {
   "display_name": "Python 3 (ipykernel)",
   "language": "python",
   "name": "python3"
  },
  "language_info": {
   "codemirror_mode": {
    "name": "ipython",
    "version": 3
   },
   "file_extension": ".py",
   "mimetype": "text/x-python",
   "name": "python",
   "nbconvert_exporter": "python",
   "pygments_lexer": "ipython3",
   "version": "3.10.6"
  }
 },
 "nbformat": 4,
 "nbformat_minor": 5
}
