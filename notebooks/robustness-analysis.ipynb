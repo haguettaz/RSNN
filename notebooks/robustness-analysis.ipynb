{
 "cells": [
  {
   "cell_type": "code",
   "execution_count": 118,
   "id": "89194bd4",
   "metadata": {},
   "outputs": [],
   "source": [
    "import pandas as pd\n",
    "import matplotlib.pyplot as plt\n",
    "import torch\n",
    "from tqdm import tqdm\n",
    "import math\n",
    "\n",
    "from matplotlib.ticker import (MultipleLocator, FormatStrFormatter,\n",
    "                               AutoMinorLocator)\n",
    "plt.style.use('scientific')"
   ]
  },
  {
   "cell_type": "code",
   "execution_count": 119,
   "id": "a240385d",
   "metadata": {},
   "outputs": [],
   "source": [
    "def simulate(delays, weights, origins, inputs, Q=10, R=10):\n",
    "    spikes_df = [pd.DataFrame.from_dict({\"neuron\": torch.arange(L).repeat_interleave(M + 1), \"spike\": inputs.view(-1)})]\n",
    "\n",
    "    for q in range(1, Q+1):\n",
    "        print(f\"cycle {q}/{Q}\")\n",
    "        for n in tqdm(range(N)):\n",
    "            for r in range(R):\n",
    "                t = q * N + n + r / R\n",
    "                z = (impulse_resp(t - inputs[origins] - delays[...,None]).sum(dim=-1) * weights).nansum(dim=1)\n",
    "\n",
    "                neurons = torch.argwhere(((t - inputs[:, 0]) > Nr) & (z >= theta)).view(-1)\n",
    "\n",
    "                if neurons.numel() > 0:\n",
    "                    inputs[neurons, 1:] = inputs[neurons, :-1]\n",
    "                    inputs[neurons, 0] = t\n",
    "                    spikes_df.append(pd.DataFrame.from_dict({\"neuron\": neurons, \"spike\": t}))\n",
    "                    \n",
    "    return pd.concat(spikes_df)"
   ]
  },
  {
   "cell_type": "code",
   "execution_count": 120,
   "id": "c4c8ca40",
   "metadata": {},
   "outputs": [],
   "source": [
    "def get_inputs(run_name, noise_lim=(0,0)):\n",
    "    spike_sequences = pd.read_csv(run_name + \"spike-sequences.csv\")\n",
    "    spike_sequences = pd.concat(\n",
    "        (\n",
    "            spike_sequences, \n",
    "            pd.DataFrame.from_dict({\"neuron\": torch.arange(L).repeat_interleave(M + 1), \"spike\": -1e9})\n",
    "        )\n",
    "    ) # add default values if not M+1 last spikes\n",
    "    \n",
    "    last_spikes = torch.tensor(spike_sequences.groupby(\"neuron\").spike.nlargest(M+1, \"last\").values).view(L, M+1)\n",
    "    \n",
    "    noise = torch.FloatTensor(L, M+1).uniform_(*noise_lim)\n",
    "    #noise = torch.zeros(L, M+1)\n",
    "    #noise[0,0] = noise_lvl\n",
    "\n",
    "    return last_spikes + noise, noise\n"
   ]
  },
  {
   "cell_type": "code",
   "execution_count": 121,
   "id": "6b4639a3",
   "metadata": {},
   "outputs": [],
   "source": [
    "def plot_cycle(df_sim, df_true, q, l, name):\n",
    "    fig, ax = plt.subplots(figsize=(20, 1))\n",
    "    \n",
    "    df_sim[\"value\"] = 1\n",
    "    df_true[\"value\"] = 1\n",
    "    \n",
    "    mask_sim = (N * q <= df_sim.spike) & (df_sim.spike < N * (q+1)) & (df_sim.neuron == l)\n",
    "    mask_true = (df_true.neuron == l)\n",
    "    \n",
    "    ax.stem(df_sim[mask_sim].spike, df_sim[mask_sim].value, basefmt=\" \", linefmt=\"C1-\", markerfmt=\"C1o\")\n",
    "    ax.stem(df_true[mask_true].spike + q * N, df_true[mask_true].value, basefmt=\" \", linefmt=\"C0--\", markerfmt=\"C0o\")\n",
    "\n",
    "    ax.legend([\"sim\", \"true\"], loc=\"center left\")\n",
    "    ax.set_ylim(-0.1, 1.3)\n",
    "    ax.set_xlim(q*N - 20, (q+1)*N + 1)\n",
    "    ax.xaxis.set_major_locator(MultipleLocator(N))\n",
    "    ax.yaxis.set_major_locator(MultipleLocator(10))\n",
    "    ax.set_title(name)"
   ]
  },
  {
   "cell_type": "code",
   "execution_count": 142,
   "id": "63da4d7d",
   "metadata": {},
   "outputs": [],
   "source": [
    "L, K, N, Nr, M = 200, 400, 100, 20, 3\n",
    "theta = 1\n",
    "impulse_resp = lambda t_: (t_ >= 0) * t_/2 * torch.exp(1 - t_/2)\n",
    "impulse_resp_deriv = lambda t_: 1 / 2 * (1 - t_ / 2) * torch.exp(1 - t_ / 2) * (t_ >= 0)"
   ]
  },
  {
   "cell_type": "code",
   "execution_count": 123,
   "id": "a5803d2d",
   "metadata": {},
   "outputs": [
    {
     "data": {
      "image/png": "[encoded data removed]",
      "text/plain": [
       "<Figure size 432x288 with 1 Axes>"
      ]
     },
     "metadata": {},
     "output_type": "display_data"
    }
   ],
   "source": [
    "t = torch.linspace(0, Nr, 100)\n",
    "plt.plot(t, impulse_resp(t))\n",
    "plt.show()"
   ]
  },
  {
   "cell_type": "markdown",
   "id": "54021d63",
   "metadata": {},
   "source": [
    "# Theoretically stable network / sequence"
   ]
  },
  {
   "cell_type": "code",
   "execution_count": 124,
   "id": "33ffe747",
   "metadata": {},
   "outputs": [],
   "source": [
    "# without zdotmin constraint"
   ]
  },
  {
   "cell_type": "code",
   "execution_count": 125,
   "id": "16ca3e9b",
   "metadata": {},
   "outputs": [],
   "source": [
    "run_name = \"data/clear-butterfly-136-\""
   ]
  },
  {
   "cell_type": "code",
   "execution_count": 126,
   "id": "1645c670",
   "metadata": {},
   "outputs": [],
   "source": [
    "delays = torch.load(run_name + \"delays.pt\")\n",
    "origins = torch.load(run_name + \"origins.pt\")\n",
    "weights = torch.load(run_name + \"weights.pt\")"
   ]
  },
  {
   "cell_type": "code",
   "execution_count": 21,
   "id": "831ab913",
   "metadata": {},
   "outputs": [],
   "source": [
    "connectivity_df = pd.DataFrame.from_dict(\n",
    "    {\n",
    "        \"delays\": delays.flatten(), \n",
    "        \"neuron_sources\": origins.flatten(), \n",
    "        \"neuron_targets\": torch.arange(L).repeat_interleave(K),\n",
    "        \"weights\": weights.flatten()\n",
    "    }\n",
    ")\n",
    "#_ = connectivity_df.hist(column=\"delays\")"
   ]
  },
  {
   "cell_type": "code",
   "execution_count": 22,
   "id": "74a820b3",
   "metadata": {},
   "outputs": [],
   "source": [
    "spike_df = pd.read_csv(run_name + \"spike-sequences.csv\")"
   ]
  },
  {
   "cell_type": "code",
   "execution_count": 127,
   "id": "93997c35",
   "metadata": {},
   "outputs": [],
   "source": [
    "def get_summary_df(connectivity_df, spike_df):\n",
    "    h = lambda t_: (t_>0) * math.exp(1 - t_/2) * t_/2\n",
    "\n",
    "    new_df = spike_df.merge(spike_df, how=\"cross\", suffixes=[\"_sources\", \"_targets\"])\n",
    "    summary_df = new_df.merge(connectivity_df, on=[\"neuron_sources\", \"neuron_targets\"], how=\"outer\")\n",
    "    summary_df = summary_df.copy()\n",
    "    summary_df[\"time_diff\"] = (summary_df.spike_targets - summary_df.spike_sources - summary_df.delays)%N\n",
    "    summary_df[\"unweighted_contrib_sources\"] = summary_df.time_diff.apply(h)\n",
    "    summary_df[\"contrib_sources\"] = summary_df.unweighted_contrib_sources * summary_df.weights\n",
    "    summary_df = summary_df[summary_df.contrib_sources.abs() > 1e-5]\n",
    "    return summary_df"
   ]
  },
  {
   "cell_type": "code",
   "execution_count": 128,
   "id": "dba5e941",
   "metadata": {},
   "outputs": [],
   "source": [
    "def get_measure_df(summary_df):\n",
    "    new_df = summary_df.drop([\"spike_sources\",\"spike_targets\",\"delays\",\"weights\",\"time_diff\"], axis=1)\n",
    "    measure_df = new_df.groupby([\"neuron_targets\", \"neuron_sources\"]).agg({\"contrib_sources\": [\"min\", \"max\"]})\n",
    "    return measure_df"
   ]
  },
  {
   "cell_type": "code",
   "execution_count": 31,
   "id": "bc364641",
   "metadata": {},
   "outputs": [
    {
     "data": {
      "text/html": [
       "<div>\n",
       "<style scoped>\n",
       "    .dataframe tbody tr th:only-of-type {\n",
       "        vertical-align: middle;\n",
       "    }\n",
       "\n",
       "    .dataframe tbody tr th {\n",
       "        vertical-align: top;\n",
       "    }\n",
       "\n",
       "    .dataframe thead th {\n",
       "        text-align: right;\n",
       "    }\n",
       "</style>\n",
       "<table border=\"1\" class=\"dataframe\">\n",
       "  <thead>\n",
       "    <tr style=\"text-align: right;\">\n",
       "      <th></th>\n",
       "      <th>index_sources</th>\n",
       "      <th>neuron_sources</th>\n",
       "      <th>spike_sources</th>\n",
       "      <th>index_targets</th>\n",
       "      <th>neuron_targets</th>\n",
       "      <th>spike_targets</th>\n",
       "      <th>delays</th>\n",
       "      <th>weights</th>\n",
       "      <th>time_diff</th>\n",
       "      <th>unweighted_contrib_sources</th>\n",
       "      <th>contrib_sources</th>\n",
       "    </tr>\n",
       "  </thead>\n",
       "  <tbody>\n",
       "    <tr>\n",
       "      <th>5</th>\n",
       "      <td>0</td>\n",
       "      <td>0</td>\n",
       "      <td>11</td>\n",
       "      <td>2</td>\n",
       "      <td>0</td>\n",
       "      <td>54</td>\n",
       "      <td>36.110626</td>\n",
       "      <td>-0.013542</td>\n",
       "      <td>6.889374</td>\n",
       "      <td>0.298838</td>\n",
       "      <td>-0.004047</td>\n",
       "    </tr>\n",
       "    <tr>\n",
       "      <th>6</th>\n",
       "      <td>0</td>\n",
       "      <td>0</td>\n",
       "      <td>11</td>\n",
       "      <td>3</td>\n",
       "      <td>0</td>\n",
       "      <td>78</td>\n",
       "      <td>44.729557</td>\n",
       "      <td>0.100000</td>\n",
       "      <td>22.270443</td>\n",
       "      <td>0.000442</td>\n",
       "      <td>0.000044</td>\n",
       "    </tr>\n",
       "    <tr>\n",
       "      <th>14</th>\n",
       "      <td>1</td>\n",
       "      <td>0</td>\n",
       "      <td>32</td>\n",
       "      <td>3</td>\n",
       "      <td>0</td>\n",
       "      <td>78</td>\n",
       "      <td>44.729557</td>\n",
       "      <td>0.100000</td>\n",
       "      <td>1.270443</td>\n",
       "      <td>0.914843</td>\n",
       "      <td>0.091484</td>\n",
       "    </tr>\n",
       "    <tr>\n",
       "      <th>15</th>\n",
       "      <td>1</td>\n",
       "      <td>0</td>\n",
       "      <td>32</td>\n",
       "      <td>3</td>\n",
       "      <td>0</td>\n",
       "      <td>78</td>\n",
       "      <td>36.110626</td>\n",
       "      <td>-0.013542</td>\n",
       "      <td>9.889374</td>\n",
       "      <td>0.095716</td>\n",
       "      <td>-0.001296</td>\n",
       "    </tr>\n",
       "    <tr>\n",
       "      <th>16</th>\n",
       "      <td>2</td>\n",
       "      <td>0</td>\n",
       "      <td>54</td>\n",
       "      <td>0</td>\n",
       "      <td>0</td>\n",
       "      <td>11</td>\n",
       "      <td>44.729557</td>\n",
       "      <td>0.100000</td>\n",
       "      <td>12.270443</td>\n",
       "      <td>0.036110</td>\n",
       "      <td>0.003611</td>\n",
       "    </tr>\n",
       "    <tr>\n",
       "      <th>...</th>\n",
       "      <td>...</td>\n",
       "      <td>...</td>\n",
       "      <td>...</td>\n",
       "      <td>...</td>\n",
       "      <td>...</td>\n",
       "      <td>...</td>\n",
       "      <td>...</td>\n",
       "      <td>...</td>\n",
       "      <td>...</td>\n",
       "      <td>...</td>\n",
       "      <td>...</td>\n",
       "    </tr>\n",
       "    <tr>\n",
       "      <th>1021903</th>\n",
       "      <td>1</td>\n",
       "      <td>199</td>\n",
       "      <td>58</td>\n",
       "      <td>2</td>\n",
       "      <td>199</td>\n",
       "      <td>96</td>\n",
       "      <td>28.412676</td>\n",
       "      <td>-0.077339</td>\n",
       "      <td>9.587324</td>\n",
       "      <td>0.107920</td>\n",
       "      <td>-0.008346</td>\n",
       "    </tr>\n",
       "    <tr>\n",
       "      <th>1021904</th>\n",
       "      <td>1</td>\n",
       "      <td>199</td>\n",
       "      <td>58</td>\n",
       "      <td>2</td>\n",
       "      <td>199</td>\n",
       "      <td>96</td>\n",
       "      <td>19.040390</td>\n",
       "      <td>-0.066458</td>\n",
       "      <td>18.959610</td>\n",
       "      <td>0.001968</td>\n",
       "      <td>-0.000131</td>\n",
       "    </tr>\n",
       "    <tr>\n",
       "      <th>1021906</th>\n",
       "      <td>2</td>\n",
       "      <td>199</td>\n",
       "      <td>96</td>\n",
       "      <td>0</td>\n",
       "      <td>199</td>\n",
       "      <td>17</td>\n",
       "      <td>19.074284</td>\n",
       "      <td>0.064998</td>\n",
       "      <td>1.925716</td>\n",
       "      <td>0.999293</td>\n",
       "      <td>0.064952</td>\n",
       "    </tr>\n",
       "    <tr>\n",
       "      <th>1021908</th>\n",
       "      <td>2</td>\n",
       "      <td>199</td>\n",
       "      <td>96</td>\n",
       "      <td>0</td>\n",
       "      <td>199</td>\n",
       "      <td>17</td>\n",
       "      <td>19.040390</td>\n",
       "      <td>-0.066458</td>\n",
       "      <td>1.959610</td>\n",
       "      <td>0.999793</td>\n",
       "      <td>-0.066444</td>\n",
       "    </tr>\n",
       "    <tr>\n",
       "      <th>1021909</th>\n",
       "      <td>2</td>\n",
       "      <td>199</td>\n",
       "      <td>96</td>\n",
       "      <td>1</td>\n",
       "      <td>199</td>\n",
       "      <td>58</td>\n",
       "      <td>45.540565</td>\n",
       "      <td>-0.032115</td>\n",
       "      <td>16.459435</td>\n",
       "      <td>0.005964</td>\n",
       "      <td>-0.000192</td>\n",
       "    </tr>\n",
       "  </tbody>\n",
       "</table>\n",
       "<p>230671 rows × 11 columns</p>\n",
       "</div>"
      ],
      "text/plain": [
       "         index_sources  neuron_sources  spike_sources  index_targets  \\\n",
       "5                    0               0             11              2   \n",
       "6                    0               0             11              3   \n",
       "14                   1               0             32              3   \n",
       "15                   1               0             32              3   \n",
       "16                   2               0             54              0   \n",
       "...                ...             ...            ...            ...   \n",
       "1021903              1             199             58              2   \n",
       "1021904              1             199             58              2   \n",
       "1021906              2             199             96              0   \n",
       "1021908              2             199             96              0   \n",
       "1021909              2             199             96              1   \n",
       "\n",
       "         neuron_targets  spike_targets     delays   weights  time_diff  \\\n",
       "5                     0             54  36.110626 -0.013542   6.889374   \n",
       "6                     0             78  44.729557  0.100000  22.270443   \n",
       "14                    0             78  44.729557  0.100000   1.270443   \n",
       "15                    0             78  36.110626 -0.013542   9.889374   \n",
       "16                    0             11  44.729557  0.100000  12.270443   \n",
       "...                 ...            ...        ...       ...        ...   \n",
       "1021903             199             96  28.412676 -0.077339   9.587324   \n",
       "1021904             199             96  19.040390 -0.066458  18.959610   \n",
       "1021906             199             17  19.074284  0.064998   1.925716   \n",
       "1021908             199             17  19.040390 -0.066458   1.959610   \n",
       "1021909             199             58  45.540565 -0.032115  16.459435   \n",
       "\n",
       "         unweighted_contrib_sources  contrib_sources  \n",
       "5                          0.298838        -0.004047  \n",
       "6                          0.000442         0.000044  \n",
       "14                         0.914843         0.091484  \n",
       "15                         0.095716        -0.001296  \n",
       "16                         0.036110         0.003611  \n",
       "...                             ...              ...  \n",
       "1021903                    0.107920        -0.008346  \n",
       "1021904                    0.001968        -0.000131  \n",
       "1021906                    0.999293         0.064952  \n",
       "1021908                    0.999793        -0.066444  \n",
       "1021909                    0.005964        -0.000192  \n",
       "\n",
       "[230671 rows x 11 columns]"
      ]
     },
     "execution_count": 31,
     "metadata": {},
     "output_type": "execute_result"
    }
   ],
   "source": [
    "summary_df = get_summary_df(connectivity_df, spike_df)\n",
    "summary_df"
   ]
  },
  {
   "cell_type": "code",
   "execution_count": 32,
   "id": "18e74625",
   "metadata": {},
   "outputs": [
    {
     "data": {
      "image/png": "[encoded data removed]",
      "text/plain": [
       "<Figure size 432x288 with 1 Axes>"
      ]
     },
     "metadata": {},
     "output_type": "display_data"
    }
   ],
   "source": [
    "_ = summary_df.time_diff.hist(bins=101, color=\"C1\")"
   ]
  },
  {
   "cell_type": "code",
   "execution_count": 33,
   "id": "0f95fb8c",
   "metadata": {},
   "outputs": [
    {
     "data": {
      "text/html": [
       "<div>\n",
       "<style scoped>\n",
       "    .dataframe tbody tr th:only-of-type {\n",
       "        vertical-align: middle;\n",
       "    }\n",
       "\n",
       "    .dataframe tbody tr th {\n",
       "        vertical-align: top;\n",
       "    }\n",
       "\n",
       "    .dataframe thead th {\n",
       "        text-align: right;\n",
       "    }\n",
       "</style>\n",
       "<table border=\"1\" class=\"dataframe\">\n",
       "  <thead>\n",
       "    <tr style=\"text-align: right;\">\n",
       "      <th></th>\n",
       "      <th>index_sources</th>\n",
       "      <th>neuron_sources</th>\n",
       "      <th>spike_sources</th>\n",
       "      <th>index_targets</th>\n",
       "      <th>neuron_targets</th>\n",
       "      <th>spike_targets</th>\n",
       "      <th>delays</th>\n",
       "      <th>weights</th>\n",
       "      <th>time_diff</th>\n",
       "      <th>unweighted_contrib_sources</th>\n",
       "      <th>contrib_sources</th>\n",
       "    </tr>\n",
       "  </thead>\n",
       "  <tbody>\n",
       "    <tr>\n",
       "      <th>index_sources</th>\n",
       "      <td>1.000000</td>\n",
       "      <td>-0.021786</td>\n",
       "      <td>0.892770</td>\n",
       "      <td>-0.226847</td>\n",
       "      <td>-0.000073</td>\n",
       "      <td>-0.239007</td>\n",
       "      <td>-0.006172</td>\n",
       "      <td>0.001987</td>\n",
       "      <td>-0.001994</td>\n",
       "      <td>0.000554</td>\n",
       "      <td>0.004597</td>\n",
       "    </tr>\n",
       "    <tr>\n",
       "      <th>neuron_sources</th>\n",
       "      <td>-0.021786</td>\n",
       "      <td>1.000000</td>\n",
       "      <td>-0.008367</td>\n",
       "      <td>-0.003382</td>\n",
       "      <td>0.000143</td>\n",
       "      <td>-0.003372</td>\n",
       "      <td>0.001294</td>\n",
       "      <td>-0.003404</td>\n",
       "      <td>-0.001500</td>\n",
       "      <td>0.000505</td>\n",
       "      <td>0.003260</td>\n",
       "    </tr>\n",
       "    <tr>\n",
       "      <th>spike_sources</th>\n",
       "      <td>0.892770</td>\n",
       "      <td>-0.008367</td>\n",
       "      <td>1.000000</td>\n",
       "      <td>-0.238936</td>\n",
       "      <td>-0.002017</td>\n",
       "      <td>-0.251967</td>\n",
       "      <td>-0.004911</td>\n",
       "      <td>-0.001857</td>\n",
       "      <td>-0.003293</td>\n",
       "      <td>0.001204</td>\n",
       "      <td>0.001959</td>\n",
       "    </tr>\n",
       "    <tr>\n",
       "      <th>index_targets</th>\n",
       "      <td>-0.226847</td>\n",
       "      <td>-0.003382</td>\n",
       "      <td>-0.238936</td>\n",
       "      <td>1.000000</td>\n",
       "      <td>-0.021221</td>\n",
       "      <td>0.892381</td>\n",
       "      <td>0.000456</td>\n",
       "      <td>0.014559</td>\n",
       "      <td>0.000629</td>\n",
       "      <td>0.001732</td>\n",
       "      <td>0.000568</td>\n",
       "    </tr>\n",
       "    <tr>\n",
       "      <th>neuron_targets</th>\n",
       "      <td>-0.000073</td>\n",
       "      <td>0.000143</td>\n",
       "      <td>-0.002017</td>\n",
       "      <td>-0.021221</td>\n",
       "      <td>1.000000</td>\n",
       "      <td>-0.005182</td>\n",
       "      <td>-0.002232</td>\n",
       "      <td>-0.001740</td>\n",
       "      <td>-0.001373</td>\n",
       "      <td>0.001041</td>\n",
       "      <td>-0.000146</td>\n",
       "    </tr>\n",
       "    <tr>\n",
       "      <th>spike_targets</th>\n",
       "      <td>-0.239007</td>\n",
       "      <td>-0.003372</td>\n",
       "      <td>-0.251967</td>\n",
       "      <td>0.892381</td>\n",
       "      <td>-0.005182</td>\n",
       "      <td>1.000000</td>\n",
       "      <td>-0.001028</td>\n",
       "      <td>0.000625</td>\n",
       "      <td>-0.000864</td>\n",
       "      <td>0.002411</td>\n",
       "      <td>0.000662</td>\n",
       "    </tr>\n",
       "    <tr>\n",
       "      <th>delays</th>\n",
       "      <td>-0.006172</td>\n",
       "      <td>0.001294</td>\n",
       "      <td>-0.004911</td>\n",
       "      <td>0.000456</td>\n",
       "      <td>-0.002232</td>\n",
       "      <td>-0.001028</td>\n",
       "      <td>1.000000</td>\n",
       "      <td>-0.002235</td>\n",
       "      <td>-0.000509</td>\n",
       "      <td>0.002454</td>\n",
       "      <td>-0.001135</td>\n",
       "    </tr>\n",
       "    <tr>\n",
       "      <th>weights</th>\n",
       "      <td>0.001987</td>\n",
       "      <td>-0.003404</td>\n",
       "      <td>-0.001857</td>\n",
       "      <td>0.014559</td>\n",
       "      <td>-0.001740</td>\n",
       "      <td>0.000625</td>\n",
       "      <td>-0.002235</td>\n",
       "      <td>1.000000</td>\n",
       "      <td>0.017039</td>\n",
       "      <td>0.066539</td>\n",
       "      <td>0.586379</td>\n",
       "    </tr>\n",
       "    <tr>\n",
       "      <th>time_diff</th>\n",
       "      <td>-0.001994</td>\n",
       "      <td>-0.001500</td>\n",
       "      <td>-0.003293</td>\n",
       "      <td>0.000629</td>\n",
       "      <td>-0.001373</td>\n",
       "      <td>-0.000864</td>\n",
       "      <td>-0.000509</td>\n",
       "      <td>0.017039</td>\n",
       "      <td>1.000000</td>\n",
       "      <td>-0.808922</td>\n",
       "      <td>-0.186593</td>\n",
       "    </tr>\n",
       "    <tr>\n",
       "      <th>unweighted_contrib_sources</th>\n",
       "      <td>0.000554</td>\n",
       "      <td>0.000505</td>\n",
       "      <td>0.001204</td>\n",
       "      <td>0.001732</td>\n",
       "      <td>0.001041</td>\n",
       "      <td>0.002411</td>\n",
       "      <td>0.002454</td>\n",
       "      <td>0.066539</td>\n",
       "      <td>-0.808922</td>\n",
       "      <td>1.000000</td>\n",
       "      <td>0.256929</td>\n",
       "    </tr>\n",
       "    <tr>\n",
       "      <th>contrib_sources</th>\n",
       "      <td>0.004597</td>\n",
       "      <td>0.003260</td>\n",
       "      <td>0.001959</td>\n",
       "      <td>0.000568</td>\n",
       "      <td>-0.000146</td>\n",
       "      <td>0.000662</td>\n",
       "      <td>-0.001135</td>\n",
       "      <td>0.586379</td>\n",
       "      <td>-0.186593</td>\n",
       "      <td>0.256929</td>\n",
       "      <td>1.000000</td>\n",
       "    </tr>\n",
       "  </tbody>\n",
       "</table>\n",
       "</div>"
      ],
      "text/plain": [
       "                            index_sources  neuron_sources  spike_sources  \\\n",
       "index_sources                    1.000000       -0.021786       0.892770   \n",
       "neuron_sources                  -0.021786        1.000000      -0.008367   \n",
       "spike_sources                    0.892770       -0.008367       1.000000   \n",
       "index_targets                   -0.226847       -0.003382      -0.238936   \n",
       "neuron_targets                  -0.000073        0.000143      -0.002017   \n",
       "spike_targets                   -0.239007       -0.003372      -0.251967   \n",
       "delays                          -0.006172        0.001294      -0.004911   \n",
       "weights                          0.001987       -0.003404      -0.001857   \n",
       "time_diff                       -0.001994       -0.001500      -0.003293   \n",
       "unweighted_contrib_sources       0.000554        0.000505       0.001204   \n",
       "contrib_sources                  0.004597        0.003260       0.001959   \n",
       "\n",
       "                            index_targets  neuron_targets  spike_targets  \\\n",
       "index_sources                   -0.226847       -0.000073      -0.239007   \n",
       "neuron_sources                  -0.003382        0.000143      -0.003372   \n",
       "spike_sources                   -0.238936       -0.002017      -0.251967   \n",
       "index_targets                    1.000000       -0.021221       0.892381   \n",
       "neuron_targets                  -0.021221        1.000000      -0.005182   \n",
       "spike_targets                    0.892381       -0.005182       1.000000   \n",
       "delays                           0.000456       -0.002232      -0.001028   \n",
       "weights                          0.014559       -0.001740       0.000625   \n",
       "time_diff                        0.000629       -0.001373      -0.000864   \n",
       "unweighted_contrib_sources       0.001732        0.001041       0.002411   \n",
       "contrib_sources                  0.000568       -0.000146       0.000662   \n",
       "\n",
       "                              delays   weights  time_diff  \\\n",
       "index_sources              -0.006172  0.001987  -0.001994   \n",
       "neuron_sources              0.001294 -0.003404  -0.001500   \n",
       "spike_sources              -0.004911 -0.001857  -0.003293   \n",
       "index_targets               0.000456  0.014559   0.000629   \n",
       "neuron_targets             -0.002232 -0.001740  -0.001373   \n",
       "spike_targets              -0.001028  0.000625  -0.000864   \n",
       "delays                      1.000000 -0.002235  -0.000509   \n",
       "weights                    -0.002235  1.000000   0.017039   \n",
       "time_diff                  -0.000509  0.017039   1.000000   \n",
       "unweighted_contrib_sources  0.002454  0.066539  -0.808922   \n",
       "contrib_sources            -0.001135  0.586379  -0.186593   \n",
       "\n",
       "                            unweighted_contrib_sources  contrib_sources  \n",
       "index_sources                                 0.000554         0.004597  \n",
       "neuron_sources                                0.000505         0.003260  \n",
       "spike_sources                                 0.001204         0.001959  \n",
       "index_targets                                 0.001732         0.000568  \n",
       "neuron_targets                                0.001041        -0.000146  \n",
       "spike_targets                                 0.002411         0.000662  \n",
       "delays                                        0.002454        -0.001135  \n",
       "weights                                       0.066539         0.586379  \n",
       "time_diff                                    -0.808922        -0.186593  \n",
       "unweighted_contrib_sources                    1.000000         0.256929  \n",
       "contrib_sources                               0.256929         1.000000  "
      ]
     },
     "execution_count": 33,
     "metadata": {},
     "output_type": "execute_result"
    }
   ],
   "source": [
    "summary_df.corr()"
   ]
  },
  {
   "cell_type": "code",
   "execution_count": 34,
   "id": "41e5d5a2",
   "metadata": {},
   "outputs": [
    {
     "data": {
      "text/html": [
       "<div>\n",
       "<style scoped>\n",
       "    .dataframe tbody tr th:only-of-type {\n",
       "        vertical-align: middle;\n",
       "    }\n",
       "\n",
       "    .dataframe tbody tr th {\n",
       "        vertical-align: top;\n",
       "    }\n",
       "\n",
       "    .dataframe thead th {\n",
       "        text-align: right;\n",
       "    }\n",
       "</style>\n",
       "<table border=\"1\" class=\"dataframe\">\n",
       "  <thead>\n",
       "    <tr style=\"text-align: right;\">\n",
       "      <th></th>\n",
       "      <th>index_sources</th>\n",
       "      <th>neuron_sources</th>\n",
       "      <th>spike_sources</th>\n",
       "      <th>index_targets</th>\n",
       "      <th>neuron_targets</th>\n",
       "      <th>spike_targets</th>\n",
       "      <th>delays</th>\n",
       "      <th>weights</th>\n",
       "      <th>time_diff</th>\n",
       "      <th>unweighted_contrib_sources</th>\n",
       "      <th>contrib_sources</th>\n",
       "    </tr>\n",
       "  </thead>\n",
       "  <tbody>\n",
       "    <tr>\n",
       "      <th>349001</th>\n",
       "      <td>2</td>\n",
       "      <td>67</td>\n",
       "      <td>97</td>\n",
       "      <td>1</td>\n",
       "      <td>81</td>\n",
       "      <td>41</td>\n",
       "      <td>41.998245</td>\n",
       "      <td>0.100000</td>\n",
       "      <td>2.001755</td>\n",
       "      <td>1.000000</td>\n",
       "      <td>0.100000</td>\n",
       "    </tr>\n",
       "    <tr>\n",
       "      <th>467494</th>\n",
       "      <td>2</td>\n",
       "      <td>89</td>\n",
       "      <td>87</td>\n",
       "      <td>1</td>\n",
       "      <td>80</td>\n",
       "      <td>38</td>\n",
       "      <td>48.996582</td>\n",
       "      <td>0.100000</td>\n",
       "      <td>2.003418</td>\n",
       "      <td>0.999999</td>\n",
       "      <td>0.100000</td>\n",
       "    </tr>\n",
       "    <tr>\n",
       "      <th>402347</th>\n",
       "      <td>1</td>\n",
       "      <td>77</td>\n",
       "      <td>56</td>\n",
       "      <td>2</td>\n",
       "      <td>119</td>\n",
       "      <td>82</td>\n",
       "      <td>23.994736</td>\n",
       "      <td>0.100000</td>\n",
       "      <td>2.005264</td>\n",
       "      <td>0.999997</td>\n",
       "      <td>0.100000</td>\n",
       "    </tr>\n",
       "    <tr>\n",
       "      <th>998973</th>\n",
       "      <td>3</td>\n",
       "      <td>195</td>\n",
       "      <td>97</td>\n",
       "      <td>0</td>\n",
       "      <td>35</td>\n",
       "      <td>3</td>\n",
       "      <td>3.995039</td>\n",
       "      <td>0.100000</td>\n",
       "      <td>2.004961</td>\n",
       "      <td>0.999997</td>\n",
       "      <td>0.099999</td>\n",
       "    </tr>\n",
       "    <tr>\n",
       "      <th>312698</th>\n",
       "      <td>0</td>\n",
       "      <td>59</td>\n",
       "      <td>20</td>\n",
       "      <td>1</td>\n",
       "      <td>196</td>\n",
       "      <td>36</td>\n",
       "      <td>13.993599</td>\n",
       "      <td>0.100000</td>\n",
       "      <td>2.006401</td>\n",
       "      <td>0.999995</td>\n",
       "      <td>0.099999</td>\n",
       "    </tr>\n",
       "    <tr>\n",
       "      <th>470974</th>\n",
       "      <td>0</td>\n",
       "      <td>90</td>\n",
       "      <td>15</td>\n",
       "      <td>1</td>\n",
       "      <td>44</td>\n",
       "      <td>35</td>\n",
       "      <td>18.007761</td>\n",
       "      <td>0.100000</td>\n",
       "      <td>1.992239</td>\n",
       "      <td>0.999992</td>\n",
       "      <td>0.099999</td>\n",
       "    </tr>\n",
       "    <tr>\n",
       "      <th>66144</th>\n",
       "      <td>0</td>\n",
       "      <td>12</td>\n",
       "      <td>0</td>\n",
       "      <td>1</td>\n",
       "      <td>170</td>\n",
       "      <td>44</td>\n",
       "      <td>41.991673</td>\n",
       "      <td>0.100000</td>\n",
       "      <td>2.008327</td>\n",
       "      <td>0.999991</td>\n",
       "      <td>0.099999</td>\n",
       "    </tr>\n",
       "    <tr>\n",
       "      <th>148387</th>\n",
       "      <td>1</td>\n",
       "      <td>28</td>\n",
       "      <td>35</td>\n",
       "      <td>1</td>\n",
       "      <td>61</td>\n",
       "      <td>62</td>\n",
       "      <td>24.989037</td>\n",
       "      <td>0.100000</td>\n",
       "      <td>2.010963</td>\n",
       "      <td>0.999985</td>\n",
       "      <td>0.099999</td>\n",
       "    </tr>\n",
       "    <tr>\n",
       "      <th>184589</th>\n",
       "      <td>3</td>\n",
       "      <td>34</td>\n",
       "      <td>94</td>\n",
       "      <td>1</td>\n",
       "      <td>180</td>\n",
       "      <td>41</td>\n",
       "      <td>44.987503</td>\n",
       "      <td>0.100000</td>\n",
       "      <td>2.012497</td>\n",
       "      <td>0.999981</td>\n",
       "      <td>0.099998</td>\n",
       "    </tr>\n",
       "    <tr>\n",
       "      <th>89197</th>\n",
       "      <td>2</td>\n",
       "      <td>16</td>\n",
       "      <td>98</td>\n",
       "      <td>0</td>\n",
       "      <td>185</td>\n",
       "      <td>19</td>\n",
       "      <td>18.990633</td>\n",
       "      <td>0.099998</td>\n",
       "      <td>2.009367</td>\n",
       "      <td>0.999989</td>\n",
       "      <td>0.099997</td>\n",
       "    </tr>\n",
       "    <tr>\n",
       "      <th>798797</th>\n",
       "      <td>0</td>\n",
       "      <td>155</td>\n",
       "      <td>5</td>\n",
       "      <td>0</td>\n",
       "      <td>149</td>\n",
       "      <td>16</td>\n",
       "      <td>8.990636</td>\n",
       "      <td>0.099998</td>\n",
       "      <td>2.009364</td>\n",
       "      <td>0.999989</td>\n",
       "      <td>0.099997</td>\n",
       "    </tr>\n",
       "    <tr>\n",
       "      <th>693890</th>\n",
       "      <td>1</td>\n",
       "      <td>133</td>\n",
       "      <td>38</td>\n",
       "      <td>2</td>\n",
       "      <td>163</td>\n",
       "      <td>59</td>\n",
       "      <td>19.018951</td>\n",
       "      <td>0.100000</td>\n",
       "      <td>1.981049</td>\n",
       "      <td>0.999955</td>\n",
       "      <td>0.099995</td>\n",
       "    </tr>\n",
       "    <tr>\n",
       "      <th>693902</th>\n",
       "      <td>3</td>\n",
       "      <td>133</td>\n",
       "      <td>84</td>\n",
       "      <td>0</td>\n",
       "      <td>163</td>\n",
       "      <td>5</td>\n",
       "      <td>19.018951</td>\n",
       "      <td>0.100000</td>\n",
       "      <td>1.981049</td>\n",
       "      <td>0.999955</td>\n",
       "      <td>0.099995</td>\n",
       "    </tr>\n",
       "    <tr>\n",
       "      <th>456235</th>\n",
       "      <td>2</td>\n",
       "      <td>87</td>\n",
       "      <td>73</td>\n",
       "      <td>3</td>\n",
       "      <td>15</td>\n",
       "      <td>90</td>\n",
       "      <td>14.980885</td>\n",
       "      <td>0.100000</td>\n",
       "      <td>2.019115</td>\n",
       "      <td>0.999955</td>\n",
       "      <td>0.099995</td>\n",
       "    </tr>\n",
       "    <tr>\n",
       "      <th>806578</th>\n",
       "      <td>2</td>\n",
       "      <td>157</td>\n",
       "      <td>54</td>\n",
       "      <td>3</td>\n",
       "      <td>9</td>\n",
       "      <td>93</td>\n",
       "      <td>37.018997</td>\n",
       "      <td>0.100000</td>\n",
       "      <td>1.981003</td>\n",
       "      <td>0.999955</td>\n",
       "      <td>0.099995</td>\n",
       "    </tr>\n",
       "    <tr>\n",
       "      <th>719471</th>\n",
       "      <td>1</td>\n",
       "      <td>139</td>\n",
       "      <td>57</td>\n",
       "      <td>3</td>\n",
       "      <td>6</td>\n",
       "      <td>82</td>\n",
       "      <td>22.985163</td>\n",
       "      <td>0.099997</td>\n",
       "      <td>2.014837</td>\n",
       "      <td>0.999973</td>\n",
       "      <td>0.099995</td>\n",
       "    </tr>\n",
       "    <tr>\n",
       "      <th>719474</th>\n",
       "      <td>2</td>\n",
       "      <td>139</td>\n",
       "      <td>85</td>\n",
       "      <td>0</td>\n",
       "      <td>6</td>\n",
       "      <td>10</td>\n",
       "      <td>22.985163</td>\n",
       "      <td>0.099997</td>\n",
       "      <td>2.014837</td>\n",
       "      <td>0.999973</td>\n",
       "      <td>0.099995</td>\n",
       "    </tr>\n",
       "    <tr>\n",
       "      <th>657097</th>\n",
       "      <td>2</td>\n",
       "      <td>126</td>\n",
       "      <td>53</td>\n",
       "      <td>2</td>\n",
       "      <td>146</td>\n",
       "      <td>72</td>\n",
       "      <td>16.978554</td>\n",
       "      <td>0.099999</td>\n",
       "      <td>2.021446</td>\n",
       "      <td>0.999943</td>\n",
       "      <td>0.099994</td>\n",
       "    </tr>\n",
       "    <tr>\n",
       "      <th>430810</th>\n",
       "      <td>0</td>\n",
       "      <td>82</td>\n",
       "      <td>20</td>\n",
       "      <td>0</td>\n",
       "      <td>118</td>\n",
       "      <td>25</td>\n",
       "      <td>3.022699</td>\n",
       "      <td>0.100000</td>\n",
       "      <td>1.977301</td>\n",
       "      <td>0.999935</td>\n",
       "      <td>0.099994</td>\n",
       "    </tr>\n",
       "    <tr>\n",
       "      <th>430830</th>\n",
       "      <td>2</td>\n",
       "      <td>82</td>\n",
       "      <td>72</td>\n",
       "      <td>2</td>\n",
       "      <td>118</td>\n",
       "      <td>77</td>\n",
       "      <td>3.022699</td>\n",
       "      <td>0.100000</td>\n",
       "      <td>1.977301</td>\n",
       "      <td>0.999935</td>\n",
       "      <td>0.099994</td>\n",
       "    </tr>\n",
       "  </tbody>\n",
       "</table>\n",
       "</div>"
      ],
      "text/plain": [
       "        index_sources  neuron_sources  spike_sources  index_targets  \\\n",
       "349001              2              67             97              1   \n",
       "467494              2              89             87              1   \n",
       "402347              1              77             56              2   \n",
       "998973              3             195             97              0   \n",
       "312698              0              59             20              1   \n",
       "470974              0              90             15              1   \n",
       "66144               0              12              0              1   \n",
       "148387              1              28             35              1   \n",
       "184589              3              34             94              1   \n",
       "89197               2              16             98              0   \n",
       "798797              0             155              5              0   \n",
       "693890              1             133             38              2   \n",
       "693902              3             133             84              0   \n",
       "456235              2              87             73              3   \n",
       "806578              2             157             54              3   \n",
       "719471              1             139             57              3   \n",
       "719474              2             139             85              0   \n",
       "657097              2             126             53              2   \n",
       "430810              0              82             20              0   \n",
       "430830              2              82             72              2   \n",
       "\n",
       "        neuron_targets  spike_targets     delays   weights  time_diff  \\\n",
       "349001              81             41  41.998245  0.100000   2.001755   \n",
       "467494              80             38  48.996582  0.100000   2.003418   \n",
       "402347             119             82  23.994736  0.100000   2.005264   \n",
       "998973              35              3   3.995039  0.100000   2.004961   \n",
       "312698             196             36  13.993599  0.100000   2.006401   \n",
       "470974              44             35  18.007761  0.100000   1.992239   \n",
       "66144              170             44  41.991673  0.100000   2.008327   \n",
       "148387              61             62  24.989037  0.100000   2.010963   \n",
       "184589             180             41  44.987503  0.100000   2.012497   \n",
       "89197              185             19  18.990633  0.099998   2.009367   \n",
       "798797             149             16   8.990636  0.099998   2.009364   \n",
       "693890             163             59  19.018951  0.100000   1.981049   \n",
       "693902             163              5  19.018951  0.100000   1.981049   \n",
       "456235              15             90  14.980885  0.100000   2.019115   \n",
       "806578               9             93  37.018997  0.100000   1.981003   \n",
       "719471               6             82  22.985163  0.099997   2.014837   \n",
       "719474               6             10  22.985163  0.099997   2.014837   \n",
       "657097             146             72  16.978554  0.099999   2.021446   \n",
       "430810             118             25   3.022699  0.100000   1.977301   \n",
       "430830             118             77   3.022699  0.100000   1.977301   \n",
       "\n",
       "        unweighted_contrib_sources  contrib_sources  \n",
       "349001                    1.000000         0.100000  \n",
       "467494                    0.999999         0.100000  \n",
       "402347                    0.999997         0.100000  \n",
       "998973                    0.999997         0.099999  \n",
       "312698                    0.999995         0.099999  \n",
       "470974                    0.999992         0.099999  \n",
       "66144                     0.999991         0.099999  \n",
       "148387                    0.999985         0.099999  \n",
       "184589                    0.999981         0.099998  \n",
       "89197                     0.999989         0.099997  \n",
       "798797                    0.999989         0.099997  \n",
       "693890                    0.999955         0.099995  \n",
       "693902                    0.999955         0.099995  \n",
       "456235                    0.999955         0.099995  \n",
       "806578                    0.999955         0.099995  \n",
       "719471                    0.999973         0.099995  \n",
       "719474                    0.999973         0.099995  \n",
       "657097                    0.999943         0.099994  \n",
       "430810                    0.999935         0.099994  \n",
       "430830                    0.999935         0.099994  "
      ]
     },
     "execution_count": 34,
     "metadata": {},
     "output_type": "execute_result"
    }
   ],
   "source": [
    "summary_df.nlargest(20, \"contrib_sources\")"
   ]
  },
  {
   "cell_type": "code",
   "execution_count": 35,
   "id": "91438410",
   "metadata": {},
   "outputs": [
    {
     "data": {
      "image/png": "[encoded data removed]",
      "text/plain": [
       "<Figure size 432x288 with 1 Axes>"
      ]
     },
     "metadata": {},
     "output_type": "display_data"
    }
   ],
   "source": [
    "_ = summary_df[summary_df.time_diff < 2].contrib_sources.hist(bins=101, color=\"C1\")"
   ]
  },
  {
   "cell_type": "code",
   "execution_count": null,
   "id": "9e529b62",
   "metadata": {},
   "outputs": [],
   "source": []
  },
  {
   "cell_type": "code",
   "execution_count": 36,
   "id": "072514f4",
   "metadata": {},
   "outputs": [
    {
     "data": {
      "image/png": "[encoded data removed]",
      "text/plain": [
       "<Figure size 432x288 with 1 Axes>"
      ]
     },
     "metadata": {},
     "output_type": "display_data"
    }
   ],
   "source": [
    "_ = summary_df.contrib_sources.hist(bins=101, color=\"C1\")"
   ]
  },
  {
   "cell_type": "code",
   "execution_count": 37,
   "id": "d6e91717",
   "metadata": {},
   "outputs": [
    {
     "data": {
      "image/png": "[encoded data removed]",
      "text/plain": [
       "<Figure size 432x288 with 1 Axes>"
      ]
     },
     "metadata": {},
     "output_type": "display_data"
    }
   ],
   "source": [
    "_ = summary_df[(summary_df.neuron_targets == 0) & (summary_df.spike_targets == 31)].contrib_sources.hist(bins=101, color=\"C1\")"
   ]
  },
  {
   "cell_type": "code",
   "execution_count": 38,
   "id": "395946d7",
   "metadata": {},
   "outputs": [
    {
     "data": {
      "image/png": "[encoded data removed]",
      "text/plain": [
       "<Figure size 432x288 with 1 Axes>"
      ]
     },
     "metadata": {},
     "output_type": "display_data"
    }
   ],
   "source": [
    "_ = connectivity_df.weights.hist(bins=101, color=\"C1\")"
   ]
  },
  {
   "cell_type": "code",
   "execution_count": 39,
   "id": "ca335619",
   "metadata": {},
   "outputs": [
    {
     "data": {
      "text/html": [
       "<div>\n",
       "<style scoped>\n",
       "    .dataframe tbody tr th:only-of-type {\n",
       "        vertical-align: middle;\n",
       "    }\n",
       "\n",
       "    .dataframe tbody tr th {\n",
       "        vertical-align: top;\n",
       "    }\n",
       "\n",
       "    .dataframe thead tr th {\n",
       "        text-align: left;\n",
       "    }\n",
       "\n",
       "    .dataframe thead tr:last-of-type th {\n",
       "        text-align: right;\n",
       "    }\n",
       "</style>\n",
       "<table border=\"1\" class=\"dataframe\">\n",
       "  <thead>\n",
       "    <tr>\n",
       "      <th></th>\n",
       "      <th></th>\n",
       "      <th colspan=\"2\" halign=\"left\">contrib_sources</th>\n",
       "    </tr>\n",
       "    <tr>\n",
       "      <th></th>\n",
       "      <th></th>\n",
       "      <th>min</th>\n",
       "      <th>max</th>\n",
       "    </tr>\n",
       "    <tr>\n",
       "      <th>neuron_targets</th>\n",
       "      <th>neuron_sources</th>\n",
       "      <th></th>\n",
       "      <th></th>\n",
       "    </tr>\n",
       "  </thead>\n",
       "  <tbody>\n",
       "    <tr>\n",
       "      <th rowspan=\"5\" valign=\"top\">0</th>\n",
       "      <th>0</th>\n",
       "      <td>-0.004047</td>\n",
       "      <td>0.091484</td>\n",
       "    </tr>\n",
       "    <tr>\n",
       "      <th>1</th>\n",
       "      <td>-0.048268</td>\n",
       "      <td>0.008215</td>\n",
       "    </tr>\n",
       "    <tr>\n",
       "      <th>2</th>\n",
       "      <td>-0.046727</td>\n",
       "      <td>-0.000369</td>\n",
       "    </tr>\n",
       "    <tr>\n",
       "      <th>3</th>\n",
       "      <td>-0.009859</td>\n",
       "      <td>-0.000351</td>\n",
       "    </tr>\n",
       "    <tr>\n",
       "      <th>4</th>\n",
       "      <td>-0.059336</td>\n",
       "      <td>-0.007682</td>\n",
       "    </tr>\n",
       "    <tr>\n",
       "      <th>...</th>\n",
       "      <th>...</th>\n",
       "      <td>...</td>\n",
       "      <td>...</td>\n",
       "    </tr>\n",
       "    <tr>\n",
       "      <th rowspan=\"5\" valign=\"top\">199</th>\n",
       "      <th>195</th>\n",
       "      <td>-0.013731</td>\n",
       "      <td>0.006873</td>\n",
       "    </tr>\n",
       "    <tr>\n",
       "      <th>196</th>\n",
       "      <td>-0.066154</td>\n",
       "      <td>0.099013</td>\n",
       "    </tr>\n",
       "    <tr>\n",
       "      <th>197</th>\n",
       "      <td>-0.050007</td>\n",
       "      <td>0.016188</td>\n",
       "    </tr>\n",
       "    <tr>\n",
       "      <th>198</th>\n",
       "      <td>0.000048</td>\n",
       "      <td>0.002491</td>\n",
       "    </tr>\n",
       "    <tr>\n",
       "      <th>199</th>\n",
       "      <td>-0.066444</td>\n",
       "      <td>0.064952</td>\n",
       "    </tr>\n",
       "  </tbody>\n",
       "</table>\n",
       "<p>34533 rows × 2 columns</p>\n",
       "</div>"
      ],
      "text/plain": [
       "                              contrib_sources          \n",
       "                                          min       max\n",
       "neuron_targets neuron_sources                          \n",
       "0              0                    -0.004047  0.091484\n",
       "               1                    -0.048268  0.008215\n",
       "               2                    -0.046727 -0.000369\n",
       "               3                    -0.009859 -0.000351\n",
       "               4                    -0.059336 -0.007682\n",
       "...                                       ...       ...\n",
       "199            195                  -0.013731  0.006873\n",
       "               196                  -0.066154  0.099013\n",
       "               197                  -0.050007  0.016188\n",
       "               198                   0.000048  0.002491\n",
       "               199                  -0.066444  0.064952\n",
       "\n",
       "[34533 rows x 2 columns]"
      ]
     },
     "execution_count": 39,
     "metadata": {},
     "output_type": "execute_result"
    }
   ],
   "source": [
    "measure_df = get_measure_df(summary_df)\n",
    "measure_df"
   ]
  },
  {
   "cell_type": "code",
   "execution_count": 144,
   "id": "87569ae3",
   "metadata": {},
   "outputs": [],
   "source": [
    "inputs, noise = get_inputs(run_name, noise_lim=(0, 0))"
   ]
  },
  {
   "cell_type": "code",
   "execution_count": 145,
   "id": "6899b6d2",
   "metadata": {},
   "outputs": [
    {
     "data": {
      "image/png": "[encoded data removed]",
      "text/plain": [
       "<Figure size 432x288 with 1 Axes>"
      ]
     },
     "metadata": {},
     "output_type": "display_data"
    }
   ],
   "source": [
    "_ = plt.hist(noise.flatten().numpy(), bins=50)"
   ]
  },
  {
   "cell_type": "code",
   "execution_count": 146,
   "id": "233378a5",
   "metadata": {},
   "outputs": [
    {
     "name": "stdout",
     "output_type": "stream",
     "text": [
      "cycle 1/5\n"
     ]
    },
    {
     "name": "stderr",
     "output_type": "stream",
     "text": [
      "100%|███████████████████████████████████████████████████████████████████████████████████████████████████████████████████████████████████████████████████████████████████████████████████████████████████████| 100/100 [04:45<00:00,  2.86s/it]\n"
     ]
    },
    {
     "name": "stdout",
     "output_type": "stream",
     "text": [
      "cycle 2/5\n"
     ]
    },
    {
     "name": "stderr",
     "output_type": "stream",
     "text": [
      "100%|███████████████████████████████████████████████████████████████████████████████████████████████████████████████████████████████████████████████████████████████████████████████████████████████████████| 100/100 [04:38<00:00,  2.78s/it]\n"
     ]
    },
    {
     "name": "stdout",
     "output_type": "stream",
     "text": [
      "cycle 3/5\n"
     ]
    },
    {
     "name": "stderr",
     "output_type": "stream",
     "text": [
      "100%|███████████████████████████████████████████████████████████████████████████████████████████████████████████████████████████████████████████████████████████████████████████████████████████████████████| 100/100 [04:38<00:00,  2.78s/it]\n"
     ]
    },
    {
     "name": "stdout",
     "output_type": "stream",
     "text": [
      "cycle 4/5\n"
     ]
    },
    {
     "name": "stderr",
     "output_type": "stream",
     "text": [
      "100%|███████████████████████████████████████████████████████████████████████████████████████████████████████████████████████████████████████████████████████████████████████████████████████████████████████| 100/100 [04:38<00:00,  2.78s/it]\n"
     ]
    },
    {
     "name": "stdout",
     "output_type": "stream",
     "text": [
      "cycle 5/5\n"
     ]
    },
    {
     "name": "stderr",
     "output_type": "stream",
     "text": [
      "100%|███████████████████████████████████████████████████████████████████████████████████████████████████████████████████████████████████████████████████████████████████████████████████████████████████████| 100/100 [04:39<00:00,  2.80s/it]\n"
     ]
    }
   ],
   "source": [
    "sim_df = simulate(delays, weights.round(decimals=1), origins, inputs.clone(), Q=5, R=1000)"
   ]
  },
  {
   "cell_type": "code",
   "execution_count": 147,
   "id": "ff6272c0",
   "metadata": {},
   "outputs": [
    {
     "data": {
      "image/png": "[encoded data removed]",
      "text/plain": [
       "<Figure size 1440x72 with 1 Axes>"
      ]
     },
     "metadata": {},
     "output_type": "display_data"
    }
   ],
   "source": [
    "plot_cycle(sim_df, spike_df, 0, 14, \"input\")"
   ]
  },
  {
   "cell_type": "code",
   "execution_count": 148,
   "id": "cde3a2c9",
   "metadata": {},
   "outputs": [
    {
     "data": {
      "image/png": "[encoded data removed]",
      "text/plain": [
       "<Figure size 1440x72 with 1 Axes>"
      ]
     },
     "metadata": {},
     "output_type": "display_data"
    }
   ],
   "source": [
    "plot_cycle(sim_df, spike_df, 1, 14, \"1st cycle\")"
   ]
  },
  {
   "cell_type": "code",
   "execution_count": 149,
   "id": "8549b6a6",
   "metadata": {},
   "outputs": [
    {
     "data": {
      "image/png": "[encoded data removed]",
      "text/plain": [
       "<Figure size 1440x72 with 1 Axes>"
      ]
     },
     "metadata": {},
     "output_type": "display_data"
    }
   ],
   "source": [
    "plot_cycle(sim_df, spike_df, 2, 14, \"2nd cycle\")"
   ]
  },
  {
   "cell_type": "code",
   "execution_count": 150,
   "id": "f0a02a07",
   "metadata": {
    "scrolled": true
   },
   "outputs": [
    {
     "data": {
      "image/png": "[encoded data removed]",
      "text/plain": [
       "<Figure size 1440x72 with 1 Axes>"
      ]
     },
     "metadata": {},
     "output_type": "display_data"
    }
   ],
   "source": [
    "plot_cycle(sim_df, spike_df, 5, 14, \"5th cycle\")"
   ]
  },
  {
   "cell_type": "code",
   "execution_count": 108,
   "id": "1f4f1d3e",
   "metadata": {},
   "outputs": [
    {
     "data": {
      "text/html": [
       "<div>\n",
       "<style scoped>\n",
       "    .dataframe tbody tr th:only-of-type {\n",
       "        vertical-align: middle;\n",
       "    }\n",
       "\n",
       "    .dataframe tbody tr th {\n",
       "        vertical-align: top;\n",
       "    }\n",
       "\n",
       "    .dataframe thead th {\n",
       "        text-align: right;\n",
       "    }\n",
       "</style>\n",
       "<table border=\"1\" class=\"dataframe\">\n",
       "  <thead>\n",
       "    <tr style=\"text-align: right;\">\n",
       "      <th></th>\n",
       "      <th>index</th>\n",
       "      <th>neuron</th>\n",
       "      <th>spike</th>\n",
       "      <th>value</th>\n",
       "    </tr>\n",
       "  </thead>\n",
       "  <tbody>\n",
       "    <tr>\n",
       "      <th>0</th>\n",
       "      <td>0</td>\n",
       "      <td>0</td>\n",
       "      <td>11</td>\n",
       "      <td>1</td>\n",
       "    </tr>\n",
       "    <tr>\n",
       "      <th>1</th>\n",
       "      <td>1</td>\n",
       "      <td>0</td>\n",
       "      <td>32</td>\n",
       "      <td>1</td>\n",
       "    </tr>\n",
       "    <tr>\n",
       "      <th>2</th>\n",
       "      <td>2</td>\n",
       "      <td>0</td>\n",
       "      <td>54</td>\n",
       "      <td>1</td>\n",
       "    </tr>\n",
       "    <tr>\n",
       "      <th>3</th>\n",
       "      <td>3</td>\n",
       "      <td>0</td>\n",
       "      <td>78</td>\n",
       "      <td>1</td>\n",
       "    </tr>\n",
       "  </tbody>\n",
       "</table>\n",
       "</div>"
      ],
      "text/plain": [
       "   index  neuron  spike  value\n",
       "0      0       0     11      1\n",
       "1      1       0     32      1\n",
       "2      2       0     54      1\n",
       "3      3       0     78      1"
      ]
     },
     "execution_count": 108,
     "metadata": {},
     "output_type": "execute_result"
    }
   ],
   "source": [
    "spike_df[spike_df.neuron == 0]"
   ]
  },
  {
   "cell_type": "code",
   "execution_count": 107,
   "id": "fe736825",
   "metadata": {},
   "outputs": [
    {
     "data": {
      "text/html": [
       "<div>\n",
       "<style scoped>\n",
       "    .dataframe tbody tr th:only-of-type {\n",
       "        vertical-align: middle;\n",
       "    }\n",
       "\n",
       "    .dataframe tbody tr th {\n",
       "        vertical-align: top;\n",
       "    }\n",
       "\n",
       "    .dataframe thead th {\n",
       "        text-align: right;\n",
       "    }\n",
       "</style>\n",
       "<table border=\"1\" class=\"dataframe\">\n",
       "  <thead>\n",
       "    <tr style=\"text-align: right;\">\n",
       "      <th></th>\n",
       "      <th>neuron</th>\n",
       "      <th>spike</th>\n",
       "      <th>value</th>\n",
       "    </tr>\n",
       "  </thead>\n",
       "  <tbody>\n",
       "    <tr>\n",
       "      <th>0</th>\n",
       "      <td>0</td>\n",
       "      <td>510.920</td>\n",
       "      <td>1</td>\n",
       "    </tr>\n",
       "    <tr>\n",
       "      <th>0</th>\n",
       "      <td>0</td>\n",
       "      <td>531.965</td>\n",
       "      <td>1</td>\n",
       "    </tr>\n",
       "    <tr>\n",
       "      <th>0</th>\n",
       "      <td>0</td>\n",
       "      <td>553.876</td>\n",
       "      <td>1</td>\n",
       "    </tr>\n",
       "    <tr>\n",
       "      <th>0</th>\n",
       "      <td>0</td>\n",
       "      <td>577.912</td>\n",
       "      <td>1</td>\n",
       "    </tr>\n",
       "  </tbody>\n",
       "</table>\n",
       "</div>"
      ],
      "text/plain": [
       "   neuron    spike  value\n",
       "0       0  510.920      1\n",
       "0       0  531.965      1\n",
       "0       0  553.876      1\n",
       "0       0  577.912      1"
      ]
     },
     "execution_count": 107,
     "metadata": {},
     "output_type": "execute_result"
    }
   ],
   "source": [
    "sim_df[(sim_df.spike > 500)&(sim_df.neuron == 0)]"
   ]
  },
  {
   "cell_type": "code",
   "execution_count": 78,
   "id": "44300120",
   "metadata": {},
   "outputs": [
    {
     "data": {
      "text/plain": [
       "28"
      ]
     },
     "execution_count": 78,
     "metadata": {},
     "output_type": "execute_result"
    }
   ],
   "source": [
    "39-11"
   ]
  },
  {
   "cell_type": "code",
   "execution_count": 80,
   "id": "4ba8187d",
   "metadata": {},
   "outputs": [
    {
     "data": {
      "text/plain": [
       "31"
      ]
     },
     "execution_count": 80,
     "metadata": {},
     "output_type": "execute_result"
    }
   ],
   "source": [
    "85-54"
   ]
  },
  {
   "cell_type": "code",
   "execution_count": 400,
   "id": "6cc70462",
   "metadata": {},
   "outputs": [
    {
     "data": {
      "text/html": [
       "<div>\n",
       "<style scoped>\n",
       "    .dataframe tbody tr th:only-of-type {\n",
       "        vertical-align: middle;\n",
       "    }\n",
       "\n",
       "    .dataframe tbody tr th {\n",
       "        vertical-align: top;\n",
       "    }\n",
       "\n",
       "    .dataframe thead th {\n",
       "        text-align: right;\n",
       "    }\n",
       "</style>\n",
       "<table border=\"1\" class=\"dataframe\">\n",
       "  <thead>\n",
       "    <tr style=\"text-align: right;\">\n",
       "      <th></th>\n",
       "      <th>neuron</th>\n",
       "      <th>spike</th>\n",
       "      <th>value</th>\n",
       "    </tr>\n",
       "  </thead>\n",
       "  <tbody>\n",
       "  </tbody>\n",
       "</table>\n",
       "</div>"
      ],
      "text/plain": [
       "Empty DataFrame\n",
       "Columns: [neuron, spike, value]\n",
       "Index: []"
      ]
     },
     "execution_count": 400,
     "metadata": {},
     "output_type": "execute_result"
    }
   ],
   "source": [
    "df_sim[df_sim.spike >= 750]"
   ]
  },
  {
   "cell_type": "code",
   "execution_count": null,
   "id": "691c4091",
   "metadata": {},
   "outputs": [],
   "source": [
    "spike_df.groupby(\"neuron\").agg({\"value\": \"sum\"}).value[mask]"
   ]
  },
  {
   "cell_type": "code",
   "execution_count": null,
   "id": "90b8b234",
   "metadata": {},
   "outputs": [],
   "source": []
  },
  {
   "cell_type": "code",
   "execution_count": 202,
   "id": "d8034c05",
   "metadata": {},
   "outputs": [],
   "source": [
    "run_name = \"data/frosty-water-120-\""
   ]
  },
  {
   "cell_type": "code",
   "execution_count": 203,
   "id": "0997cecd",
   "metadata": {},
   "outputs": [],
   "source": [
    "delays = torch.load(run_name + \"delays.pt\")\n",
    "origins = torch.load(run_name + \"origins.pt\")\n",
    "weights = torch.load(run_name + \"weights.pt\")"
   ]
  },
  {
   "cell_type": "code",
   "execution_count": 204,
   "id": "fa717e96",
   "metadata": {},
   "outputs": [],
   "source": [
    "connectivity_df = pd.DataFrame.from_dict(\n",
    "    {\n",
    "        \"delays\": delays.flatten(), \n",
    "        \"origins\": origins.flatten(), \n",
    "        \"neurons\": torch.arange(L).repeat_interleave(K),\n",
    "        \"weights\": weights.flatten()\n",
    "    }\n",
    ")\n",
    "#_ = connectivity_df.hist(column=\"delays\")"
   ]
  },
  {
   "cell_type": "code",
   "execution_count": 205,
   "id": "3531abdb",
   "metadata": {},
   "outputs": [],
   "source": [
    "df_true = pd.read_csv(run_name + \"spike-sequences.csv\")"
   ]
  },
  {
   "cell_type": "code",
   "execution_count": 206,
   "id": "dd366a95",
   "metadata": {},
   "outputs": [
    {
     "name": "stdout",
     "output_type": "stream",
     "text": [
      "cycle 1/5\n"
     ]
    },
    {
     "name": "stderr",
     "output_type": "stream",
     "text": [
      "100%|█████████████████████████████████████████| 250/250 [01:48<00:00,  2.31it/s]\n"
     ]
    },
    {
     "name": "stdout",
     "output_type": "stream",
     "text": [
      "cycle 2/5\n"
     ]
    },
    {
     "name": "stderr",
     "output_type": "stream",
     "text": [
      "100%|█████████████████████████████████████████| 250/250 [01:46<00:00,  2.35it/s]\n"
     ]
    },
    {
     "name": "stdout",
     "output_type": "stream",
     "text": [
      "cycle 3/5\n"
     ]
    },
    {
     "name": "stderr",
     "output_type": "stream",
     "text": [
      "100%|█████████████████████████████████████████| 250/250 [01:46<00:00,  2.35it/s]\n"
     ]
    },
    {
     "name": "stdout",
     "output_type": "stream",
     "text": [
      "cycle 4/5\n"
     ]
    },
    {
     "name": "stderr",
     "output_type": "stream",
     "text": [
      "100%|█████████████████████████████████████████| 250/250 [02:31<00:00,  1.65it/s]\n"
     ]
    },
    {
     "name": "stdout",
     "output_type": "stream",
     "text": [
      "cycle 5/5\n"
     ]
    },
    {
     "name": "stderr",
     "output_type": "stream",
     "text": [
      "100%|█████████████████████████████████████████| 250/250 [02:53<00:00,  1.44it/s]\n"
     ]
    }
   ],
   "source": [
    "inputs, noise = get_inputs(run_name, noise_lvl=0)\n",
    "df_sim = simulate(delays, weights, origins, inputs.clone(), Q=5, R=100)"
   ]
  },
  {
   "cell_type": "code",
   "execution_count": 207,
   "id": "7ba9a6d2",
   "metadata": {},
   "outputs": [
    {
     "data": {
      "image/png": "[encoded data removed]",
      "text/plain": [
       "<Figure size 1440x72 with 1 Axes>"
      ]
     },
     "metadata": {},
     "output_type": "display_data"
    }
   ],
   "source": [
    "plot_cycle(df_sim, df_true, 0, 101, \"input\")"
   ]
  },
  {
   "cell_type": "code",
   "execution_count": 208,
   "id": "7ffa79e7",
   "metadata": {},
   "outputs": [
    {
     "data": {
      "image/png": "[encoded data removed]",
      "text/plain": [
       "<Figure size 1440x72 with 1 Axes>"
      ]
     },
     "metadata": {},
     "output_type": "display_data"
    }
   ],
   "source": [
    "plot_cycle(df_sim, df_true, 1, 101, \"1st cycle\")"
   ]
  },
  {
   "cell_type": "code",
   "execution_count": 209,
   "id": "beaedb03",
   "metadata": {},
   "outputs": [
    {
     "data": {
      "image/png": "[encoded data removed]",
      "text/plain": [
       "<Figure size 1440x72 with 1 Axes>"
      ]
     },
     "metadata": {},
     "output_type": "display_data"
    }
   ],
   "source": [
    "plot_cycle(df_sim, df_true, 2, 101, \"2nd cycle\")"
   ]
  },
  {
   "cell_type": "code",
   "execution_count": 210,
   "id": "2ca5e489",
   "metadata": {
    "scrolled": true
   },
   "outputs": [
    {
     "data": {
      "image/png": "[encoded data removed]",
      "text/plain": [
       "<Figure size 1440x72 with 1 Axes>"
      ]
     },
     "metadata": {},
     "output_type": "display_data"
    }
   ],
   "source": [
    "plot_cycle(df_sim, df_true, 5, 101, \"5th cycle\")"
   ]
  },
  {
   "cell_type": "code",
   "execution_count": null,
   "id": "4af01a92",
   "metadata": {},
   "outputs": [],
   "source": []
  },
  {
   "cell_type": "code",
   "execution_count": 16,
   "id": "b2a90cf7",
   "metadata": {},
   "outputs": [],
   "source": [
    "# without zdotmin constraint"
   ]
  },
  {
   "cell_type": "code",
   "execution_count": 17,
   "id": "92c9bb29",
   "metadata": {},
   "outputs": [],
   "source": [
    "run_name = \"data/royal-salad-121-\""
   ]
  },
  {
   "cell_type": "code",
   "execution_count": 18,
   "id": "e6865c8a",
   "metadata": {},
   "outputs": [],
   "source": [
    "delays = torch.load(run_name + \"delays.pt\")\n",
    "origins = torch.load(run_name + \"origins.pt\")\n",
    "weights = torch.load(run_name + \"weights.pt\")"
   ]
  },
  {
   "cell_type": "code",
   "execution_count": 19,
   "id": "474cc080",
   "metadata": {},
   "outputs": [],
   "source": [
    "connectivity_df = pd.DataFrame.from_dict(\n",
    "    {\n",
    "        \"delays\": delays.flatten(), \n",
    "        \"origins\": origins.flatten(), \n",
    "        \"neurons\": torch.arange(L).repeat_interleave(K),\n",
    "        \"weights\": weights.flatten()\n",
    "    }\n",
    ")\n",
    "#_ = connectivity_df.hist(column=\"delays\")"
   ]
  },
  {
   "cell_type": "code",
   "execution_count": 20,
   "id": "b468000d",
   "metadata": {},
   "outputs": [],
   "source": [
    "df_true = pd.read_csv(run_name + \"spike-sequences.csv\")"
   ]
  },
  {
   "cell_type": "code",
   "execution_count": 34,
   "id": "a963339d",
   "metadata": {},
   "outputs": [
    {
     "name": "stdout",
     "output_type": "stream",
     "text": [
      "cycle 1/5\n"
     ]
    },
    {
     "name": "stderr",
     "output_type": "stream",
     "text": [
      "100%|███████████████████████████████████████████████████████████████████████████████████████████████████████████████████████████████████████████████████████████████████| 250/250 [00:11<00:00, 22.32it/s]\n"
     ]
    },
    {
     "name": "stdout",
     "output_type": "stream",
     "text": [
      "cycle 2/5\n"
     ]
    },
    {
     "name": "stderr",
     "output_type": "stream",
     "text": [
      "100%|███████████████████████████████████████████████████████████████████████████████████████████████████████████████████████████████████████████████████████████████████| 250/250 [00:10<00:00, 22.95it/s]\n"
     ]
    },
    {
     "name": "stdout",
     "output_type": "stream",
     "text": [
      "cycle 3/5\n"
     ]
    },
    {
     "name": "stderr",
     "output_type": "stream",
     "text": [
      "100%|███████████████████████████████████████████████████████████████████████████████████████████████████████████████████████████████████████████████████████████████████| 250/250 [00:10<00:00, 23.08it/s]\n"
     ]
    },
    {
     "name": "stdout",
     "output_type": "stream",
     "text": [
      "cycle 4/5\n"
     ]
    },
    {
     "name": "stderr",
     "output_type": "stream",
     "text": [
      "100%|███████████████████████████████████████████████████████████████████████████████████████████████████████████████████████████████████████████████████████████████████| 250/250 [00:10<00:00, 23.01it/s]\n"
     ]
    },
    {
     "name": "stdout",
     "output_type": "stream",
     "text": [
      "cycle 5/5\n"
     ]
    },
    {
     "name": "stderr",
     "output_type": "stream",
     "text": [
      "100%|███████████████████████████████████████████████████████████████████████████████████████████████████████████████████████████████████████████████████████████████████| 250/250 [00:11<00:00, 22.16it/s]\n"
     ]
    }
   ],
   "source": [
    "inputs, noise = get_inputs(run_name, noise_lvl=10)\n",
    "df_sim = simulate(delays, weights, origins, inputs.clone(), Q=5, R=10)"
   ]
  },
  {
   "cell_type": "code",
   "execution_count": 35,
   "id": "a8804cab",
   "metadata": {},
   "outputs": [
    {
     "data": {
      "image/png": "[encoded data removed]",
      "text/plain": [
       "<Figure size 1440x72 with 1 Axes>"
      ]
     },
     "metadata": {},
     "output_type": "display_data"
    }
   ],
   "source": [
    "plot_cycle(df_sim, df_true, 0, 10, \"input\")"
   ]
  },
  {
   "cell_type": "code",
   "execution_count": 36,
   "id": "d5bd5dab",
   "metadata": {},
   "outputs": [
    {
     "data": {
      "image/png": "[encoded data removed]",
      "text/plain": [
       "<Figure size 1440x72 with 1 Axes>"
      ]
     },
     "metadata": {},
     "output_type": "display_data"
    }
   ],
   "source": [
    "plot_cycle(df_sim, df_true, 1, 10, \"1st cycle\")"
   ]
  },
  {
   "cell_type": "code",
   "execution_count": 37,
   "id": "11288770",
   "metadata": {},
   "outputs": [
    {
     "data": {
      "image/png": "[encoded data removed]",
      "text/plain": [
       "<Figure size 1440x72 with 1 Axes>"
      ]
     },
     "metadata": {},
     "output_type": "display_data"
    }
   ],
   "source": [
    "plot_cycle(df_sim, df_true, 2, 10, \"2nd cycle\")"
   ]
  },
  {
   "cell_type": "code",
   "execution_count": 38,
   "id": "e7ef9195",
   "metadata": {},
   "outputs": [
    {
     "data": {
      "image/png": "[encoded data removed]",
      "text/plain": [
       "<Figure size 1440x72 with 1 Axes>"
      ]
     },
     "metadata": {},
     "output_type": "display_data"
    }
   ],
   "source": [
    "plot_cycle(df_sim, df_true, 5, 10, \"5th cycle\")"
   ]
  },
  {
   "cell_type": "markdown",
   "id": "c11398c6",
   "metadata": {},
   "source": [
    "# Limit of linear system..."
   ]
  },
  {
   "cell_type": "code",
   "execution_count": 726,
   "id": "ce17ad33",
   "metadata": {},
   "outputs": [],
   "source": [
    "seq = torch.zeros(N, L, dtype=bool)\n",
    "seq[spike_sequences.spike.values, spike_sequences.neuron.values] = 1\n",
    "As = compute_jitter_transition_tensor(seq, weights, delays, origins, Nr, impulse_resp_deriv)"
   ]
  },
  {
   "cell_type": "code",
   "execution_count": 736,
   "id": "4df87fc1",
   "metadata": {},
   "outputs": [
    {
     "data": {
      "image/png": "[encoded data removed]",
      "text/plain": [
       "<Figure size 432x288 with 1 Axes>"
      ]
     },
     "metadata": {},
     "output_type": "display_data"
    }
   ],
   "source": [
    "lin_impulse_resp = lambda t_, t0: impulse_resp(t0) + (t_ - t0) * impulse_resp_deriv(t0)\n",
    "t = torch.linspace(0, 0.2, 100)\n",
    "plt.plot(t, impulse_resp(t))\n",
    "plt.plot(t, lin_impulse_resp(t, torch.zeros(1)))\n",
    "plt.show()"
   ]
  },
  {
   "cell_type": "code",
   "execution_count": null,
   "id": "03571b93",
   "metadata": {},
   "outputs": [],
   "source": []
  },
  {
   "cell_type": "markdown",
   "id": "b1af8782",
   "metadata": {},
   "source": [
    "# Theoretically unstable network / sequence"
   ]
  },
  {
   "cell_type": "code",
   "execution_count": 672,
   "id": "c928ea44",
   "metadata": {},
   "outputs": [],
   "source": [
    "run_name = \"data/winter-salad-101-\" # should be highly unstable"
   ]
  },
  {
   "cell_type": "code",
   "execution_count": 673,
   "id": "9ab5c8b5",
   "metadata": {},
   "outputs": [],
   "source": [
    "delays = torch.load(run_name + \"delays.pt\")\n",
    "origins = torch.load(run_name + \"origins.pt\")\n",
    "weights = torch.load(run_name + \"weights.pt\")"
   ]
  },
  {
   "cell_type": "code",
   "execution_count": 674,
   "id": "250082cb",
   "metadata": {},
   "outputs": [],
   "source": [
    "connectivity_df = pd.DataFrame.from_dict(\n",
    "    {\n",
    "        \"delays\": delays.flatten(), \n",
    "        \"origins\": origins.flatten(), \n",
    "        \"neurons\": torch.arange(L).repeat_interleave(K),\n",
    "        \"weights\": weights.flatten()\n",
    "    }\n",
    ")\n",
    "#_ = connectivity_df.hist(column=\"delays\")"
   ]
  },
  {
   "cell_type": "code",
   "execution_count": 675,
   "id": "06e74992",
   "metadata": {},
   "outputs": [],
   "source": [
    "df_true = pd.read_csv(run_name + \"spike-sequences.csv\")"
   ]
  },
  {
   "cell_type": "code",
   "execution_count": 676,
   "id": "ed4cd2c5",
   "metadata": {},
   "outputs": [
    {
     "name": "stdout",
     "output_type": "stream",
     "text": [
      "cycle 1/3\n"
     ]
    },
    {
     "name": "stderr",
     "output_type": "stream",
     "text": [
      "100%|███████████████████████████████████████████████████████████████████████████████████████████████████████████████████████████████████████████████████████████████████| 250/250 [01:51<00:00,  2.24it/s]\n"
     ]
    },
    {
     "name": "stdout",
     "output_type": "stream",
     "text": [
      "cycle 2/3\n"
     ]
    },
    {
     "name": "stderr",
     "output_type": "stream",
     "text": [
      "100%|███████████████████████████████████████████████████████████████████████████████████████████████████████████████████████████████████████████████████████████████████| 250/250 [01:48<00:00,  2.31it/s]\n"
     ]
    },
    {
     "name": "stdout",
     "output_type": "stream",
     "text": [
      "cycle 3/3\n"
     ]
    },
    {
     "name": "stderr",
     "output_type": "stream",
     "text": [
      "100%|███████████████████████████████████████████████████████████████████████████████████████████████████████████████████████████████████████████████████████████████████| 250/250 [01:47<00:00,  2.32it/s]\n"
     ]
    }
   ],
   "source": [
    "inputs = get_inputs(run_name, noise_lvl=5)\n",
    "df_sim = simulate(delays, weights, origins, inputs.clone(), Q=3, R=100)"
   ]
  },
  {
   "cell_type": "code",
   "execution_count": 677,
   "id": "4a4a2c1d",
   "metadata": {},
   "outputs": [
    {
     "data": {
      "image/png": "[encoded data removed]",
      "text/plain": [
       "<Figure size 1440x72 with 1 Axes>"
      ]
     },
     "metadata": {},
     "output_type": "display_data"
    }
   ],
   "source": [
    "plot_cycle(df_sim, df_true, 0, 4, \"input\")"
   ]
  },
  {
   "cell_type": "code",
   "execution_count": 678,
   "id": "c4eb7580",
   "metadata": {},
   "outputs": [
    {
     "data": {
      "image/png": "[encoded data removed]",
      "text/plain": [
       "<Figure size 1440x72 with 1 Axes>"
      ]
     },
     "metadata": {},
     "output_type": "display_data"
    }
   ],
   "source": [
    "plot_cycle(df_sim, df_true, 1, 4, \"1st cycle\")"
   ]
  },
  {
   "cell_type": "code",
   "execution_count": 679,
   "id": "0a9263bc",
   "metadata": {},
   "outputs": [
    {
     "data": {
      "image/png": "[encoded data removed]",
      "text/plain": [
       "<Figure size 1440x72 with 1 Axes>"
      ]
     },
     "metadata": {},
     "output_type": "display_data"
    }
   ],
   "source": [
    "plot_cycle(df_sim, df_true, 2, 4, \"2nd cycle\")"
   ]
  },
  {
   "cell_type": "code",
   "execution_count": 680,
   "id": "4920e042",
   "metadata": {},
   "outputs": [
    {
     "data": {
      "image/png": "[encoded data removed]",
      "text/plain": [
       "<Figure size 1440x72 with 1 Axes>"
      ]
     },
     "metadata": {},
     "output_type": "display_data"
    }
   ],
   "source": [
    "plot_cycle(df_sim, df_true, 3, 4, \"3rd cycle\")"
   ]
  },
  {
   "cell_type": "code",
   "execution_count": null,
   "id": "7de0a7a6",
   "metadata": {},
   "outputs": [],
   "source": [
    "# compare with v0 when it is stable"
   ]
  },
  {
   "cell_type": "code",
   "execution_count": 681,
   "id": "bc2359de",
   "metadata": {},
   "outputs": [],
   "source": [
    "from rsnn.stability.temporal_stability import compute_jitter_transition_tensor"
   ]
  },
  {
   "cell_type": "code",
   "execution_count": 689,
   "id": "2cf5d65b",
   "metadata": {},
   "outputs": [
    {
     "data": {
      "text/plain": [
       "tensor([[False, False, False,  ..., False, False, False],\n",
       "        [False, False, False,  ..., False, False, False],\n",
       "        [False,  True, False,  ..., False, False, False],\n",
       "        ...,\n",
       "        [False, False,  True,  ..., False, False, False],\n",
       "        [False, False, False,  ..., False, False, False],\n",
       "        [False, False, False,  ...,  True, False, False]])"
      ]
     },
     "execution_count": 689,
     "metadata": {},
     "output_type": "execute_result"
    }
   ],
   "source": [
    "seq = torch.zeros(N, L, dtype=bool)\n",
    "seq[spike_sequences.spike.values, spike_sequences.neuron.values] = 1\n",
    "seq"
   ]
  },
  {
   "cell_type": "code",
   "execution_count": 693,
   "id": "1b57ac91",
   "metadata": {},
   "outputs": [],
   "source": [
    "As = compute_jitter_transition_tensor(seq, weights, delays, origins, Nr, impulse_resp_deriv)"
   ]
  },
  {
   "cell_type": "code",
   "execution_count": 701,
   "id": "c09f29ea",
   "metadata": {},
   "outputs": [
    {
     "data": {
      "text/plain": [
       "tensor([1.0000e+00, 0.0000e+00, 0.0000e+00, 0.0000e+00, 0.0000e+00, 0.0000e+00,\n",
       "        0.0000e+00, 0.0000e+00, 0.0000e+00, 0.0000e+00, 0.0000e+00, 0.0000e+00,\n",
       "        0.0000e+00, 0.0000e+00, 0.0000e+00, 0.0000e+00, 0.0000e+00, 0.0000e+00,\n",
       "        0.0000e+00, 0.0000e+00, 0.0000e+00, 0.0000e+00, 0.0000e+00, 0.0000e+00,\n",
       "        0.0000e+00, 0.0000e+00, 0.0000e+00, 0.0000e+00, 0.0000e+00, 0.0000e+00,\n",
       "        0.0000e+00, 0.0000e+00, 0.0000e+00, 0.0000e+00, 0.0000e+00, 0.0000e+00,\n",
       "        0.0000e+00, 0.0000e+00, 0.0000e+00, 0.0000e+00, 0.0000e+00, 0.0000e+00,\n",
       "        0.0000e+00, 0.0000e+00, 0.0000e+00, 0.0000e+00, 0.0000e+00, 0.0000e+00,\n",
       "        0.0000e+00, 0.0000e+00, 0.0000e+00, 0.0000e+00, 0.0000e+00, 0.0000e+00,\n",
       "        0.0000e+00, 0.0000e+00, 0.0000e+00, 0.0000e+00, 0.0000e+00, 0.0000e+00,\n",
       "        1.0168e-06, 0.0000e+00, 0.0000e+00, 0.0000e+00, 0.0000e+00, 0.0000e+00,\n",
       "        0.0000e+00, 0.0000e+00, 0.0000e+00, 0.0000e+00, 0.0000e+00, 0.0000e+00,\n",
       "        0.0000e+00, 0.0000e+00, 0.0000e+00, 0.0000e+00, 0.0000e+00, 0.0000e+00,\n",
       "        0.0000e+00, 0.0000e+00, 0.0000e+00, 0.0000e+00, 0.0000e+00, 0.0000e+00,\n",
       "        0.0000e+00, 0.0000e+00, 0.0000e+00, 0.0000e+00, 0.0000e+00, 0.0000e+00,\n",
       "        0.0000e+00, 0.0000e+00, 0.0000e+00, 0.0000e+00, 0.0000e+00, 0.0000e+00,\n",
       "        0.0000e+00, 0.0000e+00, 0.0000e+00, 0.0000e+00, 0.0000e+00, 0.0000e+00,\n",
       "        0.0000e+00, 0.0000e+00, 0.0000e+00, 0.0000e+00, 0.0000e+00, 0.0000e+00,\n",
       "        0.0000e+00, 0.0000e+00, 0.0000e+00, 0.0000e+00, 0.0000e+00, 0.0000e+00,\n",
       "        0.0000e+00, 0.0000e+00, 0.0000e+00, 0.0000e+00, 0.0000e+00, 0.0000e+00,\n",
       "        0.0000e+00, 0.0000e+00, 0.0000e+00, 0.0000e+00, 0.0000e+00, 0.0000e+00,\n",
       "        0.0000e+00, 0.0000e+00, 0.0000e+00, 0.0000e+00, 0.0000e+00, 0.0000e+00,\n",
       "        0.0000e+00, 0.0000e+00, 0.0000e+00, 0.0000e+00, 0.0000e+00, 0.0000e+00,\n",
       "        0.0000e+00, 0.0000e+00, 0.0000e+00, 0.0000e+00, 0.0000e+00, 0.0000e+00,\n",
       "        0.0000e+00, 0.0000e+00, 0.0000e+00, 0.0000e+00, 0.0000e+00, 0.0000e+00,\n",
       "        0.0000e+00, 0.0000e+00, 0.0000e+00, 0.0000e+00, 0.0000e+00, 0.0000e+00,\n",
       "        0.0000e+00, 0.0000e+00, 0.0000e+00, 0.0000e+00, 0.0000e+00, 0.0000e+00,\n",
       "        0.0000e+00, 0.0000e+00, 0.0000e+00, 0.0000e+00, 0.0000e+00, 0.0000e+00,\n",
       "        0.0000e+00, 0.0000e+00, 0.0000e+00, 0.0000e+00, 0.0000e+00, 0.0000e+00,\n",
       "        0.0000e+00, 0.0000e+00, 0.0000e+00, 0.0000e+00, 0.0000e+00, 0.0000e+00,\n",
       "        0.0000e+00, 0.0000e+00, 0.0000e+00, 0.0000e+00, 0.0000e+00, 0.0000e+00,\n",
       "        0.0000e+00, 0.0000e+00, 0.0000e+00, 0.0000e+00, 0.0000e+00, 0.0000e+00,\n",
       "        0.0000e+00, 0.0000e+00, 0.0000e+00, 0.0000e+00, 0.0000e+00, 0.0000e+00,\n",
       "        0.0000e+00, 0.0000e+00, 0.0000e+00, 0.0000e+00, 0.0000e+00, 0.0000e+00,\n",
       "        0.0000e+00, 0.0000e+00, 0.0000e+00, 0.0000e+00, 0.0000e+00, 0.0000e+00,\n",
       "        0.0000e+00, 0.0000e+00, 0.0000e+00, 0.0000e+00, 0.0000e+00, 0.0000e+00,\n",
       "        0.0000e+00, 0.0000e+00, 0.0000e+00, 0.0000e+00, 0.0000e+00, 0.0000e+00,\n",
       "        0.0000e+00, 0.0000e+00, 0.0000e+00, 0.0000e+00, 0.0000e+00, 0.0000e+00,\n",
       "        0.0000e+00, 0.0000e+00, 0.0000e+00, 0.0000e+00, 0.0000e+00, 0.0000e+00,\n",
       "        0.0000e+00, 0.0000e+00, 0.0000e+00, 0.0000e+00, 0.0000e+00, 0.0000e+00,\n",
       "        0.0000e+00, 0.0000e+00, 0.0000e+00, 0.0000e+00, 0.0000e+00, 0.0000e+00,\n",
       "        0.0000e+00, 0.0000e+00, 0.0000e+00, 0.0000e+00, 0.0000e+00, 0.0000e+00,\n",
       "        0.0000e+00, 0.0000e+00, 0.0000e+00, 0.0000e+00, 0.0000e+00, 0.0000e+00,\n",
       "        0.0000e+00, 0.0000e+00, 0.0000e+00, 0.0000e+00, 0.0000e+00, 0.0000e+00,\n",
       "        0.0000e+00, 0.0000e+00, 0.0000e+00, 0.0000e+00, 0.0000e+00, 0.0000e+00,\n",
       "        0.0000e+00, 0.0000e+00, 0.0000e+00, 0.0000e+00, 0.0000e+00, 0.0000e+00,\n",
       "        0.0000e+00, 0.0000e+00, 0.0000e+00, 0.0000e+00, 0.0000e+00, 0.0000e+00,\n",
       "        0.0000e+00, 0.0000e+00, 0.0000e+00, 0.0000e+00, 0.0000e+00, 0.0000e+00,\n",
       "        0.0000e+00, 0.0000e+00, 0.0000e+00, 0.0000e+00, 0.0000e+00, 0.0000e+00,\n",
       "        0.0000e+00, 0.0000e+00, 0.0000e+00, 0.0000e+00, 0.0000e+00, 0.0000e+00,\n",
       "        0.0000e+00, 0.0000e+00, 0.0000e+00, 0.0000e+00, 0.0000e+00, 0.0000e+00,\n",
       "        0.0000e+00, 0.0000e+00, 0.0000e+00, 0.0000e+00, 0.0000e+00, 0.0000e+00,\n",
       "        0.0000e+00, 0.0000e+00, 0.0000e+00, 0.0000e+00, 0.0000e+00, 0.0000e+00,\n",
       "        0.0000e+00, 0.0000e+00, 0.0000e+00, 0.0000e+00, 0.0000e+00, 0.0000e+00,\n",
       "        0.0000e+00, 0.0000e+00, 0.0000e+00, 0.0000e+00, 0.0000e+00, 0.0000e+00,\n",
       "        0.0000e+00, 0.0000e+00, 0.0000e+00, 0.0000e+00, 0.0000e+00, 0.0000e+00,\n",
       "        0.0000e+00, 0.0000e+00, 0.0000e+00, 0.0000e+00, 0.0000e+00, 0.0000e+00,\n",
       "        0.0000e+00, 0.0000e+00, 0.0000e+00, 0.0000e+00, 0.0000e+00, 0.0000e+00,\n",
       "        0.0000e+00, 0.0000e+00, 0.0000e+00, 0.0000e+00, 0.0000e+00, 0.0000e+00,\n",
       "        0.0000e+00, 0.0000e+00, 0.0000e+00, 0.0000e+00, 0.0000e+00, 0.0000e+00,\n",
       "        0.0000e+00, 0.0000e+00, 0.0000e+00, 0.0000e+00, 0.0000e+00, 0.0000e+00,\n",
       "        0.0000e+00, 0.0000e+00, 0.0000e+00, 0.0000e+00, 0.0000e+00, 0.0000e+00,\n",
       "        0.0000e+00, 0.0000e+00, 0.0000e+00, 0.0000e+00, 0.0000e+00, 0.0000e+00,\n",
       "        0.0000e+00, 0.0000e+00, 0.0000e+00, 0.0000e+00, 0.0000e+00, 0.0000e+00,\n",
       "        0.0000e+00, 0.0000e+00, 0.0000e+00, 0.0000e+00, 0.0000e+00, 0.0000e+00,\n",
       "        0.0000e+00, 0.0000e+00, 0.0000e+00, 0.0000e+00, 0.0000e+00, 0.0000e+00,\n",
       "        0.0000e+00, 0.0000e+00, 0.0000e+00, 0.0000e+00, 0.0000e+00, 0.0000e+00,\n",
       "        0.0000e+00, 0.0000e+00, 0.0000e+00, 0.0000e+00, 0.0000e+00, 0.0000e+00,\n",
       "        0.0000e+00, 0.0000e+00, 0.0000e+00, 0.0000e+00, 0.0000e+00, 0.0000e+00,\n",
       "        0.0000e+00, 0.0000e+00, 0.0000e+00, 0.0000e+00, 0.0000e+00, 0.0000e+00,\n",
       "        0.0000e+00, 0.0000e+00, 0.0000e+00, 0.0000e+00, 0.0000e+00, 0.0000e+00,\n",
       "        0.0000e+00, 0.0000e+00, 0.0000e+00, 0.0000e+00, 0.0000e+00, 0.0000e+00,\n",
       "        0.0000e+00, 0.0000e+00, 0.0000e+00, 0.0000e+00, 0.0000e+00, 0.0000e+00,\n",
       "        0.0000e+00, 0.0000e+00, 0.0000e+00, 0.0000e+00, 0.0000e+00, 0.0000e+00,\n",
       "        0.0000e+00, 0.0000e+00, 0.0000e+00, 0.0000e+00, 0.0000e+00, 0.0000e+00,\n",
       "        0.0000e+00, 0.0000e+00, 0.0000e+00, 0.0000e+00, 0.0000e+00, 0.0000e+00,\n",
       "        0.0000e+00, 0.0000e+00, 0.0000e+00, 0.0000e+00, 0.0000e+00, 0.0000e+00,\n",
       "        0.0000e+00, 0.0000e+00, 0.0000e+00, 0.0000e+00, 0.0000e+00, 0.0000e+00,\n",
       "        0.0000e+00, 0.0000e+00, 0.0000e+00, 0.0000e+00, 0.0000e+00, 0.0000e+00,\n",
       "        0.0000e+00, 0.0000e+00, 0.0000e+00, 0.0000e+00, 0.0000e+00, 0.0000e+00,\n",
       "        0.0000e+00, 0.0000e+00, 0.0000e+00, 0.0000e+00, 0.0000e+00, 0.0000e+00,\n",
       "        0.0000e+00, 0.0000e+00, 0.0000e+00, 0.0000e+00, 0.0000e+00, 0.0000e+00,\n",
       "        0.0000e+00, 0.0000e+00, 0.0000e+00, 0.0000e+00, 0.0000e+00, 0.0000e+00,\n",
       "        0.0000e+00, 0.0000e+00, 0.0000e+00, 0.0000e+00, 0.0000e+00, 0.0000e+00,\n",
       "        0.0000e+00, 0.0000e+00, 0.0000e+00, 0.0000e+00, 0.0000e+00, 0.0000e+00,\n",
       "        0.0000e+00, 0.0000e+00, 0.0000e+00, 0.0000e+00, 0.0000e+00, 0.0000e+00,\n",
       "        5.0714e-02, 0.0000e+00, 0.0000e+00, 0.0000e+00, 0.0000e+00, 0.0000e+00,\n",
       "        0.0000e+00, 0.0000e+00, 0.0000e+00, 0.0000e+00, 0.0000e+00, 0.0000e+00,\n",
       "        0.0000e+00, 0.0000e+00, 0.0000e+00, 0.0000e+00, 0.0000e+00, 0.0000e+00,\n",
       "        0.0000e+00, 0.0000e+00, 0.0000e+00, 0.0000e+00, 0.0000e+00, 0.0000e+00,\n",
       "        0.0000e+00, 0.0000e+00, 0.0000e+00, 0.0000e+00, 0.0000e+00, 0.0000e+00,\n",
       "        0.0000e+00, 0.0000e+00, 0.0000e+00, 0.0000e+00, 0.0000e+00, 0.0000e+00,\n",
       "        0.0000e+00, 0.0000e+00, 0.0000e+00, 0.0000e+00, 0.0000e+00, 0.0000e+00,\n",
       "        0.0000e+00, 0.0000e+00, 0.0000e+00, 0.0000e+00, 0.0000e+00, 0.0000e+00,\n",
       "        0.0000e+00, 0.0000e+00, 0.0000e+00, 0.0000e+00, 0.0000e+00, 0.0000e+00,\n",
       "        0.0000e+00, 0.0000e+00, 0.0000e+00, 0.0000e+00, 0.0000e+00, 0.0000e+00,\n",
       "        0.0000e+00, 0.0000e+00, 0.0000e+00, 0.0000e+00, 0.0000e+00, 0.0000e+00,\n",
       "        0.0000e+00, 0.0000e+00, 0.0000e+00, 0.0000e+00, 0.0000e+00, 0.0000e+00,\n",
       "        0.0000e+00, 0.0000e+00, 0.0000e+00, 0.0000e+00, 0.0000e+00, 0.0000e+00,\n",
       "        0.0000e+00, 0.0000e+00, 0.0000e+00, 0.0000e+00, 0.0000e+00, 0.0000e+00,\n",
       "        0.0000e+00, 0.0000e+00, 0.0000e+00, 0.0000e+00, 0.0000e+00, 0.0000e+00,\n",
       "        0.0000e+00, 0.0000e+00, 0.0000e+00, 0.0000e+00, 0.0000e+00, 0.0000e+00,\n",
       "        0.0000e+00, 0.0000e+00, 0.0000e+00, 0.0000e+00, 0.0000e+00, 0.0000e+00,\n",
       "        0.0000e+00, 0.0000e+00, 0.0000e+00, 0.0000e+00, 0.0000e+00, 0.0000e+00,\n",
       "        0.0000e+00, 0.0000e+00, 0.0000e+00, 0.0000e+00, 0.0000e+00, 0.0000e+00,\n",
       "        0.0000e+00, 0.0000e+00, 0.0000e+00, 0.0000e+00, 0.0000e+00, 0.0000e+00,\n",
       "        0.0000e+00, 0.0000e+00, 0.0000e+00, 0.0000e+00, 0.0000e+00, 0.0000e+00,\n",
       "        0.0000e+00, 0.0000e+00, 0.0000e+00, 0.0000e+00, 0.0000e+00, 0.0000e+00,\n",
       "        0.0000e+00, 0.0000e+00, 0.0000e+00, 0.0000e+00, 0.0000e+00, 0.0000e+00,\n",
       "        0.0000e+00, 0.0000e+00, 0.0000e+00, 0.0000e+00, 0.0000e+00, 0.0000e+00,\n",
       "        0.0000e+00, 0.0000e+00, 0.0000e+00, 0.0000e+00, 0.0000e+00, 0.0000e+00,\n",
       "        0.0000e+00, 0.0000e+00, 0.0000e+00, 0.0000e+00, 0.0000e+00, 0.0000e+00,\n",
       "        0.0000e+00, 0.0000e+00, 0.0000e+00, 0.0000e+00, 0.0000e+00, 0.0000e+00,\n",
       "        0.0000e+00, 0.0000e+00, 0.0000e+00, 0.0000e+00, 0.0000e+00, 0.0000e+00,\n",
       "        0.0000e+00, 0.0000e+00, 0.0000e+00, 0.0000e+00, 0.0000e+00, 0.0000e+00,\n",
       "        0.0000e+00, 0.0000e+00, 0.0000e+00, 0.0000e+00, 0.0000e+00, 0.0000e+00,\n",
       "        0.0000e+00, 0.0000e+00, 0.0000e+00, 0.0000e+00, 0.0000e+00, 0.0000e+00,\n",
       "        0.0000e+00, 0.0000e+00, 0.0000e+00, 0.0000e+00, 0.0000e+00, 0.0000e+00,\n",
       "        0.0000e+00, 0.0000e+00, 0.0000e+00, 0.0000e+00, 0.0000e+00, 0.0000e+00,\n",
       "        0.0000e+00, 0.0000e+00, 0.0000e+00, 0.0000e+00, 0.0000e+00, 0.0000e+00,\n",
       "        0.0000e+00, 0.0000e+00, 0.0000e+00, 0.0000e+00, 0.0000e+00, 0.0000e+00,\n",
       "        0.0000e+00, 0.0000e+00, 0.0000e+00, 0.0000e+00, 0.0000e+00, 0.0000e+00,\n",
       "        0.0000e+00, 0.0000e+00, 0.0000e+00, 0.0000e+00, 0.0000e+00, 0.0000e+00,\n",
       "        0.0000e+00, 0.0000e+00, 0.0000e+00, 0.0000e+00, 0.0000e+00, 0.0000e+00,\n",
       "        0.0000e+00, 0.0000e+00, 0.0000e+00, 0.0000e+00, 0.0000e+00, 0.0000e+00,\n",
       "        0.0000e+00, 0.0000e+00, 0.0000e+00, 0.0000e+00, 0.0000e+00, 0.0000e+00,\n",
       "        0.0000e+00, 0.0000e+00, 0.0000e+00, 0.0000e+00, 0.0000e+00, 0.0000e+00,\n",
       "        0.0000e+00, 0.0000e+00, 0.0000e+00, 0.0000e+00, 0.0000e+00, 0.0000e+00,\n",
       "        0.0000e+00, 0.0000e+00, 0.0000e+00, 0.0000e+00, 0.0000e+00, 0.0000e+00,\n",
       "        0.0000e+00, 0.0000e+00, 0.0000e+00, 0.0000e+00, 0.0000e+00, 0.0000e+00,\n",
       "        0.0000e+00, 0.0000e+00, 0.0000e+00, 0.0000e+00, 0.0000e+00, 0.0000e+00,\n",
       "        0.0000e+00, 0.0000e+00, 0.0000e+00, 0.0000e+00, 0.0000e+00, 0.0000e+00,\n",
       "        0.0000e+00, 0.0000e+00, 0.0000e+00, 0.0000e+00, 0.0000e+00, 0.0000e+00,\n",
       "        0.0000e+00, 0.0000e+00, 0.0000e+00, 0.0000e+00, 0.0000e+00, 0.0000e+00,\n",
       "        0.0000e+00, 0.0000e+00, 0.0000e+00, 0.0000e+00, 0.0000e+00, 0.0000e+00,\n",
       "        0.0000e+00, 0.0000e+00, 0.0000e+00, 0.0000e+00, 0.0000e+00, 0.0000e+00,\n",
       "        0.0000e+00, 0.0000e+00, 0.0000e+00, 0.0000e+00, 0.0000e+00, 0.0000e+00,\n",
       "        0.0000e+00, 0.0000e+00, 0.0000e+00, 0.0000e+00, 0.0000e+00, 0.0000e+00,\n",
       "        0.0000e+00, 0.0000e+00, 0.0000e+00, 0.0000e+00, 0.0000e+00, 0.0000e+00,\n",
       "        0.0000e+00, 0.0000e+00, 0.0000e+00, 0.0000e+00, 0.0000e+00, 0.0000e+00,\n",
       "        0.0000e+00, 0.0000e+00, 0.0000e+00, 0.0000e+00, 0.0000e+00, 0.0000e+00,\n",
       "        0.0000e+00, 0.0000e+00, 0.0000e+00, 0.0000e+00, 0.0000e+00, 0.0000e+00,\n",
       "        0.0000e+00, 0.0000e+00, 0.0000e+00, 0.0000e+00, 0.0000e+00, 0.0000e+00,\n",
       "        0.0000e+00, 0.0000e+00, 0.0000e+00, 0.0000e+00, 0.0000e+00, 0.0000e+00,\n",
       "        0.0000e+00, 0.0000e+00, 0.0000e+00, 0.0000e+00, 0.0000e+00, 0.0000e+00,\n",
       "        0.0000e+00, 0.0000e+00, 0.0000e+00, 0.0000e+00, 0.0000e+00, 0.0000e+00,\n",
       "        0.0000e+00, 0.0000e+00, 0.0000e+00, 0.0000e+00, 0.0000e+00, 0.0000e+00,\n",
       "        0.0000e+00, 0.0000e+00, 0.0000e+00, 0.0000e+00, 0.0000e+00, 0.0000e+00,\n",
       "        0.0000e+00, 0.0000e+00, 0.0000e+00, 0.0000e+00, 0.0000e+00, 0.0000e+00,\n",
       "        0.0000e+00, 0.0000e+00, 0.0000e+00, 0.0000e+00, 0.0000e+00, 0.0000e+00,\n",
       "        0.0000e+00, 0.0000e+00, 0.0000e+00, 0.0000e+00, 0.0000e+00, 0.0000e+00,\n",
       "        0.0000e+00, 0.0000e+00, 0.0000e+00, 0.0000e+00, 0.0000e+00, 0.0000e+00,\n",
       "        0.0000e+00, 0.0000e+00, 0.0000e+00, 0.0000e+00, 0.0000e+00, 0.0000e+00,\n",
       "        0.0000e+00, 0.0000e+00, 0.0000e+00, 0.0000e+00, 0.0000e+00, 0.0000e+00,\n",
       "        0.0000e+00, 0.0000e+00, 0.0000e+00, 0.0000e+00, 0.0000e+00, 0.0000e+00,\n",
       "        0.0000e+00, 0.0000e+00, 0.0000e+00, 0.0000e+00, 0.0000e+00, 0.0000e+00,\n",
       "        0.0000e+00, 0.0000e+00, 0.0000e+00, 0.0000e+00, 0.0000e+00, 0.0000e+00,\n",
       "        0.0000e+00, 0.0000e+00, 0.0000e+00, 0.0000e+00, 0.0000e+00, 0.0000e+00,\n",
       "        0.0000e+00, 0.0000e+00, 0.0000e+00, 0.0000e+00, 0.0000e+00, 0.0000e+00,\n",
       "        0.0000e+00, 0.0000e+00, 0.0000e+00, 0.0000e+00, 0.0000e+00, 0.0000e+00,\n",
       "        0.0000e+00, 0.0000e+00, 0.0000e+00, 0.0000e+00, 0.0000e+00, 0.0000e+00,\n",
       "        0.0000e+00, 0.0000e+00, 0.0000e+00, 0.0000e+00, 0.0000e+00, 0.0000e+00,\n",
       "        0.0000e+00, 0.0000e+00, 0.0000e+00, 0.0000e+00, 0.0000e+00, 0.0000e+00,\n",
       "        0.0000e+00, 0.0000e+00, 0.0000e+00, 0.0000e+00, 0.0000e+00, 0.0000e+00,\n",
       "        0.0000e+00, 0.0000e+00, 0.0000e+00, 0.0000e+00, 0.0000e+00, 0.0000e+00,\n",
       "        0.0000e+00, 0.0000e+00, 0.0000e+00, 0.0000e+00, 0.0000e+00, 0.0000e+00,\n",
       "        0.0000e+00, 0.0000e+00, 0.0000e+00, 0.0000e+00])"
      ]
     },
     "execution_count": 701,
     "metadata": {},
     "output_type": "execute_result"
    }
   ],
   "source": [
    "As[0] @ torch.tensor([1.] + ((M+1)*L - 1)*[0.])"
   ]
  },
  {
   "cell_type": "code",
   "execution_count": null,
   "id": "cef9c32d",
   "metadata": {},
   "outputs": [],
   "source": []
  }
 ],
 "metadata": {
  "kernelspec": {
   "display_name": "Python 3.8.9 64-bit",
   "language": "python",
   "name": "python3"
  },
  "language_info": {
   "codemirror_mode": {
    "name": "ipython",
    "version": 3
   },
   "file_extension": ".py",
   "mimetype": "text/x-python",
   "name": "python",
   "nbconvert_exporter": "python",
   "pygments_lexer": "ipython3",
   "version": "3.8.9"
  },
  "vscode": {
   "interpreter": {
    "hash": "31f2aee4e71d21fbe5cf8b01ff0e069b9275f58929596ceb00d14d90e3e16cd6"
   }
  }
 },
 "nbformat": 4,
 "nbformat_minor": 5
}
