{
 "cells": [
  {
   "cell_type": "code",
   "execution_count": 1,
   "id": "adeb92c3",
   "metadata": {},
   "outputs": [],
   "source": [
    "%matplotlib inline"
   ]
  },
  {
   "cell_type": "code",
   "execution_count": 57,
   "id": "23b3dea9",
   "metadata": {},
   "outputs": [
    {
     "data": {
      "text/plain": [
       "['ECOS', 'ECOS_BB', 'GUROBI', 'MOSEK', 'OSQP', 'SCIP', 'SCIPY', 'SCS']"
      ]
     },
     "execution_count": 57,
     "metadata": {},
     "output_type": "execute_result"
    }
   ],
   "source": [
    "cp.installed_solvers()"
   ]
  },
  {
   "cell_type": "code",
   "execution_count": 2,
   "id": "620dde06",
   "metadata": {},
   "outputs": [],
   "source": [
    "#import matplotlib\n",
    "#matplotlib.use(\"pgf\")"
   ]
  },
  {
   "cell_type": "code",
   "execution_count": 3,
   "id": "3e37a55a",
   "metadata": {},
   "outputs": [],
   "source": [
    "import math \n",
    "import numpy as np\n",
    "from matplotlib import pyplot as plt\n",
    "import seaborn as sns\n",
    "import pandas as pd\n",
    "from matplotlib.gridspec import GridSpec\n",
    "from scipy.optimize import brentq\n",
    "\n",
    "import cvxpy as cp\n",
    "\n",
    "from tqdm.notebook import trange"
   ]
  },
  {
   "cell_type": "code",
   "execution_count": 4,
   "id": "b2c48c42",
   "metadata": {},
   "outputs": [
    {
     "name": "stderr",
     "output_type": "stream",
     "text": [
      "/Users/haguettaz/Documents/RSNN/src/rsnn/spike_train/generator.py:4: TqdmExperimentalWarning: Using `tqdm.autonotebook.tqdm` in notebook mode. Use `tqdm.tqdm` instead to force console mode (e.g. in jupyter console)\n",
      "  from tqdm.autonotebook import trange\n"
     ]
    }
   ],
   "source": [
    "from rsnn.spike_train.generator import PeriodicSpikeTrainGenerator\n",
    "from rsnn.spike_train.spike_train import SpikeTrain\n",
    "from rsnn.spike_train.periodic_spike_train import MultiChannelPeriodicSpikeTrain\n",
    "from rsnn.rsnn.neuron import Neuron\n",
    "from rsnn.spike_train.measure import single_channel_correlation"
   ]
  },
  {
   "cell_type": "code",
   "execution_count": 5,
   "id": "a125da68",
   "metadata": {},
   "outputs": [],
   "source": [
    "plt.style.use('paper')"
   ]
  },
  {
   "cell_type": "code",
   "execution_count": 6,
   "id": "ae357386",
   "metadata": {},
   "outputs": [],
   "source": [
    "rng = np.random.default_rng(7)"
   ]
  },
  {
   "cell_type": "markdown",
   "id": "14174e11",
   "metadata": {},
   "source": [
    "# Supervised Learning for Spiking Neurons"
   ]
  },
  {
   "cell_type": "code",
   "execution_count": 165,
   "id": "88ee3e39",
   "metadata": {},
   "outputs": [],
   "source": [
    "num_inputs = 1000 # number of synapses\n",
    "delays = rng.uniform(1.0, 20.0, num_inputs)\n",
    "\n",
    "kernel_decay = 10\n",
    "\n",
    "firing_threshold = 1.0\n",
    "wmin, wmax = -0.1, 0.1\n",
    "\n",
    "period = 500.0\n",
    "firing_rate, rel_refractory_period, abs_refractory_period = 0.1, 5.0, 5.0\n",
    "refractory_weight = 1"
   ]
  },
  {
   "cell_type": "code",
   "execution_count": 135,
   "id": "3bacfede",
   "metadata": {},
   "outputs": [],
   "source": [
    "times = np.linspace(0, period, 10000)"
   ]
  },
  {
   "cell_type": "code",
   "execution_count": 160,
   "id": "2fd987fb",
   "metadata": {},
   "outputs": [],
   "source": [
    "def input_spike_resp(t):\n",
    "        \n",
    "    #tmax = (math.log(synapse_beta) - math.log(soma_decay)) / (1 / soma_decay - 1 / synapse_beta)\n",
    "    #gamma = 1 / (math.exp(-tmax / soma_decay) - math.exp(-tmax / synapse_beta))\n",
    "\n",
    "    if isinstance(t, np.ndarray):\n",
    "        #z = gamma * (np.exp(-t / soma_decay) - np.exp(-t / synapse_beta))\n",
    "        z = t / 5 * np.exp(1 - t / 5)\n",
    "        z[t < 0] = 0.0\n",
    "        return z\n",
    "    \n",
    "    if t < 0:\n",
    "        return 0.0\n",
    "    \n",
    "    #return gamma * (np.exp(-t / soma_decay) - np.exp(-t / synapse_beta))\n",
    "    return t / 5 * np.exp(1 - t / 5)\n",
    "    \n",
    "def input_spike_resp_deriv(t):\n",
    "    tmax = (math.log(synapse_beta) - math.log(soma_decay)) / (1 / soma_decay - 1 / synapse_beta)\n",
    "    gamma = 1 / (math.exp(-tmax / soma_decay) - math.exp(-tmax / synapse_beta))\n",
    "\n",
    "    if isinstance(t, np.ndarray):\n",
    "        z = gamma * (np.exp(-t / synapse_beta) / synapse_beta - np.exp(-t / soma_decay) / soma_decay)\n",
    "        z[t < 0] = 0.0\n",
    "        return z\n",
    "    \n",
    "    if t < 0:\n",
    "        return 0.0\n",
    "    \n",
    "    return gamma * (np.exp(-t / synapse_beta) / synapse_beta - np.exp(-t / soma_decay) / soma_decay)\n",
    "\n",
    "def refractory_spike_resp(t):\n",
    "    if isinstance(t, np.ndarray):\n",
    "        z = -refractory_weight * np.exp(- (t - abs_refractory_period) / soma_decay)\n",
    "        z[t <= abs_refractory_period] = -np.inf\n",
    "        z[t <= 0] = 0.0\n",
    "        return z\n",
    "    \n",
    "    if t <= 0:\n",
    "        return 0.0\n",
    "    \n",
    "    if t <= abs_refractory_period:\n",
    "        return -np.inf\n",
    "    \n",
    "    return -refractory_weight * np.exp(- (t - abs_refractory_period) / soma_decay)\n",
    "\n",
    "def refractory_spike_resp_deriv(t):\n",
    "    if isinstance(t, np.ndarray):\n",
    "        z = refractory_weight / soma_decay * np.exp(- (t - abs_refractory_period) / soma_decay)\n",
    "        z[t <= abs_refractory_period] = 0.0\n",
    "        return z\n",
    "\n",
    "    if t <= abs_refractory_period:\n",
    "        return 0.0\n",
    "    \n",
    "    return refractory_weight / soma_decay * np.exp(- (t - abs_refractory_period) / soma_decay)"
   ]
  },
  {
   "cell_type": "code",
   "execution_count": 161,
   "id": "7d0d6cbe",
   "metadata": {},
   "outputs": [],
   "source": [
    "def potential(t, delays, weights, input_spike_trains, modulo=True):\n",
    "    if isinstance(t, np.ndarray):\n",
    "        if modulo:\n",
    "            y = np.array([\n",
    "                np.sum(input_spike_resp((t[None,:] - delays[k] - input_spike_trains.spike_trains[k].firing_times[:,None])%period), axis=0) for k in range(num_inputs)\n",
    "            ])\n",
    "            return weights@y\n",
    "        \n",
    "        y = np.array([\n",
    "            np.sum(input_spike_resp((t[None,:] - delays[k] - input_spike_trains.spike_trains[k].firing_times[:,None])), axis=0) for k in range(num_inputs)\n",
    "        ])\n",
    "        return weights@y  \n",
    "        \n",
    "    if modulo:\n",
    "        y = np.array([\n",
    "            np.sum(input_spike_resp((t - delays[k] - input_spike_trains.spike_trains[k].firing_times)%period), axis=0) for k in range(num_inputs)\n",
    "        ])\n",
    "        return weights@y\n",
    "    \n",
    "    y = np.array([\n",
    "        np.sum(input_spike_resp((t - delays[k] - input_spike_trains.spike_trains[k].firing_times)), axis=0) for k in range(num_inputs)\n",
    "    ])\n",
    "    return weights@y  \n",
    "\n",
    "def potential_deriv(t, delays, weights, input_spike_trains, modulo=True):\n",
    "    if isinstance(t, np.ndarray):\n",
    "        if modulo:\n",
    "            y = np.array([\n",
    "                np.sum(input_spike_resp_deriv((t[None,:] - delays[k] - input_spike_trains.spike_trains[k].firing_times[:,None])%period), axis=0) for k in range(num_inputs)\n",
    "                ])\n",
    "            return weights@y\n",
    "        \n",
    "        y = np.array([\n",
    "                np.sum(input_spike_resp_deriv((t[None,:] - delays[k] - input_spike_trains.spike_trains[k].firing_times[:,None])), axis=0) for k in range(num_inputs)\n",
    "            ])\n",
    "        return weights@y\n",
    "    \n",
    "    if modulo:\n",
    "        y = np.array([\n",
    "            np.sum(input_spike_resp((t - delays[k] - input_spike_trains.spike_trains[k].firing_times)%period), axis=0) for k in range(num_inputs)\n",
    "            ])\n",
    "        return weights@y  \n",
    "    \n",
    "    y = np.array([\n",
    "            np.sum(input_spike_resp((t - delays[k] - input_spike_trains.spike_trains[k].firing_times)), axis=0) for k in range(num_inputs)\n",
    "        ])\n",
    "    return weights@y\n",
    "\n",
    "def threshold(t, target_spike_train, modulo=True):\n",
    "    if isinstance(t, np.ndarray):\n",
    "        if modulo: \n",
    "            return firing_threshold - np.sum(refractory_spike_resp((t[None,:] - target_spike_train.firing_times[:,None])%period), axis=0)\n",
    "\n",
    "        return firing_threshold - np.sum(refractory_spike_resp((t[None,:] - target_spike_train.firing_times[:,None])), axis=0)\n",
    "    \n",
    "    if modulo: \n",
    "        return firing_threshold - np.sum(refractory_spike_resp((t - target_spike_train.firing_times)%period), axis=0)        \n",
    "    return firing_threshold - np.sum(refractory_spike_resp((t - target_spike_train.firing_times)), axis=0)"
   ]
  },
  {
   "cell_type": "code",
   "execution_count": 195,
   "id": "576271a1",
   "metadata": {},
   "outputs": [
    {
     "data": {
      "text/plain": [
       "1.0002515040352051"
      ]
     },
     "execution_count": 195,
     "metadata": {},
     "output_type": "execute_result"
    }
   ],
   "source": [
    "1.0 + np.exp(-((0 - 53.55974238 - 5.0) % 100)/5.0)"
   ]
  },
  {
   "cell_type": "code",
   "execution_count": 162,
   "id": "f88ddb28",
   "metadata": {},
   "outputs": [],
   "source": [
    "#def threshold(t, target_spike_train, modulo=True):\n",
    "#    if isinstance(t, np.ndarray):\n",
    "#        if modulo: \n",
    "#            return firing_threshold - np.sum(refractory_spike_resp((t[None,:] - target_spike_train.firing_times[:,None])%period), axis=0)\n",
    "#\n",
    "#        return firing_threshold - np.sum(refractory_spike_resp((t[None,:] - target_spike_train.firing_times[:,None])), axis=0)\n",
    "#    \n",
    "#    if modulo: \n",
    "#        return firing_threshold - np.sum(refractory_spike_resp((t - target_spike_train.firing_times[:,None])%period), axis=0)        \n",
    "#    return firing_threshold - np.sum(refractory_spike_resp((t - target_spike_train.firing_times[:,None])), axis=0)"
   ]
  },
  {
   "cell_type": "code",
   "execution_count": 163,
   "id": "9cb33b9d",
   "metadata": {},
   "outputs": [],
   "source": [
    "#def threshold_deriv(t, target_spike_train):\n",
    "#    if isinstance(t, np.ndarray):\n",
    "#        return - np.sum(refractory_spike_resp_deriv((t[None,:] - target_spike_train.firing_times[:,None])), axis=0)\n",
    "#    return - np.sum(refractory_spike_resp_deriv((t - target_spike_train.firing_times[:,None])), axis=0)"
   ]
  },
  {
   "cell_type": "code",
   "execution_count": 188,
   "id": "006679d3",
   "metadata": {},
   "outputs": [
    {
     "data": {
      "text/plain": [
       "0.9477566533512751"
      ]
     },
     "execution_count": 188,
     "metadata": {},
     "output_type": "execute_result"
    }
   ],
   "source": [
    "input_spike_resp((0 - 92.17851908 - 1)%100)"
   ]
  },
  {
   "cell_type": "code",
   "execution_count": 164,
   "id": "4d96af22",
   "metadata": {},
   "outputs": [
    {
     "data": {
      "image/png": "[encoded data removed]",
      "text/plain": [
       "<Figure size 350x400 with 2 Axes>"
      ]
     },
     "metadata": {},
     "output_type": "display_data"
    }
   ],
   "source": [
    "fig, axes = plt.subplots(nrows=2, ncols=1, sharex=True, figsize=(3.5, 4))\n",
    "\n",
    "times = np.linspace(0, 100, 1000)\n",
    "\n",
    "axes[0].plot(times, input_spike_resp(times), c=\"C2\", label=r\"$g_0 * g_k$\")\n",
    "axes[1].plot(times, -refractory_spike_resp(times), c=\"C2\", label=r\"$-g_0$\")\n",
    "#axes[0].legend()\n",
    "#axes[1].legend()\n",
    "#axes[0].set_xlabel(r\"$t$\")\n",
    "#axes[0].set_xlim(0, period)\n",
    "axes[0].set_ylabel(r\"$h(t)$\")\n",
    "axes[1].set_ylabel(r\"$\\eta(t)$\")\n",
    "axes[1].set_xlabel(r\"$t$\")\n",
    "axes[1].set_xlim(0, 100)\n",
    "\n",
    "fig.tight_layout()\n",
    "fig.savefig('spike_responses.pgf')\n",
    "#plt.show()"
   ]
  },
  {
   "cell_type": "code",
   "execution_count": 141,
   "id": "f7683ffd",
   "metadata": {},
   "outputs": [],
   "source": [
    "spike_train_generator = PeriodicSpikeTrainGenerator(firing_rate, abs_refractory_period, rel_refractory_period)"
   ]
  },
  {
   "cell_type": "code",
   "execution_count": 142,
   "id": "d253cb3f",
   "metadata": {},
   "outputs": [
    {
     "data": {
      "application/vnd.jupyter.widget-view+json": {
       "model_id": "9ec28af902814a51830ed37fdbda77ef",
       "version_major": 2,
       "version_minor": 0
      },
      "text/plain": [
       "Multi-channel periodic spike train sampling:   0%|          | 0/1000 [00:00<?, ?it/s]"
      ]
     },
     "metadata": {},
     "output_type": "display_data"
    }
   ],
   "source": [
    "input_spike_trains = spike_train_generator.rand(period, num_inputs)\n",
    "#input_spike_train = spike_train_generator.rand(period)\n",
    "#input_spike_trains = MultiChannelPeriodicSpikeTrain(\n",
    "#    period, \n",
    "#    num_inputs,\n",
    "#    [input_spike_train.firing_times]*num_inputs\n",
    "#)\n",
    "target_spike_train = spike_train_generator.rand(period)"
   ]
  },
  {
   "cell_type": "code",
   "execution_count": 143,
   "id": "7ac76b4f",
   "metadata": {},
   "outputs": [],
   "source": [
    "num_spikes = np.array([spike_train.num_spikes for spike_train in input_spike_trains.spike_trains])"
   ]
  },
  {
   "cell_type": "code",
   "execution_count": 144,
   "id": "47c2c7df",
   "metadata": {},
   "outputs": [
    {
     "data": {
      "image/png": "[encoded data removed]",
      "text/plain": [
       "<Figure size 500x80 with 1 Axes>"
      ]
     },
     "metadata": {},
     "output_type": "display_data"
    }
   ],
   "source": [
    "fig, ax = plt.subplots(1, 1, figsize=(5, 0.8))\n",
    "ax.stem(target_spike_train.firing_times, np.ones_like(target_spike_train.firing_times), basefmt=\" \", markerfmt=\"C2o\", linefmt=\"C2-\")\n",
    "ax.set_xlim(0, period)\n",
    "ax.set_ylim(0, 2)\n",
    "ax.set_yticks([])\n",
    "plt.show()"
   ]
  },
  {
   "cell_type": "code",
   "execution_count": 145,
   "id": "186bac5c",
   "metadata": {},
   "outputs": [
    {
     "data": {
      "image/png": "[encoded data removed]",
      "text/plain": [
       "<Figure size 500x200 with 1 Axes>"
      ]
     },
     "metadata": {},
     "output_type": "display_data"
    }
   ],
   "source": [
    "unique, counts = np.unique(num_spikes, return_counts=True)\n",
    "\n",
    "fig, ax = plt.subplots(1, 1, figsize=(5, 2))\n",
    "ax.bar(unique, counts, color=\"C2\")\n",
    "#ax.set_xticks(np.arange(np.min(num_spikes), np.max(num_spikes)+1))\n",
    "plt.show()"
   ]
  },
  {
   "cell_type": "code",
   "execution_count": 146,
   "id": "f029e784",
   "metadata": {},
   "outputs": [],
   "source": [
    "delays = rng.uniform(1.0, 60.0, num_inputs)"
   ]
  },
  {
   "cell_type": "markdown",
   "id": "8579d9c0",
   "metadata": {},
   "source": [
    "# Computing Weights"
   ]
  },
  {
   "cell_type": "code",
   "execution_count": 147,
   "id": "aeaf5287",
   "metadata": {},
   "outputs": [],
   "source": [
    "def compute_spike_train(weights):\n",
    "    spike_train = target_spike_train.copy()\n",
    "    \n",
    "    fun = lambda t_: potential(t_, delays, weights, input_spike_trains) - threshold(t_, spike_train, modulo=False)\n",
    "\n",
    "    ta = spike_train.firing_times[-1] + abs_refractory_period\n",
    "    while(ta < 2*period):\n",
    "        tb = ta + 1\n",
    "        if fun(ta) * fun(tb) <= 0:\n",
    "            t = brentq(fun, ta, tb)\n",
    "            spike_train.append(t)\n",
    "            ta += abs_refractory_period\n",
    "        else:\n",
    "            ta += 1\n",
    "\n",
    "    return spike_train"
   ]
  },
  {
   "cell_type": "code",
   "execution_count": 148,
   "id": "79b4210a",
   "metadata": {},
   "outputs": [],
   "source": [
    "extended_firing_times = np.concatenate([\n",
    "    target_spike_train.firing_times - period,\n",
    "    target_spike_train.firing_times,\n",
    "    target_spike_train.firing_times + period\n",
    "])\n",
    "\n",
    "times = np.arange(0, period, 1e-2)\n",
    "time_diff = times[:,None] - extended_firing_times[None,:]\n",
    "mask_slope = np.any(np.abs(time_diff) < 1.0, axis=1)\n",
    "t_slope = times[mask_slope]\n",
    "y_slope = np.stack(\n",
    "    [np.sum(\n",
    "        input_spike_resp_deriv(\n",
    "            (t_slope[:,None] - delays[k] - input_spike_trains.spike_trains[k].firing_times[None,:]) % period\n",
    "        ),\n",
    "        axis=1) for k in range(num_inputs)], \n",
    "    axis=1)\n",
    "z_slope = np.full_like(t_slope, 0.5)\n",
    "\n",
    "times = np.arange(0, period, 1e-2)\n",
    "time_diff = times[:,None] - extended_firing_times[None,:]\n",
    "mask_level_f = np.any((time_diff > -1.0) & (time_diff < 0.0), axis=1)\n",
    "t_level_f = times[mask_level_f]\n",
    "y_level_f = np.stack(\n",
    "    [np.sum(\n",
    "        input_spike_resp(\n",
    "            (t_level_f[:,None] - delays[k] - input_spike_trains.spike_trains[k].firing_times[None,:]) % period\n",
    "        ),\n",
    "        axis=1) for k in range(num_inputs)], \n",
    "    axis=1)\n",
    "z_level_f = firing_threshold - np.sum(\n",
    "    refractory_spike_resp(\n",
    "        (t_level_f[:,None] - target_spike_train.firing_times[None,:]) % period\n",
    "    ), axis=1)\n",
    "\n",
    "times = np.arange(0, period, 1e-1)\n",
    "time_diff = times[:,None] - extended_firing_times[None,:]\n",
    "mask_level = np.all((time_diff > abs_refractory_period) | (time_diff < -1.0), axis=1)\n",
    "t_level = times[mask_level]\n",
    "y_level = np.stack(\n",
    "    [np.sum(\n",
    "        input_spike_resp(\n",
    "            (t_level[:,None] - delays[k] - input_spike_trains.spike_trains[k].firing_times[None,:]) % period\n",
    "        ),\n",
    "        axis=1) for k in range(num_inputs)], \n",
    "    axis=1)\n",
    "z_level = 0.0 - np.sum(\n",
    "    refractory_spike_resp(\n",
    "        (t_level[:,None] - target_spike_train.firing_times[None,:]) % period\n",
    "    ), axis=1)\n",
    "\n",
    "y_firing = np.stack(\n",
    "    [np.sum(\n",
    "        input_spike_resp(\n",
    "            (target_spike_train.firing_times[:,None] - delays[k] - input_spike_trains.spike_trains[k].firing_times[None,:]) % period\n",
    "        ),\n",
    "        axis=1) for k in range(num_inputs)], \n",
    "    axis=1)\n",
    "z_firing = firing_threshold - np.sum(\n",
    "    refractory_spike_resp(\n",
    "        (target_spike_train.firing_times[:,None] - target_spike_train.firing_times[None,:]) % period\n",
    "    ), axis=1)"
   ]
  },
  {
   "cell_type": "markdown",
   "id": "bbdd0370",
   "metadata": {},
   "source": [
    "## Bounded Weights"
   ]
  },
  {
   "cell_type": "code",
   "execution_count": 149,
   "id": "d18ebad6",
   "metadata": {},
   "outputs": [],
   "source": [
    "weights = cp.Variable(num_inputs)\n",
    "objective = cp.Minimize(0.0)\n",
    "constraints = [\n",
    "    y_firing @ weights == z_firing, \n",
    "    y_level_f @ weights <= z_level_f, \n",
    "    y_level @ weights <= z_level, \n",
    "    y_slope @ weights >= z_slope,\n",
    "    weights >= wmin,\n",
    "    weights <= wmax\n",
    "]\n",
    "prob = cp.Problem(objective, constraints)"
   ]
  },
  {
   "cell_type": "code",
   "execution_count": 150,
   "id": "f247300d",
   "metadata": {},
   "outputs": [
    {
     "name": "stdout",
     "output_type": "stream",
     "text": [
      "problem is infeasible\n"
     ]
    }
   ],
   "source": [
    "_ = prob.solve(solver=\"GUROBI\")\n",
    "print(\"problem is\", prob.status)"
   ]
  },
  {
   "cell_type": "code",
   "execution_count": 151,
   "id": "316faa08",
   "metadata": {},
   "outputs": [
    {
     "ename": "AxisError",
     "evalue": "axis -1 is out of bounds for array of dimension 0",
     "output_type": "error",
     "traceback": [
      "\u001b[0;31m---------------------------------------------------------------------------\u001b[0m",
      "\u001b[0;31mAxisError\u001b[0m                                 Traceback (most recent call last)",
      "Cell \u001b[0;32mIn[151], line 8\u001b[0m\n\u001b[1;32m      4\u001b[0m subplots \u001b[38;5;241m=\u001b[39m fig\u001b[38;5;241m.\u001b[39msubfigures()\n\u001b[1;32m      6\u001b[0m axes_template \u001b[38;5;241m=\u001b[39m subplots\u001b[38;5;241m.\u001b[39msubplots(nrows\u001b[38;5;241m=\u001b[39m\u001b[38;5;241m2\u001b[39m, ncols\u001b[38;5;241m=\u001b[39m\u001b[38;5;241m1\u001b[39m)\n\u001b[0;32m----> 8\u001b[0m _ \u001b[38;5;241m=\u001b[39m axes_template[\u001b[38;5;241m0\u001b[39m]\u001b[38;5;241m.\u001b[39mscatter(np\u001b[38;5;241m.\u001b[39marange(num_inputs), \u001b[43mnp\u001b[49m\u001b[38;5;241;43m.\u001b[39;49m\u001b[43msort\u001b[49m\u001b[43m(\u001b[49m\u001b[43mweights\u001b[49m\u001b[38;5;241;43m.\u001b[39;49m\u001b[43mvalue\u001b[49m\u001b[43m)\u001b[49m, s\u001b[38;5;241m=\u001b[39m\u001b[38;5;241m2\u001b[39m, c\u001b[38;5;241m=\u001b[39m\u001b[38;5;124m\"\u001b[39m\u001b[38;5;124mC2\u001b[39m\u001b[38;5;124m\"\u001b[39m, label\u001b[38;5;241m=\u001b[39m\u001b[38;5;124mr\u001b[39m\u001b[38;5;124m\"\u001b[39m\u001b[38;5;124m$w$\u001b[39m\u001b[38;5;124m\"\u001b[39m)\n\u001b[1;32m      9\u001b[0m _ \u001b[38;5;241m=\u001b[39m axes_template[\u001b[38;5;241m0\u001b[39m]\u001b[38;5;241m.\u001b[39mset_xlim(\u001b[38;5;241m0\u001b[39m, num_inputs)\n\u001b[1;32m     10\u001b[0m _ \u001b[38;5;241m=\u001b[39m axes_template[\u001b[38;5;241m0\u001b[39m]\u001b[38;5;241m.\u001b[39mset_ylim(wmin, wmax)\n",
      "File \u001b[0;32m~/opt/anaconda3/envs/rsnn/lib/python3.10/site-packages/numpy/core/fromnumeric.py:1017\u001b[0m, in \u001b[0;36msort\u001b[0;34m(a, axis, kind, order)\u001b[0m\n\u001b[1;32m   1015\u001b[0m \u001b[38;5;28;01melse\u001b[39;00m:\n\u001b[1;32m   1016\u001b[0m     a \u001b[38;5;241m=\u001b[39m asanyarray(a)\u001b[38;5;241m.\u001b[39mcopy(order\u001b[38;5;241m=\u001b[39m\u001b[38;5;124m\"\u001b[39m\u001b[38;5;124mK\u001b[39m\u001b[38;5;124m\"\u001b[39m)\n\u001b[0;32m-> 1017\u001b[0m \u001b[43ma\u001b[49m\u001b[38;5;241;43m.\u001b[39;49m\u001b[43msort\u001b[49m\u001b[43m(\u001b[49m\u001b[43maxis\u001b[49m\u001b[38;5;241;43m=\u001b[39;49m\u001b[43maxis\u001b[49m\u001b[43m,\u001b[49m\u001b[43m \u001b[49m\u001b[43mkind\u001b[49m\u001b[38;5;241;43m=\u001b[39;49m\u001b[43mkind\u001b[49m\u001b[43m,\u001b[49m\u001b[43m \u001b[49m\u001b[43morder\u001b[49m\u001b[38;5;241;43m=\u001b[39;49m\u001b[43morder\u001b[49m\u001b[43m)\u001b[49m\n\u001b[1;32m   1018\u001b[0m \u001b[38;5;28;01mreturn\u001b[39;00m a\n",
      "\u001b[0;31mAxisError\u001b[0m: axis -1 is out of bounds for array of dimension 0"
     ]
    },
    {
     "data": {
      "image/png": "[encoded data removed]",
      "text/plain": [
       "<Figure size 640x480 with 2 Axes>"
      ]
     },
     "metadata": {},
     "output_type": "display_data"
    }
   ],
   "source": [
    "times = np.linspace(0, period, 1000)\n",
    "\n",
    "fig = plt.figure(layout=\"constrained\")\n",
    "subplots = fig.subfigures()\n",
    "\n",
    "axes_template = subplots.subplots(nrows=2, ncols=1)\n",
    "\n",
    "_ = axes_template[0].scatter(np.arange(num_inputs), np.sort(weights.value), s=2, c=\"C2\", label=r\"$w$\")\n",
    "_ = axes_template[0].set_xlim(0, num_inputs)\n",
    "_ = axes_template[0].set_ylim(wmin, wmax)\n",
    "_ = axes_template[0].set_xlabel(r\"$k$\")\n",
    "_ = axes_template[0].set_ylabel(r\"$w_k$\")\n",
    "#_ = axes_template[0].axhline(wmin, linestyle=\"--\", c=\"C1\")\n",
    "#_ = axes_template[0].axhline(wmax, linestyle=\"--\", c=\"C1\")\n",
    "\n",
    "for s in target_spike_train.firing_times:\n",
    "    _ = axes_template[1].axvline(s, linestyle=\"--\", c=\"C0\")\n",
    "_ = axes_template[1].plot(times, potential(times, delays, weights.value, input_spike_trains), c=\"C2\", label=r\"$w$\")\n",
    "_ = axes_template[1].plot(times, threshold(times, target_spike_train), c=\"C1\")\n",
    "_ = axes_template[1].set_xlim(0, period)\n",
    "_ = axes_template[1].set_xlabel(r\"$t$\")\n",
    "_ = axes_template[1].set_ylabel(r\"$z(t)$\")"
   ]
  },
  {
   "cell_type": "code",
   "execution_count": null,
   "id": "cf8db099",
   "metadata": {},
   "outputs": [],
   "source": [
    "spike_train = compute_spike_train(weights.value)\n",
    "spike_train_ = SpikeTrain(spike_train.firing_times[spike_train.firing_times > period])\n",
    "corr, lag = single_channel_correlation(target_spike_train, spike_train_, eps=1e-3)\n",
    "\n",
    "print(f\"spike train similarity: {corr:.3f} (with a lag of {lag:.3f})\" )\n",
    "print(f\"sparsity: {1 - np.count_nonzero(weights.value)/num_inputs:.6f}\")\n",
    "print(f\"energy: {np.sum(np.square(weights.value))/num_inputs:.6f}\")"
   ]
  },
  {
   "cell_type": "markdown",
   "id": "0e861208",
   "metadata": {},
   "source": [
    "## Bounded Weights with L2 Regularization"
   ]
  },
  {
   "cell_type": "code",
   "execution_count": 37,
   "id": "c9869d2c",
   "metadata": {},
   "outputs": [],
   "source": [
    "weights_r2 = cp.Variable(num_inputs)\n",
    "objective = cp.Minimize(cp.norm2(weights_r2))\n",
    "constraints = [\n",
    "    y_firing @ weights_r2 == z_firing, \n",
    "    y_level_f @ weights_r2 <= z_level_f, \n",
    "    y_level @ weights_r2 <= z_level, \n",
    "    y_slope @ weights_r2 >= z_slope,\n",
    "    weights_r2 >= wmin,\n",
    "    weights_r2 <= wmax\n",
    "]\n",
    "prob = cp.Problem(objective, constraints)"
   ]
  },
  {
   "cell_type": "code",
   "execution_count": 38,
   "id": "e738036c",
   "metadata": {},
   "outputs": [
    {
     "ename": "SolverError",
     "evalue": "Solver 'GUROBI' failed. Try another solver, or solve with verbose=True for more information.",
     "output_type": "error",
     "traceback": [
      "\u001b[0;31m---------------------------------------------------------------------------\u001b[0m",
      "\u001b[0;31mSolverError\u001b[0m                               Traceback (most recent call last)",
      "Cell \u001b[0;32mIn[38], line 1\u001b[0m\n\u001b[0;32m----> 1\u001b[0m _ \u001b[38;5;241m=\u001b[39m \u001b[43mprob\u001b[49m\u001b[38;5;241;43m.\u001b[39;49m\u001b[43msolve\u001b[49m\u001b[43m(\u001b[49m\u001b[43msolver\u001b[49m\u001b[38;5;241;43m=\u001b[39;49m\u001b[38;5;124;43m\"\u001b[39;49m\u001b[38;5;124;43mGUROBI\u001b[39;49m\u001b[38;5;124;43m\"\u001b[39;49m\u001b[43m)\u001b[49m\n\u001b[1;32m      2\u001b[0m \u001b[38;5;28mprint\u001b[39m(\u001b[38;5;124m\"\u001b[39m\u001b[38;5;124mproblem is\u001b[39m\u001b[38;5;124m\"\u001b[39m, prob\u001b[38;5;241m.\u001b[39mstatus)\n",
      "File \u001b[0;32m~/opt/anaconda3/envs/rsnn/lib/python3.10/site-packages/cvxpy/problems/problem.py:495\u001b[0m, in \u001b[0;36mProblem.solve\u001b[0;34m(self, *args, **kwargs)\u001b[0m\n\u001b[1;32m    493\u001b[0m \u001b[38;5;28;01melse\u001b[39;00m:\n\u001b[1;32m    494\u001b[0m     solve_func \u001b[38;5;241m=\u001b[39m Problem\u001b[38;5;241m.\u001b[39m_solve\n\u001b[0;32m--> 495\u001b[0m \u001b[38;5;28;01mreturn\u001b[39;00m \u001b[43msolve_func\u001b[49m\u001b[43m(\u001b[49m\u001b[38;5;28;43mself\u001b[39;49m\u001b[43m,\u001b[49m\u001b[43m \u001b[49m\u001b[38;5;241;43m*\u001b[39;49m\u001b[43margs\u001b[49m\u001b[43m,\u001b[49m\u001b[43m \u001b[49m\u001b[38;5;241;43m*\u001b[39;49m\u001b[38;5;241;43m*\u001b[39;49m\u001b[43mkwargs\u001b[49m\u001b[43m)\u001b[49m\n",
      "File \u001b[0;32m~/opt/anaconda3/envs/rsnn/lib/python3.10/site-packages/cvxpy/problems/problem.py:1070\u001b[0m, in \u001b[0;36mProblem._solve\u001b[0;34m(self, solver, warm_start, verbose, gp, qcp, requires_grad, enforce_dpp, ignore_dpp, canon_backend, **kwargs)\u001b[0m\n\u001b[1;32m   1068\u001b[0m end \u001b[38;5;241m=\u001b[39m time\u001b[38;5;241m.\u001b[39mtime()\n\u001b[1;32m   1069\u001b[0m \u001b[38;5;28mself\u001b[39m\u001b[38;5;241m.\u001b[39m_solve_time \u001b[38;5;241m=\u001b[39m end \u001b[38;5;241m-\u001b[39m start\n\u001b[0;32m-> 1070\u001b[0m \u001b[38;5;28;43mself\u001b[39;49m\u001b[38;5;241;43m.\u001b[39;49m\u001b[43munpack_results\u001b[49m\u001b[43m(\u001b[49m\u001b[43msolution\u001b[49m\u001b[43m,\u001b[49m\u001b[43m \u001b[49m\u001b[43msolving_chain\u001b[49m\u001b[43m,\u001b[49m\u001b[43m \u001b[49m\u001b[43minverse_data\u001b[49m\u001b[43m)\u001b[49m\n\u001b[1;32m   1071\u001b[0m \u001b[38;5;28;01mif\u001b[39;00m verbose:\n\u001b[1;32m   1072\u001b[0m     \u001b[38;5;28mprint\u001b[39m(_FOOTER)\n",
      "File \u001b[0;32m~/opt/anaconda3/envs/rsnn/lib/python3.10/site-packages/cvxpy/problems/problem.py:1395\u001b[0m, in \u001b[0;36mProblem.unpack_results\u001b[0;34m(self, solution, chain, inverse_data)\u001b[0m\n\u001b[1;32m   1393\u001b[0m     warnings\u001b[38;5;241m.\u001b[39mwarn(INF_OR_UNB_MESSAGE)\n\u001b[1;32m   1394\u001b[0m \u001b[38;5;28;01mif\u001b[39;00m solution\u001b[38;5;241m.\u001b[39mstatus \u001b[38;5;129;01min\u001b[39;00m s\u001b[38;5;241m.\u001b[39mERROR:\n\u001b[0;32m-> 1395\u001b[0m     \u001b[38;5;28;01mraise\u001b[39;00m error\u001b[38;5;241m.\u001b[39mSolverError(\n\u001b[1;32m   1396\u001b[0m             \u001b[38;5;124m\"\u001b[39m\u001b[38;5;124mSolver \u001b[39m\u001b[38;5;124m'\u001b[39m\u001b[38;5;132;01m%s\u001b[39;00m\u001b[38;5;124m'\u001b[39m\u001b[38;5;124m failed. \u001b[39m\u001b[38;5;124m\"\u001b[39m \u001b[38;5;241m%\u001b[39m chain\u001b[38;5;241m.\u001b[39msolver\u001b[38;5;241m.\u001b[39mname() \u001b[38;5;241m+\u001b[39m\n\u001b[1;32m   1397\u001b[0m             \u001b[38;5;124m\"\u001b[39m\u001b[38;5;124mTry another solver, or solve with verbose=True for more \u001b[39m\u001b[38;5;124m\"\u001b[39m\n\u001b[1;32m   1398\u001b[0m             \u001b[38;5;124m\"\u001b[39m\u001b[38;5;124minformation.\u001b[39m\u001b[38;5;124m\"\u001b[39m)\n\u001b[1;32m   1400\u001b[0m \u001b[38;5;28mself\u001b[39m\u001b[38;5;241m.\u001b[39munpack(solution)\n\u001b[1;32m   1401\u001b[0m \u001b[38;5;28mself\u001b[39m\u001b[38;5;241m.\u001b[39m_solver_stats \u001b[38;5;241m=\u001b[39m SolverStats(\u001b[38;5;28mself\u001b[39m\u001b[38;5;241m.\u001b[39m_solution\u001b[38;5;241m.\u001b[39mattr,\n\u001b[1;32m   1402\u001b[0m                                  chain\u001b[38;5;241m.\u001b[39msolver\u001b[38;5;241m.\u001b[39mname())\n",
      "\u001b[0;31mSolverError\u001b[0m: Solver 'GUROBI' failed. Try another solver, or solve with verbose=True for more information."
     ]
    }
   ],
   "source": [
    "_ = prob.solve(solver=\"GUROBI\")\n",
    "print(\"problem is\", prob.status)"
   ]
  },
  {
   "cell_type": "code",
   "execution_count": null,
   "id": "eb58399b",
   "metadata": {},
   "outputs": [],
   "source": [
    "times = np.linspace(0, period, 1000)\n",
    "\n",
    "fig = plt.figure(layout=\"constrained\")\n",
    "subplots = fig.subfigures()\n",
    "\n",
    "axes_template = subplots.subplots(nrows=2, ncols=1)\n",
    "\n",
    "_ = axes_template[0].scatter(np.arange(num_inputs), np.sort(weights_r2.value), s=2, c=\"C2\", label=r\"$w$\")\n",
    "_ = axes_template[0].set_xlim(0, num_inputs)\n",
    "_ = axes_template[0].set_ylim(wmin, wmax)\n",
    "_ = axes_template[0].set_xlabel(r\"$k$\")\n",
    "_ = axes_template[0].set_ylabel(r\"$w_k$\")\n",
    "#_ = axes_template[0].axhline(wmin, linestyle=\"--\", c=\"C1\")\n",
    "#_ = axes_template[0].axhline(wmax, linestyle=\"--\", c=\"C1\")\n",
    "\n",
    "for s in target_spike_train.firing_times:\n",
    "    _ = axes_template[1].axvline(s, linestyle=\"--\", c=\"C0\")\n",
    "_ = axes_template[1].plot(times, potential(times, delays, weights_r2.value, input_spike_trains), c=\"C2\", label=r\"$w$\")\n",
    "_ = axes_template[1].plot(times, threshold(times, target_spike_train), c=\"C1\")\n",
    "_ = axes_template[1].set_xlim(0, period)\n",
    "_ = axes_template[1].set_xlabel(r\"$t$\")\n",
    "_ = axes_template[1].set_ylabel(r\"$z(t)$\")"
   ]
  },
  {
   "cell_type": "code",
   "execution_count": null,
   "id": "35180962",
   "metadata": {},
   "outputs": [],
   "source": [
    "spike_train = compute_spike_train(weights.value)\n",
    "spike_train_ = SpikeTrain(spike_train.firing_times[spike_train.firing_times > period])\n",
    "corr, lag = single_channel_correlation(target_spike_train, spike_train_, eps=1e-3)\n",
    "\n",
    "print(f\"spike train similarity: {corr:.3f} (with a lag of {lag:.3f})\" )\n",
    "print(f\"sparsity: {1 - np.count_nonzero(weights.value)/num_inputs:.6f}\")\n",
    "print(f\"energy: {np.sum(np.square(weights.value))/num_inputs:.6f}\")"
   ]
  },
  {
   "cell_type": "markdown",
   "id": "6cd2c0fe",
   "metadata": {},
   "source": [
    "## Bounded Weights with L1 Regularization"
   ]
  },
  {
   "cell_type": "code",
   "execution_count": 39,
   "id": "d5e01c0b",
   "metadata": {},
   "outputs": [],
   "source": [
    "weights_r1 = cp.Variable(num_inputs)\n",
    "objective = cp.Minimize(cp.norm1(weights_r1))\n",
    "constraints = [\n",
    "    y_firing @ weights_r1 == z_firing, \n",
    "    y_level_f @ weights_r1 <= z_level_f, \n",
    "    y_level @ weights_r1 <= z_level, \n",
    "    y_slope @ weights_r1 >= z_slope,\n",
    "    weights_r1 >= wmin,\n",
    "    weights_r1 <= wmax\n",
    "]\n",
    "prob = cp.Problem(objective, constraints)"
   ]
  },
  {
   "cell_type": "code",
   "execution_count": 40,
   "id": "c559258f",
   "metadata": {},
   "outputs": [
    {
     "name": "stdout",
     "output_type": "stream",
     "text": [
      "problem is optimal\n"
     ]
    }
   ],
   "source": [
    "_ = prob.solve(solver=\"GUROBI\")\n",
    "print(\"problem is\", prob.status)"
   ]
  },
  {
   "cell_type": "code",
   "execution_count": 41,
   "id": "e4abb083",
   "metadata": {},
   "outputs": [
    {
     "data": {
      "image/png": "[encoded data removed]",
      "text/plain": [
       "<Figure size 640x480 with 2 Axes>"
      ]
     },
     "metadata": {},
     "output_type": "display_data"
    }
   ],
   "source": [
    "times = np.linspace(0, period, 1000)\n",
    "\n",
    "fig = plt.figure(layout=\"constrained\")\n",
    "subplots = fig.subfigures()\n",
    "\n",
    "axes_template = subplots.subplots(nrows=2, ncols=1)\n",
    "\n",
    "_ = axes_template[0].scatter(np.arange(num_inputs), np.sort(weights_r1.value), s=2, c=\"C2\", label=r\"$w$\")\n",
    "_ = axes_template[0].set_xlim(0, num_inputs)\n",
    "_ = axes_template[0].set_ylim(wmin, wmax)\n",
    "_ = axes_template[0].set_xlabel(r\"$k$\")\n",
    "_ = axes_template[0].set_ylabel(r\"$w_k$\")\n",
    "#_ = axes_template[0].axhline(wmin, linestyle=\"--\", c=\"C1\")\n",
    "#_ = axes_template[0].axhline(wmax, linestyle=\"--\", c=\"C1\")\n",
    "\n",
    "for s in target_spike_train.firing_times:\n",
    "    _ = axes_template[1].axvline(s, linestyle=\"--\", c=\"C0\")\n",
    "_ = axes_template[1].plot(times, potential(times, delays, weights_r1.value, input_spike_trains), c=\"C2\", label=r\"$w$\")\n",
    "_ = axes_template[1].plot(times, threshold(times, target_spike_train), c=\"C1\")\n",
    "_ = axes_template[1].set_xlim(0, period)\n",
    "_ = axes_template[1].set_xlabel(r\"$t$\")\n",
    "_ = axes_template[1].set_ylabel(r\"$z(t)$\")"
   ]
  },
  {
   "cell_type": "code",
   "execution_count": 42,
   "id": "364915ba",
   "metadata": {},
   "outputs": [
    {
     "name": "stdout",
     "output_type": "stream",
     "text": [
      "spike train similarity: 1.000 (with a lag of 0.000)\n",
      "sparsity: 0.646000\n",
      "energy: 0.002684\n"
     ]
    }
   ],
   "source": [
    "spike_train = compute_spike_train(weights_r1.value)\n",
    "spike_train_ = SpikeTrain(spike_train.firing_times[spike_train.firing_times > period])\n",
    "corr, lag = single_channel_correlation(target_spike_train, spike_train_, eps=1e-3)\n",
    "\n",
    "print(f\"spike train similarity: {corr:.3f} (with a lag of {lag:.3f})\" )\n",
    "print(f\"sparsity: {1 - np.count_nonzero(weights_r1.value)/num_inputs:.6f}\")\n",
    "print(f\"energy: {np.sum(np.square(weights_r1.value))/num_inputs:.6f}\")"
   ]
  },
  {
   "cell_type": "markdown",
   "id": "988fc500",
   "metadata": {},
   "source": [
    "# Comparison"
   ]
  },
  {
   "cell_type": "code",
   "execution_count": 37,
   "id": "96048cfd",
   "metadata": {},
   "outputs": [],
   "source": [
    "times = np.linspace(0, period, 1000)\n",
    "\n",
    "fig = plt.figure(layout=\"constrained\", figsize=(3.4, 5))\n",
    "subplots = fig.subfigures()\n",
    "\n",
    "axes_template = subplots.subplots(nrows=3, ncols=1, sharex=True)\n",
    "\n",
    "axes_template[0].scatter(np.arange(num_inputs), weights.value, s=2, c=\"C1\", label=\"w/o reg\")\n",
    "axes_template[1].scatter(np.arange(num_inputs), weights_r2.value, s=2, c=\"C2\", label=r\"$\\ell_2$ reg\")\n",
    "axes_template[2].scatter(np.arange(num_inputs), weights_r1.value, s=2, c=\"C3\", label=r\"$\\ell_1$ reg\")\n",
    "\n",
    "axes_template[2].set_xlim(0, num_inputs)\n",
    "axes_template[2].set_xlabel(r\"$k$\")\n",
    "\n",
    "axes_template[0].set_ylim(wmin, wmax)\n",
    "axes_template[0].set_ylabel(r\"$w_k$\")\n",
    "axes_template[1].set_ylim(wmin, wmax)\n",
    "axes_template[1].set_ylabel(r\"$w_k$\")\n",
    "axes_template[2].set_ylim(wmin, wmax)\n",
    "axes_template[2].set_ylabel(r\"$w_k$\")\n",
    "\n",
    "plt.show()\n",
    "\n",
    "#plt.figlegend(loc='center left', bbox_to_anchor=(1, 0.5))\n",
    "\n",
    "#fig.savefig('weights_reg.pgf')"
   ]
  },
  {
   "cell_type": "code",
   "execution_count": null,
   "id": "a5b1bb94",
   "metadata": {},
   "outputs": [],
   "source": []
  },
  {
   "cell_type": "code",
   "execution_count": null,
   "id": "dccb4e1d",
   "metadata": {},
   "outputs": [],
   "source": []
  },
  {
   "cell_type": "code",
   "execution_count": null,
   "id": "cd02b0df",
   "metadata": {},
   "outputs": [],
   "source": []
  }
 ],
 "metadata": {
  "kernelspec": {
   "display_name": "Python 3 (ipykernel)",
   "language": "python",
   "name": "python3"
  },
  "language_info": {
   "codemirror_mode": {
    "name": "ipython",
    "version": 3
   },
   "file_extension": ".py",
   "mimetype": "text/x-python",
   "name": "python",
   "nbconvert_exporter": "python",
   "pygments_lexer": "ipython3",
   "version": "3.10.9"
  }
 },
 "nbformat": 4,
 "nbformat_minor": 5
}
