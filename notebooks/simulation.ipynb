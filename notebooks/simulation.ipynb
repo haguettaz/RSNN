{
 "cells": [
  {
   "cell_type": "code",
   "execution_count": 5,
   "id": "4be7c130",
   "metadata": {},
   "outputs": [],
   "source": [
    "import torch"
   ]
  },
  {
   "cell_type": "code",
   "execution_count": 7,
   "id": "7122af6a",
   "metadata": {},
   "outputs": [],
   "source": [
    "stimuli = [[23, 25], [9]]"
   ]
  },
  {
   "cell_type": "code",
   "execution_count": 13,
   "id": "fdd97047",
   "metadata": {},
   "outputs": [
    {
     "data": {
      "text/plain": [
       "[[0, 2], [2]]"
      ]
     },
     "execution_count": 13,
     "metadata": {},
     "output_type": "execute_result"
    }
   ],
   "source": [
    "ss = torch.tensor([[True, False, True],[False, False, True]])"
   ]
  },
  {
   "cell_type": "code",
   "execution_count": 20,
   "id": "17e70801",
   "metadata": {},
   "outputs": [
    {
     "data": {
      "text/plain": [
       "(tensor([5.0540e-03, 2.0027e+00, 2.9925e+00, 4.9963e+00, 5.9974e+00, 8.0004e+00,\n",
       "         9.0013e+00, 1.0998e+01, 1.2004e+01, 1.4002e+01]),\n",
       " tensor([ 0,  2,  3,  5,  6,  8,  9, 11, 12, 14]))"
      ]
     },
     "execution_count": 20,
     "metadata": {},
     "output_type": "execute_result"
    }
   ],
   "source": [
    "tmp = torch.argwhere(ss[0].repeat(5)).flatten()\n",
    "(tmp + torch.randn(tmp.size()) * 0.01), tmp"
   ]
  },
  {
   "cell_type": "code",
   "execution_count": null,
   "id": "7c77c8a2",
   "metadata": {},
   "outputs": [],
   "source": []
  }
 ],
 "metadata": {
  "kernelspec": {
   "display_name": "Python 3 (ipykernel)",
   "language": "python",
   "name": "python3"
  },
  "language_info": {
   "codemirror_mode": {
    "name": "ipython",
    "version": 3
   },
   "file_extension": ".py",
   "mimetype": "text/x-python",
   "name": "python",
   "nbconvert_exporter": "python",
   "pygments_lexer": "ipython3",
   "version": "3.10.6"
  }
 },
 "nbformat": 4,
 "nbformat_minor": 5
}
