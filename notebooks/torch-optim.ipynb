{
 "cells": [
  {
   "cell_type": "code",
   "execution_count": 1,
   "id": "1822d54b",
   "metadata": {},
   "outputs": [],
   "source": [
    "import numpy as np\n",
    "import torch"
   ]
  },
  {
   "cell_type": "code",
   "execution_count": 2,
   "id": "9561b68d",
   "metadata": {},
   "outputs": [],
   "source": [
    "from rsnn.spike_sequences.sampling import sample_spike_sequences"
   ]
  },
  {
   "cell_type": "code",
   "execution_count": 3,
   "id": "c226f1e9",
   "metadata": {},
   "outputs": [],
   "source": [
    "from rsnn.utils.utils import rand_symm_matrix"
   ]
  },
  {
   "cell_type": "code",
   "execution_count": 12,
   "id": "7be8a286",
   "metadata": {},
   "outputs": [
    {
     "name": "stdout",
     "output_type": "stream",
     "text": [
      "12.6 µs ± 652 ns per loop (mean ± std. dev. of 7 runs, 100,000 loops each)\n"
     ]
    }
   ],
   "source": [
    "%%timeit\n",
    "A = torch.rand(100)\n",
    "B = torch.inner(A, A)"
   ]
  },
  {
   "cell_type": "code",
   "execution_count": 13,
   "id": "e2fe97a5",
   "metadata": {},
   "outputs": [
    {
     "name": "stdout",
     "output_type": "stream",
     "text": [
      "4.95 µs ± 19.1 ns per loop (mean ± std. dev. of 7 runs, 100,000 loops each)\n"
     ]
    }
   ],
   "source": [
    "%%timeit\n",
    "A = torch.rand(100)\n",
    "B = A @ A"
   ]
  },
  {
   "cell_type": "code",
   "execution_count": 1,
   "id": "b4facc01",
   "metadata": {},
   "outputs": [
    {
     "ename": "ModuleNotFoundError",
     "evalue": "No module named 'rsnn'",
     "output_type": "error",
     "traceback": [
      "\u001b[0;31m---------------------------------------------------------------------------\u001b[0m",
      "\u001b[0;31mModuleNotFoundError\u001b[0m                       Traceback (most recent call last)",
      "Cell \u001b[0;32mIn [1], line 1\u001b[0m\n\u001b[0;32m----> 1\u001b[0m \u001b[38;5;28;01mimport\u001b[39;00m \u001b[38;5;21;01mrsnn\u001b[39;00m\n",
      "\u001b[0;31mModuleNotFoundError\u001b[0m: No module named 'rsnn'"
     ]
    }
   ],
   "source": [
    "import rsnn"
   ]
  },
  {
   "cell_type": "code",
   "execution_count": 2,
   "id": "18cf76a2",
   "metadata": {},
   "outputs": [],
   "source": [
    "import sys"
   ]
  },
  {
   "cell_type": "code",
   "execution_count": 3,
   "id": "6b9de768",
   "metadata": {},
   "outputs": [
    {
     "data": {
      "text/plain": [
       "['/Users/haguettaz/Documents/PhD/RSNN/notebooks',\n",
       " '/Users/haguettaz/opt/anaconda3/envs/rsnn-gpu/lib/python310.zip',\n",
       " '/Users/haguettaz/opt/anaconda3/envs/rsnn-gpu/lib/python3.10',\n",
       " '/Users/haguettaz/opt/anaconda3/envs/rsnn-gpu/lib/python3.10/lib-dynload',\n",
       " '',\n",
       " '/Users/haguettaz/opt/anaconda3/envs/rsnn-gpu/lib/python3.10/site-packages']"
      ]
     },
     "execution_count": 3,
     "metadata": {},
     "output_type": "execute_result"
    }
   ],
   "source": [
    "sys.path"
   ]
  },
  {
   "cell_type": "code",
   "execution_count": null,
   "id": "d54772bb",
   "metadata": {},
   "outputs": [],
   "source": []
  }
 ],
 "metadata": {
  "kernelspec": {
   "display_name": "Python 3 (ipykernel)",
   "language": "python",
   "name": "python3"
  },
  "language_info": {
   "codemirror_mode": {
    "name": "ipython",
    "version": 3
   },
   "file_extension": ".py",
   "mimetype": "text/x-python",
   "name": "python",
   "nbconvert_exporter": "python",
   "pygments_lexer": "ipython3",
   "version": "3.10.6"
  }
 },
 "nbformat": 4,
 "nbformat_minor": 5
}
